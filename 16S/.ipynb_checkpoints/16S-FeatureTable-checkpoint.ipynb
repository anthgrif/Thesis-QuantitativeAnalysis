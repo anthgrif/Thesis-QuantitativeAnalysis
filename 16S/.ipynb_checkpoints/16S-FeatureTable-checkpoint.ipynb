{
 "cells": [
  {
   "cell_type": "markdown",
   "metadata": {},
   "source": [
    "## Get 16S feature table for 16S and ITS co-occurence. Only keep taxas that are present in at least 10% of all samples. Split two materials, and compare relative VS quantitative"
   ]
  },
  {
   "cell_type": "code",
   "execution_count": 1,
   "metadata": {},
   "outputs": [
    {
     "name": "stderr",
     "output_type": "stream",
     "text": [
      "Warning message in strsplit(conditionMessage(e), \"\\n\"):\n",
      "“input string 1 is invalid in this locale”"
     ]
    }
   ],
   "source": [
    "source(\"./PhyloseqObjects.r\")"
   ]
  },
  {
   "cell_type": "code",
   "execution_count": 2,
   "metadata": {},
   "outputs": [
    {
     "data": {
      "text/plain": [
       "phyloseq-class experiment-level object\n",
       "otu_table()   OTU Table:         [ 945 taxa and 27 samples ]\n",
       "sample_data() Sample Data:       [ 27 samples by 10 sample variables ]\n",
       "tax_table()   Taxonomy Table:    [ 945 taxa by 7 taxonomic ranks ]\n",
       "phy_tree()    Phylogenetic Tree: [ 945 tips and 943 internal nodes ]"
      ]
     },
     "metadata": {},
     "output_type": "display_data"
    }
   ],
   "source": [
    "physeq.whole"
   ]
  },
  {
   "cell_type": "code",
   "execution_count": 3,
   "metadata": {},
   "outputs": [
    {
     "data": {
      "text/plain": [
       "phyloseq-class experiment-level object\n",
       "otu_table()   OTU Table:         [ 231 taxa and 27 samples ]\n",
       "sample_data() Sample Data:       [ 27 samples by 10 sample variables ]\n",
       "tax_table()   Taxonomy Table:    [ 231 taxa by 7 taxonomic ranks ]\n",
       "phy_tree()    Phylogenetic Tree: [ 231 tips and 230 internal nodes ]"
      ]
     },
     "metadata": {},
     "output_type": "display_data"
    }
   ],
   "source": [
    "physeq.whole.genus = tax_glom(physeq.whole, \"Genus\")\n",
    "physeq.whole.genus"
   ]
  },
  {
   "cell_type": "code",
   "execution_count": 4,
   "metadata": {},
   "outputs": [],
   "source": [
    "# build a prevalence table for filtering\n",
    "prevalencedf = apply(X = otu_table(physeq.whole.genus),\n",
    "                     MARGIN = 1,\n",
    "                     FUN = function(x){sum(x > 0)})\n",
    "\n",
    "prevalencedf = data.frame(Prevalence = prevalencedf,\n",
    "                          TotalAbundance = taxa_sums(physeq.whole.genus))"
   ]
  },
  {
   "cell_type": "code",
   "execution_count": 6,
   "metadata": {},
   "outputs": [
    {
     "data": {
      "text/html": [
       "2.7"
      ],
      "text/latex": [
       "2.7"
      ],
      "text/markdown": [
       "2.7"
      ],
      "text/plain": [
       "[1] 2.7"
      ]
     },
     "metadata": {},
     "output_type": "display_data"
    },
    {
     "data": {
      "text/html": [
       "23"
      ],
      "text/latex": [
       "23"
      ],
      "text/markdown": [
       "23"
      ],
      "text/plain": [
       "[1] 23"
      ]
     },
     "metadata": {},
     "output_type": "display_data"
    },
    {
     "data": {
      "text/html": [
       "<ol class=list-inline>\n",
       "\t<li>'ac09a700281e0e84b375bb5ae517a23e'</li>\n",
       "\t<li>'896c05c0ef629cc4725eb1d8db95f2e5'</li>\n",
       "\t<li>'473b630262c9e46dc6f8f08886406faf'</li>\n",
       "\t<li>'4921e77373cf88d5d939898928db7f1d'</li>\n",
       "\t<li>'af2a8d6190dac41427b5208bd79874e0'</li>\n",
       "\t<li>'04b867faf28bb8e9696ddab9bc9774a1'</li>\n",
       "\t<li>'3112a0cc9050d0bee3e65ae6ac080099'</li>\n",
       "\t<li>'6ba2d1f0e3b971b2afeb348b44f26b2d'</li>\n",
       "\t<li>'2424b82f393cce6b25e2f0fef86314f2'</li>\n",
       "\t<li>'a045fd276e32fb21f5c97e9c7068d226'</li>\n",
       "\t<li>'f508a05c1f9bbdaefd0ec0ff6f5db60b'</li>\n",
       "\t<li>'92eb684563a59988b1e9cc61e7c6eaa1'</li>\n",
       "\t<li>'157f6ba228fbb1d6d88977bcc75d3c63'</li>\n",
       "\t<li>'4c6043796448a2d50aaf470a409f36f7'</li>\n",
       "\t<li>'04f7a79aa778df478752a5e08bb5e68d'</li>\n",
       "\t<li>'7e2c443c0ab5d9675d2e14bf13cdbab5'</li>\n",
       "\t<li>'ba2bf0826df666849c91fc7512a57e78'</li>\n",
       "\t<li>'fa169ee0676b05a76e176e95deec2aa9'</li>\n",
       "\t<li>'82bc1e66ac43e7f68f9795809c4cad99'</li>\n",
       "\t<li>'0c00cc21bf4cb3fbc403e974cad42402'</li>\n",
       "\t<li>'d1589540ef4c33b985e1103a5e0921f9'</li>\n",
       "\t<li>'178902d35f055b7cc539fe7326a49c89'</li>\n",
       "\t<li>'8f1d6c5f6a03b21a67f492d2004679fa'</li>\n",
       "</ol>\n"
      ],
      "text/latex": [
       "\\begin{enumerate*}\n",
       "\\item 'ac09a700281e0e84b375bb5ae517a23e'\n",
       "\\item '896c05c0ef629cc4725eb1d8db95f2e5'\n",
       "\\item '473b630262c9e46dc6f8f08886406faf'\n",
       "\\item '4921e77373cf88d5d939898928db7f1d'\n",
       "\\item 'af2a8d6190dac41427b5208bd79874e0'\n",
       "\\item '04b867faf28bb8e9696ddab9bc9774a1'\n",
       "\\item '3112a0cc9050d0bee3e65ae6ac080099'\n",
       "\\item '6ba2d1f0e3b971b2afeb348b44f26b2d'\n",
       "\\item '2424b82f393cce6b25e2f0fef86314f2'\n",
       "\\item 'a045fd276e32fb21f5c97e9c7068d226'\n",
       "\\item 'f508a05c1f9bbdaefd0ec0ff6f5db60b'\n",
       "\\item '92eb684563a59988b1e9cc61e7c6eaa1'\n",
       "\\item '157f6ba228fbb1d6d88977bcc75d3c63'\n",
       "\\item '4c6043796448a2d50aaf470a409f36f7'\n",
       "\\item '04f7a79aa778df478752a5e08bb5e68d'\n",
       "\\item '7e2c443c0ab5d9675d2e14bf13cdbab5'\n",
       "\\item 'ba2bf0826df666849c91fc7512a57e78'\n",
       "\\item 'fa169ee0676b05a76e176e95deec2aa9'\n",
       "\\item '82bc1e66ac43e7f68f9795809c4cad99'\n",
       "\\item '0c00cc21bf4cb3fbc403e974cad42402'\n",
       "\\item 'd1589540ef4c33b985e1103a5e0921f9'\n",
       "\\item '178902d35f055b7cc539fe7326a49c89'\n",
       "\\item '8f1d6c5f6a03b21a67f492d2004679fa'\n",
       "\\end{enumerate*}\n"
      ],
      "text/markdown": [
       "1. 'ac09a700281e0e84b375bb5ae517a23e'\n",
       "2. '896c05c0ef629cc4725eb1d8db95f2e5'\n",
       "3. '473b630262c9e46dc6f8f08886406faf'\n",
       "4. '4921e77373cf88d5d939898928db7f1d'\n",
       "5. 'af2a8d6190dac41427b5208bd79874e0'\n",
       "6. '04b867faf28bb8e9696ddab9bc9774a1'\n",
       "7. '3112a0cc9050d0bee3e65ae6ac080099'\n",
       "8. '6ba2d1f0e3b971b2afeb348b44f26b2d'\n",
       "9. '2424b82f393cce6b25e2f0fef86314f2'\n",
       "10. 'a045fd276e32fb21f5c97e9c7068d226'\n",
       "11. 'f508a05c1f9bbdaefd0ec0ff6f5db60b'\n",
       "12. '92eb684563a59988b1e9cc61e7c6eaa1'\n",
       "13. '157f6ba228fbb1d6d88977bcc75d3c63'\n",
       "14. '4c6043796448a2d50aaf470a409f36f7'\n",
       "15. '04f7a79aa778df478752a5e08bb5e68d'\n",
       "16. '7e2c443c0ab5d9675d2e14bf13cdbab5'\n",
       "17. 'ba2bf0826df666849c91fc7512a57e78'\n",
       "18. 'fa169ee0676b05a76e176e95deec2aa9'\n",
       "19. '82bc1e66ac43e7f68f9795809c4cad99'\n",
       "20. '0c00cc21bf4cb3fbc403e974cad42402'\n",
       "21. 'd1589540ef4c33b985e1103a5e0921f9'\n",
       "22. '178902d35f055b7cc539fe7326a49c89'\n",
       "23. '8f1d6c5f6a03b21a67f492d2004679fa'\n",
       "\n",
       "\n"
      ],
      "text/plain": [
       " [1] \"ac09a700281e0e84b375bb5ae517a23e\" \"896c05c0ef629cc4725eb1d8db95f2e5\"\n",
       " [3] \"473b630262c9e46dc6f8f08886406faf\" \"4921e77373cf88d5d939898928db7f1d\"\n",
       " [5] \"af2a8d6190dac41427b5208bd79874e0\" \"04b867faf28bb8e9696ddab9bc9774a1\"\n",
       " [7] \"3112a0cc9050d0bee3e65ae6ac080099\" \"6ba2d1f0e3b971b2afeb348b44f26b2d\"\n",
       " [9] \"2424b82f393cce6b25e2f0fef86314f2\" \"a045fd276e32fb21f5c97e9c7068d226\"\n",
       "[11] \"f508a05c1f9bbdaefd0ec0ff6f5db60b\" \"92eb684563a59988b1e9cc61e7c6eaa1\"\n",
       "[13] \"157f6ba228fbb1d6d88977bcc75d3c63\" \"4c6043796448a2d50aaf470a409f36f7\"\n",
       "[15] \"04f7a79aa778df478752a5e08bb5e68d\" \"7e2c443c0ab5d9675d2e14bf13cdbab5\"\n",
       "[17] \"ba2bf0826df666849c91fc7512a57e78\" \"fa169ee0676b05a76e176e95deec2aa9\"\n",
       "[19] \"82bc1e66ac43e7f68f9795809c4cad99\" \"0c00cc21bf4cb3fbc403e974cad42402\"\n",
       "[21] \"d1589540ef4c33b985e1103a5e0921f9\" \"178902d35f055b7cc539fe7326a49c89\"\n",
       "[23] \"8f1d6c5f6a03b21a67f492d2004679fa\""
      ]
     },
     "metadata": {},
     "output_type": "display_data"
    }
   ],
   "source": [
    "# filter out features that are not presnet in 10% of all samples\n",
    "prevalenceThreshold = 0.10 * nsamples(physeq.whole.genus)\n",
    "prevalenceThreshold\n",
    "keepTaxa = rownames(prevalencedf)[(prevalencedf$Prevalence >= prevalenceThreshold)]\n",
    "length(keepTaxa)\n",
    "keepTaxa"
   ]
  },
  {
   "cell_type": "code",
   "execution_count": 7,
   "metadata": {},
   "outputs": [
    {
     "data": {
      "text/plain": [
       "phyloseq-class experiment-level object\n",
       "otu_table()   OTU Table:         [ 23 taxa and 27 samples ]\n",
       "sample_data() Sample Data:       [ 27 samples by 10 sample variables ]\n",
       "tax_table()   Taxonomy Table:    [ 23 taxa by 7 taxonomic ranks ]\n",
       "phy_tree()    Phylogenetic Tree: [ 23 tips and 22 internal nodes ]"
      ]
     },
     "metadata": {},
     "output_type": "display_data"
    }
   ],
   "source": [
    "physeq.whole.genus.prevalent = prune_taxa(keepTaxa, physeq.whole.genus)\n",
    "physeq.whole.genus.prevalent"
   ]
  },
  {
   "cell_type": "markdown",
   "metadata": {},
   "source": [
    "### Relative"
   ]
  },
  {
   "cell_type": "code",
   "execution_count": 8,
   "metadata": {
    "scrolled": true
   },
   "outputs": [
    {
     "data": {
      "text/html": [
       "<dl class=dl-horizontal>\n",
       "\t<dt>T1R1</dt>\n",
       "\t\t<dd>100</dd>\n",
       "\t<dt>T1R10</dt>\n",
       "\t\t<dd>100</dd>\n",
       "\t<dt>T1R4</dt>\n",
       "\t\t<dd>100</dd>\n",
       "\t<dt>T1R5</dt>\n",
       "\t\t<dd>100</dd>\n",
       "\t<dt>T1R7</dt>\n",
       "\t\t<dd>100</dd>\n",
       "\t<dt>T1R9</dt>\n",
       "\t\t<dd>100</dd>\n",
       "\t<dt>T2R1</dt>\n",
       "\t\t<dd>100</dd>\n",
       "\t<dt>T2R10</dt>\n",
       "\t\t<dd>100</dd>\n",
       "\t<dt>T2R4</dt>\n",
       "\t\t<dd>100</dd>\n",
       "\t<dt>T2R5</dt>\n",
       "\t\t<dd>100</dd>\n",
       "\t<dt>T2R7</dt>\n",
       "\t\t<dd>100</dd>\n",
       "\t<dt>T2R9</dt>\n",
       "\t\t<dd>100</dd>\n",
       "\t<dt>T3R1</dt>\n",
       "\t\t<dd>100</dd>\n",
       "\t<dt>T3R10</dt>\n",
       "\t\t<dd>100</dd>\n",
       "\t<dt>T3R5</dt>\n",
       "\t\t<dd>100</dd>\n",
       "\t<dt>T3R7</dt>\n",
       "\t\t<dd>100</dd>\n",
       "\t<dt>T3R9</dt>\n",
       "\t\t<dd>100</dd>\n",
       "\t<dt>T4R1</dt>\n",
       "\t\t<dd>100</dd>\n",
       "\t<dt>T4R10</dt>\n",
       "\t\t<dd>100</dd>\n",
       "\t<dt>T4R7</dt>\n",
       "\t\t<dd>100</dd>\n",
       "\t<dt>T4R9</dt>\n",
       "\t\t<dd>100</dd>\n",
       "\t<dt>T5R1</dt>\n",
       "\t\t<dd>100</dd>\n",
       "\t<dt>T5R10</dt>\n",
       "\t\t<dd>100</dd>\n",
       "\t<dt>T5R4</dt>\n",
       "\t\t<dd>100</dd>\n",
       "\t<dt>T5R5</dt>\n",
       "\t\t<dd>100</dd>\n",
       "\t<dt>T5R7</dt>\n",
       "\t\t<dd>100</dd>\n",
       "\t<dt>T5R9</dt>\n",
       "\t\t<dd>100</dd>\n",
       "</dl>\n"
      ],
      "text/latex": [
       "\\begin{description*}\n",
       "\\item[T1R1] 100\n",
       "\\item[T1R10] 100\n",
       "\\item[T1R4] 100\n",
       "\\item[T1R5] 100\n",
       "\\item[T1R7] 100\n",
       "\\item[T1R9] 100\n",
       "\\item[T2R1] 100\n",
       "\\item[T2R10] 100\n",
       "\\item[T2R4] 100\n",
       "\\item[T2R5] 100\n",
       "\\item[T2R7] 100\n",
       "\\item[T2R9] 100\n",
       "\\item[T3R1] 100\n",
       "\\item[T3R10] 100\n",
       "\\item[T3R5] 100\n",
       "\\item[T3R7] 100\n",
       "\\item[T3R9] 100\n",
       "\\item[T4R1] 100\n",
       "\\item[T4R10] 100\n",
       "\\item[T4R7] 100\n",
       "\\item[T4R9] 100\n",
       "\\item[T5R1] 100\n",
       "\\item[T5R10] 100\n",
       "\\item[T5R4] 100\n",
       "\\item[T5R5] 100\n",
       "\\item[T5R7] 100\n",
       "\\item[T5R9] 100\n",
       "\\end{description*}\n"
      ],
      "text/markdown": [
       "T1R1\n",
       ":   100T1R10\n",
       ":   100T1R4\n",
       ":   100T1R5\n",
       ":   100T1R7\n",
       ":   100T1R9\n",
       ":   100T2R1\n",
       ":   100T2R10\n",
       ":   100T2R4\n",
       ":   100T2R5\n",
       ":   100T2R7\n",
       ":   100T2R9\n",
       ":   100T3R1\n",
       ":   100T3R10\n",
       ":   100T3R5\n",
       ":   100T3R7\n",
       ":   100T3R9\n",
       ":   100T4R1\n",
       ":   100T4R10\n",
       ":   100T4R7\n",
       ":   100T4R9\n",
       ":   100T5R1\n",
       ":   100T5R10\n",
       ":   100T5R4\n",
       ":   100T5R5\n",
       ":   100T5R7\n",
       ":   100T5R9\n",
       ":   100\n",
       "\n"
      ],
      "text/plain": [
       " T1R1 T1R10  T1R4  T1R5  T1R7  T1R9  T2R1 T2R10  T2R4  T2R5  T2R7  T2R9  T3R1 \n",
       "  100   100   100   100   100   100   100   100   100   100   100   100   100 \n",
       "T3R10  T3R5  T3R7  T3R9  T4R1 T4R10  T4R7  T4R9  T5R1 T5R10  T5R4  T5R5  T5R7 \n",
       "  100   100   100   100   100   100   100   100   100   100   100   100   100 \n",
       " T5R9 \n",
       "  100 "
      ]
     },
     "metadata": {},
     "output_type": "display_data"
    }
   ],
   "source": [
    "physeq.whole.genus.prevalent.rel = transform_sample_counts(physeq.whole.genus.prevalent, function(x) 100 * x/sum(x))\n",
    "sample_sums(physeq.whole.genus.prevalent.rel)"
   ]
  },
  {
   "cell_type": "code",
   "execution_count": 9,
   "metadata": {},
   "outputs": [],
   "source": [
    "# reduce the name length: p.rel.mdf = physeq.whole.genus.prevelant.rel.mdf\n",
    "p.rel.mdf = subset_samples(physeq.whole.genus.prevalent.rel, Material == \"MDF\")\n",
    "# filter out features that are not present in all samples\n",
    "p.rel.mdf = prune_taxa(taxa_sums(p.rel.mdf) > 0, p.rel.mdf)\n",
    "# filter out fatures that are NA at Genus level\n",
    "p.rel.mdf = subset_taxa(p.rel.mdf, !Genus == \"g__\")"
   ]
  },
  {
   "cell_type": "code",
   "execution_count": 10,
   "metadata": {},
   "outputs": [
    {
     "data": {
      "text/plain": [
       "phyloseq-class experiment-level object\n",
       "otu_table()   OTU Table:         [ 17 taxa and 12 samples ]\n",
       "sample_data() Sample Data:       [ 12 samples by 10 sample variables ]\n",
       "tax_table()   Taxonomy Table:    [ 17 taxa by 7 taxonomic ranks ]\n",
       "phy_tree()    Phylogenetic Tree: [ 17 tips and 16 internal nodes ]"
      ]
     },
     "metadata": {},
     "output_type": "display_data"
    }
   ],
   "source": [
    "p.rel.mdf"
   ]
  },
  {
   "cell_type": "code",
   "execution_count": 11,
   "metadata": {},
   "outputs": [],
   "source": [
    "write.csv(otu_table(p.rel.mdf), \"./Correlation/16S-rel-mdf.csv\")\n",
    "write.csv(tax_table(p.rel.mdf), \"./Correlation/16S-mdf-taxa.csv\")"
   ]
  },
  {
   "cell_type": "code",
   "execution_count": 12,
   "metadata": {},
   "outputs": [
    {
     "data": {
      "text/plain": [
       "phyloseq-class experiment-level object\n",
       "otu_table()   OTU Table:         [ 19 taxa and 15 samples ]\n",
       "sample_data() Sample Data:       [ 15 samples by 10 sample variables ]\n",
       "tax_table()   Taxonomy Table:    [ 19 taxa by 7 taxonomic ranks ]\n",
       "phy_tree()    Phylogenetic Tree: [ 19 tips and 18 internal nodes ]"
      ]
     },
     "metadata": {},
     "output_type": "display_data"
    }
   ],
   "source": [
    "p.rel.gyp = subset_samples(physeq.whole.genus.prevalent.rel, Material == \"Gypsum\")\n",
    "p.rel.gyp = prune_taxa(taxa_sums(p.rel.gyp) > 0, p.rel.gyp)\n",
    "p.rel.gyp = subset_taxa(p.rel.gyp, !Genus == \"g__\")\n",
    "p.rel.gyp"
   ]
  },
  {
   "cell_type": "code",
   "execution_count": 13,
   "metadata": {},
   "outputs": [],
   "source": [
    "write.csv(otu_table(p.rel.gyp), \"./Correlation/16S-rel-gyp.csv\")\n",
    "write.csv(tax_table(p.rel.gyp), \"./Correlation/16S-gyp-taxa.csv\")"
   ]
  },
  {
   "cell_type": "markdown",
   "metadata": {},
   "source": [
    "### Quantitative"
   ]
  },
  {
   "cell_type": "code",
   "execution_count": 16,
   "metadata": {},
   "outputs": [],
   "source": [
    "# using previous objects, and convert relative abundance to quantitative abundance\n",
    "#sample_data(p.rel.mdf)\n",
    "count.mdf = as.data.frame(sample_data(p.rel.mdf))$Count\n",
    "p.quan.mdf = p.rel.mdf\n",
    "otu_table(p.quan.mdf) = rel_to_quan(p.quan.mdf, count.mdf)"
   ]
  },
  {
   "cell_type": "code",
   "execution_count": 17,
   "metadata": {},
   "outputs": [],
   "source": [
    "write.csv(otu_table(p.quan.mdf), \"./Correlation/16S-quan-mdf.csv\")\n",
    "# taxonomy for quantitative data is the same as relative data"
   ]
  },
  {
   "cell_type": "code",
   "execution_count": 18,
   "metadata": {},
   "outputs": [],
   "source": [
    "#sample_data(p.rel.gyp)\n",
    "count.gyp = as.data.frame(sample_data(p.rel.gyp))$Count\n",
    "p.quan.gyp = p.rel.gyp\n",
    "otu_table(p.quan.gyp) = rel_to_quan(p.quan.gyp, count.gyp)"
   ]
  },
  {
   "cell_type": "code",
   "execution_count": 19,
   "metadata": {},
   "outputs": [],
   "source": [
    "write.csv(otu_table(p.quan.gyp), \"./Correlation/16S-quan-gyp.csv\")\n",
    "# taxonomy for quantitative data is the same as relative data"
   ]
  },
  {
   "cell_type": "code",
   "execution_count": null,
   "metadata": {},
   "outputs": [],
   "source": []
  }
 ],
 "metadata": {
  "kernelspec": {
   "display_name": "R",
   "language": "R",
   "name": "ir"
  },
  "language_info": {
   "codemirror_mode": "r",
   "file_extension": ".r",
   "mimetype": "text/x-r-source",
   "name": "R",
   "pygments_lexer": "r",
   "version": "3.5.2"
  }
 },
 "nbformat": 4,
 "nbformat_minor": 2
}
