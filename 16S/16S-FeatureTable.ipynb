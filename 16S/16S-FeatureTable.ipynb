{
 "cells": [
  {
   "cell_type": "markdown",
   "metadata": {},
   "source": [
    "## Get 16S feature table for 16S and ITS co-occurence. Only keep taxas that are present in at least 10% of all samples. Split two materials, and compare relative VS quantitative"
   ]
  },
  {
   "cell_type": "code",
   "execution_count": 1,
   "metadata": {},
   "outputs": [
    {
     "name": "stderr",
     "output_type": "stream",
     "text": [
      "Warning message in strsplit(conditionMessage(e), \"\\n\"):\n",
      "“input string 1 is invalid in this locale”"
     ]
    }
   ],
   "source": [
    "source(\"./PhyloseqObjects.r\")"
   ]
  },
  {
   "cell_type": "code",
   "execution_count": 2,
   "metadata": {},
   "outputs": [
    {
     "data": {
      "text/plain": [
       "phyloseq-class experiment-level object\n",
       "otu_table()   OTU Table:         [ 945 taxa and 27 samples ]\n",
       "sample_data() Sample Data:       [ 27 samples by 10 sample variables ]\n",
       "tax_table()   Taxonomy Table:    [ 945 taxa by 7 taxonomic ranks ]\n",
       "phy_tree()    Phylogenetic Tree: [ 945 tips and 943 internal nodes ]"
      ]
     },
     "metadata": {},
     "output_type": "display_data"
    }
   ],
   "source": [
    "physeq.whole"
   ]
  },
  {
   "cell_type": "code",
   "execution_count": 3,
   "metadata": {},
   "outputs": [
    {
     "data": {
      "text/plain": [
       "phyloseq-class experiment-level object\n",
       "otu_table()   OTU Table:         [ 231 taxa and 27 samples ]\n",
       "sample_data() Sample Data:       [ 27 samples by 10 sample variables ]\n",
       "tax_table()   Taxonomy Table:    [ 231 taxa by 7 taxonomic ranks ]\n",
       "phy_tree()    Phylogenetic Tree: [ 231 tips and 230 internal nodes ]"
      ]
     },
     "metadata": {},
     "output_type": "display_data"
    }
   ],
   "source": [
    "physeq.whole.genus = tax_glom(physeq.whole, \"Genus\")\n",
    "physeq.whole.genus"
   ]
  },
  {
   "cell_type": "code",
   "execution_count": 4,
   "metadata": {},
   "outputs": [],
   "source": [
    "# build a prevalence table for filtering\n",
    "prevalencedf = apply(X = otu_table(physeq.whole.genus),\n",
    "                     MARGIN = 1,\n",
    "                     FUN = function(x){sum(x > 0)})\n",
    "\n",
    "prevalencedf = data.frame(Prevalence = prevalencedf,\n",
    "                          TotalAbundance = taxa_sums(physeq.whole.genus))"
   ]
  },
  {
   "cell_type": "code",
   "execution_count": 5,
   "metadata": {},
   "outputs": [
    {
     "data": {
      "text/html": [
       "2.7"
      ],
      "text/latex": [
       "2.7"
      ],
      "text/markdown": [
       "2.7"
      ],
      "text/plain": [
       "[1] 2.7"
      ]
     },
     "metadata": {},
     "output_type": "display_data"
    },
    {
     "data": {
      "text/html": [
       "23"
      ],
      "text/latex": [
       "23"
      ],
      "text/markdown": [
       "23"
      ],
      "text/plain": [
       "[1] 23"
      ]
     },
     "metadata": {},
     "output_type": "display_data"
    }
   ],
   "source": [
    "# filter out features that are not presnet in 10% of all samples\n",
    "prevalenceThreshold = 0.10 * nsamples(physeq.whole.genus)\n",
    "prevalenceThreshold\n",
    "keepTaxa = rownames(prevalencedf)[(prevalencedf$Prevalence >= prevalenceThreshold)]\n",
    "length(keepTaxa)\n",
    "#keepTaxa"
   ]
  },
  {
   "cell_type": "code",
   "execution_count": 7,
   "metadata": {},
   "outputs": [
    {
     "data": {
      "text/plain": [
       "phyloseq-class experiment-level object\n",
       "otu_table()   OTU Table:         [ 23 taxa and 27 samples ]\n",
       "sample_data() Sample Data:       [ 27 samples by 10 sample variables ]\n",
       "tax_table()   Taxonomy Table:    [ 23 taxa by 7 taxonomic ranks ]\n",
       "phy_tree()    Phylogenetic Tree: [ 23 tips and 22 internal nodes ]"
      ]
     },
     "metadata": {},
     "output_type": "display_data"
    }
   ],
   "source": [
    "physeq.whole.genus.prevalent = prune_taxa(keepTaxa, physeq.whole.genus)\n",
    "physeq.whole.genus.prevalent"
   ]
  },
  {
   "cell_type": "markdown",
   "metadata": {},
   "source": [
    "### Relative"
   ]
  },
  {
   "cell_type": "code",
   "execution_count": 8,
   "metadata": {
    "scrolled": true
   },
   "outputs": [
    {
     "data": {
      "text/html": [
       "<dl class=dl-horizontal>\n",
       "\t<dt>T1R1</dt>\n",
       "\t\t<dd>100</dd>\n",
       "\t<dt>T1R10</dt>\n",
       "\t\t<dd>100</dd>\n",
       "\t<dt>T1R4</dt>\n",
       "\t\t<dd>100</dd>\n",
       "\t<dt>T1R5</dt>\n",
       "\t\t<dd>100</dd>\n",
       "\t<dt>T1R7</dt>\n",
       "\t\t<dd>100</dd>\n",
       "\t<dt>T1R9</dt>\n",
       "\t\t<dd>100</dd>\n",
       "\t<dt>T2R1</dt>\n",
       "\t\t<dd>100</dd>\n",
       "\t<dt>T2R10</dt>\n",
       "\t\t<dd>100</dd>\n",
       "\t<dt>T2R4</dt>\n",
       "\t\t<dd>100</dd>\n",
       "\t<dt>T2R5</dt>\n",
       "\t\t<dd>100</dd>\n",
       "\t<dt>T2R7</dt>\n",
       "\t\t<dd>100</dd>\n",
       "\t<dt>T2R9</dt>\n",
       "\t\t<dd>100</dd>\n",
       "\t<dt>T3R1</dt>\n",
       "\t\t<dd>100</dd>\n",
       "\t<dt>T3R10</dt>\n",
       "\t\t<dd>100</dd>\n",
       "\t<dt>T3R5</dt>\n",
       "\t\t<dd>100</dd>\n",
       "\t<dt>T3R7</dt>\n",
       "\t\t<dd>100</dd>\n",
       "\t<dt>T3R9</dt>\n",
       "\t\t<dd>100</dd>\n",
       "\t<dt>T4R1</dt>\n",
       "\t\t<dd>100</dd>\n",
       "\t<dt>T4R10</dt>\n",
       "\t\t<dd>100</dd>\n",
       "\t<dt>T4R7</dt>\n",
       "\t\t<dd>100</dd>\n",
       "\t<dt>T4R9</dt>\n",
       "\t\t<dd>100</dd>\n",
       "\t<dt>T5R1</dt>\n",
       "\t\t<dd>100</dd>\n",
       "\t<dt>T5R10</dt>\n",
       "\t\t<dd>100</dd>\n",
       "\t<dt>T5R4</dt>\n",
       "\t\t<dd>100</dd>\n",
       "\t<dt>T5R5</dt>\n",
       "\t\t<dd>100</dd>\n",
       "\t<dt>T5R7</dt>\n",
       "\t\t<dd>100</dd>\n",
       "\t<dt>T5R9</dt>\n",
       "\t\t<dd>100</dd>\n",
       "</dl>\n"
      ],
      "text/latex": [
       "\\begin{description*}\n",
       "\\item[T1R1] 100\n",
       "\\item[T1R10] 100\n",
       "\\item[T1R4] 100\n",
       "\\item[T1R5] 100\n",
       "\\item[T1R7] 100\n",
       "\\item[T1R9] 100\n",
       "\\item[T2R1] 100\n",
       "\\item[T2R10] 100\n",
       "\\item[T2R4] 100\n",
       "\\item[T2R5] 100\n",
       "\\item[T2R7] 100\n",
       "\\item[T2R9] 100\n",
       "\\item[T3R1] 100\n",
       "\\item[T3R10] 100\n",
       "\\item[T3R5] 100\n",
       "\\item[T3R7] 100\n",
       "\\item[T3R9] 100\n",
       "\\item[T4R1] 100\n",
       "\\item[T4R10] 100\n",
       "\\item[T4R7] 100\n",
       "\\item[T4R9] 100\n",
       "\\item[T5R1] 100\n",
       "\\item[T5R10] 100\n",
       "\\item[T5R4] 100\n",
       "\\item[T5R5] 100\n",
       "\\item[T5R7] 100\n",
       "\\item[T5R9] 100\n",
       "\\end{description*}\n"
      ],
      "text/markdown": [
       "T1R1\n",
       ":   100T1R10\n",
       ":   100T1R4\n",
       ":   100T1R5\n",
       ":   100T1R7\n",
       ":   100T1R9\n",
       ":   100T2R1\n",
       ":   100T2R10\n",
       ":   100T2R4\n",
       ":   100T2R5\n",
       ":   100T2R7\n",
       ":   100T2R9\n",
       ":   100T3R1\n",
       ":   100T3R10\n",
       ":   100T3R5\n",
       ":   100T3R7\n",
       ":   100T3R9\n",
       ":   100T4R1\n",
       ":   100T4R10\n",
       ":   100T4R7\n",
       ":   100T4R9\n",
       ":   100T5R1\n",
       ":   100T5R10\n",
       ":   100T5R4\n",
       ":   100T5R5\n",
       ":   100T5R7\n",
       ":   100T5R9\n",
       ":   100\n",
       "\n"
      ],
      "text/plain": [
       " T1R1 T1R10  T1R4  T1R5  T1R7  T1R9  T2R1 T2R10  T2R4  T2R5  T2R7  T2R9  T3R1 \n",
       "  100   100   100   100   100   100   100   100   100   100   100   100   100 \n",
       "T3R10  T3R5  T3R7  T3R9  T4R1 T4R10  T4R7  T4R9  T5R1 T5R10  T5R4  T5R5  T5R7 \n",
       "  100   100   100   100   100   100   100   100   100   100   100   100   100 \n",
       " T5R9 \n",
       "  100 "
      ]
     },
     "metadata": {},
     "output_type": "display_data"
    }
   ],
   "source": [
    "physeq.whole.genus.prevalent.rel = transform_sample_counts(physeq.whole.genus.prevalent, function(x) 100 * x/sum(x))\n",
    "sample_sums(physeq.whole.genus.prevalent.rel)"
   ]
  },
  {
   "cell_type": "code",
   "execution_count": 9,
   "metadata": {},
   "outputs": [],
   "source": [
    "# reduce the name length: p.rel.mdf = physeq.whole.genus.prevelant.rel.mdf\n",
    "p.rel.mdf = subset_samples(physeq.whole.genus.prevalent.rel, Material == \"MDF\")\n",
    "# filter out features that are not present in all samples\n",
    "p.rel.mdf = prune_taxa(taxa_sums(p.rel.mdf) > 0, p.rel.mdf)\n",
    "# filter out fatures that are NA at Genus level\n",
    "p.rel.mdf = subset_taxa(p.rel.mdf, !Genus == \"g__\")"
   ]
  },
  {
   "cell_type": "code",
   "execution_count": 10,
   "metadata": {},
   "outputs": [
    {
     "data": {
      "text/plain": [
       "phyloseq-class experiment-level object\n",
       "otu_table()   OTU Table:         [ 17 taxa and 12 samples ]\n",
       "sample_data() Sample Data:       [ 12 samples by 10 sample variables ]\n",
       "tax_table()   Taxonomy Table:    [ 17 taxa by 7 taxonomic ranks ]\n",
       "phy_tree()    Phylogenetic Tree: [ 17 tips and 16 internal nodes ]"
      ]
     },
     "metadata": {},
     "output_type": "display_data"
    }
   ],
   "source": [
    "p.rel.mdf"
   ]
  },
  {
   "cell_type": "code",
   "execution_count": 13,
   "metadata": {},
   "outputs": [],
   "source": [
    "write.csv(otu_table(p.rel.mdf), \"16S-rel-mdf.csv\")\n",
    "write.csv(tax_table(p.rel.mdf), \"16S-mdf-taxa.csv\")"
   ]
  },
  {
   "cell_type": "code",
   "execution_count": 14,
   "metadata": {},
   "outputs": [
    {
     "data": {
      "text/plain": [
       "phyloseq-class experiment-level object\n",
       "otu_table()   OTU Table:         [ 19 taxa and 15 samples ]\n",
       "sample_data() Sample Data:       [ 15 samples by 10 sample variables ]\n",
       "tax_table()   Taxonomy Table:    [ 19 taxa by 7 taxonomic ranks ]\n",
       "phy_tree()    Phylogenetic Tree: [ 19 tips and 18 internal nodes ]"
      ]
     },
     "metadata": {},
     "output_type": "display_data"
    }
   ],
   "source": [
    "p.rel.gyp = subset_samples(physeq.whole.genus.prevalent.rel, Material == \"Gypsum\")\n",
    "p.rel.gyp = prune_taxa(taxa_sums(p.rel.gyp) > 0, p.rel.gyp)\n",
    "p.rel.gyp = subset_taxa(p.rel.gyp, !Genus == \"g__\")\n",
    "p.rel.gyp"
   ]
  },
  {
   "cell_type": "code",
   "execution_count": 15,
   "metadata": {},
   "outputs": [],
   "source": [
    "write.csv(otu_table(p.rel.gyp), \"16S-rel-gyp.csv\")\n",
    "write.csv(tax_table(p.rel.gyp), \"16S-gyp-taxa.csv\")"
   ]
  },
  {
   "cell_type": "markdown",
   "metadata": {},
   "source": [
    "### Quantitative"
   ]
  },
  {
   "cell_type": "code",
   "execution_count": 16,
   "metadata": {},
   "outputs": [],
   "source": [
    "# using previous objects, and convert relative abundance to quantitative abundance\n",
    "#sample_data(p.rel.mdf)\n",
    "count.mdf = as.data.frame(sample_data(p.rel.mdf))$Count\n",
    "p.quan.mdf = p.rel.mdf\n",
    "otu_table(p.quan.mdf) = rel_to_quan(p.quan.mdf, count.mdf)"
   ]
  },
  {
   "cell_type": "code",
   "execution_count": 17,
   "metadata": {},
   "outputs": [],
   "source": [
    "write.csv(otu_table(p.quan.mdf), \"16S-quan-mdf.csv\")\n",
    "# taxonomy for quantitative data is the same as relative data"
   ]
  },
  {
   "cell_type": "code",
   "execution_count": 18,
   "metadata": {},
   "outputs": [],
   "source": [
    "#sample_data(p.rel.gyp)\n",
    "count.gyp = as.data.frame(sample_data(p.rel.gyp))$Count\n",
    "p.quan.gyp = p.rel.gyp\n",
    "otu_table(p.quan.gyp) = rel_to_quan(p.quan.gyp, count.gyp)"
   ]
  },
  {
   "cell_type": "code",
   "execution_count": 19,
   "metadata": {},
   "outputs": [],
   "source": [
    "write.csv(otu_table(p.quan.gyp), \"16S-quan-gyp.csv\")\n",
    "# taxonomy for quantitative data is the same as relative data"
   ]
  },
  {
   "cell_type": "code",
   "execution_count": null,
   "metadata": {},
   "outputs": [],
   "source": []
  }
 ],
 "metadata": {
  "kernelspec": {
   "display_name": "R",
   "language": "R",
   "name": "ir"
  },
  "language_info": {
   "codemirror_mode": "r",
   "file_extension": ".r",
   "mimetype": "text/x-r-source",
   "name": "R",
   "pygments_lexer": "r",
   "version": "3.5.2"
  }
 },
 "nbformat": 4,
 "nbformat_minor": 2
}
