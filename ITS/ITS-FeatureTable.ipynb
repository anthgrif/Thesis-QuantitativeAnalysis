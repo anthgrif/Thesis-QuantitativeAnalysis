{
 "cells": [
  {
   "cell_type": "markdown",
   "metadata": {},
   "source": [
    "## Get ITS feature table for 16S and ITS co-occurence. Only include taxas that are present in at least 10% of all samples. Split two materials, compare relative VS quantitative"
   ]
  },
  {
   "cell_type": "code",
   "execution_count": 40,
   "metadata": {},
   "outputs": [
    {
     "name": "stderr",
     "output_type": "stream",
     "text": [
      "Warning message in strsplit(conditionMessage(e), \"\\n\"):\n",
      "“input string 1 is invalid in this locale”"
     ]
    }
   ],
   "source": [
    "source(\"./ITS-PhyloseqObjects.R\")"
   ]
  },
  {
   "cell_type": "code",
   "execution_count": 41,
   "metadata": {},
   "outputs": [
    {
     "data": {
      "text/plain": [
       "phyloseq-class experiment-level object\n",
       "otu_table()   OTU Table:         [ 138 taxa and 23 samples ]\n",
       "sample_data() Sample Data:       [ 23 samples by 11 sample variables ]\n",
       "tax_table()   Taxonomy Table:    [ 138 taxa by 7 taxonomic ranks ]\n",
       "phy_tree()    Phylogenetic Tree: [ 138 tips and 137 internal nodes ]"
      ]
     },
     "metadata": {},
     "output_type": "display_data"
    }
   ],
   "source": [
    "physeq.23s"
   ]
  },
  {
   "cell_type": "code",
   "execution_count": 42,
   "metadata": {
    "scrolled": true
   },
   "outputs": [],
   "source": [
    "physeq.23s.genus = tax_glom(physeq.23s, \"Genus\")"
   ]
  },
  {
   "cell_type": "code",
   "execution_count": 43,
   "metadata": {},
   "outputs": [
    {
     "data": {
      "text/plain": [
       "phyloseq-class experiment-level object\n",
       "otu_table()   OTU Table:         [ 57 taxa and 23 samples ]\n",
       "sample_data() Sample Data:       [ 23 samples by 11 sample variables ]\n",
       "tax_table()   Taxonomy Table:    [ 57 taxa by 7 taxonomic ranks ]\n",
       "phy_tree()    Phylogenetic Tree: [ 57 tips and 56 internal nodes ]"
      ]
     },
     "metadata": {},
     "output_type": "display_data"
    }
   ],
   "source": [
    "physeq.23s.genus"
   ]
  },
  {
   "cell_type": "code",
   "execution_count": 44,
   "metadata": {},
   "outputs": [],
   "source": [
    "# build a prevalence table for filtering\n",
    "prevalencedf = apply(X = otu_table(physeq.23s.genus),\n",
    "                     MARGIN = 1,\n",
    "                     FUN = function(x){sum(x > 0)})\n",
    "\n",
    "prevalencedf = data.frame(Prevalence = prevalencedf,\n",
    "                          TotalAbundance = taxa_sums(physeq.23s.genus))"
   ]
  },
  {
   "cell_type": "code",
   "execution_count": 45,
   "metadata": {},
   "outputs": [
    {
     "data": {
      "text/html": [
       "2.3"
      ],
      "text/latex": [
       "2.3"
      ],
      "text/markdown": [
       "2.3"
      ],
      "text/plain": [
       "[1] 2.3"
      ]
     },
     "metadata": {},
     "output_type": "display_data"
    },
    {
     "data": {
      "text/html": [
       "26"
      ],
      "text/latex": [
       "26"
      ],
      "text/markdown": [
       "26"
      ],
      "text/plain": [
       "[1] 26"
      ]
     },
     "metadata": {},
     "output_type": "display_data"
    }
   ],
   "source": [
    "# filter out features that are not presnet in 10% of all samples\n",
    "prevalenceThreshold = 0.10 * nsamples(physeq.23s.genus)\n",
    "prevalenceThreshold\n",
    "keepTaxa = rownames(prevalencedf)[(prevalencedf$Prevalence >= prevalenceThreshold)]\n",
    "length(keepTaxa)\n",
    "#keepTaxa"
   ]
  },
  {
   "cell_type": "code",
   "execution_count": 46,
   "metadata": {},
   "outputs": [
    {
     "data": {
      "text/plain": [
       "phyloseq-class experiment-level object\n",
       "otu_table()   OTU Table:         [ 26 taxa and 23 samples ]\n",
       "sample_data() Sample Data:       [ 23 samples by 11 sample variables ]\n",
       "tax_table()   Taxonomy Table:    [ 26 taxa by 7 taxonomic ranks ]\n",
       "phy_tree()    Phylogenetic Tree: [ 26 tips and 25 internal nodes ]"
      ]
     },
     "metadata": {},
     "output_type": "display_data"
    }
   ],
   "source": [
    "physeq.23s.genus.prevalent = prune_taxa(keepTaxa, physeq.23s.genus)\n",
    "physeq.23s.genus.prevalent"
   ]
  },
  {
   "cell_type": "markdown",
   "metadata": {},
   "source": [
    "### Relative"
   ]
  },
  {
   "cell_type": "code",
   "execution_count": 47,
   "metadata": {
    "scrolled": true
   },
   "outputs": [
    {
     "data": {
      "text/html": [
       "<dl class=dl-horizontal>\n",
       "\t<dt>T1R1</dt>\n",
       "\t\t<dd>100</dd>\n",
       "\t<dt>T1R4</dt>\n",
       "\t\t<dd>100</dd>\n",
       "\t<dt>T1R7</dt>\n",
       "\t\t<dd>100</dd>\n",
       "\t<dt>T2R1</dt>\n",
       "\t\t<dd>100</dd>\n",
       "\t<dt>T2R4</dt>\n",
       "\t\t<dd>100</dd>\n",
       "\t<dt>T2R5</dt>\n",
       "\t\t<dd>100</dd>\n",
       "\t<dt>T2R7</dt>\n",
       "\t\t<dd>100</dd>\n",
       "\t<dt>T2R9</dt>\n",
       "\t\t<dd>100</dd>\n",
       "\t<dt>T3R1</dt>\n",
       "\t\t<dd>100</dd>\n",
       "\t<dt>T3R4</dt>\n",
       "\t\t<dd>100</dd>\n",
       "\t<dt>T3R5</dt>\n",
       "\t\t<dd>100</dd>\n",
       "\t<dt>T3R7</dt>\n",
       "\t\t<dd>100</dd>\n",
       "\t<dt>T3R9</dt>\n",
       "\t\t<dd>100</dd>\n",
       "\t<dt>T4R1</dt>\n",
       "\t\t<dd>100</dd>\n",
       "\t<dt>T4R4</dt>\n",
       "\t\t<dd>100</dd>\n",
       "\t<dt>T4R5</dt>\n",
       "\t\t<dd>100</dd>\n",
       "\t<dt>T4R7</dt>\n",
       "\t\t<dd>100</dd>\n",
       "\t<dt>T4R9</dt>\n",
       "\t\t<dd>100</dd>\n",
       "\t<dt>T5R1</dt>\n",
       "\t\t<dd>100</dd>\n",
       "\t<dt>T5R4</dt>\n",
       "\t\t<dd>100</dd>\n",
       "\t<dt>T5R5</dt>\n",
       "\t\t<dd>100</dd>\n",
       "\t<dt>T5R7</dt>\n",
       "\t\t<dd>100</dd>\n",
       "\t<dt>T5R9</dt>\n",
       "\t\t<dd>100</dd>\n",
       "</dl>\n"
      ],
      "text/latex": [
       "\\begin{description*}\n",
       "\\item[T1R1] 100\n",
       "\\item[T1R4] 100\n",
       "\\item[T1R7] 100\n",
       "\\item[T2R1] 100\n",
       "\\item[T2R4] 100\n",
       "\\item[T2R5] 100\n",
       "\\item[T2R7] 100\n",
       "\\item[T2R9] 100\n",
       "\\item[T3R1] 100\n",
       "\\item[T3R4] 100\n",
       "\\item[T3R5] 100\n",
       "\\item[T3R7] 100\n",
       "\\item[T3R9] 100\n",
       "\\item[T4R1] 100\n",
       "\\item[T4R4] 100\n",
       "\\item[T4R5] 100\n",
       "\\item[T4R7] 100\n",
       "\\item[T4R9] 100\n",
       "\\item[T5R1] 100\n",
       "\\item[T5R4] 100\n",
       "\\item[T5R5] 100\n",
       "\\item[T5R7] 100\n",
       "\\item[T5R9] 100\n",
       "\\end{description*}\n"
      ],
      "text/markdown": [
       "T1R1\n",
       ":   100T1R4\n",
       ":   100T1R7\n",
       ":   100T2R1\n",
       ":   100T2R4\n",
       ":   100T2R5\n",
       ":   100T2R7\n",
       ":   100T2R9\n",
       ":   100T3R1\n",
       ":   100T3R4\n",
       ":   100T3R5\n",
       ":   100T3R7\n",
       ":   100T3R9\n",
       ":   100T4R1\n",
       ":   100T4R4\n",
       ":   100T4R5\n",
       ":   100T4R7\n",
       ":   100T4R9\n",
       ":   100T5R1\n",
       ":   100T5R4\n",
       ":   100T5R5\n",
       ":   100T5R7\n",
       ":   100T5R9\n",
       ":   100\n",
       "\n"
      ],
      "text/plain": [
       "T1R1 T1R4 T1R7 T2R1 T2R4 T2R5 T2R7 T2R9 T3R1 T3R4 T3R5 T3R7 T3R9 T4R1 T4R4 T4R5 \n",
       " 100  100  100  100  100  100  100  100  100  100  100  100  100  100  100  100 \n",
       "T4R7 T4R9 T5R1 T5R4 T5R5 T5R7 T5R9 \n",
       " 100  100  100  100  100  100  100 "
      ]
     },
     "metadata": {},
     "output_type": "display_data"
    }
   ],
   "source": [
    "physeq.23s.genus.prevalent.rel = transform_sample_counts(physeq.23s.genus.prevalent, function(x) 100 * x/sum(x))\n",
    "sample_sums(physeq.23s.genus.prevalent.rel)"
   ]
  },
  {
   "cell_type": "code",
   "execution_count": 48,
   "metadata": {},
   "outputs": [
    {
     "data": {
      "text/plain": [
       "phyloseq-class experiment-level object\n",
       "otu_table()   OTU Table:         [ 16 taxa and 14 samples ]\n",
       "sample_data() Sample Data:       [ 14 samples by 11 sample variables ]\n",
       "tax_table()   Taxonomy Table:    [ 16 taxa by 7 taxonomic ranks ]\n",
       "phy_tree()    Phylogenetic Tree: [ 16 tips and 15 internal nodes ]"
      ]
     },
     "metadata": {},
     "output_type": "display_data"
    }
   ],
   "source": [
    "# reduce the name length: p.rel.mdf = physeq.whole.genus.prevelant.rel.mdf\n",
    "p.rel.mdf = subset_samples(physeq.23s.genus.prevalent.rel, Material == \"MDF\")\n",
    "# filter out features that are not present in all samples\n",
    "p.rel.mdf = prune_taxa(taxa_sums(p.rel.mdf) > 0, p.rel.mdf)\n",
    "# filter out fatures that are NA at Genus level\n",
    "p.rel.mdf = subset_taxa(p.rel.mdf, !Genus == \"g__unidentified\")\n",
    "p.rel.mdf"
   ]
  },
  {
   "cell_type": "code",
   "execution_count": 49,
   "metadata": {
    "scrolled": true
   },
   "outputs": [],
   "source": [
    "write.csv(otu_table(p.rel.mdf), \"ITS-rel-mdf.csv\")\n",
    "write.csv(tax_table(p.rel.mdf), \"ITS-taxonomy-mdf.csv\")"
   ]
  },
  {
   "cell_type": "code",
   "execution_count": 50,
   "metadata": {},
   "outputs": [
    {
     "data": {
      "text/plain": [
       "phyloseq-class experiment-level object\n",
       "otu_table()   OTU Table:         [ 18 taxa and 9 samples ]\n",
       "sample_data() Sample Data:       [ 9 samples by 11 sample variables ]\n",
       "tax_table()   Taxonomy Table:    [ 18 taxa by 7 taxonomic ranks ]\n",
       "phy_tree()    Phylogenetic Tree: [ 18 tips and 17 internal nodes ]"
      ]
     },
     "metadata": {},
     "output_type": "display_data"
    }
   ],
   "source": [
    "p.rel.gyp = subset_samples(physeq.23s.genus.prevalent.rel, Material == \"Gypsum\")\n",
    "p.rel.gyp = prune_taxa(taxa_sums(p.rel.gyp) > 0, p.rel.gyp)\n",
    "p.rel.gyp = subset_taxa(p.rel.gyp, !Genus == \"g__unidentified\")\n",
    "p.rel.gyp"
   ]
  },
  {
   "cell_type": "code",
   "execution_count": 51,
   "metadata": {
    "scrolled": true
   },
   "outputs": [],
   "source": [
    "write.csv(otu_table(p.rel.gyp), \"ITS-rel-gyp.csv\")\n",
    "write.csv(tax_table(p.rel.gyp), \"ITS-taxonomy-gyp.csv\")"
   ]
  },
  {
   "cell_type": "markdown",
   "metadata": {},
   "source": [
    "### Quantitative"
   ]
  },
  {
   "cell_type": "code",
   "execution_count": 52,
   "metadata": {},
   "outputs": [],
   "source": [
    "# using previous objects, and convert relative abundance to quantitative abundance\n",
    "#sample_data(p.rel.mdf)\n",
    "count.mdf = as.data.frame(sample_data(p.rel.mdf))$Counts\n",
    "p.quan.mdf = p.rel.mdf\n",
    "otu_table(p.quan.mdf) = rel_to_quan(p.quan.mdf, count.mdf)"
   ]
  },
  {
   "cell_type": "code",
   "execution_count": 53,
   "metadata": {},
   "outputs": [],
   "source": [
    "write.csv(otu_table(p.quan.mdf), \"ITS-quan-mdf.csv\")"
   ]
  },
  {
   "cell_type": "code",
   "execution_count": 55,
   "metadata": {},
   "outputs": [],
   "source": [
    "#sample_data(p.rel.gyp)\n",
    "count.gyp = as.data.frame(sample_data(p.rel.gyp))$Counts\n",
    "p.quan.gyp = p.rel.gyp\n",
    "otu_table(p.quan.gyp) = rel_to_quan(p.quan.gyp, count.gyp)"
   ]
  },
  {
   "cell_type": "code",
   "execution_count": 56,
   "metadata": {},
   "outputs": [],
   "source": [
    "write.csv(otu_table(p.quan.gyp), \"ITS-quan-gyp.csv\")"
   ]
  },
  {
   "cell_type": "code",
   "execution_count": 57,
   "metadata": {},
   "outputs": [
    {
     "data": {
      "text/html": [
       "<ol class=list-inline>\n",
       "\t<li>1018.76923</li>\n",
       "\t<li>25284</li>\n",
       "\t<li>4966.5</li>\n",
       "\t<li>1045376.92</li>\n",
       "\t<li>40260.5302</li>\n",
       "\t<li>3090887.46</li>\n",
       "\t<li>122954.316</li>\n",
       "\t<li>3431747.82</li>\n",
       "\t<li>1718805.06</li>\n",
       "</ol>\n"
      ],
      "text/latex": [
       "\\begin{enumerate*}\n",
       "\\item 1018.76923\n",
       "\\item 25284\n",
       "\\item 4966.5\n",
       "\\item 1045376.92\n",
       "\\item 40260.5302\n",
       "\\item 3090887.46\n",
       "\\item 122954.316\n",
       "\\item 3431747.82\n",
       "\\item 1718805.06\n",
       "\\end{enumerate*}\n"
      ],
      "text/markdown": [
       "1. 1018.76923\n",
       "2. 25284\n",
       "3. 4966.5\n",
       "4. 1045376.92\n",
       "5. 40260.5302\n",
       "6. 3090887.46\n",
       "7. 122954.316\n",
       "8. 3431747.82\n",
       "9. 1718805.06\n",
       "\n",
       "\n"
      ],
      "text/plain": [
       "[1]    1018.769   25284.000    4966.500 1045376.920   40260.530 3090887.460\n",
       "[7]  122954.316 3431747.820 1718805.060"
      ]
     },
     "metadata": {},
     "output_type": "display_data"
    }
   ],
   "source": [
    "count.gyp"
   ]
  },
  {
   "cell_type": "code",
   "execution_count": null,
   "metadata": {},
   "outputs": [],
   "source": []
  }
 ],
 "metadata": {
  "kernelspec": {
   "display_name": "R",
   "language": "R",
   "name": "ir"
  },
  "language_info": {
   "codemirror_mode": "r",
   "file_extension": ".r",
   "mimetype": "text/x-r-source",
   "name": "R",
   "pygments_lexer": "r",
   "version": "3.5.2"
  }
 },
 "nbformat": 4,
 "nbformat_minor": 2
}
