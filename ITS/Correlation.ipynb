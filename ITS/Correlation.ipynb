{
 "cells": [
  {
   "cell_type": "code",
   "execution_count": 1,
   "metadata": {
    "scrolled": true
   },
   "outputs": [
    {
     "name": "stderr",
     "output_type": "stream",
     "text": [
      "\n",
      "Attaching package: ‘igraph’\n",
      "\n",
      "The following objects are masked from ‘package:stats’:\n",
      "\n",
      "    decompose, spectrum\n",
      "\n",
      "The following object is masked from ‘package:base’:\n",
      "\n",
      "    union\n",
      "\n"
     ]
    },
    {
     "data": {
      "text/plain": [
       "[1] ‘1.2.4.1’"
      ]
     },
     "metadata": {},
     "output_type": "display_data"
    },
    {
     "name": "stderr",
     "output_type": "stream",
     "text": [
      "Loading required package: lattice\n",
      "Loading required package: survival\n",
      "Loading required package: Formula\n",
      "Loading required package: ggplot2\n",
      "\n",
      "Attaching package: ‘Hmisc’\n",
      "\n",
      "The following objects are masked from ‘package:base’:\n",
      "\n",
      "    format.pval, units\n",
      "\n"
     ]
    },
    {
     "data": {
      "text/plain": [
       "[1] ‘4.2.0’"
      ]
     },
     "metadata": {},
     "output_type": "display_data"
    },
    {
     "data": {
      "text/plain": [
       "[1] ‘1.1.2’"
      ]
     },
     "metadata": {},
     "output_type": "display_data"
    },
    {
     "name": "stderr",
     "output_type": "stream",
     "text": [
      "\n",
      "Attaching package: ‘psych’\n",
      "\n",
      "The following object is masked from ‘package:Hmisc’:\n",
      "\n",
      "    describe\n",
      "\n",
      "The following objects are masked from ‘package:ggplot2’:\n",
      "\n",
      "    %+%, alpha\n",
      "\n"
     ]
    },
    {
     "data": {
      "text/plain": [
       "[1] ‘1.8.12’"
      ]
     },
     "metadata": {},
     "output_type": "display_data"
    },
    {
     "name": "stderr",
     "output_type": "stream",
     "text": [
      "corrplot 0.84 loaded\n"
     ]
    },
    {
     "data": {
      "text/plain": [
       "[1] ‘0.84’"
      ]
     },
     "metadata": {},
     "output_type": "display_data"
    }
   ],
   "source": [
    "library('igraph')\n",
    "packageVersion(\"igraph\")\n",
    "\n",
    "library(\"Hmisc\")\n",
    "packageVersion(\"Hmisc\")\n",
    "\n",
    "library(\"RColorBrewer\")\n",
    "packageVersion(\"RColorBrewer\")\n",
    "\n",
    "library(\"psych\")\n",
    "packageVersion(\"psych\")\n",
    "\n",
    "library(\"corrplot\")\n",
    "packageVersion(\"corrplot\")"
   ]
  },
  {
   "cell_type": "code",
   "execution_count": 2,
   "metadata": {},
   "outputs": [
    {
     "name": "stderr",
     "output_type": "stream",
     "text": [
      "Warning message in strsplit(conditionMessage(e), \"\\n\"):\n",
      "“input string 1 is invalid in this locale”"
     ]
    }
   ],
   "source": [
    "source(\"./ITS-PhyloseqObjects.R\")"
   ]
  },
  {
   "cell_type": "code",
   "execution_count": 3,
   "metadata": {},
   "outputs": [
    {
     "data": {
      "text/plain": [
       "phyloseq-class experiment-level object\n",
       "otu_table()   OTU Table:         [ 138 taxa and 23 samples ]\n",
       "sample_data() Sample Data:       [ 23 samples by 11 sample variables ]\n",
       "tax_table()   Taxonomy Table:    [ 138 taxa by 7 taxonomic ranks ]\n",
       "phy_tree()    Phylogenetic Tree: [ 138 tips and 137 internal nodes ]"
      ]
     },
     "metadata": {},
     "output_type": "display_data"
    }
   ],
   "source": [
    "# 23 samples have counts data\n",
    "physeq.23s"
   ]
  },
  {
   "cell_type": "code",
   "execution_count": 4,
   "metadata": {},
   "outputs": [
    {
     "data": {
      "text/plain": [
       "phyloseq-class experiment-level object\n",
       "otu_table()   OTU Table:         [ 57 taxa and 23 samples ]\n",
       "sample_data() Sample Data:       [ 23 samples by 11 sample variables ]\n",
       "tax_table()   Taxonomy Table:    [ 57 taxa by 7 taxonomic ranks ]\n",
       "phy_tree()    Phylogenetic Tree: [ 57 tips and 56 internal nodes ]"
      ]
     },
     "metadata": {},
     "output_type": "display_data"
    }
   ],
   "source": [
    "# group SVs that are same in Genus level\n",
    "physeq.23s.genus = tax_glom(physeq.23s, \"Genus\")\n",
    "physeq.23s.genus"
   ]
  },
  {
   "cell_type": "code",
   "execution_count": 5,
   "metadata": {},
   "outputs": [
    {
     "data": {
      "text/plain": [
       "phyloseq-class experiment-level object\n",
       "otu_table()   OTU Table:         [ 36 taxa and 23 samples ]\n",
       "sample_data() Sample Data:       [ 23 samples by 11 sample variables ]\n",
       "tax_table()   Taxonomy Table:    [ 36 taxa by 7 taxonomic ranks ]\n",
       "phy_tree()    Phylogenetic Tree: [ 36 tips and 35 internal nodes ]"
      ]
     },
     "metadata": {},
     "output_type": "display_data"
    }
   ],
   "source": [
    "# filter out features that are not present in all samples\n",
    "physeq.23s.genus = prune_taxa(taxa_sums(physeq.23s.genus) > 0, physeq.23s.genus)\n",
    "physeq.23s.genus"
   ]
  },
  {
   "cell_type": "code",
   "execution_count": 6,
   "metadata": {
    "scrolled": true
   },
   "outputs": [
    {
     "data": {
      "text/html": [
       "<dl class=dl-horizontal>\n",
       "\t<dt>T1R1</dt>\n",
       "\t\t<dd>1</dd>\n",
       "\t<dt>T1R4</dt>\n",
       "\t\t<dd>5</dd>\n",
       "\t<dt>T1R7</dt>\n",
       "\t\t<dd>5</dd>\n",
       "\t<dt>T2R1</dt>\n",
       "\t\t<dd>15284</dd>\n",
       "\t<dt>T2R4</dt>\n",
       "\t\t<dd>15245</dd>\n",
       "\t<dt>T2R5</dt>\n",
       "\t\t<dd>13983</dd>\n",
       "\t<dt>T2R7</dt>\n",
       "\t\t<dd>11441</dd>\n",
       "\t<dt>T2R9</dt>\n",
       "\t\t<dd>22513</dd>\n",
       "\t<dt>T3R1</dt>\n",
       "\t\t<dd>22161</dd>\n",
       "\t<dt>T3R4</dt>\n",
       "\t\t<dd>15343</dd>\n",
       "\t<dt>T3R5</dt>\n",
       "\t\t<dd>33787</dd>\n",
       "\t<dt>T3R7</dt>\n",
       "\t\t<dd>21855</dd>\n",
       "\t<dt>T3R9</dt>\n",
       "\t\t<dd>5877</dd>\n",
       "\t<dt>T4R1</dt>\n",
       "\t\t<dd>34868</dd>\n",
       "\t<dt>T4R4</dt>\n",
       "\t\t<dd>26305</dd>\n",
       "\t<dt>T4R5</dt>\n",
       "\t\t<dd>35341</dd>\n",
       "\t<dt>T4R7</dt>\n",
       "\t\t<dd>24463</dd>\n",
       "\t<dt>T4R9</dt>\n",
       "\t\t<dd>9453</dd>\n",
       "\t<dt>T5R1</dt>\n",
       "\t\t<dd>24793</dd>\n",
       "\t<dt>T5R4</dt>\n",
       "\t\t<dd>18362</dd>\n",
       "\t<dt>T5R5</dt>\n",
       "\t\t<dd>31652</dd>\n",
       "\t<dt>T5R7</dt>\n",
       "\t\t<dd>15401</dd>\n",
       "\t<dt>T5R9</dt>\n",
       "\t\t<dd>4522</dd>\n",
       "</dl>\n"
      ],
      "text/latex": [
       "\\begin{description*}\n",
       "\\item[T1R1] 1\n",
       "\\item[T1R4] 5\n",
       "\\item[T1R7] 5\n",
       "\\item[T2R1] 15284\n",
       "\\item[T2R4] 15245\n",
       "\\item[T2R5] 13983\n",
       "\\item[T2R7] 11441\n",
       "\\item[T2R9] 22513\n",
       "\\item[T3R1] 22161\n",
       "\\item[T3R4] 15343\n",
       "\\item[T3R5] 33787\n",
       "\\item[T3R7] 21855\n",
       "\\item[T3R9] 5877\n",
       "\\item[T4R1] 34868\n",
       "\\item[T4R4] 26305\n",
       "\\item[T4R5] 35341\n",
       "\\item[T4R7] 24463\n",
       "\\item[T4R9] 9453\n",
       "\\item[T5R1] 24793\n",
       "\\item[T5R4] 18362\n",
       "\\item[T5R5] 31652\n",
       "\\item[T5R7] 15401\n",
       "\\item[T5R9] 4522\n",
       "\\end{description*}\n"
      ],
      "text/markdown": [
       "T1R1\n",
       ":   1T1R4\n",
       ":   5T1R7\n",
       ":   5T2R1\n",
       ":   15284T2R4\n",
       ":   15245T2R5\n",
       ":   13983T2R7\n",
       ":   11441T2R9\n",
       ":   22513T3R1\n",
       ":   22161T3R4\n",
       ":   15343T3R5\n",
       ":   33787T3R7\n",
       ":   21855T3R9\n",
       ":   5877T4R1\n",
       ":   34868T4R4\n",
       ":   26305T4R5\n",
       ":   35341T4R7\n",
       ":   24463T4R9\n",
       ":   9453T5R1\n",
       ":   24793T5R4\n",
       ":   18362T5R5\n",
       ":   31652T5R7\n",
       ":   15401T5R9\n",
       ":   4522\n",
       "\n"
      ],
      "text/plain": [
       " T1R1  T1R4  T1R7  T2R1  T2R4  T2R5  T2R7  T2R9  T3R1  T3R4  T3R5  T3R7  T3R9 \n",
       "    1     5     5 15284 15245 13983 11441 22513 22161 15343 33787 21855  5877 \n",
       " T4R1  T4R4  T4R5  T4R7  T4R9  T5R1  T5R4  T5R5  T5R7  T5R9 \n",
       "34868 26305 35341 24463  9453 24793 18362 31652 15401  4522 "
      ]
     },
     "metadata": {},
     "output_type": "display_data"
    }
   ],
   "source": [
    "sample_sums(physeq.23s.genus)"
   ]
  },
  {
   "cell_type": "code",
   "execution_count": 7,
   "metadata": {
    "scrolled": true
   },
   "outputs": [
    {
     "data": {
      "text/html": [
       "<dl class=dl-horizontal>\n",
       "\t<dt>T1R1</dt>\n",
       "\t\t<dd>100</dd>\n",
       "\t<dt>T1R4</dt>\n",
       "\t\t<dd>100</dd>\n",
       "\t<dt>T1R7</dt>\n",
       "\t\t<dd>100</dd>\n",
       "\t<dt>T2R1</dt>\n",
       "\t\t<dd>100</dd>\n",
       "\t<dt>T2R4</dt>\n",
       "\t\t<dd>100</dd>\n",
       "\t<dt>T2R5</dt>\n",
       "\t\t<dd>100</dd>\n",
       "\t<dt>T2R7</dt>\n",
       "\t\t<dd>100</dd>\n",
       "\t<dt>T2R9</dt>\n",
       "\t\t<dd>100</dd>\n",
       "\t<dt>T3R1</dt>\n",
       "\t\t<dd>100</dd>\n",
       "\t<dt>T3R4</dt>\n",
       "\t\t<dd>100</dd>\n",
       "\t<dt>T3R5</dt>\n",
       "\t\t<dd>100</dd>\n",
       "\t<dt>T3R7</dt>\n",
       "\t\t<dd>100</dd>\n",
       "\t<dt>T3R9</dt>\n",
       "\t\t<dd>100</dd>\n",
       "\t<dt>T4R1</dt>\n",
       "\t\t<dd>100</dd>\n",
       "\t<dt>T4R4</dt>\n",
       "\t\t<dd>100</dd>\n",
       "\t<dt>T4R5</dt>\n",
       "\t\t<dd>100</dd>\n",
       "\t<dt>T4R7</dt>\n",
       "\t\t<dd>100</dd>\n",
       "\t<dt>T4R9</dt>\n",
       "\t\t<dd>100</dd>\n",
       "\t<dt>T5R1</dt>\n",
       "\t\t<dd>100</dd>\n",
       "\t<dt>T5R4</dt>\n",
       "\t\t<dd>100</dd>\n",
       "\t<dt>T5R5</dt>\n",
       "\t\t<dd>100</dd>\n",
       "\t<dt>T5R7</dt>\n",
       "\t\t<dd>100</dd>\n",
       "\t<dt>T5R9</dt>\n",
       "\t\t<dd>100</dd>\n",
       "</dl>\n"
      ],
      "text/latex": [
       "\\begin{description*}\n",
       "\\item[T1R1] 100\n",
       "\\item[T1R4] 100\n",
       "\\item[T1R7] 100\n",
       "\\item[T2R1] 100\n",
       "\\item[T2R4] 100\n",
       "\\item[T2R5] 100\n",
       "\\item[T2R7] 100\n",
       "\\item[T2R9] 100\n",
       "\\item[T3R1] 100\n",
       "\\item[T3R4] 100\n",
       "\\item[T3R5] 100\n",
       "\\item[T3R7] 100\n",
       "\\item[T3R9] 100\n",
       "\\item[T4R1] 100\n",
       "\\item[T4R4] 100\n",
       "\\item[T4R5] 100\n",
       "\\item[T4R7] 100\n",
       "\\item[T4R9] 100\n",
       "\\item[T5R1] 100\n",
       "\\item[T5R4] 100\n",
       "\\item[T5R5] 100\n",
       "\\item[T5R7] 100\n",
       "\\item[T5R9] 100\n",
       "\\end{description*}\n"
      ],
      "text/markdown": [
       "T1R1\n",
       ":   100T1R4\n",
       ":   100T1R7\n",
       ":   100T2R1\n",
       ":   100T2R4\n",
       ":   100T2R5\n",
       ":   100T2R7\n",
       ":   100T2R9\n",
       ":   100T3R1\n",
       ":   100T3R4\n",
       ":   100T3R5\n",
       ":   100T3R7\n",
       ":   100T3R9\n",
       ":   100T4R1\n",
       ":   100T4R4\n",
       ":   100T4R5\n",
       ":   100T4R7\n",
       ":   100T4R9\n",
       ":   100T5R1\n",
       ":   100T5R4\n",
       ":   100T5R5\n",
       ":   100T5R7\n",
       ":   100T5R9\n",
       ":   100\n",
       "\n"
      ],
      "text/plain": [
       "T1R1 T1R4 T1R7 T2R1 T2R4 T2R5 T2R7 T2R9 T3R1 T3R4 T3R5 T3R7 T3R9 T4R1 T4R4 T4R5 \n",
       " 100  100  100  100  100  100  100  100  100  100  100  100  100  100  100  100 \n",
       "T4R7 T4R9 T5R1 T5R4 T5R5 T5R7 T5R9 \n",
       " 100  100  100  100  100  100  100 "
      ]
     },
     "metadata": {},
     "output_type": "display_data"
    }
   ],
   "source": [
    "# convert to relative abundance\n",
    "p.23s.genus.rel = transform_sample_counts(physeq.23s.genus, function(x) 100 * x/sum(x))\n",
    "sample_sums(p.23s.genus.rel)"
   ]
  },
  {
   "cell_type": "markdown",
   "metadata": {},
   "source": [
    "## Relative, MDF"
   ]
  },
  {
   "cell_type": "code",
   "execution_count": 8,
   "metadata": {},
   "outputs": [
    {
     "data": {
      "text/plain": [
       "phyloseq-class experiment-level object\n",
       "otu_table()   OTU Table:         [ 16 taxa and 14 samples ]\n",
       "sample_data() Sample Data:       [ 14 samples by 11 sample variables ]\n",
       "tax_table()   Taxonomy Table:    [ 16 taxa by 7 taxonomic ranks ]\n",
       "phy_tree()    Phylogenetic Tree: [ 16 tips and 15 internal nodes ]"
      ]
     },
     "metadata": {},
     "output_type": "display_data"
    }
   ],
   "source": [
    "# reduce the name length: p.rel.mdf = p.23s.genus.rel.mdf\n",
    "p.rel.mdf = subset_samples(p.23s.genus.rel, Material == \"MDF\")\n",
    "# filter out features that are not present in all samples\n",
    "p.rel.mdf = prune_taxa(taxa_sums(p.rel.mdf) > 0, p.rel.mdf)\n",
    "# filter out fatures that are NA at Genus level\n",
    "p.rel.mdf = subset_taxa(p.rel.mdf, !Genus == \"g__unidentified\")\n",
    "p.rel.mdf"
   ]
  },
  {
   "cell_type": "code",
   "execution_count": 9,
   "metadata": {
    "scrolled": true
   },
   "outputs": [],
   "source": [
    "# log10(x+1) transformation\n",
    "rel.mdf = otu_table(p.rel.mdf)\n",
    "rel.mdf = log10(rel.mdf + 1)"
   ]
  },
  {
   "cell_type": "code",
   "execution_count": 10,
   "metadata": {},
   "outputs": [],
   "source": [
    "# combine feature table with taxonomy\n",
    "rel.mdf.w.taxa = cbind(rel.mdf, tax_table(p.rel.mdf))"
   ]
  },
  {
   "cell_type": "code",
   "execution_count": 11,
   "metadata": {
    "scrolled": true
   },
   "outputs": [
    {
     "data": {
      "text/html": [
       "<table>\n",
       "<caption>A matrix: 16 × 21 of type chr</caption>\n",
       "<thead>\n",
       "\t<tr><th></th><th scope=col>T1R1</th><th scope=col>T1R4</th><th scope=col>T2R1</th><th scope=col>T2R4</th><th scope=col>T2R5</th><th scope=col>T3R1</th><th scope=col>T3R4</th><th scope=col>T3R5</th><th scope=col>T4R1</th><th scope=col>T4R4</th><th scope=col>⋯</th><th scope=col>T5R1</th><th scope=col>T5R4</th><th scope=col>T5R5</th><th scope=col>Kingdom</th><th scope=col>Phylum</th><th scope=col>Class</th><th scope=col>Order</th><th scope=col>Family</th><th scope=col>Genus</th><th scope=col>Species</th></tr>\n",
       "</thead>\n",
       "<tbody>\n",
       "\t<tr><th scope=row>SH1726759.08FU_AF444541_refs</th><td>0               </td><td>0               </td><td>0                 </td><td>0                 </td><td>0                 </td><td>0.0135058699119286 </td><td>0                 </td><td>0.00637985562721551</td><td>0                 </td><td>0                  </td><td>⋯</td><td>0                  </td><td>0                 </td><td>0                  </td><td>k__Fungi</td><td>p__Basidiomycota</td><td>c__Microbotryomycetes</td><td>o__Sporidiobolales</td><td>f__Sporidiobolaceae               </td><td>g__Rhodotorula   </td><td>NA</td></tr>\n",
       "\t<tr><th scope=row>SH1725251.08FU_KJ706901_reps</th><td>0               </td><td>0               </td><td>0.0458029521415711</td><td>0                 </td><td>0                 </td><td>0.184110426023671  </td><td>0                 </td><td>0                  </td><td>0.0856347713715121</td><td>0                  </td><td>⋯</td><td>0.0588822020351915 </td><td>0                 </td><td>0                  </td><td>k__Fungi</td><td>p__Basidiomycota</td><td>c__Tremellomycetes   </td><td>o__Filobasidiales </td><td>f__Filobasidiaceae                </td><td>g__Naganishia    </td><td>NA</td></tr>\n",
       "\t<tr><th scope=row>SH1674913.08FU_AJ244232_refs</th><td>0               </td><td>0               </td><td>0.120770208493147 </td><td>0                 </td><td>0                 </td><td>0.0516726265398625 </td><td>0                 </td><td>0                  </td><td>0.0110676195463478</td><td>0                  </td><td>⋯</td><td>0                  </td><td>0                 </td><td>0                  </td><td>k__Fungi</td><td>p__Ascomycota   </td><td>c__Dothideomycetes   </td><td>o__Dothideales    </td><td>f__Aureobasidiaceae               </td><td>g__Aureobasidium </td><td>NA</td></tr>\n",
       "\t<tr><th scope=row>SH1676198.08FU_KF984792_refs</th><td>0               </td><td>0               </td><td>0                 </td><td>0                 </td><td>0.0152581730277434</td><td>0                  </td><td>0                 </td><td>0.00637985562721551</td><td>0                 </td><td>0.0130111054834352 </td><td>⋯</td><td>0                  </td><td>0.0252674851649617</td><td>0.00545397701352599</td><td>k__Fungi</td><td>p__Ascomycota   </td><td>c__Eurotiomycetes    </td><td>o__Eurotiales     </td><td>f__Trichocomaceae                 </td><td>g__Talaromyces   </td><td>NA</td></tr>\n",
       "\t<tr><th scope=row>SH1694434.08FU_EU037063_reps</th><td>0               </td><td>0               </td><td>0                 </td><td>0                 </td><td>0                 </td><td>0.00390186786956742</td><td>0                 </td><td>0                  </td><td>0.00618346458419  </td><td>0                  </td><td>⋯</td><td>0                  </td><td>0                 </td><td>0                  </td><td>k__Fungi</td><td>p__Ascomycota   </td><td>c__Eurotiomycetes    </td><td>o__Eurotiales     </td><td>f__Thermoascaceae                 </td><td>g__Byssochlamys  </td><td>NA</td></tr>\n",
       "\t<tr><th scope=row>SH1692811.08FU_FJ430773_reps</th><td>2.00432137378264</td><td>0               </td><td>1.80538362500547  </td><td>1.64504570801197  </td><td>1.76714392024534  </td><td>1.71289778653094   </td><td>1.5862228441217   </td><td>1.24939220876008   </td><td>1.48114145722001  </td><td>1.65856530619474   </td><td>⋯</td><td>1.63816598156585   </td><td>1.67518074753442  </td><td>1.15946942544332   </td><td>k__Fungi</td><td>p__Ascomycota   </td><td>c__Eurotiomycetes    </td><td>o__Eurotiales     </td><td>f__Aspergillaceae                 </td><td>g__Penicillium   </td><td>NA</td></tr>\n",
       "\t<tr><th scope=row>SH1695393.08FU_U65307_reps</th><td>0               </td><td>2.00432137378264</td><td>1.46166054243026  </td><td>1.68342277101389  </td><td>1.42608868012308  </td><td>1.59823199661568   </td><td>1.76960573350515  </td><td>1.86216552553796   </td><td>1.75123776072646  </td><td>1.70244134640345   </td><td>⋯</td><td>1.33572041179525   </td><td>1.57966283112818  </td><td>1.93148537591966   </td><td>k__Fungi</td><td>p__Ascomycota   </td><td>c__Eurotiomycetes    </td><td>o__Eurotiales     </td><td>f__Aspergillaceae                 </td><td>g__Aspergillus   </td><td>NA</td></tr>\n",
       "\t<tr><th scope=row>SH1685996.08FU_AJ292429_refs</th><td>0               </td><td>0               </td><td>0                 </td><td>0                 </td><td>0                 </td><td>0                  </td><td>0                 </td><td>0                  </td><td>0.00618346458419  </td><td>0                  </td><td>⋯</td><td>0.00695080626413703</td><td>0                 </td><td>0                  </td><td>k__Fungi</td><td>p__Ascomycota   </td><td>c__Sordariomycetes   </td><td>o__Hypocreales    </td><td>f__Cordycipitaceae                </td><td>g__Lecanicillium </td><td>NA</td></tr>\n",
       "\t<tr><th scope=row>SH1738712.08FU_MG372138_reps</th><td>0               </td><td>0               </td><td>0                 </td><td>0.778981346852762 </td><td>0.581802618821262 </td><td>0                  </td><td>0.588920427208572 </td><td>0.14044633624793   </td><td>0                 </td><td>0.1874703303748    </td><td>⋯</td><td>0                  </td><td>0.122792955802824 </td><td>0.211001103910464  </td><td>k__Fungi</td><td>p__Ascomycota   </td><td>c__Sordariomycetes   </td><td>o__Hypocreales    </td><td>f__Hypocreaceae                   </td><td>g__Trichoderma   </td><td>NA</td></tr>\n",
       "\t<tr><th scope=row>SH1744621.08FU_KC181928_reps</th><td>0               </td><td>0               </td><td>0.573037501809179 </td><td>0.609579360196959 </td><td>1.06386908038668  </td><td>0.283422469714102  </td><td>0.330532535268407 </td><td>0.986709580583822  </td><td>0.0668257775713755</td><td>0.287574445768126  </td><td>⋯</td><td>0.122774404634178  </td><td>0.269623305294267 </td><td>0.360248231833952  </td><td>k__Fungi</td><td>p__Ascomycota   </td><td>c__Dothideomycetes   </td><td>o__Capnodiales    </td><td>f__Cladosporiaceae                </td><td>g__Cladosporium  </td><td>NA</td></tr>\n",
       "\t<tr><th scope=row>SH1744611.08FU_EF679363_refs</th><td>0               </td><td>0               </td><td>0.157869686363085 </td><td>0.0966535482955656</td><td>0.198457714799054 </td><td>0                  </td><td>0.0507025431590544</td><td>0.302396782271594  </td><td>0                 </td><td>0                  </td><td>⋯</td><td>0                  </td><td>0                 </td><td>0                  </td><td>k__Fungi</td><td>p__Ascomycota   </td><td>c__Dothideomycetes   </td><td>o__Capnodiales    </td><td>f__Mycosphaerellaceae             </td><td>g__Mycosphaerella</td><td>NA</td></tr>\n",
       "\t<tr><th scope=row>SH1664258.08FU_LN808981_reps</th><td>0               </td><td>0               </td><td>0.103206372113079 </td><td>0                 </td><td>0.0580579418039985</td><td>0                  </td><td>0                 </td><td>0.0126673453840094 </td><td>0                 </td><td>0                  </td><td>⋯</td><td>0                  </td><td>0                 </td><td>0                  </td><td>k__Fungi</td><td>p__Ascomycota   </td><td>c__Dothideomycetes   </td><td>o__Pleosporales   </td><td>f__Pleosporales_fam_Incertae_sedis</td><td>g__Chalastospora </td><td>NA</td></tr>\n",
       "\t<tr><th scope=row>SH1688430.08FU_KC584249_refs</th><td>0               </td><td>0               </td><td>0.411082793748328 </td><td>0.032906449117274 </td><td>0.0740627430847738</td><td>0.0770168990464145 </td><td>0                 </td><td>0.0497405861610643 </td><td>0.018292381067268 </td><td>0                  </td><td>⋯</td><td>0                  </td><td>0                 </td><td>0                  </td><td>k__Fungi</td><td>p__Ascomycota   </td><td>c__Dothideomycetes   </td><td>o__Pleosporales   </td><td>f__Pleosporaceae                  </td><td>g__Alternaria    </td><td>NA</td></tr>\n",
       "\t<tr><th scope=row>SH1688498.08FU_KJ650604_reps</th><td>0               </td><td>0               </td><td>0.204645341810779 </td><td>0                 </td><td>0                 </td><td>0.035724319365293  </td><td>0                 </td><td>0                  </td><td>0                 </td><td>0                  </td><td>⋯</td><td>0.00695080626413703</td><td>0                 </td><td>0                  </td><td>k__Fungi</td><td>p__Ascomycota   </td><td>c__Dothideomycetes   </td><td>o__Pleosporales   </td><td>f__Pleosporaceae                  </td><td>g__Bipolaris     </td><td>NA</td></tr>\n",
       "\t<tr><th scope=row>SH1688806.08FU_KY788106_reps</th><td>0               </td><td>0               </td><td>0.068227632179623 </td><td>0                 </td><td>0.301293914819625 </td><td>0.035724319365293  </td><td>0                 </td><td>0.267040042888029  </td><td>0.041542124105127 </td><td>0.00655427617197823</td><td>⋯</td><td>0.0137921162727835 </td><td>0                 </td><td>0.0121765197897572 </td><td>k__Fungi</td><td>p__Ascomycota   </td><td>c__Dothideomycetes   </td><td>o__Pleosporales   </td><td>f__Pleosporaceae                  </td><td>g__Curvularia    </td><td>NA</td></tr>\n",
       "\t<tr><th scope=row>SH1800509.08FU_HM365253_refs</th><td>0               </td><td>0               </td><td>0.151902369592185 </td><td>0.0780164389992676</td><td>0                 </td><td>0.966717086649084  </td><td>0.116052441432649 </td><td>0.0709915621119954 </td><td>1.19370482330619  </td><td>0.729196206762692  </td><td>⋯</td><td>1.57030432541095   </td><td>1.21111454826189  </td><td>0.0528991845968311 </td><td>k__Fungi</td><td>p__Ascomycota   </td><td>c__Sordariomycetes   </td><td>o__Sordariales    </td><td>f__Chaetomiaceae                  </td><td>g__Chaetomium    </td><td>NA</td></tr>\n",
       "</tbody>\n",
       "</table>\n"
      ],
      "text/latex": [
       "A matrix: 16 × 21 of type chr\n",
       "\\begin{tabular}{r|lllllllllllllllllllll}\n",
       "  & T1R1 & T1R4 & T2R1 & T2R4 & T2R5 & T3R1 & T3R4 & T3R5 & T4R1 & T4R4 & T4R5 & T5R1 & T5R4 & T5R5 & Kingdom & Phylum & Class & Order & Family & Genus & Species\\\\\n",
       "\\hline\n",
       "\tSH1726759.08FU\\_AF444541\\_refs & 0                & 0                & 0                  & 0                  & 0                  & 0.0135058699119286  & 0                  & 0.00637985562721551 & 0                  & 0                   & 0                   & 0                   & 0                  & 0                   & k\\_\\_Fungi & p\\_\\_Basidiomycota & c\\_\\_Microbotryomycetes & o\\_\\_Sporidiobolales & f\\_\\_Sporidiobolaceae                & g\\_\\_Rhodotorula    & NA\\\\\n",
       "\tSH1725251.08FU\\_KJ706901\\_reps & 0                & 0                & 0.0458029521415711 & 0                  & 0                  & 0.184110426023671   & 0                  & 0                   & 0.0856347713715121 & 0                   & 0                   & 0.0588822020351915  & 0                  & 0                   & k\\_\\_Fungi & p\\_\\_Basidiomycota & c\\_\\_Tremellomycetes    & o\\_\\_Filobasidiales  & f\\_\\_Filobasidiaceae                 & g\\_\\_Naganishia     & NA\\\\\n",
       "\tSH1674913.08FU\\_AJ244232\\_refs & 0                & 0                & 0.120770208493147  & 0                  & 0                  & 0.0516726265398625  & 0                  & 0                   & 0.0110676195463478 & 0                   & 0                   & 0                   & 0                  & 0                   & k\\_\\_Fungi & p\\_\\_Ascomycota    & c\\_\\_Dothideomycetes    & o\\_\\_Dothideales     & f\\_\\_Aureobasidiaceae                & g\\_\\_Aureobasidium  & NA\\\\\n",
       "\tSH1676198.08FU\\_KF984792\\_refs & 0                & 0                & 0                  & 0                  & 0.0152581730277434 & 0                   & 0                  & 0.00637985562721551 & 0                  & 0.0130111054834352  & 0                   & 0                   & 0.0252674851649617 & 0.00545397701352599 & k\\_\\_Fungi & p\\_\\_Ascomycota    & c\\_\\_Eurotiomycetes     & o\\_\\_Eurotiales      & f\\_\\_Trichocomaceae                  & g\\_\\_Talaromyces    & NA\\\\\n",
       "\tSH1694434.08FU\\_EU037063\\_reps & 0                & 0                & 0                  & 0                  & 0                  & 0.00390186786956742 & 0                  & 0                   & 0.00618346458419   & 0                   & 0.00367104675395463 & 0                   & 0                  & 0                   & k\\_\\_Fungi & p\\_\\_Ascomycota    & c\\_\\_Eurotiomycetes     & o\\_\\_Eurotiales      & f\\_\\_Thermoascaceae                  & g\\_\\_Byssochlamys   & NA\\\\\n",
       "\tSH1692811.08FU\\_FJ430773\\_reps & 2.00432137378264 & 0                & 1.80538362500547   & 1.64504570801197   & 1.76714392024534   & 1.71289778653094    & 1.5862228441217    & 1.24939220876008    & 1.48114145722001   & 1.65856530619474    & 1.16809266863973    & 1.63816598156585    & 1.67518074753442   & 1.15946942544332    & k\\_\\_Fungi & p\\_\\_Ascomycota    & c\\_\\_Eurotiomycetes     & o\\_\\_Eurotiales      & f\\_\\_Aspergillaceae                  & g\\_\\_Penicillium    & NA\\\\\n",
       "\tSH1695393.08FU\\_U65307\\_reps & 0                & 2.00432137378264 & 1.46166054243026   & 1.68342277101389   & 1.42608868012308   & 1.59823199661568    & 1.76960573350515   & 1.86216552553796    & 1.75123776072646   & 1.70244134640345    & 1.92179941369762    & 1.33572041179525    & 1.57966283112818   & 1.93148537591966    & k\\_\\_Fungi & p\\_\\_Ascomycota    & c\\_\\_Eurotiomycetes     & o\\_\\_Eurotiales      & f\\_\\_Aspergillaceae                  & g\\_\\_Aspergillus    & NA\\\\\n",
       "\tSH1685996.08FU\\_AJ292429\\_refs & 0                & 0                & 0                  & 0                  & 0                  & 0                   & 0                  & 0                   & 0.00618346458419   & 0                   & 0                   & 0.00695080626413703 & 0                  & 0                   & k\\_\\_Fungi & p\\_\\_Ascomycota    & c\\_\\_Sordariomycetes    & o\\_\\_Hypocreales     & f\\_\\_Cordycipitaceae                 & g\\_\\_Lecanicillium  & NA\\\\\n",
       "\tSH1738712.08FU\\_MG372138\\_reps & 0                & 0                & 0                  & 0.778981346852762  & 0.581802618821262  & 0                   & 0.588920427208572  & 0.14044633624793    & 0                  & 0.1874703303748     & 0.570452020510202   & 0                   & 0.122792955802824  & 0.211001103910464   & k\\_\\_Fungi & p\\_\\_Ascomycota    & c\\_\\_Sordariomycetes    & o\\_\\_Hypocreales     & f\\_\\_Hypocreaceae                    & g\\_\\_Trichoderma    & NA\\\\\n",
       "\tSH1744621.08FU\\_KC181928\\_reps & 0                & 0                & 0.573037501809179  & 0.609579360196959  & 1.06386908038668   & 0.283422469714102   & 0.330532535268407  & 0.986709580583822   & 0.0668257775713755 & 0.287574445768126   & 0.230169082898625   & 0.122774404634178   & 0.269623305294267  & 0.360248231833952   & k\\_\\_Fungi & p\\_\\_Ascomycota    & c\\_\\_Dothideomycetes    & o\\_\\_Capnodiales     & f\\_\\_Cladosporiaceae                 & g\\_\\_Cladosporium   & NA\\\\\n",
       "\tSH1744611.08FU\\_EF679363\\_refs & 0                & 0                & 0.157869686363085  & 0.0966535482955656 & 0.198457714799054  & 0                   & 0.0507025431590544 & 0.302396782271594   & 0                  & 0                   & 0.0553093534790606  & 0                   & 0                  & 0                   & k\\_\\_Fungi & p\\_\\_Ascomycota    & c\\_\\_Dothideomycetes    & o\\_\\_Capnodiales     & f\\_\\_Mycosphaerellaceae              & g\\_\\_Mycosphaerella & NA\\\\\n",
       "\tSH1664258.08FU\\_LN808981\\_reps & 0                & 0                & 0.103206372113079  & 0                  & 0.0580579418039985 & 0                   & 0                  & 0.0126673453840094  & 0                  & 0                   & 0                   & 0                   & 0                  & 0                   & k\\_\\_Fungi & p\\_\\_Ascomycota    & c\\_\\_Dothideomycetes    & o\\_\\_Pleosporales    & f\\_\\_Pleosporales\\_fam\\_Incertae\\_sedis & g\\_\\_Chalastospora  & NA\\\\\n",
       "\tSH1688430.08FU\\_KC584249\\_refs & 0                & 0                & 0.411082793748328  & 0.032906449117274  & 0.0740627430847738 & 0.0770168990464145  & 0                  & 0.0497405861610643  & 0.018292381067268  & 0                   & 0                   & 0                   & 0                  & 0                   & k\\_\\_Fungi & p\\_\\_Ascomycota    & c\\_\\_Dothideomycetes    & o\\_\\_Pleosporales    & f\\_\\_Pleosporaceae                   & g\\_\\_Alternaria     & NA\\\\\n",
       "\tSH1688498.08FU\\_KJ650604\\_reps & 0                & 0                & 0.204645341810779  & 0                  & 0                  & 0.035724319365293   & 0                  & 0                   & 0                  & 0                   & 0                   & 0.00695080626413703 & 0                  & 0                   & k\\_\\_Fungi & p\\_\\_Ascomycota    & c\\_\\_Dothideomycetes    & o\\_\\_Pleosporales    & f\\_\\_Pleosporaceae                   & g\\_\\_Bipolaris      & NA\\\\\n",
       "\tSH1688806.08FU\\_KY788106\\_reps & 0                & 0                & 0.068227632179623  & 0                  & 0.301293914819625  & 0.035724319365293   & 0                  & 0.267040042888029   & 0.041542124105127  & 0.00655427617197823 & 0.0204038688331793  & 0.0137921162727835  & 0                  & 0.0121765197897572  & k\\_\\_Fungi & p\\_\\_Ascomycota    & c\\_\\_Dothideomycetes    & o\\_\\_Pleosporales    & f\\_\\_Pleosporaceae                   & g\\_\\_Curvularia     & NA\\\\\n",
       "\tSH1800509.08FU\\_HM365253\\_refs & 0                & 0                & 0.151902369592185  & 0.0780164389992676 & 0                  & 0.966717086649084   & 0.116052441432649  & 0.0709915621119954  & 1.19370482330619   & 0.729196206762692   & 0.0365158428014988  & 1.57030432541095    & 1.21111454826189   & 0.0528991845968311  & k\\_\\_Fungi & p\\_\\_Ascomycota    & c\\_\\_Sordariomycetes    & o\\_\\_Sordariales     & f\\_\\_Chaetomiaceae                   & g\\_\\_Chaetomium     & NA\\\\\n",
       "\\end{tabular}\n"
      ],
      "text/markdown": [
       "\n",
       "A matrix: 16 × 21 of type chr\n",
       "\n",
       "| <!--/--> | T1R1 | T1R4 | T2R1 | T2R4 | T2R5 | T3R1 | T3R4 | T3R5 | T4R1 | T4R4 | ⋯ | T5R1 | T5R4 | T5R5 | Kingdom | Phylum | Class | Order | Family | Genus | Species |\n",
       "|---|---|---|---|---|---|---|---|---|---|---|---|---|---|---|---|---|---|---|---|---|---|\n",
       "| SH1726759.08FU_AF444541_refs | 0                | 0                | 0                  | 0                  | 0                  | 0.0135058699119286  | 0                  | 0.00637985562721551 | 0                  | 0                   | ⋯ | 0                   | 0                  | 0                   | k__Fungi | p__Basidiomycota | c__Microbotryomycetes | o__Sporidiobolales | f__Sporidiobolaceae                | g__Rhodotorula    | NA |\n",
       "| SH1725251.08FU_KJ706901_reps | 0                | 0                | 0.0458029521415711 | 0                  | 0                  | 0.184110426023671   | 0                  | 0                   | 0.0856347713715121 | 0                   | ⋯ | 0.0588822020351915  | 0                  | 0                   | k__Fungi | p__Basidiomycota | c__Tremellomycetes    | o__Filobasidiales  | f__Filobasidiaceae                 | g__Naganishia     | NA |\n",
       "| SH1674913.08FU_AJ244232_refs | 0                | 0                | 0.120770208493147  | 0                  | 0                  | 0.0516726265398625  | 0                  | 0                   | 0.0110676195463478 | 0                   | ⋯ | 0                   | 0                  | 0                   | k__Fungi | p__Ascomycota    | c__Dothideomycetes    | o__Dothideales     | f__Aureobasidiaceae                | g__Aureobasidium  | NA |\n",
       "| SH1676198.08FU_KF984792_refs | 0                | 0                | 0                  | 0                  | 0.0152581730277434 | 0                   | 0                  | 0.00637985562721551 | 0                  | 0.0130111054834352  | ⋯ | 0                   | 0.0252674851649617 | 0.00545397701352599 | k__Fungi | p__Ascomycota    | c__Eurotiomycetes     | o__Eurotiales      | f__Trichocomaceae                  | g__Talaromyces    | NA |\n",
       "| SH1694434.08FU_EU037063_reps | 0                | 0                | 0                  | 0                  | 0                  | 0.00390186786956742 | 0                  | 0                   | 0.00618346458419   | 0                   | ⋯ | 0                   | 0                  | 0                   | k__Fungi | p__Ascomycota    | c__Eurotiomycetes     | o__Eurotiales      | f__Thermoascaceae                  | g__Byssochlamys   | NA |\n",
       "| SH1692811.08FU_FJ430773_reps | 2.00432137378264 | 0                | 1.80538362500547   | 1.64504570801197   | 1.76714392024534   | 1.71289778653094    | 1.5862228441217    | 1.24939220876008    | 1.48114145722001   | 1.65856530619474    | ⋯ | 1.63816598156585    | 1.67518074753442   | 1.15946942544332    | k__Fungi | p__Ascomycota    | c__Eurotiomycetes     | o__Eurotiales      | f__Aspergillaceae                  | g__Penicillium    | NA |\n",
       "| SH1695393.08FU_U65307_reps | 0                | 2.00432137378264 | 1.46166054243026   | 1.68342277101389   | 1.42608868012308   | 1.59823199661568    | 1.76960573350515   | 1.86216552553796    | 1.75123776072646   | 1.70244134640345    | ⋯ | 1.33572041179525    | 1.57966283112818   | 1.93148537591966    | k__Fungi | p__Ascomycota    | c__Eurotiomycetes     | o__Eurotiales      | f__Aspergillaceae                  | g__Aspergillus    | NA |\n",
       "| SH1685996.08FU_AJ292429_refs | 0                | 0                | 0                  | 0                  | 0                  | 0                   | 0                  | 0                   | 0.00618346458419   | 0                   | ⋯ | 0.00695080626413703 | 0                  | 0                   | k__Fungi | p__Ascomycota    | c__Sordariomycetes    | o__Hypocreales     | f__Cordycipitaceae                 | g__Lecanicillium  | NA |\n",
       "| SH1738712.08FU_MG372138_reps | 0                | 0                | 0                  | 0.778981346852762  | 0.581802618821262  | 0                   | 0.588920427208572  | 0.14044633624793    | 0                  | 0.1874703303748     | ⋯ | 0                   | 0.122792955802824  | 0.211001103910464   | k__Fungi | p__Ascomycota    | c__Sordariomycetes    | o__Hypocreales     | f__Hypocreaceae                    | g__Trichoderma    | NA |\n",
       "| SH1744621.08FU_KC181928_reps | 0                | 0                | 0.573037501809179  | 0.609579360196959  | 1.06386908038668   | 0.283422469714102   | 0.330532535268407  | 0.986709580583822   | 0.0668257775713755 | 0.287574445768126   | ⋯ | 0.122774404634178   | 0.269623305294267  | 0.360248231833952   | k__Fungi | p__Ascomycota    | c__Dothideomycetes    | o__Capnodiales     | f__Cladosporiaceae                 | g__Cladosporium   | NA |\n",
       "| SH1744611.08FU_EF679363_refs | 0                | 0                | 0.157869686363085  | 0.0966535482955656 | 0.198457714799054  | 0                   | 0.0507025431590544 | 0.302396782271594   | 0                  | 0                   | ⋯ | 0                   | 0                  | 0                   | k__Fungi | p__Ascomycota    | c__Dothideomycetes    | o__Capnodiales     | f__Mycosphaerellaceae              | g__Mycosphaerella | NA |\n",
       "| SH1664258.08FU_LN808981_reps | 0                | 0                | 0.103206372113079  | 0                  | 0.0580579418039985 | 0                   | 0                  | 0.0126673453840094  | 0                  | 0                   | ⋯ | 0                   | 0                  | 0                   | k__Fungi | p__Ascomycota    | c__Dothideomycetes    | o__Pleosporales    | f__Pleosporales_fam_Incertae_sedis | g__Chalastospora  | NA |\n",
       "| SH1688430.08FU_KC584249_refs | 0                | 0                | 0.411082793748328  | 0.032906449117274  | 0.0740627430847738 | 0.0770168990464145  | 0                  | 0.0497405861610643  | 0.018292381067268  | 0                   | ⋯ | 0                   | 0                  | 0                   | k__Fungi | p__Ascomycota    | c__Dothideomycetes    | o__Pleosporales    | f__Pleosporaceae                   | g__Alternaria     | NA |\n",
       "| SH1688498.08FU_KJ650604_reps | 0                | 0                | 0.204645341810779  | 0                  | 0                  | 0.035724319365293   | 0                  | 0                   | 0                  | 0                   | ⋯ | 0.00695080626413703 | 0                  | 0                   | k__Fungi | p__Ascomycota    | c__Dothideomycetes    | o__Pleosporales    | f__Pleosporaceae                   | g__Bipolaris      | NA |\n",
       "| SH1688806.08FU_KY788106_reps | 0                | 0                | 0.068227632179623  | 0                  | 0.301293914819625  | 0.035724319365293   | 0                  | 0.267040042888029   | 0.041542124105127  | 0.00655427617197823 | ⋯ | 0.0137921162727835  | 0                  | 0.0121765197897572  | k__Fungi | p__Ascomycota    | c__Dothideomycetes    | o__Pleosporales    | f__Pleosporaceae                   | g__Curvularia     | NA |\n",
       "| SH1800509.08FU_HM365253_refs | 0                | 0                | 0.151902369592185  | 0.0780164389992676 | 0                  | 0.966717086649084   | 0.116052441432649  | 0.0709915621119954  | 1.19370482330619   | 0.729196206762692   | ⋯ | 1.57030432541095    | 1.21111454826189   | 0.0528991845968311  | k__Fungi | p__Ascomycota    | c__Sordariomycetes    | o__Sordariales     | f__Chaetomiaceae                   | g__Chaetomium     | NA |\n",
       "\n"
      ],
      "text/plain": [
       "                             T1R1             T1R4            \n",
       "SH1726759.08FU_AF444541_refs 0                0               \n",
       "SH1725251.08FU_KJ706901_reps 0                0               \n",
       "SH1674913.08FU_AJ244232_refs 0                0               \n",
       "SH1676198.08FU_KF984792_refs 0                0               \n",
       "SH1694434.08FU_EU037063_reps 0                0               \n",
       "SH1692811.08FU_FJ430773_reps 2.00432137378264 0               \n",
       "SH1695393.08FU_U65307_reps   0                2.00432137378264\n",
       "SH1685996.08FU_AJ292429_refs 0                0               \n",
       "SH1738712.08FU_MG372138_reps 0                0               \n",
       "SH1744621.08FU_KC181928_reps 0                0               \n",
       "SH1744611.08FU_EF679363_refs 0                0               \n",
       "SH1664258.08FU_LN808981_reps 0                0               \n",
       "SH1688430.08FU_KC584249_refs 0                0               \n",
       "SH1688498.08FU_KJ650604_reps 0                0               \n",
       "SH1688806.08FU_KY788106_reps 0                0               \n",
       "SH1800509.08FU_HM365253_refs 0                0               \n",
       "                             T2R1               T2R4              \n",
       "SH1726759.08FU_AF444541_refs 0                  0                 \n",
       "SH1725251.08FU_KJ706901_reps 0.0458029521415711 0                 \n",
       "SH1674913.08FU_AJ244232_refs 0.120770208493147  0                 \n",
       "SH1676198.08FU_KF984792_refs 0                  0                 \n",
       "SH1694434.08FU_EU037063_reps 0                  0                 \n",
       "SH1692811.08FU_FJ430773_reps 1.80538362500547   1.64504570801197  \n",
       "SH1695393.08FU_U65307_reps   1.46166054243026   1.68342277101389  \n",
       "SH1685996.08FU_AJ292429_refs 0                  0                 \n",
       "SH1738712.08FU_MG372138_reps 0                  0.778981346852762 \n",
       "SH1744621.08FU_KC181928_reps 0.573037501809179  0.609579360196959 \n",
       "SH1744611.08FU_EF679363_refs 0.157869686363085  0.0966535482955656\n",
       "SH1664258.08FU_LN808981_reps 0.103206372113079  0                 \n",
       "SH1688430.08FU_KC584249_refs 0.411082793748328  0.032906449117274 \n",
       "SH1688498.08FU_KJ650604_reps 0.204645341810779  0                 \n",
       "SH1688806.08FU_KY788106_reps 0.068227632179623  0                 \n",
       "SH1800509.08FU_HM365253_refs 0.151902369592185  0.0780164389992676\n",
       "                             T2R5               T3R1               \n",
       "SH1726759.08FU_AF444541_refs 0                  0.0135058699119286 \n",
       "SH1725251.08FU_KJ706901_reps 0                  0.184110426023671  \n",
       "SH1674913.08FU_AJ244232_refs 0                  0.0516726265398625 \n",
       "SH1676198.08FU_KF984792_refs 0.0152581730277434 0                  \n",
       "SH1694434.08FU_EU037063_reps 0                  0.00390186786956742\n",
       "SH1692811.08FU_FJ430773_reps 1.76714392024534   1.71289778653094   \n",
       "SH1695393.08FU_U65307_reps   1.42608868012308   1.59823199661568   \n",
       "SH1685996.08FU_AJ292429_refs 0                  0                  \n",
       "SH1738712.08FU_MG372138_reps 0.581802618821262  0                  \n",
       "SH1744621.08FU_KC181928_reps 1.06386908038668   0.283422469714102  \n",
       "SH1744611.08FU_EF679363_refs 0.198457714799054  0                  \n",
       "SH1664258.08FU_LN808981_reps 0.0580579418039985 0                  \n",
       "SH1688430.08FU_KC584249_refs 0.0740627430847738 0.0770168990464145 \n",
       "SH1688498.08FU_KJ650604_reps 0                  0.035724319365293  \n",
       "SH1688806.08FU_KY788106_reps 0.301293914819625  0.035724319365293  \n",
       "SH1800509.08FU_HM365253_refs 0                  0.966717086649084  \n",
       "                             T3R4               T3R5               \n",
       "SH1726759.08FU_AF444541_refs 0                  0.00637985562721551\n",
       "SH1725251.08FU_KJ706901_reps 0                  0                  \n",
       "SH1674913.08FU_AJ244232_refs 0                  0                  \n",
       "SH1676198.08FU_KF984792_refs 0                  0.00637985562721551\n",
       "SH1694434.08FU_EU037063_reps 0                  0                  \n",
       "SH1692811.08FU_FJ430773_reps 1.5862228441217    1.24939220876008   \n",
       "SH1695393.08FU_U65307_reps   1.76960573350515   1.86216552553796   \n",
       "SH1685996.08FU_AJ292429_refs 0                  0                  \n",
       "SH1738712.08FU_MG372138_reps 0.588920427208572  0.14044633624793   \n",
       "SH1744621.08FU_KC181928_reps 0.330532535268407  0.986709580583822  \n",
       "SH1744611.08FU_EF679363_refs 0.0507025431590544 0.302396782271594  \n",
       "SH1664258.08FU_LN808981_reps 0                  0.0126673453840094 \n",
       "SH1688430.08FU_KC584249_refs 0                  0.0497405861610643 \n",
       "SH1688498.08FU_KJ650604_reps 0                  0                  \n",
       "SH1688806.08FU_KY788106_reps 0                  0.267040042888029  \n",
       "SH1800509.08FU_HM365253_refs 0.116052441432649  0.0709915621119954 \n",
       "                             T4R1               T4R4                ⋯\n",
       "SH1726759.08FU_AF444541_refs 0                  0                   ⋯\n",
       "SH1725251.08FU_KJ706901_reps 0.0856347713715121 0                   ⋯\n",
       "SH1674913.08FU_AJ244232_refs 0.0110676195463478 0                   ⋯\n",
       "SH1676198.08FU_KF984792_refs 0                  0.0130111054834352  ⋯\n",
       "SH1694434.08FU_EU037063_reps 0.00618346458419   0                   ⋯\n",
       "SH1692811.08FU_FJ430773_reps 1.48114145722001   1.65856530619474    ⋯\n",
       "SH1695393.08FU_U65307_reps   1.75123776072646   1.70244134640345    ⋯\n",
       "SH1685996.08FU_AJ292429_refs 0.00618346458419   0                   ⋯\n",
       "SH1738712.08FU_MG372138_reps 0                  0.1874703303748     ⋯\n",
       "SH1744621.08FU_KC181928_reps 0.0668257775713755 0.287574445768126   ⋯\n",
       "SH1744611.08FU_EF679363_refs 0                  0                   ⋯\n",
       "SH1664258.08FU_LN808981_reps 0                  0                   ⋯\n",
       "SH1688430.08FU_KC584249_refs 0.018292381067268  0                   ⋯\n",
       "SH1688498.08FU_KJ650604_reps 0                  0                   ⋯\n",
       "SH1688806.08FU_KY788106_reps 0.041542124105127  0.00655427617197823 ⋯\n",
       "SH1800509.08FU_HM365253_refs 1.19370482330619   0.729196206762692   ⋯\n",
       "                             T5R1                T5R4              \n",
       "SH1726759.08FU_AF444541_refs 0                   0                 \n",
       "SH1725251.08FU_KJ706901_reps 0.0588822020351915  0                 \n",
       "SH1674913.08FU_AJ244232_refs 0                   0                 \n",
       "SH1676198.08FU_KF984792_refs 0                   0.0252674851649617\n",
       "SH1694434.08FU_EU037063_reps 0                   0                 \n",
       "SH1692811.08FU_FJ430773_reps 1.63816598156585    1.67518074753442  \n",
       "SH1695393.08FU_U65307_reps   1.33572041179525    1.57966283112818  \n",
       "SH1685996.08FU_AJ292429_refs 0.00695080626413703 0                 \n",
       "SH1738712.08FU_MG372138_reps 0                   0.122792955802824 \n",
       "SH1744621.08FU_KC181928_reps 0.122774404634178   0.269623305294267 \n",
       "SH1744611.08FU_EF679363_refs 0                   0                 \n",
       "SH1664258.08FU_LN808981_reps 0                   0                 \n",
       "SH1688430.08FU_KC584249_refs 0                   0                 \n",
       "SH1688498.08FU_KJ650604_reps 0.00695080626413703 0                 \n",
       "SH1688806.08FU_KY788106_reps 0.0137921162727835  0                 \n",
       "SH1800509.08FU_HM365253_refs 1.57030432541095    1.21111454826189  \n",
       "                             T5R5                Kingdom  Phylum          \n",
       "SH1726759.08FU_AF444541_refs 0                   k__Fungi p__Basidiomycota\n",
       "SH1725251.08FU_KJ706901_reps 0                   k__Fungi p__Basidiomycota\n",
       "SH1674913.08FU_AJ244232_refs 0                   k__Fungi p__Ascomycota   \n",
       "SH1676198.08FU_KF984792_refs 0.00545397701352599 k__Fungi p__Ascomycota   \n",
       "SH1694434.08FU_EU037063_reps 0                   k__Fungi p__Ascomycota   \n",
       "SH1692811.08FU_FJ430773_reps 1.15946942544332    k__Fungi p__Ascomycota   \n",
       "SH1695393.08FU_U65307_reps   1.93148537591966    k__Fungi p__Ascomycota   \n",
       "SH1685996.08FU_AJ292429_refs 0                   k__Fungi p__Ascomycota   \n",
       "SH1738712.08FU_MG372138_reps 0.211001103910464   k__Fungi p__Ascomycota   \n",
       "SH1744621.08FU_KC181928_reps 0.360248231833952   k__Fungi p__Ascomycota   \n",
       "SH1744611.08FU_EF679363_refs 0                   k__Fungi p__Ascomycota   \n",
       "SH1664258.08FU_LN808981_reps 0                   k__Fungi p__Ascomycota   \n",
       "SH1688430.08FU_KC584249_refs 0                   k__Fungi p__Ascomycota   \n",
       "SH1688498.08FU_KJ650604_reps 0                   k__Fungi p__Ascomycota   \n",
       "SH1688806.08FU_KY788106_reps 0.0121765197897572  k__Fungi p__Ascomycota   \n",
       "SH1800509.08FU_HM365253_refs 0.0528991845968311  k__Fungi p__Ascomycota   \n",
       "                             Class                 Order             \n",
       "SH1726759.08FU_AF444541_refs c__Microbotryomycetes o__Sporidiobolales\n",
       "SH1725251.08FU_KJ706901_reps c__Tremellomycetes    o__Filobasidiales \n",
       "SH1674913.08FU_AJ244232_refs c__Dothideomycetes    o__Dothideales    \n",
       "SH1676198.08FU_KF984792_refs c__Eurotiomycetes     o__Eurotiales     \n",
       "SH1694434.08FU_EU037063_reps c__Eurotiomycetes     o__Eurotiales     \n",
       "SH1692811.08FU_FJ430773_reps c__Eurotiomycetes     o__Eurotiales     \n",
       "SH1695393.08FU_U65307_reps   c__Eurotiomycetes     o__Eurotiales     \n",
       "SH1685996.08FU_AJ292429_refs c__Sordariomycetes    o__Hypocreales    \n",
       "SH1738712.08FU_MG372138_reps c__Sordariomycetes    o__Hypocreales    \n",
       "SH1744621.08FU_KC181928_reps c__Dothideomycetes    o__Capnodiales    \n",
       "SH1744611.08FU_EF679363_refs c__Dothideomycetes    o__Capnodiales    \n",
       "SH1664258.08FU_LN808981_reps c__Dothideomycetes    o__Pleosporales   \n",
       "SH1688430.08FU_KC584249_refs c__Dothideomycetes    o__Pleosporales   \n",
       "SH1688498.08FU_KJ650604_reps c__Dothideomycetes    o__Pleosporales   \n",
       "SH1688806.08FU_KY788106_reps c__Dothideomycetes    o__Pleosporales   \n",
       "SH1800509.08FU_HM365253_refs c__Sordariomycetes    o__Sordariales    \n",
       "                             Family                            \n",
       "SH1726759.08FU_AF444541_refs f__Sporidiobolaceae               \n",
       "SH1725251.08FU_KJ706901_reps f__Filobasidiaceae                \n",
       "SH1674913.08FU_AJ244232_refs f__Aureobasidiaceae               \n",
       "SH1676198.08FU_KF984792_refs f__Trichocomaceae                 \n",
       "SH1694434.08FU_EU037063_reps f__Thermoascaceae                 \n",
       "SH1692811.08FU_FJ430773_reps f__Aspergillaceae                 \n",
       "SH1695393.08FU_U65307_reps   f__Aspergillaceae                 \n",
       "SH1685996.08FU_AJ292429_refs f__Cordycipitaceae                \n",
       "SH1738712.08FU_MG372138_reps f__Hypocreaceae                   \n",
       "SH1744621.08FU_KC181928_reps f__Cladosporiaceae                \n",
       "SH1744611.08FU_EF679363_refs f__Mycosphaerellaceae             \n",
       "SH1664258.08FU_LN808981_reps f__Pleosporales_fam_Incertae_sedis\n",
       "SH1688430.08FU_KC584249_refs f__Pleosporaceae                  \n",
       "SH1688498.08FU_KJ650604_reps f__Pleosporaceae                  \n",
       "SH1688806.08FU_KY788106_reps f__Pleosporaceae                  \n",
       "SH1800509.08FU_HM365253_refs f__Chaetomiaceae                  \n",
       "                             Genus             Species\n",
       "SH1726759.08FU_AF444541_refs g__Rhodotorula    NA     \n",
       "SH1725251.08FU_KJ706901_reps g__Naganishia     NA     \n",
       "SH1674913.08FU_AJ244232_refs g__Aureobasidium  NA     \n",
       "SH1676198.08FU_KF984792_refs g__Talaromyces    NA     \n",
       "SH1694434.08FU_EU037063_reps g__Byssochlamys   NA     \n",
       "SH1692811.08FU_FJ430773_reps g__Penicillium    NA     \n",
       "SH1695393.08FU_U65307_reps   g__Aspergillus    NA     \n",
       "SH1685996.08FU_AJ292429_refs g__Lecanicillium  NA     \n",
       "SH1738712.08FU_MG372138_reps g__Trichoderma    NA     \n",
       "SH1744621.08FU_KC181928_reps g__Cladosporium   NA     \n",
       "SH1744611.08FU_EF679363_refs g__Mycosphaerella NA     \n",
       "SH1664258.08FU_LN808981_reps g__Chalastospora  NA     \n",
       "SH1688430.08FU_KC584249_refs g__Alternaria     NA     \n",
       "SH1688498.08FU_KJ650604_reps g__Bipolaris      NA     \n",
       "SH1688806.08FU_KY788106_reps g__Curvularia     NA     \n",
       "SH1800509.08FU_HM365253_refs g__Chaetomium     NA     "
      ]
     },
     "metadata": {},
     "output_type": "display_data"
    }
   ],
   "source": [
    "rel.mdf.w.taxa"
   ]
  },
  {
   "cell_type": "code",
   "execution_count": 12,
   "metadata": {},
   "outputs": [],
   "source": [
    "# Pearson correlation\n",
    "cor.rel.mdf = rcorr(t(rel.mdf), type='pearson')"
   ]
  },
  {
   "cell_type": "code",
   "execution_count": 16,
   "metadata": {},
   "outputs": [
    {
     "data": {
      "text/html": [
       "15"
      ],
      "text/latex": [
       "15"
      ],
      "text/markdown": [
       "15"
      ],
      "text/plain": [
       "[1] 15"
      ]
     },
     "metadata": {},
     "output_type": "display_data"
    }
   ],
   "source": [
    "# extract significant values: abs(r)>0.3 & P < 0.05\n",
    "indices.r.m = which(abs(cor.rel.mdf$r) > 0.3 & cor.rel.mdf$P < 0.05 & lower.tri(cor.rel.mdf$r),arr.ind=TRUE)\n",
    "# order index by row, in the same order as graph edges\n",
    "indices.r.m.by.row = indices.r.m[order(indices.r.m[,1]),]\n",
    "\n",
    "sig.rel.mdf = cor.rel.mdf$r[indices.r.m.by.row]\n",
    "length(sig.rel.mdf)"
   ]
  },
  {
   "cell_type": "code",
   "execution_count": 17,
   "metadata": {},
   "outputs": [
    {
     "data": {
      "text/html": [
       "<ol class=list-inline>\n",
       "\t<li>0.73014344573466</li>\n",
       "\t<li>0.627786873294405</li>\n",
       "\t<li>-0.573503680462659</li>\n",
       "\t<li>0.899434869231833</li>\n",
       "\t<li>0.759102604968473</li>\n",
       "\t<li>0.556727916698619</li>\n",
       "\t<li>0.943394017108573</li>\n",
       "\t<li>0.912437744192771</li>\n",
       "\t<li>0.967058430933863</li>\n",
       "\t<li>0.835280354775989</li>\n",
       "\t<li>0.975447761606414</li>\n",
       "\t<li>0.849893762436168</li>\n",
       "\t<li>0.855720850227922</li>\n",
       "\t<li>0.548803086662982</li>\n",
       "\t<li>0.712253135310324</li>\n",
       "</ol>\n"
      ],
      "text/latex": [
       "\\begin{enumerate*}\n",
       "\\item 0.73014344573466\n",
       "\\item 0.627786873294405\n",
       "\\item -0.573503680462659\n",
       "\\item 0.899434869231833\n",
       "\\item 0.759102604968473\n",
       "\\item 0.556727916698619\n",
       "\\item 0.943394017108573\n",
       "\\item 0.912437744192771\n",
       "\\item 0.967058430933863\n",
       "\\item 0.835280354775989\n",
       "\\item 0.975447761606414\n",
       "\\item 0.849893762436168\n",
       "\\item 0.855720850227922\n",
       "\\item 0.548803086662982\n",
       "\\item 0.712253135310324\n",
       "\\end{enumerate*}\n"
      ],
      "text/markdown": [
       "1. 0.73014344573466\n",
       "2. 0.627786873294405\n",
       "3. -0.573503680462659\n",
       "4. 0.899434869231833\n",
       "5. 0.759102604968473\n",
       "6. 0.556727916698619\n",
       "7. 0.943394017108573\n",
       "8. 0.912437744192771\n",
       "9. 0.967058430933863\n",
       "10. 0.835280354775989\n",
       "11. 0.975447761606414\n",
       "12. 0.849893762436168\n",
       "13. 0.855720850227922\n",
       "14. 0.548803086662982\n",
       "15. 0.712253135310324\n",
       "\n",
       "\n"
      ],
      "text/plain": [
       " [1]  0.7301434  0.6277869 -0.5735037  0.8994349  0.7591026  0.5567279\n",
       " [7]  0.9433940  0.9124377  0.9670584  0.8352804  0.9754478  0.8498938\n",
       "[13]  0.8557209  0.5488031  0.7122531"
      ]
     },
     "metadata": {},
     "output_type": "display_data"
    }
   ],
   "source": [
    "sig.rel.mdf"
   ]
  },
  {
   "cell_type": "code",
   "execution_count": 18,
   "metadata": {},
   "outputs": [],
   "source": [
    "# set all other values to 0 because we only want to show significant edges on a correlation plot\n",
    "cor.rel.mdf$r[which(abs(cor.rel.mdf$r) <= 0.3 & lower.tri(cor.rel.mdf$r), arr.ind=TRUE)]=0\n",
    "cor.rel.mdf$r[which(cor.rel.mdf$P >= 0.05 & lower.tri(cor.rel.mdf$r), arr.ind=TRUE)]=0"
   ]
  },
  {
   "cell_type": "code",
   "execution_count": 19,
   "metadata": {},
   "outputs": [],
   "source": [
    "# show vertex label in Genus level\n",
    "v.names.r.m = rel.mdf.w.taxa[,20]"
   ]
  },
  {
   "cell_type": "code",
   "execution_count": 20,
   "metadata": {},
   "outputs": [],
   "source": [
    "# color vertex according to Order level\n",
    "colourCount = length(unique(rel.mdf.w.taxa[,18]))\n",
    "getPalette = colorRampPalette(brewer.pal(8, \"Set2\"))\n",
    "col.r.m = getPalette(colourCount)\n",
    "my_color.r.m = col.r.m[as.numeric(as.factor(rel.mdf.w.taxa[,18]))]"
   ]
  },
  {
   "cell_type": "code",
   "execution_count": 22,
   "metadata": {},
   "outputs": [
    {
     "data": {
      "text/html": [
       "<strong>pdf:</strong> 2"
      ],
      "text/latex": [
       "\\textbf{pdf:} 2"
      ],
      "text/markdown": [
       "**pdf:** 2"
      ],
      "text/plain": [
       "pdf \n",
       "  2 "
      ]
     },
     "metadata": {},
     "output_type": "display_data"
    }
   ],
   "source": [
    "# create network graph from correlation matrix\n",
    "nw.rel.mdf <- graph_from_adjacency_matrix(cor.rel.mdf$r, weighted=T, mode=\"lower\", diag=F)\n",
    "# only show vertexes that have significant values\n",
    "V(nw.rel.mdf)$name = v.names.r.m\n",
    "V(nw.rel.mdf)$size = degree(nw.rel.mdf)\n",
    "E(nw.rel.mdf)$values = sig.rel.mdf\n",
    "# red for negative correlation, green for positive correlation\n",
    "E(nw.rel.mdf)$color = ifelse(E(nw.rel.mdf)$values > 0,'#00FF00','#FF0000')\n",
    "\n",
    "par(bg=\"white\", mar=c(0,0,0,0))\n",
    "set.seed(123)\n",
    "pdf('rel_mdf_correlation.pdf', width=20, height=20)\n",
    "l.r.m <- layout_with_graphopt(nw.rel.mdf)\n",
    "plot.igraph(nw.rel.mdf,\n",
    "            layout=l.r.m, \n",
    "            vertex.label.cex=0.9,\n",
    "            vertex.color=my_color.r.m)\n",
    "legend(x=\"topleft\", legend=levels(as.factor(rel.mdf.w.taxa[,18])), col = col.r.m, pch=20, cex = 2, text.col=\"black\", horiz = F)\n",
    "dev.off()"
   ]
  },
  {
   "cell_type": "markdown",
   "metadata": {},
   "source": [
    "## Quantitative, MDF"
   ]
  },
  {
   "cell_type": "code",
   "execution_count": 23,
   "metadata": {},
   "outputs": [],
   "source": [
    "# using previous objects, and convert relative abundance to quantitative abundance\n",
    "#sample_data(p.rel.mdf)\n",
    "count.mdf = as.data.frame(sample_data(p.rel.mdf))$Counts\n",
    "p.quan.mdf = p.rel.mdf\n",
    "otu_table(p.quan.mdf) = rel_to_quan(p.quan.mdf, count.mdf)"
   ]
  },
  {
   "cell_type": "code",
   "execution_count": 24,
   "metadata": {
    "scrolled": true
   },
   "outputs": [
    {
     "data": {
      "text/html": [
       "<table>\n",
       "<caption>A otu_table: 16 × 14 of type dbl</caption>\n",
       "<thead>\n",
       "\t<tr><th></th><th scope=col>T1R1</th><th scope=col>T1R4</th><th scope=col>T2R1</th><th scope=col>T2R4</th><th scope=col>T2R5</th><th scope=col>T3R1</th><th scope=col>T3R4</th><th scope=col>T3R5</th><th scope=col>T4R1</th><th scope=col>T4R4</th><th scope=col>T4R5</th><th scope=col>T5R1</th><th scope=col>T5R4</th><th scope=col>T5R5</th></tr>\n",
       "</thead>\n",
       "<tbody>\n",
       "\t<tr><th scope=row>SH1726759.08FU_AF444541_refs</th><td>   0.000</td><td>  0.0000</td><td>   0.000000</td><td>   0.00000</td><td>   0.0000000</td><td>  0.10865936</td><td> 0.0000000</td><td> 0.01166622</td><td> 0.00000000</td><td> 0.00000000</td><td>  0.00000000</td><td>  0.0000000</td><td>  0.0000000</td><td>  0.00000000</td></tr>\n",
       "\t<tr><th scope=row>SH1725251.08FU_KJ706901_reps</th><td>   0.000</td><td>  0.0000</td><td>   2.869668</td><td>   0.00000</td><td>   0.0000000</td><td>  1.81616353</td><td> 0.0000000</td><td> 0.00000000</td><td> 0.37489962</td><td> 0.00000000</td><td>  0.00000000</td><td>  2.8721010</td><td>  0.0000000</td><td>  0.00000000</td></tr>\n",
       "\t<tr><th scope=row>SH1674913.08FU_AJ244232_refs</th><td>   0.000</td><td>  0.0000</td><td>   8.271395</td><td>   0.00000</td><td>   0.0000000</td><td>  0.43463743</td><td> 0.0000000</td><td> 0.00000000</td><td> 0.04439601</td><td> 0.00000000</td><td>  0.00000000</td><td>  0.0000000</td><td>  0.0000000</td><td>  0.00000000</td></tr>\n",
       "\t<tr><th scope=row>SH1676198.08FU_KF984792_refs</th><td>   0.000</td><td>  0.0000</td><td>   0.000000</td><td>   0.00000</td><td>   0.8033863</td><td>  0.00000000</td><td> 0.0000000</td><td> 0.01166622</td><td> 0.00000000</td><td> 0.05230945</td><td>  0.00000000</td><td>  0.0000000</td><td>  0.1545583</td><td>  0.04981254</td></tr>\n",
       "\t<tr><th scope=row>SH1694434.08FU_EU037063_reps</th><td>   0.000</td><td>  0.0000</td><td>   0.000000</td><td>   0.00000</td><td>   0.0000000</td><td>  0.03104553</td><td> 0.0000000</td><td> 0.00000000</td><td> 0.02466445</td><td> 0.00000000</td><td>  0.02555106</td><td>  0.0000000</td><td>  0.0000000</td><td>  0.00000000</td></tr>\n",
       "\t<tr><th scope=row>SH1692811.08FU_FJ430773_reps</th><td>2398.786</td><td>  0.0000</td><td>1622.375033</td><td>1243.48836</td><td>1291.8450976</td><td>174.16542575</td><td>32.3081536</td><td>13.21083059</td><td>50.35987152</td><td>76.63987835</td><td> 41.31606350</td><td>840.0097608</td><td>119.5438405</td><td> 52.96318826</td></tr>\n",
       "\t<tr><th scope=row>SH1695393.08FU_U65307_reps</th><td>   0.000</td><td>157.6667</td><td> 721.130594</td><td>1361.03391</td><td> 576.8313309</td><td>132.95248409</td><td>49.7346021</td><td>56.60684580</td><td>95.27876563</td><td>84.97015776</td><td>248.39036813</td><td>408.7159279</td><td> 95.4327415</td><td>332.69798672</td></tr>\n",
       "\t<tr><th scope=row>SH1685996.08FU_AJ292429_refs</th><td>   0.000</td><td>  0.0000</td><td>   0.000000</td><td>   0.00000</td><td>   0.0000000</td><td>  0.00000000</td><td> 0.0000000</td><td> 0.00000000</td><td> 0.02466445</td><td> 0.00000000</td><td>  0.00000000</td><td>  0.3191223</td><td>  0.0000000</td><td>  0.00000000</td></tr>\n",
       "\t<tr><th scope=row>SH1738712.08FU_MG372138_reps</th><td>   0.000</td><td>  0.0000</td><td>   0.000000</td><td> 144.38071</td><td>  63.3068369</td><td>  0.00000000</td><td> 2.4774816</td><td> 0.30098855</td><td> 0.00000000</td><td> 0.92849268</td><td>  8.18485612</td><td>  0.0000000</td><td>  0.8430454</td><td>  2.46572097</td></tr>\n",
       "\t<tr><th scope=row>SH1744621.08FU_KC181928_reps</th><td>   0.000</td><td>  0.0000</td><td>  70.728867</td><td>  88.44264</td><td> 237.8023314</td><td>  3.16664410</td><td> 0.9809033</td><td> 6.85740571</td><td> 0.28610761</td><td> 1.61505417</td><td>  2.10370391</td><td>  6.4622272</td><td>  2.2200196</td><td>  5.09333271</td></tr>\n",
       "\t<tr><th scope=row>SH1744611.08FU_EF679363_refs</th><td>   0.000</td><td>  0.0000</td><td>  11.309867</td><td>   7.18124</td><td>  13.0148573</td><td>  0.00000000</td><td> 0.1064981</td><td> 0.79330314</td><td> 0.00000000</td><td> 0.00000000</td><td>  0.40881695</td><td>  0.0000000</td><td>  0.0000000</td><td>  0.00000000</td></tr>\n",
       "\t<tr><th scope=row>SH1664258.08FU_LN808981_reps</th><td>   0.000</td><td>  0.0000</td><td>   6.920963</td><td>   0.00000</td><td>   3.2135450</td><td>  0.00000000</td><td> 0.0000000</td><td> 0.02333245</td><td> 0.00000000</td><td> 0.00000000</td><td>  0.00000000</td><td>  0.0000000</td><td>  0.0000000</td><td>  0.00000000</td></tr>\n",
       "\t<tr><th scope=row>SH1688430.08FU_KC584249_refs</th><td>   0.000</td><td>  0.0000</td><td>  40.681759</td><td>   2.26776</td><td>   4.1776085</td><td>  0.66747890</td><td> 0.0000000</td><td> 0.09566303</td><td> 0.07399335</td><td> 0.00000000</td><td>  0.00000000</td><td>  0.0000000</td><td>  0.0000000</td><td>  0.00000000</td></tr>\n",
       "\t<tr><th scope=row>SH1688498.08FU_KJ650604_reps</th><td>   0.000</td><td>  0.0000</td><td>  15.529966</td><td>   0.00000</td><td>   0.0000000</td><td>  0.29493254</td><td> 0.0000000</td><td> 0.00000000</td><td> 0.00000000</td><td> 0.00000000</td><td>  0.00000000</td><td>  0.3191223</td><td>  0.0000000</td><td>  0.00000000</td></tr>\n",
       "\t<tr><th scope=row>SH1688806.08FU_KY788106_reps</th><td>   0.000</td><td>  0.0000</td><td>   4.388903</td><td>   0.00000</td><td>  22.4948151</td><td>  0.29493254</td><td> 0.0000000</td><td> 0.66964118</td><td> 0.17265114</td><td> 0.02615472</td><td>  0.14478934</td><td>  0.6382447</td><td>  0.0000000</td><td>  0.11207823</td></tr>\n",
       "\t<tr><th scope=row>SH1800509.08FU_HM365253_refs</th><td>   0.000</td><td>  0.0000</td><td>  10.803455</td><td>   5.66940</td><td>   0.0000000</td><td> 28.42218311</td><td> 0.2634426</td><td> 0.13999467</td><td>25.14787197</td><td> 7.49986695</td><td>  0.26402762</td><td>715.6318316</td><td> 39.3702211</td><td>  0.51057858</td></tr>\n",
       "</tbody>\n",
       "</table>\n"
      ],
      "text/latex": [
       "A otu_table: 16 × 14 of type dbl\n",
       "\\begin{tabular}{r|llllllllllllll}\n",
       "  & T1R1 & T1R4 & T2R1 & T2R4 & T2R5 & T3R1 & T3R4 & T3R5 & T4R1 & T4R4 & T4R5 & T5R1 & T5R4 & T5R5\\\\\n",
       "\\hline\n",
       "\tSH1726759.08FU\\_AF444541\\_refs &    0.000 &   0.0000 &    0.000000 &    0.00000 &    0.0000000 &   0.10865936 &  0.0000000 &  0.01166622 &  0.00000000 &  0.00000000 &   0.00000000 &   0.0000000 &   0.0000000 &   0.00000000\\\\\n",
       "\tSH1725251.08FU\\_KJ706901\\_reps &    0.000 &   0.0000 &    2.869668 &    0.00000 &    0.0000000 &   1.81616353 &  0.0000000 &  0.00000000 &  0.37489962 &  0.00000000 &   0.00000000 &   2.8721010 &   0.0000000 &   0.00000000\\\\\n",
       "\tSH1674913.08FU\\_AJ244232\\_refs &    0.000 &   0.0000 &    8.271395 &    0.00000 &    0.0000000 &   0.43463743 &  0.0000000 &  0.00000000 &  0.04439601 &  0.00000000 &   0.00000000 &   0.0000000 &   0.0000000 &   0.00000000\\\\\n",
       "\tSH1676198.08FU\\_KF984792\\_refs &    0.000 &   0.0000 &    0.000000 &    0.00000 &    0.8033863 &   0.00000000 &  0.0000000 &  0.01166622 &  0.00000000 &  0.05230945 &   0.00000000 &   0.0000000 &   0.1545583 &   0.04981254\\\\\n",
       "\tSH1694434.08FU\\_EU037063\\_reps &    0.000 &   0.0000 &    0.000000 &    0.00000 &    0.0000000 &   0.03104553 &  0.0000000 &  0.00000000 &  0.02466445 &  0.00000000 &   0.02555106 &   0.0000000 &   0.0000000 &   0.00000000\\\\\n",
       "\tSH1692811.08FU\\_FJ430773\\_reps & 2398.786 &   0.0000 & 1622.375033 & 1243.48836 & 1291.8450976 & 174.16542575 & 32.3081536 & 13.21083059 & 50.35987152 & 76.63987835 &  41.31606350 & 840.0097608 & 119.5438405 &  52.96318826\\\\\n",
       "\tSH1695393.08FU\\_U65307\\_reps &    0.000 & 157.6667 &  721.130594 & 1361.03391 &  576.8313309 & 132.95248409 & 49.7346021 & 56.60684580 & 95.27876563 & 84.97015776 & 248.39036813 & 408.7159279 &  95.4327415 & 332.69798672\\\\\n",
       "\tSH1685996.08FU\\_AJ292429\\_refs &    0.000 &   0.0000 &    0.000000 &    0.00000 &    0.0000000 &   0.00000000 &  0.0000000 &  0.00000000 &  0.02466445 &  0.00000000 &   0.00000000 &   0.3191223 &   0.0000000 &   0.00000000\\\\\n",
       "\tSH1738712.08FU\\_MG372138\\_reps &    0.000 &   0.0000 &    0.000000 &  144.38071 &   63.3068369 &   0.00000000 &  2.4774816 &  0.30098855 &  0.00000000 &  0.92849268 &   8.18485612 &   0.0000000 &   0.8430454 &   2.46572097\\\\\n",
       "\tSH1744621.08FU\\_KC181928\\_reps &    0.000 &   0.0000 &   70.728867 &   88.44264 &  237.8023314 &   3.16664410 &  0.9809033 &  6.85740571 &  0.28610761 &  1.61505417 &   2.10370391 &   6.4622272 &   2.2200196 &   5.09333271\\\\\n",
       "\tSH1744611.08FU\\_EF679363\\_refs &    0.000 &   0.0000 &   11.309867 &    7.18124 &   13.0148573 &   0.00000000 &  0.1064981 &  0.79330314 &  0.00000000 &  0.00000000 &   0.40881695 &   0.0000000 &   0.0000000 &   0.00000000\\\\\n",
       "\tSH1664258.08FU\\_LN808981\\_reps &    0.000 &   0.0000 &    6.920963 &    0.00000 &    3.2135450 &   0.00000000 &  0.0000000 &  0.02333245 &  0.00000000 &  0.00000000 &   0.00000000 &   0.0000000 &   0.0000000 &   0.00000000\\\\\n",
       "\tSH1688430.08FU\\_KC584249\\_refs &    0.000 &   0.0000 &   40.681759 &    2.26776 &    4.1776085 &   0.66747890 &  0.0000000 &  0.09566303 &  0.07399335 &  0.00000000 &   0.00000000 &   0.0000000 &   0.0000000 &   0.00000000\\\\\n",
       "\tSH1688498.08FU\\_KJ650604\\_reps &    0.000 &   0.0000 &   15.529966 &    0.00000 &    0.0000000 &   0.29493254 &  0.0000000 &  0.00000000 &  0.00000000 &  0.00000000 &   0.00000000 &   0.3191223 &   0.0000000 &   0.00000000\\\\\n",
       "\tSH1688806.08FU\\_KY788106\\_reps &    0.000 &   0.0000 &    4.388903 &    0.00000 &   22.4948151 &   0.29493254 &  0.0000000 &  0.66964118 &  0.17265114 &  0.02615472 &   0.14478934 &   0.6382447 &   0.0000000 &   0.11207823\\\\\n",
       "\tSH1800509.08FU\\_HM365253\\_refs &    0.000 &   0.0000 &   10.803455 &    5.66940 &    0.0000000 &  28.42218311 &  0.2634426 &  0.13999467 & 25.14787197 &  7.49986695 &   0.26402762 & 715.6318316 &  39.3702211 &   0.51057858\\\\\n",
       "\\end{tabular}\n"
      ],
      "text/markdown": [
       "\n",
       "A otu_table: 16 × 14 of type dbl\n",
       "\n",
       "| <!--/--> | T1R1 | T1R4 | T2R1 | T2R4 | T2R5 | T3R1 | T3R4 | T3R5 | T4R1 | T4R4 | T4R5 | T5R1 | T5R4 | T5R5 |\n",
       "|---|---|---|---|---|---|---|---|---|---|---|---|---|---|---|\n",
       "| SH1726759.08FU_AF444541_refs |    0.000 |   0.0000 |    0.000000 |    0.00000 |    0.0000000 |   0.10865936 |  0.0000000 |  0.01166622 |  0.00000000 |  0.00000000 |   0.00000000 |   0.0000000 |   0.0000000 |   0.00000000 |\n",
       "| SH1725251.08FU_KJ706901_reps |    0.000 |   0.0000 |    2.869668 |    0.00000 |    0.0000000 |   1.81616353 |  0.0000000 |  0.00000000 |  0.37489962 |  0.00000000 |   0.00000000 |   2.8721010 |   0.0000000 |   0.00000000 |\n",
       "| SH1674913.08FU_AJ244232_refs |    0.000 |   0.0000 |    8.271395 |    0.00000 |    0.0000000 |   0.43463743 |  0.0000000 |  0.00000000 |  0.04439601 |  0.00000000 |   0.00000000 |   0.0000000 |   0.0000000 |   0.00000000 |\n",
       "| SH1676198.08FU_KF984792_refs |    0.000 |   0.0000 |    0.000000 |    0.00000 |    0.8033863 |   0.00000000 |  0.0000000 |  0.01166622 |  0.00000000 |  0.05230945 |   0.00000000 |   0.0000000 |   0.1545583 |   0.04981254 |\n",
       "| SH1694434.08FU_EU037063_reps |    0.000 |   0.0000 |    0.000000 |    0.00000 |    0.0000000 |   0.03104553 |  0.0000000 |  0.00000000 |  0.02466445 |  0.00000000 |   0.02555106 |   0.0000000 |   0.0000000 |   0.00000000 |\n",
       "| SH1692811.08FU_FJ430773_reps | 2398.786 |   0.0000 | 1622.375033 | 1243.48836 | 1291.8450976 | 174.16542575 | 32.3081536 | 13.21083059 | 50.35987152 | 76.63987835 |  41.31606350 | 840.0097608 | 119.5438405 |  52.96318826 |\n",
       "| SH1695393.08FU_U65307_reps |    0.000 | 157.6667 |  721.130594 | 1361.03391 |  576.8313309 | 132.95248409 | 49.7346021 | 56.60684580 | 95.27876563 | 84.97015776 | 248.39036813 | 408.7159279 |  95.4327415 | 332.69798672 |\n",
       "| SH1685996.08FU_AJ292429_refs |    0.000 |   0.0000 |    0.000000 |    0.00000 |    0.0000000 |   0.00000000 |  0.0000000 |  0.00000000 |  0.02466445 |  0.00000000 |   0.00000000 |   0.3191223 |   0.0000000 |   0.00000000 |\n",
       "| SH1738712.08FU_MG372138_reps |    0.000 |   0.0000 |    0.000000 |  144.38071 |   63.3068369 |   0.00000000 |  2.4774816 |  0.30098855 |  0.00000000 |  0.92849268 |   8.18485612 |   0.0000000 |   0.8430454 |   2.46572097 |\n",
       "| SH1744621.08FU_KC181928_reps |    0.000 |   0.0000 |   70.728867 |   88.44264 |  237.8023314 |   3.16664410 |  0.9809033 |  6.85740571 |  0.28610761 |  1.61505417 |   2.10370391 |   6.4622272 |   2.2200196 |   5.09333271 |\n",
       "| SH1744611.08FU_EF679363_refs |    0.000 |   0.0000 |   11.309867 |    7.18124 |   13.0148573 |   0.00000000 |  0.1064981 |  0.79330314 |  0.00000000 |  0.00000000 |   0.40881695 |   0.0000000 |   0.0000000 |   0.00000000 |\n",
       "| SH1664258.08FU_LN808981_reps |    0.000 |   0.0000 |    6.920963 |    0.00000 |    3.2135450 |   0.00000000 |  0.0000000 |  0.02333245 |  0.00000000 |  0.00000000 |   0.00000000 |   0.0000000 |   0.0000000 |   0.00000000 |\n",
       "| SH1688430.08FU_KC584249_refs |    0.000 |   0.0000 |   40.681759 |    2.26776 |    4.1776085 |   0.66747890 |  0.0000000 |  0.09566303 |  0.07399335 |  0.00000000 |   0.00000000 |   0.0000000 |   0.0000000 |   0.00000000 |\n",
       "| SH1688498.08FU_KJ650604_reps |    0.000 |   0.0000 |   15.529966 |    0.00000 |    0.0000000 |   0.29493254 |  0.0000000 |  0.00000000 |  0.00000000 |  0.00000000 |   0.00000000 |   0.3191223 |   0.0000000 |   0.00000000 |\n",
       "| SH1688806.08FU_KY788106_reps |    0.000 |   0.0000 |    4.388903 |    0.00000 |   22.4948151 |   0.29493254 |  0.0000000 |  0.66964118 |  0.17265114 |  0.02615472 |   0.14478934 |   0.6382447 |   0.0000000 |   0.11207823 |\n",
       "| SH1800509.08FU_HM365253_refs |    0.000 |   0.0000 |   10.803455 |    5.66940 |    0.0000000 |  28.42218311 |  0.2634426 |  0.13999467 | 25.14787197 |  7.49986695 |   0.26402762 | 715.6318316 |  39.3702211 |   0.51057858 |\n",
       "\n"
      ],
      "text/plain": [
       "                             T1R1     T1R4     T2R1        T2R4      \n",
       "SH1726759.08FU_AF444541_refs    0.000   0.0000    0.000000    0.00000\n",
       "SH1725251.08FU_KJ706901_reps    0.000   0.0000    2.869668    0.00000\n",
       "SH1674913.08FU_AJ244232_refs    0.000   0.0000    8.271395    0.00000\n",
       "SH1676198.08FU_KF984792_refs    0.000   0.0000    0.000000    0.00000\n",
       "SH1694434.08FU_EU037063_reps    0.000   0.0000    0.000000    0.00000\n",
       "SH1692811.08FU_FJ430773_reps 2398.786   0.0000 1622.375033 1243.48836\n",
       "SH1695393.08FU_U65307_reps      0.000 157.6667  721.130594 1361.03391\n",
       "SH1685996.08FU_AJ292429_refs    0.000   0.0000    0.000000    0.00000\n",
       "SH1738712.08FU_MG372138_reps    0.000   0.0000    0.000000  144.38071\n",
       "SH1744621.08FU_KC181928_reps    0.000   0.0000   70.728867   88.44264\n",
       "SH1744611.08FU_EF679363_refs    0.000   0.0000   11.309867    7.18124\n",
       "SH1664258.08FU_LN808981_reps    0.000   0.0000    6.920963    0.00000\n",
       "SH1688430.08FU_KC584249_refs    0.000   0.0000   40.681759    2.26776\n",
       "SH1688498.08FU_KJ650604_reps    0.000   0.0000   15.529966    0.00000\n",
       "SH1688806.08FU_KY788106_reps    0.000   0.0000    4.388903    0.00000\n",
       "SH1800509.08FU_HM365253_refs    0.000   0.0000   10.803455    5.66940\n",
       "                             T2R5         T3R1         T3R4       T3R5       \n",
       "SH1726759.08FU_AF444541_refs    0.0000000   0.10865936  0.0000000  0.01166622\n",
       "SH1725251.08FU_KJ706901_reps    0.0000000   1.81616353  0.0000000  0.00000000\n",
       "SH1674913.08FU_AJ244232_refs    0.0000000   0.43463743  0.0000000  0.00000000\n",
       "SH1676198.08FU_KF984792_refs    0.8033863   0.00000000  0.0000000  0.01166622\n",
       "SH1694434.08FU_EU037063_reps    0.0000000   0.03104553  0.0000000  0.00000000\n",
       "SH1692811.08FU_FJ430773_reps 1291.8450976 174.16542575 32.3081536 13.21083059\n",
       "SH1695393.08FU_U65307_reps    576.8313309 132.95248409 49.7346021 56.60684580\n",
       "SH1685996.08FU_AJ292429_refs    0.0000000   0.00000000  0.0000000  0.00000000\n",
       "SH1738712.08FU_MG372138_reps   63.3068369   0.00000000  2.4774816  0.30098855\n",
       "SH1744621.08FU_KC181928_reps  237.8023314   3.16664410  0.9809033  6.85740571\n",
       "SH1744611.08FU_EF679363_refs   13.0148573   0.00000000  0.1064981  0.79330314\n",
       "SH1664258.08FU_LN808981_reps    3.2135450   0.00000000  0.0000000  0.02333245\n",
       "SH1688430.08FU_KC584249_refs    4.1776085   0.66747890  0.0000000  0.09566303\n",
       "SH1688498.08FU_KJ650604_reps    0.0000000   0.29493254  0.0000000  0.00000000\n",
       "SH1688806.08FU_KY788106_reps   22.4948151   0.29493254  0.0000000  0.66964118\n",
       "SH1800509.08FU_HM365253_refs    0.0000000  28.42218311  0.2634426  0.13999467\n",
       "                             T4R1        T4R4        T4R5         T5R1       \n",
       "SH1726759.08FU_AF444541_refs  0.00000000  0.00000000   0.00000000   0.0000000\n",
       "SH1725251.08FU_KJ706901_reps  0.37489962  0.00000000   0.00000000   2.8721010\n",
       "SH1674913.08FU_AJ244232_refs  0.04439601  0.00000000   0.00000000   0.0000000\n",
       "SH1676198.08FU_KF984792_refs  0.00000000  0.05230945   0.00000000   0.0000000\n",
       "SH1694434.08FU_EU037063_reps  0.02466445  0.00000000   0.02555106   0.0000000\n",
       "SH1692811.08FU_FJ430773_reps 50.35987152 76.63987835  41.31606350 840.0097608\n",
       "SH1695393.08FU_U65307_reps   95.27876563 84.97015776 248.39036813 408.7159279\n",
       "SH1685996.08FU_AJ292429_refs  0.02466445  0.00000000   0.00000000   0.3191223\n",
       "SH1738712.08FU_MG372138_reps  0.00000000  0.92849268   8.18485612   0.0000000\n",
       "SH1744621.08FU_KC181928_reps  0.28610761  1.61505417   2.10370391   6.4622272\n",
       "SH1744611.08FU_EF679363_refs  0.00000000  0.00000000   0.40881695   0.0000000\n",
       "SH1664258.08FU_LN808981_reps  0.00000000  0.00000000   0.00000000   0.0000000\n",
       "SH1688430.08FU_KC584249_refs  0.07399335  0.00000000   0.00000000   0.0000000\n",
       "SH1688498.08FU_KJ650604_reps  0.00000000  0.00000000   0.00000000   0.3191223\n",
       "SH1688806.08FU_KY788106_reps  0.17265114  0.02615472   0.14478934   0.6382447\n",
       "SH1800509.08FU_HM365253_refs 25.14787197  7.49986695   0.26402762 715.6318316\n",
       "                             T5R4        T5R5        \n",
       "SH1726759.08FU_AF444541_refs   0.0000000   0.00000000\n",
       "SH1725251.08FU_KJ706901_reps   0.0000000   0.00000000\n",
       "SH1674913.08FU_AJ244232_refs   0.0000000   0.00000000\n",
       "SH1676198.08FU_KF984792_refs   0.1545583   0.04981254\n",
       "SH1694434.08FU_EU037063_reps   0.0000000   0.00000000\n",
       "SH1692811.08FU_FJ430773_reps 119.5438405  52.96318826\n",
       "SH1695393.08FU_U65307_reps    95.4327415 332.69798672\n",
       "SH1685996.08FU_AJ292429_refs   0.0000000   0.00000000\n",
       "SH1738712.08FU_MG372138_reps   0.8430454   2.46572097\n",
       "SH1744621.08FU_KC181928_reps   2.2200196   5.09333271\n",
       "SH1744611.08FU_EF679363_refs   0.0000000   0.00000000\n",
       "SH1664258.08FU_LN808981_reps   0.0000000   0.00000000\n",
       "SH1688430.08FU_KC584249_refs   0.0000000   0.00000000\n",
       "SH1688498.08FU_KJ650604_reps   0.0000000   0.00000000\n",
       "SH1688806.08FU_KY788106_reps   0.0000000   0.11207823\n",
       "SH1800509.08FU_HM365253_refs  39.3702211   0.51057858"
      ]
     },
     "metadata": {},
     "output_type": "display_data"
    }
   ],
   "source": [
    "otu_table(p.quan.mdf)"
   ]
  },
  {
   "cell_type": "code",
   "execution_count": 25,
   "metadata": {},
   "outputs": [],
   "source": [
    "# log10(x+1) transformation\n",
    "quan.mdf <- otu_table(p.quan.mdf)\n",
    "quan.mdf <- log10(quan.mdf + 1)"
   ]
  },
  {
   "cell_type": "code",
   "execution_count": 26,
   "metadata": {},
   "outputs": [],
   "source": [
    "# combine feature table with taxonomy\n",
    "quan.mdf.w.taxa <- cbind(quan.mdf, tax_table(p.quan.mdf))"
   ]
  },
  {
   "cell_type": "code",
   "execution_count": 27,
   "metadata": {
    "scrolled": true
   },
   "outputs": [
    {
     "data": {
      "text/html": [
       "<table>\n",
       "<caption>A matrix: 16 × 21 of type chr</caption>\n",
       "<thead>\n",
       "\t<tr><th></th><th scope=col>T1R1</th><th scope=col>T1R4</th><th scope=col>T2R1</th><th scope=col>T2R4</th><th scope=col>T2R5</th><th scope=col>T3R1</th><th scope=col>T3R4</th><th scope=col>T3R5</th><th scope=col>T4R1</th><th scope=col>T4R4</th><th scope=col>⋯</th><th scope=col>T5R1</th><th scope=col>T5R4</th><th scope=col>T5R5</th><th scope=col>Kingdom</th><th scope=col>Phylum</th><th scope=col>Class</th><th scope=col>Order</th><th scope=col>Family</th><th scope=col>Genus</th><th scope=col>Species</th></tr>\n",
       "</thead>\n",
       "<tbody>\n",
       "\t<tr><th scope=row>SH1726759.08FU_AF444541_refs</th><td>0              </td><td>0               </td><td>0                </td><td>0                </td><td>0                </td><td>0.0447981265766298</td><td>0                </td><td>0.00503725010455044</td><td>0                 </td><td>0                 </td><td>⋯</td><td>0                </td><td>0                </td><td>0                 </td><td>k__Fungi</td><td>p__Basidiomycota</td><td>c__Microbotryomycetes</td><td>o__Sporidiobolales</td><td>f__Sporidiobolaceae               </td><td>g__Rhodotorula   </td><td>NA</td></tr>\n",
       "\t<tr><th scope=row>SH1725251.08FU_KJ706901_reps</th><td>0              </td><td>0               </td><td>0.58767366417309 </td><td>0                </td><td>0                </td><td>0.449657870052198 </td><td>0                </td><td>0                  </td><td>0.138270992384007 </td><td>0                 </td><td>⋯</td><td>0.587946676513829</td><td>0                </td><td>0                 </td><td>k__Fungi</td><td>p__Basidiomycota</td><td>c__Tremellomycetes   </td><td>o__Filobasidiales </td><td>f__Filobasidiaceae                </td><td>g__Naganishia    </td><td>NA</td></tr>\n",
       "\t<tr><th scope=row>SH1674913.08FU_AJ244232_refs</th><td>0              </td><td>0               </td><td>0.967145080605888</td><td>0                </td><td>0                </td><td>0.156742156306036 </td><td>0                </td><td>0                  </td><td>0.0188652030653307</td><td>0                 </td><td>⋯</td><td>0                </td><td>0                </td><td>0                 </td><td>k__Fungi</td><td>p__Ascomycota   </td><td>c__Dothideomycetes   </td><td>o__Dothideales    </td><td>f__Aureobasidiaceae               </td><td>g__Aureobasidium </td><td>NA</td></tr>\n",
       "\t<tr><th scope=row>SH1676198.08FU_KF984792_refs</th><td>0              </td><td>0               </td><td>0                </td><td>0                </td><td>0.256088755194712</td><td>0                 </td><td>0                </td><td>0.00503725010455044</td><td>0                 </td><td>0.0221434691976831</td><td>⋯</td><td>0                </td><td>0.062415877872979</td><td>0.021111758091803 </td><td>k__Fungi</td><td>p__Ascomycota   </td><td>c__Eurotiomycetes    </td><td>o__Eurotiales     </td><td>f__Trichocomaceae                 </td><td>g__Talaromyces   </td><td>NA</td></tr>\n",
       "\t<tr><th scope=row>SH1694434.08FU_EU037063_reps</th><td>0              </td><td>0               </td><td>0                </td><td>0                </td><td>0                </td><td>0.0132778439262553</td><td>0                </td><td>0                  </td><td>0.0105816684137352</td><td>0                 </td><td>⋯</td><td>0                </td><td>0                </td><td>0                 </td><td>k__Fungi</td><td>p__Ascomycota   </td><td>c__Eurotiomycetes    </td><td>o__Eurotiales     </td><td>f__Thermoascaceae                 </td><td>g__Byssochlamys  </td><td>NA</td></tr>\n",
       "\t<tr><th scope=row>SH1692811.08FU_FJ430773_reps</th><td>3.3801724629118</td><td>0               </td><td>3.2104188622927  </td><td>3.09499083779915 </td><td>3.11154649295501 </td><td>2.24344838899722  </td><td>1.52255055815075 </td><td>1.15261946217204   </td><td>1.71062392860812  </td><td>1.89008484624348  </td><td>⋯</td><td>2.92480103628006 </td><td>2.0811450240231  </td><td>1.73209760078623  </td><td>k__Fungi</td><td>p__Ascomycota   </td><td>c__Eurotiomycetes    </td><td>o__Eurotiales     </td><td>f__Aspergillaceae                 </td><td>g__Penicillium   </td><td>NA</td></tr>\n",
       "\t<tr><th scope=row>SH1695393.08FU_U65307_reps</th><td>0              </td><td>2.20048569891321</td><td>2.85861574488525 </td><td>3.13418792104257 </td><td>2.76180108626012 </td><td>2.1269507718313   </td><td>1.70530425863929 </td><td>1.76047409658965   </td><td>1.9835305136413   </td><td>1.93434772371707  </td><td>⋯</td><td>2.61248284766605 </td><td>1.9842245136975  </td><td>2.52335358645623  </td><td>k__Fungi</td><td>p__Ascomycota   </td><td>c__Eurotiomycetes    </td><td>o__Eurotiales     </td><td>f__Aspergillaceae                 </td><td>g__Aspergillus   </td><td>NA</td></tr>\n",
       "\t<tr><th scope=row>SH1685996.08FU_AJ292429_refs</th><td>0              </td><td>0               </td><td>0                </td><td>0                </td><td>0                </td><td>0                 </td><td>0                </td><td>0                  </td><td>0.0105816684137352</td><td>0                 </td><td>⋯</td><td>0.120285073064953</td><td>0                </td><td>0                 </td><td>k__Fungi</td><td>p__Ascomycota   </td><td>c__Sordariomycetes   </td><td>o__Hypocreales    </td><td>f__Cordycipitaceae                </td><td>g__Lecanicillium </td><td>NA</td></tr>\n",
       "\t<tr><th scope=row>SH1738712.08FU_MG372138_reps</th><td>0              </td><td>0               </td><td>0                </td><td>2.16250680040508 </td><td>1.80825714801791 </td><td>0                 </td><td>0.541264839200747</td><td>0.114273472938411  </td><td>0                 </td><td>0.285217995199357 </td><td>⋯</td><td>0                </td><td>0.265536038075318</td><td>0.539793593831938 </td><td>k__Fungi</td><td>p__Ascomycota   </td><td>c__Sordariomycetes   </td><td>o__Hypocreales    </td><td>f__Hypocreaceae                   </td><td>g__Trichoderma   </td><td>NA</td></tr>\n",
       "\t<tr><th scope=row>SH1744621.08FU_KC181928_reps</th><td>0              </td><td>0               </td><td>1.85569396967192 </td><td>1.95154459451516 </td><td>2.37803856245005 </td><td>0.619786406612976 </td><td>0.296863285034022</td><td>0.895279177870887  </td><td>0.109277306583635 </td><td>0.417480689933103 </td><td>⋯</td><td>0.872868470147445</td><td>0.507858515989195</td><td>0.784854891949308 </td><td>k__Fungi</td><td>p__Ascomycota   </td><td>c__Dothideomycetes   </td><td>o__Capnodiales    </td><td>f__Cladosporiaceae                </td><td>g__Cladosporium  </td><td>NA</td></tr>\n",
       "\t<tr><th scope=row>SH1744611.08FU_EF679363_refs</th><td>0              </td><td>0               </td><td>1.09025334400656 </td><td>0.912819119821402</td><td>1.14658868093905 </td><td>0                 </td><td>0.043950663614276</td><td>0.253653709853677  </td><td>0                 </td><td>0                 </td><td>⋯</td><td>0                </td><td>0                </td><td>0                 </td><td>k__Fungi</td><td>p__Ascomycota   </td><td>c__Dothideomycetes   </td><td>o__Capnodiales    </td><td>f__Mycosphaerellaceae             </td><td>g__Mycosphaerella</td><td>NA</td></tr>\n",
       "\t<tr><th scope=row>SH1664258.08FU_LN808981_reps</th><td>0              </td><td>0               </td><td>0.898777990049909</td><td>0                </td><td>0.624647638432365</td><td>0                 </td><td>0                </td><td>0.0100167439289496 </td><td>0                 </td><td>0                 </td><td>⋯</td><td>0                </td><td>0                </td><td>0                 </td><td>k__Fungi</td><td>p__Ascomycota   </td><td>c__Dothideomycetes   </td><td>o__Pleosporales   </td><td>f__Pleosporales_fam_Incertae_sedis</td><td>g__Chalastospora </td><td>NA</td></tr>\n",
       "\t<tr><th scope=row>SH1688430.08FU_KC584249_refs</th><td>0              </td><td>0               </td><td>1.61994603510964 </td><td>0.514250141896218</td><td>0.714129210637837</td><td>0.222060348274566 </td><td>0                </td><td>0.0396770063601098 </td><td>0.0310015908057581</td><td>0                 </td><td>⋯</td><td>0                </td><td>0                </td><td>0                 </td><td>k__Fungi</td><td>p__Ascomycota   </td><td>c__Dothideomycetes   </td><td>o__Pleosporales   </td><td>f__Pleosporaceae                  </td><td>g__Alternaria    </td><td>NA</td></tr>\n",
       "\t<tr><th scope=row>SH1688498.08FU_KJ650604_reps</th><td>0              </td><td>0               </td><td>1.21827195969351 </td><td>0                </td><td>0                </td><td>0.112247143984792 </td><td>0                </td><td>0                  </td><td>0                 </td><td>0                 </td><td>⋯</td><td>0.120285073064953</td><td>0                </td><td>0                 </td><td>k__Fungi</td><td>p__Ascomycota   </td><td>c__Dothideomycetes   </td><td>o__Pleosporales   </td><td>f__Pleosporaceae                  </td><td>g__Bipolaris     </td><td>NA</td></tr>\n",
       "\t<tr><th scope=row>SH1688806.08FU_KY788106_reps</th><td>0              </td><td>0               </td><td>0.731500400912915</td><td>0                </td><td>1.37097203215612 </td><td>0.112247143984792 </td><td>0                </td><td>0.222623148455611  </td><td>0.0691688306335529</td><td>0.0112128485619769</td><td>⋯</td><td>0.21437876255644 </td><td>0                </td><td>0.0461353374601508</td><td>k__Fungi</td><td>p__Ascomycota   </td><td>c__Dothideomycetes   </td><td>o__Pleosporales   </td><td>f__Pleosporaceae                  </td><td>g__Curvularia    </td><td>NA</td></tr>\n",
       "\t<tr><th scope=row>SH1800509.08FU_HM365253_refs</th><td>0              </td><td>0               </td><td>1.07200913367219 </td><td>0.824086752375226</td><td>0                </td><td>1.4686748940678   </td><td>0.101555520302514</td><td>0.056902821747131  </td><td>1.41743634989837  </td><td>0.92941212744251  </td><td>⋯</td><td>2.85529609487971 </td><td>1.60606112805965 </td><td>0.179143323316898 </td><td>k__Fungi</td><td>p__Ascomycota   </td><td>c__Sordariomycetes   </td><td>o__Sordariales    </td><td>f__Chaetomiaceae                  </td><td>g__Chaetomium    </td><td>NA</td></tr>\n",
       "</tbody>\n",
       "</table>\n"
      ],
      "text/latex": [
       "A matrix: 16 × 21 of type chr\n",
       "\\begin{tabular}{r|lllllllllllllllllllll}\n",
       "  & T1R1 & T1R4 & T2R1 & T2R4 & T2R5 & T3R1 & T3R4 & T3R5 & T4R1 & T4R4 & T4R5 & T5R1 & T5R4 & T5R5 & Kingdom & Phylum & Class & Order & Family & Genus & Species\\\\\n",
       "\\hline\n",
       "\tSH1726759.08FU\\_AF444541\\_refs & 0               & 0                & 0                 & 0                 & 0                 & 0.0447981265766298 & 0                 & 0.00503725010455044 & 0                  & 0                  & 0                  & 0                 & 0                 & 0                  & k\\_\\_Fungi & p\\_\\_Basidiomycota & c\\_\\_Microbotryomycetes & o\\_\\_Sporidiobolales & f\\_\\_Sporidiobolaceae                & g\\_\\_Rhodotorula    & NA\\\\\n",
       "\tSH1725251.08FU\\_KJ706901\\_reps & 0               & 0                & 0.58767366417309  & 0                 & 0                 & 0.449657870052198  & 0                 & 0                   & 0.138270992384007  & 0                  & 0                  & 0.587946676513829 & 0                 & 0                  & k\\_\\_Fungi & p\\_\\_Basidiomycota & c\\_\\_Tremellomycetes    & o\\_\\_Filobasidiales  & f\\_\\_Filobasidiaceae                 & g\\_\\_Naganishia     & NA\\\\\n",
       "\tSH1674913.08FU\\_AJ244232\\_refs & 0               & 0                & 0.967145080605888 & 0                 & 0                 & 0.156742156306036  & 0                 & 0                   & 0.0188652030653307 & 0                  & 0                  & 0                 & 0                 & 0                  & k\\_\\_Fungi & p\\_\\_Ascomycota    & c\\_\\_Dothideomycetes    & o\\_\\_Dothideales     & f\\_\\_Aureobasidiaceae                & g\\_\\_Aureobasidium  & NA\\\\\n",
       "\tSH1676198.08FU\\_KF984792\\_refs & 0               & 0                & 0                 & 0                 & 0.256088755194712 & 0                  & 0                 & 0.00503725010455044 & 0                  & 0.0221434691976831 & 0                  & 0                 & 0.062415877872979 & 0.021111758091803  & k\\_\\_Fungi & p\\_\\_Ascomycota    & c\\_\\_Eurotiomycetes     & o\\_\\_Eurotiales      & f\\_\\_Trichocomaceae                  & g\\_\\_Talaromyces    & NA\\\\\n",
       "\tSH1694434.08FU\\_EU037063\\_reps & 0               & 0                & 0                 & 0                 & 0                 & 0.0132778439262553 & 0                 & 0                   & 0.0105816684137352 & 0                  & 0.010957287701353  & 0                 & 0                 & 0                  & k\\_\\_Fungi & p\\_\\_Ascomycota    & c\\_\\_Eurotiomycetes     & o\\_\\_Eurotiales      & f\\_\\_Thermoascaceae                  & g\\_\\_Byssochlamys   & NA\\\\\n",
       "\tSH1692811.08FU\\_FJ430773\\_reps & 3.3801724629118 & 0                & 3.2104188622927   & 3.09499083779915  & 3.11154649295501  & 2.24344838899722   & 1.52255055815075  & 1.15261946217204    & 1.71062392860812   & 1.89008484624348   & 1.62650526012281   & 2.92480103628006  & 2.0811450240231   & 1.73209760078623   & k\\_\\_Fungi & p\\_\\_Ascomycota    & c\\_\\_Eurotiomycetes     & o\\_\\_Eurotiales      & f\\_\\_Aspergillaceae                  & g\\_\\_Penicillium    & NA\\\\\n",
       "\tSH1695393.08FU\\_U65307\\_reps & 0               & 2.20048569891321 & 2.85861574488525  & 3.13418792104257  & 2.76180108626012  & 2.1269507718313    & 1.70530425863929  & 1.76047409658965    & 1.9835305136413    & 1.93434772371707   & 2.39687967628855   & 2.61248284766605  & 1.9842245136975   & 2.52335358645623   & k\\_\\_Fungi & p\\_\\_Ascomycota    & c\\_\\_Eurotiomycetes     & o\\_\\_Eurotiales      & f\\_\\_Aspergillaceae                  & g\\_\\_Aspergillus    & NA\\\\\n",
       "\tSH1685996.08FU\\_AJ292429\\_refs & 0               & 0                & 0                 & 0                 & 0                 & 0                  & 0                 & 0                   & 0.0105816684137352 & 0                  & 0                  & 0.120285073064953 & 0                 & 0                  & k\\_\\_Fungi & p\\_\\_Ascomycota    & c\\_\\_Sordariomycetes    & o\\_\\_Hypocreales     & f\\_\\_Cordycipitaceae                 & g\\_\\_Lecanicillium  & NA\\\\\n",
       "\tSH1738712.08FU\\_MG372138\\_reps & 0               & 0                & 0                 & 2.16250680040508  & 1.80825714801791  & 0                  & 0.541264839200747 & 0.114273472938411   & 0                  & 0.285217995199357  & 0.963072357325325  & 0                 & 0.265536038075318 & 0.539793593831938  & k\\_\\_Fungi & p\\_\\_Ascomycota    & c\\_\\_Sordariomycetes    & o\\_\\_Hypocreales     & f\\_\\_Hypocreaceae                    & g\\_\\_Trichoderma    & NA\\\\\n",
       "\tSH1744621.08FU\\_KC181928\\_reps & 0               & 0                & 1.85569396967192  & 1.95154459451516  & 2.37803856245005  & 0.619786406612976  & 0.296863285034022 & 0.895279177870887   & 0.109277306583635  & 0.417480689933103  & 0.491880283799896  & 0.872868470147445 & 0.507858515989195 & 0.784854891949308  & k\\_\\_Fungi & p\\_\\_Ascomycota    & c\\_\\_Dothideomycetes    & o\\_\\_Capnodiales     & f\\_\\_Cladosporiaceae                 & g\\_\\_Cladosporium   & NA\\\\\n",
       "\tSH1744611.08FU\\_EF679363\\_refs & 0               & 0                & 1.09025334400656  & 0.912819119821402 & 1.14658868093905  & 0                  & 0.043950663614276 & 0.253653709853677   & 0                  & 0                  & 0.14885456963217   & 0                 & 0                 & 0                  & k\\_\\_Fungi & p\\_\\_Ascomycota    & c\\_\\_Dothideomycetes    & o\\_\\_Capnodiales     & f\\_\\_Mycosphaerellaceae              & g\\_\\_Mycosphaerella & NA\\\\\n",
       "\tSH1664258.08FU\\_LN808981\\_reps & 0               & 0                & 0.898777990049909 & 0                 & 0.624647638432365 & 0                  & 0                 & 0.0100167439289496  & 0                  & 0                  & 0                  & 0                 & 0                 & 0                  & k\\_\\_Fungi & p\\_\\_Ascomycota    & c\\_\\_Dothideomycetes    & o\\_\\_Pleosporales    & f\\_\\_Pleosporales\\_fam\\_Incertae\\_sedis & g\\_\\_Chalastospora  & NA\\\\\n",
       "\tSH1688430.08FU\\_KC584249\\_refs & 0               & 0                & 1.61994603510964  & 0.514250141896218 & 0.714129210637837 & 0.222060348274566  & 0                 & 0.0396770063601098  & 0.0310015908057581 & 0                  & 0                  & 0                 & 0                 & 0                  & k\\_\\_Fungi & p\\_\\_Ascomycota    & c\\_\\_Dothideomycetes    & o\\_\\_Pleosporales    & f\\_\\_Pleosporaceae                   & g\\_\\_Alternaria     & NA\\\\\n",
       "\tSH1688498.08FU\\_KJ650604\\_reps & 0               & 0                & 1.21827195969351  & 0                 & 0                 & 0.112247143984792  & 0                 & 0                   & 0                  & 0                  & 0                  & 0.120285073064953 & 0                 & 0                  & k\\_\\_Fungi & p\\_\\_Ascomycota    & c\\_\\_Dothideomycetes    & o\\_\\_Pleosporales    & f\\_\\_Pleosporaceae                   & g\\_\\_Bipolaris      & NA\\\\\n",
       "\tSH1688806.08FU\\_KY788106\\_reps & 0               & 0                & 0.731500400912915 & 0                 & 1.37097203215612  & 0.112247143984792  & 0                 & 0.222623148455611   & 0.0691688306335529 & 0.0112128485619769 & 0.0587255760288282 & 0.21437876255644  & 0                 & 0.0461353374601508 & k\\_\\_Fungi & p\\_\\_Ascomycota    & c\\_\\_Dothideomycetes    & o\\_\\_Pleosporales    & f\\_\\_Pleosporaceae                   & g\\_\\_Curvularia     & NA\\\\\n",
       "\tSH1800509.08FU\\_HM365253\\_refs & 0               & 0                & 1.07200913367219  & 0.824086752375226 & 0                 & 1.4686748940678    & 0.101555520302514 & 0.056902821747131   & 1.41743634989837   & 0.92941212744251   & 0.101756562575593  & 2.85529609487971  & 1.60606112805965  & 0.179143323316898  & k\\_\\_Fungi & p\\_\\_Ascomycota    & c\\_\\_Sordariomycetes    & o\\_\\_Sordariales     & f\\_\\_Chaetomiaceae                   & g\\_\\_Chaetomium     & NA\\\\\n",
       "\\end{tabular}\n"
      ],
      "text/markdown": [
       "\n",
       "A matrix: 16 × 21 of type chr\n",
       "\n",
       "| <!--/--> | T1R1 | T1R4 | T2R1 | T2R4 | T2R5 | T3R1 | T3R4 | T3R5 | T4R1 | T4R4 | ⋯ | T5R1 | T5R4 | T5R5 | Kingdom | Phylum | Class | Order | Family | Genus | Species |\n",
       "|---|---|---|---|---|---|---|---|---|---|---|---|---|---|---|---|---|---|---|---|---|---|\n",
       "| SH1726759.08FU_AF444541_refs | 0               | 0                | 0                 | 0                 | 0                 | 0.0447981265766298 | 0                 | 0.00503725010455044 | 0                  | 0                  | ⋯ | 0                 | 0                 | 0                  | k__Fungi | p__Basidiomycota | c__Microbotryomycetes | o__Sporidiobolales | f__Sporidiobolaceae                | g__Rhodotorula    | NA |\n",
       "| SH1725251.08FU_KJ706901_reps | 0               | 0                | 0.58767366417309  | 0                 | 0                 | 0.449657870052198  | 0                 | 0                   | 0.138270992384007  | 0                  | ⋯ | 0.587946676513829 | 0                 | 0                  | k__Fungi | p__Basidiomycota | c__Tremellomycetes    | o__Filobasidiales  | f__Filobasidiaceae                 | g__Naganishia     | NA |\n",
       "| SH1674913.08FU_AJ244232_refs | 0               | 0                | 0.967145080605888 | 0                 | 0                 | 0.156742156306036  | 0                 | 0                   | 0.0188652030653307 | 0                  | ⋯ | 0                 | 0                 | 0                  | k__Fungi | p__Ascomycota    | c__Dothideomycetes    | o__Dothideales     | f__Aureobasidiaceae                | g__Aureobasidium  | NA |\n",
       "| SH1676198.08FU_KF984792_refs | 0               | 0                | 0                 | 0                 | 0.256088755194712 | 0                  | 0                 | 0.00503725010455044 | 0                  | 0.0221434691976831 | ⋯ | 0                 | 0.062415877872979 | 0.021111758091803  | k__Fungi | p__Ascomycota    | c__Eurotiomycetes     | o__Eurotiales      | f__Trichocomaceae                  | g__Talaromyces    | NA |\n",
       "| SH1694434.08FU_EU037063_reps | 0               | 0                | 0                 | 0                 | 0                 | 0.0132778439262553 | 0                 | 0                   | 0.0105816684137352 | 0                  | ⋯ | 0                 | 0                 | 0                  | k__Fungi | p__Ascomycota    | c__Eurotiomycetes     | o__Eurotiales      | f__Thermoascaceae                  | g__Byssochlamys   | NA |\n",
       "| SH1692811.08FU_FJ430773_reps | 3.3801724629118 | 0                | 3.2104188622927   | 3.09499083779915  | 3.11154649295501  | 2.24344838899722   | 1.52255055815075  | 1.15261946217204    | 1.71062392860812   | 1.89008484624348   | ⋯ | 2.92480103628006  | 2.0811450240231   | 1.73209760078623   | k__Fungi | p__Ascomycota    | c__Eurotiomycetes     | o__Eurotiales      | f__Aspergillaceae                  | g__Penicillium    | NA |\n",
       "| SH1695393.08FU_U65307_reps | 0               | 2.20048569891321 | 2.85861574488525  | 3.13418792104257  | 2.76180108626012  | 2.1269507718313    | 1.70530425863929  | 1.76047409658965    | 1.9835305136413    | 1.93434772371707   | ⋯ | 2.61248284766605  | 1.9842245136975   | 2.52335358645623   | k__Fungi | p__Ascomycota    | c__Eurotiomycetes     | o__Eurotiales      | f__Aspergillaceae                  | g__Aspergillus    | NA |\n",
       "| SH1685996.08FU_AJ292429_refs | 0               | 0                | 0                 | 0                 | 0                 | 0                  | 0                 | 0                   | 0.0105816684137352 | 0                  | ⋯ | 0.120285073064953 | 0                 | 0                  | k__Fungi | p__Ascomycota    | c__Sordariomycetes    | o__Hypocreales     | f__Cordycipitaceae                 | g__Lecanicillium  | NA |\n",
       "| SH1738712.08FU_MG372138_reps | 0               | 0                | 0                 | 2.16250680040508  | 1.80825714801791  | 0                  | 0.541264839200747 | 0.114273472938411   | 0                  | 0.285217995199357  | ⋯ | 0                 | 0.265536038075318 | 0.539793593831938  | k__Fungi | p__Ascomycota    | c__Sordariomycetes    | o__Hypocreales     | f__Hypocreaceae                    | g__Trichoderma    | NA |\n",
       "| SH1744621.08FU_KC181928_reps | 0               | 0                | 1.85569396967192  | 1.95154459451516  | 2.37803856245005  | 0.619786406612976  | 0.296863285034022 | 0.895279177870887   | 0.109277306583635  | 0.417480689933103  | ⋯ | 0.872868470147445 | 0.507858515989195 | 0.784854891949308  | k__Fungi | p__Ascomycota    | c__Dothideomycetes    | o__Capnodiales     | f__Cladosporiaceae                 | g__Cladosporium   | NA |\n",
       "| SH1744611.08FU_EF679363_refs | 0               | 0                | 1.09025334400656  | 0.912819119821402 | 1.14658868093905  | 0                  | 0.043950663614276 | 0.253653709853677   | 0                  | 0                  | ⋯ | 0                 | 0                 | 0                  | k__Fungi | p__Ascomycota    | c__Dothideomycetes    | o__Capnodiales     | f__Mycosphaerellaceae              | g__Mycosphaerella | NA |\n",
       "| SH1664258.08FU_LN808981_reps | 0               | 0                | 0.898777990049909 | 0                 | 0.624647638432365 | 0                  | 0                 | 0.0100167439289496  | 0                  | 0                  | ⋯ | 0                 | 0                 | 0                  | k__Fungi | p__Ascomycota    | c__Dothideomycetes    | o__Pleosporales    | f__Pleosporales_fam_Incertae_sedis | g__Chalastospora  | NA |\n",
       "| SH1688430.08FU_KC584249_refs | 0               | 0                | 1.61994603510964  | 0.514250141896218 | 0.714129210637837 | 0.222060348274566  | 0                 | 0.0396770063601098  | 0.0310015908057581 | 0                  | ⋯ | 0                 | 0                 | 0                  | k__Fungi | p__Ascomycota    | c__Dothideomycetes    | o__Pleosporales    | f__Pleosporaceae                   | g__Alternaria     | NA |\n",
       "| SH1688498.08FU_KJ650604_reps | 0               | 0                | 1.21827195969351  | 0                 | 0                 | 0.112247143984792  | 0                 | 0                   | 0                  | 0                  | ⋯ | 0.120285073064953 | 0                 | 0                  | k__Fungi | p__Ascomycota    | c__Dothideomycetes    | o__Pleosporales    | f__Pleosporaceae                   | g__Bipolaris      | NA |\n",
       "| SH1688806.08FU_KY788106_reps | 0               | 0                | 0.731500400912915 | 0                 | 1.37097203215612  | 0.112247143984792  | 0                 | 0.222623148455611   | 0.0691688306335529 | 0.0112128485619769 | ⋯ | 0.21437876255644  | 0                 | 0.0461353374601508 | k__Fungi | p__Ascomycota    | c__Dothideomycetes    | o__Pleosporales    | f__Pleosporaceae                   | g__Curvularia     | NA |\n",
       "| SH1800509.08FU_HM365253_refs | 0               | 0                | 1.07200913367219  | 0.824086752375226 | 0                 | 1.4686748940678    | 0.101555520302514 | 0.056902821747131   | 1.41743634989837   | 0.92941212744251   | ⋯ | 2.85529609487971  | 1.60606112805965  | 0.179143323316898  | k__Fungi | p__Ascomycota    | c__Sordariomycetes    | o__Sordariales     | f__Chaetomiaceae                   | g__Chaetomium     | NA |\n",
       "\n"
      ],
      "text/plain": [
       "                             T1R1            T1R4             T2R1             \n",
       "SH1726759.08FU_AF444541_refs 0               0                0                \n",
       "SH1725251.08FU_KJ706901_reps 0               0                0.58767366417309 \n",
       "SH1674913.08FU_AJ244232_refs 0               0                0.967145080605888\n",
       "SH1676198.08FU_KF984792_refs 0               0                0                \n",
       "SH1694434.08FU_EU037063_reps 0               0                0                \n",
       "SH1692811.08FU_FJ430773_reps 3.3801724629118 0                3.2104188622927  \n",
       "SH1695393.08FU_U65307_reps   0               2.20048569891321 2.85861574488525 \n",
       "SH1685996.08FU_AJ292429_refs 0               0                0                \n",
       "SH1738712.08FU_MG372138_reps 0               0                0                \n",
       "SH1744621.08FU_KC181928_reps 0               0                1.85569396967192 \n",
       "SH1744611.08FU_EF679363_refs 0               0                1.09025334400656 \n",
       "SH1664258.08FU_LN808981_reps 0               0                0.898777990049909\n",
       "SH1688430.08FU_KC584249_refs 0               0                1.61994603510964 \n",
       "SH1688498.08FU_KJ650604_reps 0               0                1.21827195969351 \n",
       "SH1688806.08FU_KY788106_reps 0               0                0.731500400912915\n",
       "SH1800509.08FU_HM365253_refs 0               0                1.07200913367219 \n",
       "                             T2R4              T2R5             \n",
       "SH1726759.08FU_AF444541_refs 0                 0                \n",
       "SH1725251.08FU_KJ706901_reps 0                 0                \n",
       "SH1674913.08FU_AJ244232_refs 0                 0                \n",
       "SH1676198.08FU_KF984792_refs 0                 0.256088755194712\n",
       "SH1694434.08FU_EU037063_reps 0                 0                \n",
       "SH1692811.08FU_FJ430773_reps 3.09499083779915  3.11154649295501 \n",
       "SH1695393.08FU_U65307_reps   3.13418792104257  2.76180108626012 \n",
       "SH1685996.08FU_AJ292429_refs 0                 0                \n",
       "SH1738712.08FU_MG372138_reps 2.16250680040508  1.80825714801791 \n",
       "SH1744621.08FU_KC181928_reps 1.95154459451516  2.37803856245005 \n",
       "SH1744611.08FU_EF679363_refs 0.912819119821402 1.14658868093905 \n",
       "SH1664258.08FU_LN808981_reps 0                 0.624647638432365\n",
       "SH1688430.08FU_KC584249_refs 0.514250141896218 0.714129210637837\n",
       "SH1688498.08FU_KJ650604_reps 0                 0                \n",
       "SH1688806.08FU_KY788106_reps 0                 1.37097203215612 \n",
       "SH1800509.08FU_HM365253_refs 0.824086752375226 0                \n",
       "                             T3R1               T3R4             \n",
       "SH1726759.08FU_AF444541_refs 0.0447981265766298 0                \n",
       "SH1725251.08FU_KJ706901_reps 0.449657870052198  0                \n",
       "SH1674913.08FU_AJ244232_refs 0.156742156306036  0                \n",
       "SH1676198.08FU_KF984792_refs 0                  0                \n",
       "SH1694434.08FU_EU037063_reps 0.0132778439262553 0                \n",
       "SH1692811.08FU_FJ430773_reps 2.24344838899722   1.52255055815075 \n",
       "SH1695393.08FU_U65307_reps   2.1269507718313    1.70530425863929 \n",
       "SH1685996.08FU_AJ292429_refs 0                  0                \n",
       "SH1738712.08FU_MG372138_reps 0                  0.541264839200747\n",
       "SH1744621.08FU_KC181928_reps 0.619786406612976  0.296863285034022\n",
       "SH1744611.08FU_EF679363_refs 0                  0.043950663614276\n",
       "SH1664258.08FU_LN808981_reps 0                  0                \n",
       "SH1688430.08FU_KC584249_refs 0.222060348274566  0                \n",
       "SH1688498.08FU_KJ650604_reps 0.112247143984792  0                \n",
       "SH1688806.08FU_KY788106_reps 0.112247143984792  0                \n",
       "SH1800509.08FU_HM365253_refs 1.4686748940678    0.101555520302514\n",
       "                             T3R5                T4R1              \n",
       "SH1726759.08FU_AF444541_refs 0.00503725010455044 0                 \n",
       "SH1725251.08FU_KJ706901_reps 0                   0.138270992384007 \n",
       "SH1674913.08FU_AJ244232_refs 0                   0.0188652030653307\n",
       "SH1676198.08FU_KF984792_refs 0.00503725010455044 0                 \n",
       "SH1694434.08FU_EU037063_reps 0                   0.0105816684137352\n",
       "SH1692811.08FU_FJ430773_reps 1.15261946217204    1.71062392860812  \n",
       "SH1695393.08FU_U65307_reps   1.76047409658965    1.9835305136413   \n",
       "SH1685996.08FU_AJ292429_refs 0                   0.0105816684137352\n",
       "SH1738712.08FU_MG372138_reps 0.114273472938411   0                 \n",
       "SH1744621.08FU_KC181928_reps 0.895279177870887   0.109277306583635 \n",
       "SH1744611.08FU_EF679363_refs 0.253653709853677   0                 \n",
       "SH1664258.08FU_LN808981_reps 0.0100167439289496  0                 \n",
       "SH1688430.08FU_KC584249_refs 0.0396770063601098  0.0310015908057581\n",
       "SH1688498.08FU_KJ650604_reps 0                   0                 \n",
       "SH1688806.08FU_KY788106_reps 0.222623148455611   0.0691688306335529\n",
       "SH1800509.08FU_HM365253_refs 0.056902821747131   1.41743634989837  \n",
       "                             T4R4               ⋯ T5R1             \n",
       "SH1726759.08FU_AF444541_refs 0                  ⋯ 0                \n",
       "SH1725251.08FU_KJ706901_reps 0                  ⋯ 0.587946676513829\n",
       "SH1674913.08FU_AJ244232_refs 0                  ⋯ 0                \n",
       "SH1676198.08FU_KF984792_refs 0.0221434691976831 ⋯ 0                \n",
       "SH1694434.08FU_EU037063_reps 0                  ⋯ 0                \n",
       "SH1692811.08FU_FJ430773_reps 1.89008484624348   ⋯ 2.92480103628006 \n",
       "SH1695393.08FU_U65307_reps   1.93434772371707   ⋯ 2.61248284766605 \n",
       "SH1685996.08FU_AJ292429_refs 0                  ⋯ 0.120285073064953\n",
       "SH1738712.08FU_MG372138_reps 0.285217995199357  ⋯ 0                \n",
       "SH1744621.08FU_KC181928_reps 0.417480689933103  ⋯ 0.872868470147445\n",
       "SH1744611.08FU_EF679363_refs 0                  ⋯ 0                \n",
       "SH1664258.08FU_LN808981_reps 0                  ⋯ 0                \n",
       "SH1688430.08FU_KC584249_refs 0                  ⋯ 0                \n",
       "SH1688498.08FU_KJ650604_reps 0                  ⋯ 0.120285073064953\n",
       "SH1688806.08FU_KY788106_reps 0.0112128485619769 ⋯ 0.21437876255644 \n",
       "SH1800509.08FU_HM365253_refs 0.92941212744251   ⋯ 2.85529609487971 \n",
       "                             T5R4              T5R5               Kingdom \n",
       "SH1726759.08FU_AF444541_refs 0                 0                  k__Fungi\n",
       "SH1725251.08FU_KJ706901_reps 0                 0                  k__Fungi\n",
       "SH1674913.08FU_AJ244232_refs 0                 0                  k__Fungi\n",
       "SH1676198.08FU_KF984792_refs 0.062415877872979 0.021111758091803  k__Fungi\n",
       "SH1694434.08FU_EU037063_reps 0                 0                  k__Fungi\n",
       "SH1692811.08FU_FJ430773_reps 2.0811450240231   1.73209760078623   k__Fungi\n",
       "SH1695393.08FU_U65307_reps   1.9842245136975   2.52335358645623   k__Fungi\n",
       "SH1685996.08FU_AJ292429_refs 0                 0                  k__Fungi\n",
       "SH1738712.08FU_MG372138_reps 0.265536038075318 0.539793593831938  k__Fungi\n",
       "SH1744621.08FU_KC181928_reps 0.507858515989195 0.784854891949308  k__Fungi\n",
       "SH1744611.08FU_EF679363_refs 0                 0                  k__Fungi\n",
       "SH1664258.08FU_LN808981_reps 0                 0                  k__Fungi\n",
       "SH1688430.08FU_KC584249_refs 0                 0                  k__Fungi\n",
       "SH1688498.08FU_KJ650604_reps 0                 0                  k__Fungi\n",
       "SH1688806.08FU_KY788106_reps 0                 0.0461353374601508 k__Fungi\n",
       "SH1800509.08FU_HM365253_refs 1.60606112805965  0.179143323316898  k__Fungi\n",
       "                             Phylum           Class                \n",
       "SH1726759.08FU_AF444541_refs p__Basidiomycota c__Microbotryomycetes\n",
       "SH1725251.08FU_KJ706901_reps p__Basidiomycota c__Tremellomycetes   \n",
       "SH1674913.08FU_AJ244232_refs p__Ascomycota    c__Dothideomycetes   \n",
       "SH1676198.08FU_KF984792_refs p__Ascomycota    c__Eurotiomycetes    \n",
       "SH1694434.08FU_EU037063_reps p__Ascomycota    c__Eurotiomycetes    \n",
       "SH1692811.08FU_FJ430773_reps p__Ascomycota    c__Eurotiomycetes    \n",
       "SH1695393.08FU_U65307_reps   p__Ascomycota    c__Eurotiomycetes    \n",
       "SH1685996.08FU_AJ292429_refs p__Ascomycota    c__Sordariomycetes   \n",
       "SH1738712.08FU_MG372138_reps p__Ascomycota    c__Sordariomycetes   \n",
       "SH1744621.08FU_KC181928_reps p__Ascomycota    c__Dothideomycetes   \n",
       "SH1744611.08FU_EF679363_refs p__Ascomycota    c__Dothideomycetes   \n",
       "SH1664258.08FU_LN808981_reps p__Ascomycota    c__Dothideomycetes   \n",
       "SH1688430.08FU_KC584249_refs p__Ascomycota    c__Dothideomycetes   \n",
       "SH1688498.08FU_KJ650604_reps p__Ascomycota    c__Dothideomycetes   \n",
       "SH1688806.08FU_KY788106_reps p__Ascomycota    c__Dothideomycetes   \n",
       "SH1800509.08FU_HM365253_refs p__Ascomycota    c__Sordariomycetes   \n",
       "                             Order             \n",
       "SH1726759.08FU_AF444541_refs o__Sporidiobolales\n",
       "SH1725251.08FU_KJ706901_reps o__Filobasidiales \n",
       "SH1674913.08FU_AJ244232_refs o__Dothideales    \n",
       "SH1676198.08FU_KF984792_refs o__Eurotiales     \n",
       "SH1694434.08FU_EU037063_reps o__Eurotiales     \n",
       "SH1692811.08FU_FJ430773_reps o__Eurotiales     \n",
       "SH1695393.08FU_U65307_reps   o__Eurotiales     \n",
       "SH1685996.08FU_AJ292429_refs o__Hypocreales    \n",
       "SH1738712.08FU_MG372138_reps o__Hypocreales    \n",
       "SH1744621.08FU_KC181928_reps o__Capnodiales    \n",
       "SH1744611.08FU_EF679363_refs o__Capnodiales    \n",
       "SH1664258.08FU_LN808981_reps o__Pleosporales   \n",
       "SH1688430.08FU_KC584249_refs o__Pleosporales   \n",
       "SH1688498.08FU_KJ650604_reps o__Pleosporales   \n",
       "SH1688806.08FU_KY788106_reps o__Pleosporales   \n",
       "SH1800509.08FU_HM365253_refs o__Sordariales    \n",
       "                             Family                            \n",
       "SH1726759.08FU_AF444541_refs f__Sporidiobolaceae               \n",
       "SH1725251.08FU_KJ706901_reps f__Filobasidiaceae                \n",
       "SH1674913.08FU_AJ244232_refs f__Aureobasidiaceae               \n",
       "SH1676198.08FU_KF984792_refs f__Trichocomaceae                 \n",
       "SH1694434.08FU_EU037063_reps f__Thermoascaceae                 \n",
       "SH1692811.08FU_FJ430773_reps f__Aspergillaceae                 \n",
       "SH1695393.08FU_U65307_reps   f__Aspergillaceae                 \n",
       "SH1685996.08FU_AJ292429_refs f__Cordycipitaceae                \n",
       "SH1738712.08FU_MG372138_reps f__Hypocreaceae                   \n",
       "SH1744621.08FU_KC181928_reps f__Cladosporiaceae                \n",
       "SH1744611.08FU_EF679363_refs f__Mycosphaerellaceae             \n",
       "SH1664258.08FU_LN808981_reps f__Pleosporales_fam_Incertae_sedis\n",
       "SH1688430.08FU_KC584249_refs f__Pleosporaceae                  \n",
       "SH1688498.08FU_KJ650604_reps f__Pleosporaceae                  \n",
       "SH1688806.08FU_KY788106_reps f__Pleosporaceae                  \n",
       "SH1800509.08FU_HM365253_refs f__Chaetomiaceae                  \n",
       "                             Genus             Species\n",
       "SH1726759.08FU_AF444541_refs g__Rhodotorula    NA     \n",
       "SH1725251.08FU_KJ706901_reps g__Naganishia     NA     \n",
       "SH1674913.08FU_AJ244232_refs g__Aureobasidium  NA     \n",
       "SH1676198.08FU_KF984792_refs g__Talaromyces    NA     \n",
       "SH1694434.08FU_EU037063_reps g__Byssochlamys   NA     \n",
       "SH1692811.08FU_FJ430773_reps g__Penicillium    NA     \n",
       "SH1695393.08FU_U65307_reps   g__Aspergillus    NA     \n",
       "SH1685996.08FU_AJ292429_refs g__Lecanicillium  NA     \n",
       "SH1738712.08FU_MG372138_reps g__Trichoderma    NA     \n",
       "SH1744621.08FU_KC181928_reps g__Cladosporium   NA     \n",
       "SH1744611.08FU_EF679363_refs g__Mycosphaerella NA     \n",
       "SH1664258.08FU_LN808981_reps g__Chalastospora  NA     \n",
       "SH1688430.08FU_KC584249_refs g__Alternaria     NA     \n",
       "SH1688498.08FU_KJ650604_reps g__Bipolaris      NA     \n",
       "SH1688806.08FU_KY788106_reps g__Curvularia     NA     \n",
       "SH1800509.08FU_HM365253_refs g__Chaetomium     NA     "
      ]
     },
     "metadata": {},
     "output_type": "display_data"
    }
   ],
   "source": [
    "quan.mdf.w.taxa"
   ]
  },
  {
   "cell_type": "code",
   "execution_count": 28,
   "metadata": {},
   "outputs": [],
   "source": [
    "# Pearson correlation\n",
    "cor.quan.mdf <- rcorr(t(quan.mdf), type='pearson')"
   ]
  },
  {
   "cell_type": "code",
   "execution_count": 32,
   "metadata": {},
   "outputs": [
    {
     "data": {
      "text/html": [
       "28"
      ],
      "text/latex": [
       "28"
      ],
      "text/markdown": [
       "28"
      ],
      "text/plain": [
       "[1] 28"
      ]
     },
     "metadata": {},
     "output_type": "display_data"
    }
   ],
   "source": [
    "# extract significant values: abs(r)>0.3 & P < 0.05\n",
    "indices.q.m = which(abs(cor.quan.mdf$r) > 0.3 & cor.quan.mdf$P < 0.05 & lower.tri(cor.quan.mdf$r),arr.ind=TRUE)\n",
    "# order index by row, in the same order as graph edges\n",
    "indices.q.m.by.row = indices.q.m[order(indices.q.m[,1]),]\n",
    "\n",
    "sig.quan.mdf = cor.quan.mdf$r[indices.q.m.by.row]\n",
    "length(sig.quan.mdf)"
   ]
  },
  {
   "cell_type": "code",
   "execution_count": 33,
   "metadata": {},
   "outputs": [
    {
     "data": {
      "text/html": [
       "<ol class=list-inline>\n",
       "\t<li>0.643124765119105</li>\n",
       "\t<li>0.609541700155615</li>\n",
       "\t<li>0.580102308817727</li>\n",
       "\t<li>0.566773700293877</li>\n",
       "\t<li>0.572250168147455</li>\n",
       "\t<li>0.670999958755554</li>\n",
       "\t<li>0.670375425577791</li>\n",
       "\t<li>0.541864030051548</li>\n",
       "\t<li>0.629981048153485</li>\n",
       "\t<li>0.928711564544416</li>\n",
       "\t<li>0.787338420362537</li>\n",
       "\t<li>0.705843376516111</li>\n",
       "\t<li>0.812841622301676</li>\n",
       "\t<li>0.872188321097958</li>\n",
       "\t<li>0.753261478211405</li>\n",
       "\t<li>0.861464912237533</li>\n",
       "\t<li>0.926621298419073</li>\n",
       "\t<li>0.675197852494151</li>\n",
       "\t<li>0.99187238474203</li>\n",
       "\t<li>0.790565478153035</li>\n",
       "\t<li>0.865441458627332</li>\n",
       "\t<li>0.808662568074987</li>\n",
       "\t<li>0.762306422285112</li>\n",
       "\t<li>0.770794858358763</li>\n",
       "\t<li>0.848613491343085</li>\n",
       "\t<li>0.67421809924556</li>\n",
       "\t<li>0.710208777325456</li>\n",
       "\t<li>0.723898199809727</li>\n",
       "</ol>\n"
      ],
      "text/latex": [
       "\\begin{enumerate*}\n",
       "\\item 0.643124765119105\n",
       "\\item 0.609541700155615\n",
       "\\item 0.580102308817727\n",
       "\\item 0.566773700293877\n",
       "\\item 0.572250168147455\n",
       "\\item 0.670999958755554\n",
       "\\item 0.670375425577791\n",
       "\\item 0.541864030051548\n",
       "\\item 0.629981048153485\n",
       "\\item 0.928711564544416\n",
       "\\item 0.787338420362537\n",
       "\\item 0.705843376516111\n",
       "\\item 0.812841622301676\n",
       "\\item 0.872188321097958\n",
       "\\item 0.753261478211405\n",
       "\\item 0.861464912237533\n",
       "\\item 0.926621298419073\n",
       "\\item 0.675197852494151\n",
       "\\item 0.99187238474203\n",
       "\\item 0.790565478153035\n",
       "\\item 0.865441458627332\n",
       "\\item 0.808662568074987\n",
       "\\item 0.762306422285112\n",
       "\\item 0.770794858358763\n",
       "\\item 0.848613491343085\n",
       "\\item 0.67421809924556\n",
       "\\item 0.710208777325456\n",
       "\\item 0.723898199809727\n",
       "\\end{enumerate*}\n"
      ],
      "text/markdown": [
       "1. 0.643124765119105\n",
       "2. 0.609541700155615\n",
       "3. 0.580102308817727\n",
       "4. 0.566773700293877\n",
       "5. 0.572250168147455\n",
       "6. 0.670999958755554\n",
       "7. 0.670375425577791\n",
       "8. 0.541864030051548\n",
       "9. 0.629981048153485\n",
       "10. 0.928711564544416\n",
       "11. 0.787338420362537\n",
       "12. 0.705843376516111\n",
       "13. 0.812841622301676\n",
       "14. 0.872188321097958\n",
       "15. 0.753261478211405\n",
       "16. 0.861464912237533\n",
       "17. 0.926621298419073\n",
       "18. 0.675197852494151\n",
       "19. 0.99187238474203\n",
       "20. 0.790565478153035\n",
       "21. 0.865441458627332\n",
       "22. 0.808662568074987\n",
       "23. 0.762306422285112\n",
       "24. 0.770794858358763\n",
       "25. 0.848613491343085\n",
       "26. 0.67421809924556\n",
       "27. 0.710208777325456\n",
       "28. 0.723898199809727\n",
       "\n",
       "\n"
      ],
      "text/plain": [
       " [1] 0.6431248 0.6095417 0.5801023 0.5667737 0.5722502 0.6710000 0.6703754\n",
       " [8] 0.5418640 0.6299810 0.9287116 0.7873384 0.7058434 0.8128416 0.8721883\n",
       "[15] 0.7532615 0.8614649 0.9266213 0.6751979 0.9918724 0.7905655 0.8654415\n",
       "[22] 0.8086626 0.7623064 0.7707949 0.8486135 0.6742181 0.7102088 0.7238982"
      ]
     },
     "metadata": {},
     "output_type": "display_data"
    }
   ],
   "source": [
    "sig.quan.mdf"
   ]
  },
  {
   "cell_type": "code",
   "execution_count": 34,
   "metadata": {},
   "outputs": [],
   "source": [
    "# set all other values to 0 because we only want to show significant edges on a correlation plot\n",
    "cor.quan.mdf$r[which(abs(cor.quan.mdf$r) <= 0.3 & lower.tri(cor.quan.mdf$r), arr.ind=TRUE)]=0\n",
    "cor.quan.mdf$r[which(cor.quan.mdf$P >= 0.05 & lower.tri(cor.quan.mdf$r), arr.ind=TRUE)]=0"
   ]
  },
  {
   "cell_type": "code",
   "execution_count": 35,
   "metadata": {},
   "outputs": [],
   "source": [
    "# show vertex label in Genus level\n",
    "v.names.q.m = quan.mdf.w.taxa[,20]"
   ]
  },
  {
   "cell_type": "code",
   "execution_count": 36,
   "metadata": {},
   "outputs": [],
   "source": [
    "# color vertex according to Order level\n",
    "colourCount = length(unique(quan.mdf.w.taxa[,18]))\n",
    "getPalette = colorRampPalette(brewer.pal(8, \"Set2\"))\n",
    "col.q.m = getPalette(colourCount)\n",
    "my_color.q.m = col.q.m[as.numeric(as.factor(quan.mdf.w.taxa[,18]))]"
   ]
  },
  {
   "cell_type": "code",
   "execution_count": 38,
   "metadata": {},
   "outputs": [
    {
     "data": {
      "text/html": [
       "<strong>pdf:</strong> 2"
      ],
      "text/latex": [
       "\\textbf{pdf:} 2"
      ],
      "text/markdown": [
       "**pdf:** 2"
      ],
      "text/plain": [
       "pdf \n",
       "  2 "
      ]
     },
     "metadata": {},
     "output_type": "display_data"
    }
   ],
   "source": [
    "# create network graph from correlation matrix\n",
    "nw.quan.mdf <- graph_from_adjacency_matrix(cor.quan.mdf$r, weighted=T, mode=\"lower\", diag=F)\n",
    "# only show vertexes that have significant values\n",
    "V(nw.quan.mdf)$name = v.names.q.m\n",
    "V(nw.quan.mdf)$size = degree(nw.quan.mdf)\n",
    "E(nw.quan.mdf)$values = sig.quan.mdf\n",
    "# red for negative correlation, green for positive correlation\n",
    "E(nw.quan.mdf)$color <- ifelse(E(nw.quan.mdf)$values > 0,'#00FF00','#FF0000')\n",
    "\n",
    "par(bg=\"white\", mar=c(0,0,0,0))\n",
    "set.seed(123)\n",
    "pdf('quan_mdf_correlation.pdf', width=20, height=20)\n",
    "l.q.m <- layout_with_graphopt(nw.quan.mdf)\n",
    "plot.igraph(nw.quan.mdf,\n",
    "            layout=l.q.m, \n",
    "            vertex.label.cex=0.9,\n",
    "            vertex.color=my_color.q.m)\n",
    "legend(x=\"topleft\", legend=levels(as.factor(quan.mdf.w.taxa[,18])), col = col.q.m, pch=20, cex = 2, text.col=\"black\", horiz = F)\n",
    "dev.off()"
   ]
  },
  {
   "cell_type": "markdown",
   "metadata": {},
   "source": [
    "## Relative, Gypsum"
   ]
  },
  {
   "cell_type": "code",
   "execution_count": 39,
   "metadata": {},
   "outputs": [
    {
     "data": {
      "text/plain": [
       "phyloseq-class experiment-level object\n",
       "otu_table()   OTU Table:         [ 22 taxa and 9 samples ]\n",
       "sample_data() Sample Data:       [ 9 samples by 11 sample variables ]\n",
       "tax_table()   Taxonomy Table:    [ 22 taxa by 7 taxonomic ranks ]\n",
       "phy_tree()    Phylogenetic Tree: [ 22 tips and 21 internal nodes ]"
      ]
     },
     "metadata": {},
     "output_type": "display_data"
    }
   ],
   "source": [
    "# reduce the name length: p.rel.mdf = p.23s.genus.rel.mdf\n",
    "p.rel.gyp = subset_samples(p.23s.genus.rel, Material == \"Gypsum\")\n",
    "# filter out features that are not present in all samples\n",
    "p.rel.gyp = prune_taxa(taxa_sums(p.rel.gyp) > 0, p.rel.gyp)\n",
    "# filter out fatures that are NA at Genus level\n",
    "p.rel.gyp = subset_taxa(p.rel.gyp, !Genus == \"g__unidentified\")\n",
    "p.rel.gyp"
   ]
  },
  {
   "cell_type": "code",
   "execution_count": 40,
   "metadata": {
    "scrolled": true
   },
   "outputs": [],
   "source": [
    "# log10(x+1) transformation\n",
    "rel.gyp = otu_table(p.rel.gyp)\n",
    "rel.gyp = log10(rel.gyp + 1)"
   ]
  },
  {
   "cell_type": "code",
   "execution_count": 41,
   "metadata": {},
   "outputs": [],
   "source": [
    "# combine feature table with taxonomy\n",
    "rel.gyp.w.taxa = cbind(rel.gyp, tax_table(p.rel.gyp))"
   ]
  },
  {
   "cell_type": "code",
   "execution_count": 42,
   "metadata": {
    "scrolled": true
   },
   "outputs": [
    {
     "data": {
      "text/html": [
       "<table>\n",
       "<caption>A matrix: 22 × 16 of type chr</caption>\n",
       "<thead>\n",
       "\t<tr><th></th><th scope=col>T1R7</th><th scope=col>T2R7</th><th scope=col>T2R9</th><th scope=col>T3R7</th><th scope=col>T3R9</th><th scope=col>T4R7</th><th scope=col>T4R9</th><th scope=col>T5R7</th><th scope=col>T5R9</th><th scope=col>Kingdom</th><th scope=col>Phylum</th><th scope=col>Class</th><th scope=col>Order</th><th scope=col>Family</th><th scope=col>Genus</th><th scope=col>Species</th></tr>\n",
       "</thead>\n",
       "<tbody>\n",
       "\t<tr><th scope=row>SH1726759.08FU_AF444541_refs</th><td>2.00432137378264</td><td>0                 </td><td>0                  </td><td>0                  </td><td>0                 </td><td>0                 </td><td>0                 </td><td>0                 </td><td>0                </td><td>k__Fungi</td><td>p__Basidiomycota</td><td>c__Microbotryomycetes</td><td>o__Sporidiobolales  </td><td>f__Sporidiobolaceae               </td><td>g__Rhodotorula      </td><td>NA</td></tr>\n",
       "\t<tr><th scope=row>SH1715510.08FU_KU204769_reps</th><td>0               </td><td>0.315201857389394 </td><td>0.865084788656747  </td><td>0.0416545504129116 </td><td>0                 </td><td>0                 </td><td>0.196244523157484 </td><td>0                 </td><td>0                </td><td>k__Fungi</td><td>p__Ascomycota   </td><td>c__Sordariomycetes   </td><td>o__Trichosphaeriales</td><td>f__Trichosphaeriaceae             </td><td>g__Nigrospora       </td><td>NA</td></tr>\n",
       "\t<tr><th scope=row>SH1676198.08FU_KF984792_refs</th><td>0               </td><td>0                 </td><td>0.0188746725056404 </td><td>0                  </td><td>0.0422182063394944</td><td>0                 </td><td>0.23536387746396  </td><td>0                 </td><td>0.345623840397117</td><td>k__Fungi</td><td>p__Ascomycota   </td><td>c__Eurotiomycetes    </td><td>o__Eurotiales       </td><td>f__Trichocomaceae                 </td><td>g__Talaromyces      </td><td>NA</td></tr>\n",
       "\t<tr><th scope=row>SH1694434.08FU_EU037063_reps</th><td>0               </td><td>0                 </td><td>0.910285806527871  </td><td>0                  </td><td>0.263342192142712 </td><td>0                 </td><td>0.0223843461757409</td><td>0                 </td><td>0                </td><td>k__Fungi</td><td>p__Ascomycota   </td><td>c__Eurotiomycetes    </td><td>o__Eurotiales       </td><td>f__Thermoascaceae                 </td><td>g__Byssochlamys     </td><td>NA</td></tr>\n",
       "\t<tr><th scope=row>SH1692811.08FU_FJ430773_reps</th><td>0               </td><td>1.43644301177634  </td><td>1.68011004616749   </td><td>0.955256984759955  </td><td>1.34135658033166  </td><td>0.928221552025799 </td><td>0.527580683709867 </td><td>0.875788191699857 </td><td>0.744723653265533</td><td>k__Fungi</td><td>p__Ascomycota   </td><td>c__Eurotiomycetes    </td><td>o__Eurotiales       </td><td>f__Aspergillaceae                 </td><td>g__Penicillium      </td><td>NA</td></tr>\n",
       "\t<tr><th scope=row>SH1695393.08FU_U65307_reps</th><td>0               </td><td>1.83114077670608  </td><td>0.927491244543949  </td><td>1.47586421260087   </td><td>0.934797374663984 </td><td>1.29648188203823  </td><td>0.238027778853697 </td><td>1.13714704931421  </td><td>0.232399239278689</td><td>k__Fungi</td><td>p__Ascomycota   </td><td>c__Eurotiomycetes    </td><td>o__Eurotiales       </td><td>f__Aspergillaceae                 </td><td>g__Aspergillus      </td><td>NA</td></tr>\n",
       "\t<tr><th scope=row>SH1679963.08FU_KX664387_reps</th><td>0               </td><td>0                 </td><td>0                  </td><td>0                  </td><td>0.0145335456329176</td><td>0                 </td><td>0                 </td><td>0                 </td><td>0                </td><td>k__Fungi</td><td>p__Ascomycota   </td><td>c__Sordariomycetes   </td><td>o__Hypocreales      </td><td>f__Ophiocordycipitaceae           </td><td>g__Tolypocladium    </td><td>NA</td></tr>\n",
       "\t<tr><th scope=row>SH1711465.08FU_AY554212_refs</th><td>0               </td><td>0                 </td><td>0.00384112955362787</td><td>0                  </td><td>0                 </td><td>0                 </td><td>0                 </td><td>0                 </td><td>0                </td><td>k__Fungi</td><td>p__Ascomycota   </td><td>c__Sordariomycetes   </td><td>o__Hypocreales      </td><td>f__Nectriaceae                    </td><td>g__Nalanthamala     </td><td>NA</td></tr>\n",
       "\t<tr><th scope=row>SH1685996.08FU_AJ292429_refs</th><td>0               </td><td>0                 </td><td>0.0933731442292972 </td><td>0.00982386337837918</td><td>1.00446256053891  </td><td>0                 </td><td>1.68487174930527  </td><td>0                 </td><td>1.52428441955511 </td><td>k__Fungi</td><td>p__Ascomycota   </td><td>c__Sordariomycetes   </td><td>o__Hypocreales      </td><td>f__Cordycipitaceae                </td><td>g__Lecanicillium    </td><td>NA</td></tr>\n",
       "\t<tr><th scope=row>SH1729543.08FU_FR682361_reps</th><td>0               </td><td>0                 </td><td>0                  </td><td>0                  </td><td>0                 </td><td>0.0341293614826229</td><td>0                 </td><td>0                 </td><td>0                </td><td>k__Fungi</td><td>p__Ascomycota   </td><td>c__Sordariomycetes   </td><td>o__Hypocreales      </td><td>f__Hypocreales_fam_Incertae_sedis </td><td>g__Acremonium       </td><td>NA</td></tr>\n",
       "\t<tr><th scope=row>SH1729549.08FU_MG920347_reps</th><td>0               </td><td>0                 </td><td>0                  </td><td>0                  </td><td>0                 </td><td>0                 </td><td>0.0179988248960654</td><td>0                 </td><td>0                </td><td>k__Fungi</td><td>p__Ascomycota   </td><td>c__Sordariomycetes   </td><td>o__Hypocreales      </td><td>f__Hypocreaceae                   </td><td>g__Monocillium      </td><td>NA</td></tr>\n",
       "\t<tr><th scope=row>SH1706045.08FU_GU054033_reps</th><td>0               </td><td>0                 </td><td>0.0114229479447877 </td><td>0                  </td><td>0.301878984339753 </td><td>0.0470639282512343</td><td>0.29284448668288  </td><td>0.100275194805508 </td><td>0.152339743221143</td><td>k__Fungi</td><td>p__Ascomycota   </td><td>c__Sordariomycetes   </td><td>o__Hypocreales      </td><td>f__Hypocreales_fam_Incertae_sedis </td><td>g__Sarocladium      </td><td>NA</td></tr>\n",
       "\t<tr><th scope=row>SH1744621.08FU_KC181928_reps</th><td>0               </td><td>0.441786215127907 </td><td>0.793424697437229  </td><td>0.196439142051256  </td><td>0.630119889236322 </td><td>0.331343405979362 </td><td>0.261294964423725 </td><td>0.187217749423931 </td><td>0.209299166536171</td><td>k__Fungi</td><td>p__Ascomycota   </td><td>c__Dothideomycetes   </td><td>o__Capnodiales      </td><td>f__Cladosporiaceae                </td><td>g__Cladosporium     </td><td>NA</td></tr>\n",
       "\t<tr><th scope=row>SH1744611.08FU_EF679363_refs</th><td>0               </td><td>0.420693671376941 </td><td>0.931801039581949  </td><td>0.151179997523252  </td><td>0.820537053870243 </td><td>0.178080960940622 </td><td>0.52894198151097  </td><td>0.160775416839116 </td><td>0.482086856981051</td><td>k__Fungi</td><td>p__Ascomycota   </td><td>c__Dothideomycetes   </td><td>o__Capnodiales      </td><td>f__Mycosphaerellaceae             </td><td>g__Mycosphaerella   </td><td>NA</td></tr>\n",
       "\t<tr><th scope=row>SH1670916.08FU_AY943061_refs</th><td>0               </td><td>0                 </td><td>0.0351877797748058 </td><td>0                  </td><td>0.0618817949256266</td><td>0                 </td><td>0.031024728290475 </td><td>0                 </td><td>0.131562767251975</td><td>k__Fungi</td><td>p__Ascomycota   </td><td>c__Dothideomycetes   </td><td>o__Pleosporales     </td><td>f__Sporormiaceae                  </td><td>g__Preussia         </td><td>NA</td></tr>\n",
       "\t<tr><th scope=row>SH1687332.08FU_KM277974_reps</th><td>0               </td><td>0.0568469093082487</td><td>0                  </td><td>0.10690868576902   </td><td>0                 </td><td>0.0580740473794202</td><td>0                 </td><td>0.0083783927359535</td><td>0                </td><td>k__Fungi</td><td>p__Ascomycota   </td><td>c__Dothideomycetes   </td><td>o__Pleosporales     </td><td>f__Didymosphaeriaceae             </td><td>g__Paraphaeosphaeria</td><td>NA</td></tr>\n",
       "\t<tr><th scope=row>SH1712306.08FU_GU237794_refs</th><td>0               </td><td>0                 </td><td>0.515110715292859  </td><td>0                  </td><td>1.33354207902437  </td><td>0                 </td><td>0.761248980580116 </td><td>0                 </td><td>0.766635130215771</td><td>k__Fungi</td><td>p__Ascomycota   </td><td>c__Dothideomycetes   </td><td>o__Pleosporales     </td><td>f__Didymellaceae                  </td><td>g__Didymella        </td><td>NA</td></tr>\n",
       "\t<tr><th scope=row>SH1664258.08FU_LN808981_reps</th><td>0               </td><td>0.118812725656336 </td><td>0.525588353024018  </td><td>0.045250468136411  </td><td>0.301878984339753 </td><td>0                 </td><td>0.322256484691666 </td><td>0                 </td><td>0.681569251350193</td><td>k__Fungi</td><td>p__Ascomycota   </td><td>c__Dothideomycetes   </td><td>o__Pleosporales     </td><td>f__Pleosporales_fam_Incertae_sedis</td><td>g__Chalastospora    </td><td>NA</td></tr>\n",
       "\t<tr><th scope=row>SH1688430.08FU_KC584249_refs</th><td>0               </td><td>0.053503851603822 </td><td>0                  </td><td>0.164988011058903  </td><td>0                 </td><td>0.096686266116897 </td><td>0                 </td><td>0.134691054069881 </td><td>0                </td><td>k__Fungi</td><td>p__Ascomycota   </td><td>c__Dothideomycetes   </td><td>o__Pleosporales     </td><td>f__Pleosporaceae                  </td><td>g__Alternaria       </td><td>NA</td></tr>\n",
       "\t<tr><th scope=row>SH1688498.08FU_KJ650604_reps</th><td>0               </td><td>0                 </td><td>0                  </td><td>0                  </td><td>0.0145335456329176</td><td>0                 </td><td>0                 </td><td>0                 </td><td>0                </td><td>k__Fungi</td><td>p__Ascomycota   </td><td>c__Dothideomycetes   </td><td>o__Pleosporales     </td><td>f__Pleosporaceae                  </td><td>g__Bipolaris        </td><td>NA</td></tr>\n",
       "\t<tr><th scope=row>SH1688806.08FU_KY788106_reps</th><td>0               </td><td>0                 </td><td>0                  </td><td>0                  </td><td>0.0554256855190838</td><td>0                 </td><td>0.0436712925021889</td><td>0.0111356522158722</td><td>0                </td><td>k__Fungi</td><td>p__Ascomycota   </td><td>c__Dothideomycetes   </td><td>o__Pleosporales     </td><td>f__Pleosporaceae                  </td><td>g__Curvularia       </td><td>NA</td></tr>\n",
       "\t<tr><th scope=row>SH1800509.08FU_HM365253_refs</th><td>0               </td><td>0.152148780750647 </td><td>0.107155107881728  </td><td>1.64729031546836   </td><td>0.802285262970994 </td><td>1.85103074915055  </td><td>0.734149633206111 </td><td>1.88620644372407  </td><td>1.44235007788783 </td><td>k__Fungi</td><td>p__Ascomycota   </td><td>c__Sordariomycetes   </td><td>o__Sordariales      </td><td>f__Chaetomiaceae                  </td><td>g__Chaetomium       </td><td>NA</td></tr>\n",
       "</tbody>\n",
       "</table>\n"
      ],
      "text/latex": [
       "A matrix: 22 × 16 of type chr\n",
       "\\begin{tabular}{r|llllllllllllllll}\n",
       "  & T1R7 & T2R7 & T2R9 & T3R7 & T3R9 & T4R7 & T4R9 & T5R7 & T5R9 & Kingdom & Phylum & Class & Order & Family & Genus & Species\\\\\n",
       "\\hline\n",
       "\tSH1726759.08FU\\_AF444541\\_refs & 2.00432137378264 & 0                  & 0                   & 0                   & 0                  & 0                  & 0                  & 0                  & 0                 & k\\_\\_Fungi & p\\_\\_Basidiomycota & c\\_\\_Microbotryomycetes & o\\_\\_Sporidiobolales   & f\\_\\_Sporidiobolaceae                & g\\_\\_Rhodotorula       & NA\\\\\n",
       "\tSH1715510.08FU\\_KU204769\\_reps & 0                & 0.315201857389394  & 0.865084788656747   & 0.0416545504129116  & 0                  & 0                  & 0.196244523157484  & 0                  & 0                 & k\\_\\_Fungi & p\\_\\_Ascomycota    & c\\_\\_Sordariomycetes    & o\\_\\_Trichosphaeriales & f\\_\\_Trichosphaeriaceae              & g\\_\\_Nigrospora        & NA\\\\\n",
       "\tSH1676198.08FU\\_KF984792\\_refs & 0                & 0                  & 0.0188746725056404  & 0                   & 0.0422182063394944 & 0                  & 0.23536387746396   & 0                  & 0.345623840397117 & k\\_\\_Fungi & p\\_\\_Ascomycota    & c\\_\\_Eurotiomycetes     & o\\_\\_Eurotiales        & f\\_\\_Trichocomaceae                  & g\\_\\_Talaromyces       & NA\\\\\n",
       "\tSH1694434.08FU\\_EU037063\\_reps & 0                & 0                  & 0.910285806527871   & 0                   & 0.263342192142712  & 0                  & 0.0223843461757409 & 0                  & 0                 & k\\_\\_Fungi & p\\_\\_Ascomycota    & c\\_\\_Eurotiomycetes     & o\\_\\_Eurotiales        & f\\_\\_Thermoascaceae                  & g\\_\\_Byssochlamys      & NA\\\\\n",
       "\tSH1692811.08FU\\_FJ430773\\_reps & 0                & 1.43644301177634   & 1.68011004616749    & 0.955256984759955   & 1.34135658033166   & 0.928221552025799  & 0.527580683709867  & 0.875788191699857  & 0.744723653265533 & k\\_\\_Fungi & p\\_\\_Ascomycota    & c\\_\\_Eurotiomycetes     & o\\_\\_Eurotiales        & f\\_\\_Aspergillaceae                  & g\\_\\_Penicillium       & NA\\\\\n",
       "\tSH1695393.08FU\\_U65307\\_reps & 0                & 1.83114077670608   & 0.927491244543949   & 1.47586421260087    & 0.934797374663984  & 1.29648188203823   & 0.238027778853697  & 1.13714704931421   & 0.232399239278689 & k\\_\\_Fungi & p\\_\\_Ascomycota    & c\\_\\_Eurotiomycetes     & o\\_\\_Eurotiales        & f\\_\\_Aspergillaceae                  & g\\_\\_Aspergillus       & NA\\\\\n",
       "\tSH1679963.08FU\\_KX664387\\_reps & 0                & 0                  & 0                   & 0                   & 0.0145335456329176 & 0                  & 0                  & 0                  & 0                 & k\\_\\_Fungi & p\\_\\_Ascomycota    & c\\_\\_Sordariomycetes    & o\\_\\_Hypocreales       & f\\_\\_Ophiocordycipitaceae            & g\\_\\_Tolypocladium     & NA\\\\\n",
       "\tSH1711465.08FU\\_AY554212\\_refs & 0                & 0                  & 0.00384112955362787 & 0                   & 0                  & 0                  & 0                  & 0                  & 0                 & k\\_\\_Fungi & p\\_\\_Ascomycota    & c\\_\\_Sordariomycetes    & o\\_\\_Hypocreales       & f\\_\\_Nectriaceae                     & g\\_\\_Nalanthamala      & NA\\\\\n",
       "\tSH1685996.08FU\\_AJ292429\\_refs & 0                & 0                  & 0.0933731442292972  & 0.00982386337837918 & 1.00446256053891   & 0                  & 1.68487174930527   & 0                  & 1.52428441955511  & k\\_\\_Fungi & p\\_\\_Ascomycota    & c\\_\\_Sordariomycetes    & o\\_\\_Hypocreales       & f\\_\\_Cordycipitaceae                 & g\\_\\_Lecanicillium     & NA\\\\\n",
       "\tSH1729543.08FU\\_FR682361\\_reps & 0                & 0                  & 0                   & 0                   & 0                  & 0.0341293614826229 & 0                  & 0                  & 0                 & k\\_\\_Fungi & p\\_\\_Ascomycota    & c\\_\\_Sordariomycetes    & o\\_\\_Hypocreales       & f\\_\\_Hypocreales\\_fam\\_Incertae\\_sedis  & g\\_\\_Acremonium        & NA\\\\\n",
       "\tSH1729549.08FU\\_MG920347\\_reps & 0                & 0                  & 0                   & 0                   & 0                  & 0                  & 0.0179988248960654 & 0                  & 0                 & k\\_\\_Fungi & p\\_\\_Ascomycota    & c\\_\\_Sordariomycetes    & o\\_\\_Hypocreales       & f\\_\\_Hypocreaceae                    & g\\_\\_Monocillium       & NA\\\\\n",
       "\tSH1706045.08FU\\_GU054033\\_reps & 0                & 0                  & 0.0114229479447877  & 0                   & 0.301878984339753  & 0.0470639282512343 & 0.29284448668288   & 0.100275194805508  & 0.152339743221143 & k\\_\\_Fungi & p\\_\\_Ascomycota    & c\\_\\_Sordariomycetes    & o\\_\\_Hypocreales       & f\\_\\_Hypocreales\\_fam\\_Incertae\\_sedis  & g\\_\\_Sarocladium       & NA\\\\\n",
       "\tSH1744621.08FU\\_KC181928\\_reps & 0                & 0.441786215127907  & 0.793424697437229   & 0.196439142051256   & 0.630119889236322  & 0.331343405979362  & 0.261294964423725  & 0.187217749423931  & 0.209299166536171 & k\\_\\_Fungi & p\\_\\_Ascomycota    & c\\_\\_Dothideomycetes    & o\\_\\_Capnodiales       & f\\_\\_Cladosporiaceae                 & g\\_\\_Cladosporium      & NA\\\\\n",
       "\tSH1744611.08FU\\_EF679363\\_refs & 0                & 0.420693671376941  & 0.931801039581949   & 0.151179997523252   & 0.820537053870243  & 0.178080960940622  & 0.52894198151097   & 0.160775416839116  & 0.482086856981051 & k\\_\\_Fungi & p\\_\\_Ascomycota    & c\\_\\_Dothideomycetes    & o\\_\\_Capnodiales       & f\\_\\_Mycosphaerellaceae              & g\\_\\_Mycosphaerella    & NA\\\\\n",
       "\tSH1670916.08FU\\_AY943061\\_refs & 0                & 0                  & 0.0351877797748058  & 0                   & 0.0618817949256266 & 0                  & 0.031024728290475  & 0                  & 0.131562767251975 & k\\_\\_Fungi & p\\_\\_Ascomycota    & c\\_\\_Dothideomycetes    & o\\_\\_Pleosporales      & f\\_\\_Sporormiaceae                   & g\\_\\_Preussia          & NA\\\\\n",
       "\tSH1687332.08FU\\_KM277974\\_reps & 0                & 0.0568469093082487 & 0                   & 0.10690868576902    & 0                  & 0.0580740473794202 & 0                  & 0.0083783927359535 & 0                 & k\\_\\_Fungi & p\\_\\_Ascomycota    & c\\_\\_Dothideomycetes    & o\\_\\_Pleosporales      & f\\_\\_Didymosphaeriaceae              & g\\_\\_Paraphaeosphaeria & NA\\\\\n",
       "\tSH1712306.08FU\\_GU237794\\_refs & 0                & 0                  & 0.515110715292859   & 0                   & 1.33354207902437   & 0                  & 0.761248980580116  & 0                  & 0.766635130215771 & k\\_\\_Fungi & p\\_\\_Ascomycota    & c\\_\\_Dothideomycetes    & o\\_\\_Pleosporales      & f\\_\\_Didymellaceae                   & g\\_\\_Didymella         & NA\\\\\n",
       "\tSH1664258.08FU\\_LN808981\\_reps & 0                & 0.118812725656336  & 0.525588353024018   & 0.045250468136411   & 0.301878984339753  & 0                  & 0.322256484691666  & 0                  & 0.681569251350193 & k\\_\\_Fungi & p\\_\\_Ascomycota    & c\\_\\_Dothideomycetes    & o\\_\\_Pleosporales      & f\\_\\_Pleosporales\\_fam\\_Incertae\\_sedis & g\\_\\_Chalastospora     & NA\\\\\n",
       "\tSH1688430.08FU\\_KC584249\\_refs & 0                & 0.053503851603822  & 0                   & 0.164988011058903   & 0                  & 0.096686266116897  & 0                  & 0.134691054069881  & 0                 & k\\_\\_Fungi & p\\_\\_Ascomycota    & c\\_\\_Dothideomycetes    & o\\_\\_Pleosporales      & f\\_\\_Pleosporaceae                   & g\\_\\_Alternaria        & NA\\\\\n",
       "\tSH1688498.08FU\\_KJ650604\\_reps & 0                & 0                  & 0                   & 0                   & 0.0145335456329176 & 0                  & 0                  & 0                  & 0                 & k\\_\\_Fungi & p\\_\\_Ascomycota    & c\\_\\_Dothideomycetes    & o\\_\\_Pleosporales      & f\\_\\_Pleosporaceae                   & g\\_\\_Bipolaris         & NA\\\\\n",
       "\tSH1688806.08FU\\_KY788106\\_reps & 0                & 0                  & 0                   & 0                   & 0.0554256855190838 & 0                  & 0.0436712925021889 & 0.0111356522158722 & 0                 & k\\_\\_Fungi & p\\_\\_Ascomycota    & c\\_\\_Dothideomycetes    & o\\_\\_Pleosporales      & f\\_\\_Pleosporaceae                   & g\\_\\_Curvularia        & NA\\\\\n",
       "\tSH1800509.08FU\\_HM365253\\_refs & 0                & 0.152148780750647  & 0.107155107881728   & 1.64729031546836    & 0.802285262970994  & 1.85103074915055   & 0.734149633206111  & 1.88620644372407   & 1.44235007788783  & k\\_\\_Fungi & p\\_\\_Ascomycota    & c\\_\\_Sordariomycetes    & o\\_\\_Sordariales       & f\\_\\_Chaetomiaceae                   & g\\_\\_Chaetomium        & NA\\\\\n",
       "\\end{tabular}\n"
      ],
      "text/markdown": [
       "\n",
       "A matrix: 22 × 16 of type chr\n",
       "\n",
       "| <!--/--> | T1R7 | T2R7 | T2R9 | T3R7 | T3R9 | T4R7 | T4R9 | T5R7 | T5R9 | Kingdom | Phylum | Class | Order | Family | Genus | Species |\n",
       "|---|---|---|---|---|---|---|---|---|---|---|---|---|---|---|---|---|\n",
       "| SH1726759.08FU_AF444541_refs | 2.00432137378264 | 0                  | 0                   | 0                   | 0                  | 0                  | 0                  | 0                  | 0                 | k__Fungi | p__Basidiomycota | c__Microbotryomycetes | o__Sporidiobolales   | f__Sporidiobolaceae                | g__Rhodotorula       | NA |\n",
       "| SH1715510.08FU_KU204769_reps | 0                | 0.315201857389394  | 0.865084788656747   | 0.0416545504129116  | 0                  | 0                  | 0.196244523157484  | 0                  | 0                 | k__Fungi | p__Ascomycota    | c__Sordariomycetes    | o__Trichosphaeriales | f__Trichosphaeriaceae              | g__Nigrospora        | NA |\n",
       "| SH1676198.08FU_KF984792_refs | 0                | 0                  | 0.0188746725056404  | 0                   | 0.0422182063394944 | 0                  | 0.23536387746396   | 0                  | 0.345623840397117 | k__Fungi | p__Ascomycota    | c__Eurotiomycetes     | o__Eurotiales        | f__Trichocomaceae                  | g__Talaromyces       | NA |\n",
       "| SH1694434.08FU_EU037063_reps | 0                | 0                  | 0.910285806527871   | 0                   | 0.263342192142712  | 0                  | 0.0223843461757409 | 0                  | 0                 | k__Fungi | p__Ascomycota    | c__Eurotiomycetes     | o__Eurotiales        | f__Thermoascaceae                  | g__Byssochlamys      | NA |\n",
       "| SH1692811.08FU_FJ430773_reps | 0                | 1.43644301177634   | 1.68011004616749    | 0.955256984759955   | 1.34135658033166   | 0.928221552025799  | 0.527580683709867  | 0.875788191699857  | 0.744723653265533 | k__Fungi | p__Ascomycota    | c__Eurotiomycetes     | o__Eurotiales        | f__Aspergillaceae                  | g__Penicillium       | NA |\n",
       "| SH1695393.08FU_U65307_reps | 0                | 1.83114077670608   | 0.927491244543949   | 1.47586421260087    | 0.934797374663984  | 1.29648188203823   | 0.238027778853697  | 1.13714704931421   | 0.232399239278689 | k__Fungi | p__Ascomycota    | c__Eurotiomycetes     | o__Eurotiales        | f__Aspergillaceae                  | g__Aspergillus       | NA |\n",
       "| SH1679963.08FU_KX664387_reps | 0                | 0                  | 0                   | 0                   | 0.0145335456329176 | 0                  | 0                  | 0                  | 0                 | k__Fungi | p__Ascomycota    | c__Sordariomycetes    | o__Hypocreales       | f__Ophiocordycipitaceae            | g__Tolypocladium     | NA |\n",
       "| SH1711465.08FU_AY554212_refs | 0                | 0                  | 0.00384112955362787 | 0                   | 0                  | 0                  | 0                  | 0                  | 0                 | k__Fungi | p__Ascomycota    | c__Sordariomycetes    | o__Hypocreales       | f__Nectriaceae                     | g__Nalanthamala      | NA |\n",
       "| SH1685996.08FU_AJ292429_refs | 0                | 0                  | 0.0933731442292972  | 0.00982386337837918 | 1.00446256053891   | 0                  | 1.68487174930527   | 0                  | 1.52428441955511  | k__Fungi | p__Ascomycota    | c__Sordariomycetes    | o__Hypocreales       | f__Cordycipitaceae                 | g__Lecanicillium     | NA |\n",
       "| SH1729543.08FU_FR682361_reps | 0                | 0                  | 0                   | 0                   | 0                  | 0.0341293614826229 | 0                  | 0                  | 0                 | k__Fungi | p__Ascomycota    | c__Sordariomycetes    | o__Hypocreales       | f__Hypocreales_fam_Incertae_sedis  | g__Acremonium        | NA |\n",
       "| SH1729549.08FU_MG920347_reps | 0                | 0                  | 0                   | 0                   | 0                  | 0                  | 0.0179988248960654 | 0                  | 0                 | k__Fungi | p__Ascomycota    | c__Sordariomycetes    | o__Hypocreales       | f__Hypocreaceae                    | g__Monocillium       | NA |\n",
       "| SH1706045.08FU_GU054033_reps | 0                | 0                  | 0.0114229479447877  | 0                   | 0.301878984339753  | 0.0470639282512343 | 0.29284448668288   | 0.100275194805508  | 0.152339743221143 | k__Fungi | p__Ascomycota    | c__Sordariomycetes    | o__Hypocreales       | f__Hypocreales_fam_Incertae_sedis  | g__Sarocladium       | NA |\n",
       "| SH1744621.08FU_KC181928_reps | 0                | 0.441786215127907  | 0.793424697437229   | 0.196439142051256   | 0.630119889236322  | 0.331343405979362  | 0.261294964423725  | 0.187217749423931  | 0.209299166536171 | k__Fungi | p__Ascomycota    | c__Dothideomycetes    | o__Capnodiales       | f__Cladosporiaceae                 | g__Cladosporium      | NA |\n",
       "| SH1744611.08FU_EF679363_refs | 0                | 0.420693671376941  | 0.931801039581949   | 0.151179997523252   | 0.820537053870243  | 0.178080960940622  | 0.52894198151097   | 0.160775416839116  | 0.482086856981051 | k__Fungi | p__Ascomycota    | c__Dothideomycetes    | o__Capnodiales       | f__Mycosphaerellaceae              | g__Mycosphaerella    | NA |\n",
       "| SH1670916.08FU_AY943061_refs | 0                | 0                  | 0.0351877797748058  | 0                   | 0.0618817949256266 | 0                  | 0.031024728290475  | 0                  | 0.131562767251975 | k__Fungi | p__Ascomycota    | c__Dothideomycetes    | o__Pleosporales      | f__Sporormiaceae                   | g__Preussia          | NA |\n",
       "| SH1687332.08FU_KM277974_reps | 0                | 0.0568469093082487 | 0                   | 0.10690868576902    | 0                  | 0.0580740473794202 | 0                  | 0.0083783927359535 | 0                 | k__Fungi | p__Ascomycota    | c__Dothideomycetes    | o__Pleosporales      | f__Didymosphaeriaceae              | g__Paraphaeosphaeria | NA |\n",
       "| SH1712306.08FU_GU237794_refs | 0                | 0                  | 0.515110715292859   | 0                   | 1.33354207902437   | 0                  | 0.761248980580116  | 0                  | 0.766635130215771 | k__Fungi | p__Ascomycota    | c__Dothideomycetes    | o__Pleosporales      | f__Didymellaceae                   | g__Didymella         | NA |\n",
       "| SH1664258.08FU_LN808981_reps | 0                | 0.118812725656336  | 0.525588353024018   | 0.045250468136411   | 0.301878984339753  | 0                  | 0.322256484691666  | 0                  | 0.681569251350193 | k__Fungi | p__Ascomycota    | c__Dothideomycetes    | o__Pleosporales      | f__Pleosporales_fam_Incertae_sedis | g__Chalastospora     | NA |\n",
       "| SH1688430.08FU_KC584249_refs | 0                | 0.053503851603822  | 0                   | 0.164988011058903   | 0                  | 0.096686266116897  | 0                  | 0.134691054069881  | 0                 | k__Fungi | p__Ascomycota    | c__Dothideomycetes    | o__Pleosporales      | f__Pleosporaceae                   | g__Alternaria        | NA |\n",
       "| SH1688498.08FU_KJ650604_reps | 0                | 0                  | 0                   | 0                   | 0.0145335456329176 | 0                  | 0                  | 0                  | 0                 | k__Fungi | p__Ascomycota    | c__Dothideomycetes    | o__Pleosporales      | f__Pleosporaceae                   | g__Bipolaris         | NA |\n",
       "| SH1688806.08FU_KY788106_reps | 0                | 0                  | 0                   | 0                   | 0.0554256855190838 | 0                  | 0.0436712925021889 | 0.0111356522158722 | 0                 | k__Fungi | p__Ascomycota    | c__Dothideomycetes    | o__Pleosporales      | f__Pleosporaceae                   | g__Curvularia        | NA |\n",
       "| SH1800509.08FU_HM365253_refs | 0                | 0.152148780750647  | 0.107155107881728   | 1.64729031546836    | 0.802285262970994  | 1.85103074915055   | 0.734149633206111  | 1.88620644372407   | 1.44235007788783  | k__Fungi | p__Ascomycota    | c__Sordariomycetes    | o__Sordariales       | f__Chaetomiaceae                   | g__Chaetomium        | NA |\n",
       "\n"
      ],
      "text/plain": [
       "                             T1R7             T2R7              \n",
       "SH1726759.08FU_AF444541_refs 2.00432137378264 0                 \n",
       "SH1715510.08FU_KU204769_reps 0                0.315201857389394 \n",
       "SH1676198.08FU_KF984792_refs 0                0                 \n",
       "SH1694434.08FU_EU037063_reps 0                0                 \n",
       "SH1692811.08FU_FJ430773_reps 0                1.43644301177634  \n",
       "SH1695393.08FU_U65307_reps   0                1.83114077670608  \n",
       "SH1679963.08FU_KX664387_reps 0                0                 \n",
       "SH1711465.08FU_AY554212_refs 0                0                 \n",
       "SH1685996.08FU_AJ292429_refs 0                0                 \n",
       "SH1729543.08FU_FR682361_reps 0                0                 \n",
       "SH1729549.08FU_MG920347_reps 0                0                 \n",
       "SH1706045.08FU_GU054033_reps 0                0                 \n",
       "SH1744621.08FU_KC181928_reps 0                0.441786215127907 \n",
       "SH1744611.08FU_EF679363_refs 0                0.420693671376941 \n",
       "SH1670916.08FU_AY943061_refs 0                0                 \n",
       "SH1687332.08FU_KM277974_reps 0                0.0568469093082487\n",
       "SH1712306.08FU_GU237794_refs 0                0                 \n",
       "SH1664258.08FU_LN808981_reps 0                0.118812725656336 \n",
       "SH1688430.08FU_KC584249_refs 0                0.053503851603822 \n",
       "SH1688498.08FU_KJ650604_reps 0                0                 \n",
       "SH1688806.08FU_KY788106_reps 0                0                 \n",
       "SH1800509.08FU_HM365253_refs 0                0.152148780750647 \n",
       "                             T2R9                T3R7               \n",
       "SH1726759.08FU_AF444541_refs 0                   0                  \n",
       "SH1715510.08FU_KU204769_reps 0.865084788656747   0.0416545504129116 \n",
       "SH1676198.08FU_KF984792_refs 0.0188746725056404  0                  \n",
       "SH1694434.08FU_EU037063_reps 0.910285806527871   0                  \n",
       "SH1692811.08FU_FJ430773_reps 1.68011004616749    0.955256984759955  \n",
       "SH1695393.08FU_U65307_reps   0.927491244543949   1.47586421260087   \n",
       "SH1679963.08FU_KX664387_reps 0                   0                  \n",
       "SH1711465.08FU_AY554212_refs 0.00384112955362787 0                  \n",
       "SH1685996.08FU_AJ292429_refs 0.0933731442292972  0.00982386337837918\n",
       "SH1729543.08FU_FR682361_reps 0                   0                  \n",
       "SH1729549.08FU_MG920347_reps 0                   0                  \n",
       "SH1706045.08FU_GU054033_reps 0.0114229479447877  0                  \n",
       "SH1744621.08FU_KC181928_reps 0.793424697437229   0.196439142051256  \n",
       "SH1744611.08FU_EF679363_refs 0.931801039581949   0.151179997523252  \n",
       "SH1670916.08FU_AY943061_refs 0.0351877797748058  0                  \n",
       "SH1687332.08FU_KM277974_reps 0                   0.10690868576902   \n",
       "SH1712306.08FU_GU237794_refs 0.515110715292859   0                  \n",
       "SH1664258.08FU_LN808981_reps 0.525588353024018   0.045250468136411  \n",
       "SH1688430.08FU_KC584249_refs 0                   0.164988011058903  \n",
       "SH1688498.08FU_KJ650604_reps 0                   0                  \n",
       "SH1688806.08FU_KY788106_reps 0                   0                  \n",
       "SH1800509.08FU_HM365253_refs 0.107155107881728   1.64729031546836   \n",
       "                             T3R9               T4R7              \n",
       "SH1726759.08FU_AF444541_refs 0                  0                 \n",
       "SH1715510.08FU_KU204769_reps 0                  0                 \n",
       "SH1676198.08FU_KF984792_refs 0.0422182063394944 0                 \n",
       "SH1694434.08FU_EU037063_reps 0.263342192142712  0                 \n",
       "SH1692811.08FU_FJ430773_reps 1.34135658033166   0.928221552025799 \n",
       "SH1695393.08FU_U65307_reps   0.934797374663984  1.29648188203823  \n",
       "SH1679963.08FU_KX664387_reps 0.0145335456329176 0                 \n",
       "SH1711465.08FU_AY554212_refs 0                  0                 \n",
       "SH1685996.08FU_AJ292429_refs 1.00446256053891   0                 \n",
       "SH1729543.08FU_FR682361_reps 0                  0.0341293614826229\n",
       "SH1729549.08FU_MG920347_reps 0                  0                 \n",
       "SH1706045.08FU_GU054033_reps 0.301878984339753  0.0470639282512343\n",
       "SH1744621.08FU_KC181928_reps 0.630119889236322  0.331343405979362 \n",
       "SH1744611.08FU_EF679363_refs 0.820537053870243  0.178080960940622 \n",
       "SH1670916.08FU_AY943061_refs 0.0618817949256266 0                 \n",
       "SH1687332.08FU_KM277974_reps 0                  0.0580740473794202\n",
       "SH1712306.08FU_GU237794_refs 1.33354207902437   0                 \n",
       "SH1664258.08FU_LN808981_reps 0.301878984339753  0                 \n",
       "SH1688430.08FU_KC584249_refs 0                  0.096686266116897 \n",
       "SH1688498.08FU_KJ650604_reps 0.0145335456329176 0                 \n",
       "SH1688806.08FU_KY788106_reps 0.0554256855190838 0                 \n",
       "SH1800509.08FU_HM365253_refs 0.802285262970994  1.85103074915055  \n",
       "                             T4R9               T5R7              \n",
       "SH1726759.08FU_AF444541_refs 0                  0                 \n",
       "SH1715510.08FU_KU204769_reps 0.196244523157484  0                 \n",
       "SH1676198.08FU_KF984792_refs 0.23536387746396   0                 \n",
       "SH1694434.08FU_EU037063_reps 0.0223843461757409 0                 \n",
       "SH1692811.08FU_FJ430773_reps 0.527580683709867  0.875788191699857 \n",
       "SH1695393.08FU_U65307_reps   0.238027778853697  1.13714704931421  \n",
       "SH1679963.08FU_KX664387_reps 0                  0                 \n",
       "SH1711465.08FU_AY554212_refs 0                  0                 \n",
       "SH1685996.08FU_AJ292429_refs 1.68487174930527   0                 \n",
       "SH1729543.08FU_FR682361_reps 0                  0                 \n",
       "SH1729549.08FU_MG920347_reps 0.0179988248960654 0                 \n",
       "SH1706045.08FU_GU054033_reps 0.29284448668288   0.100275194805508 \n",
       "SH1744621.08FU_KC181928_reps 0.261294964423725  0.187217749423931 \n",
       "SH1744611.08FU_EF679363_refs 0.52894198151097   0.160775416839116 \n",
       "SH1670916.08FU_AY943061_refs 0.031024728290475  0                 \n",
       "SH1687332.08FU_KM277974_reps 0                  0.0083783927359535\n",
       "SH1712306.08FU_GU237794_refs 0.761248980580116  0                 \n",
       "SH1664258.08FU_LN808981_reps 0.322256484691666  0                 \n",
       "SH1688430.08FU_KC584249_refs 0                  0.134691054069881 \n",
       "SH1688498.08FU_KJ650604_reps 0                  0                 \n",
       "SH1688806.08FU_KY788106_reps 0.0436712925021889 0.0111356522158722\n",
       "SH1800509.08FU_HM365253_refs 0.734149633206111  1.88620644372407  \n",
       "                             T5R9              Kingdom  Phylum          \n",
       "SH1726759.08FU_AF444541_refs 0                 k__Fungi p__Basidiomycota\n",
       "SH1715510.08FU_KU204769_reps 0                 k__Fungi p__Ascomycota   \n",
       "SH1676198.08FU_KF984792_refs 0.345623840397117 k__Fungi p__Ascomycota   \n",
       "SH1694434.08FU_EU037063_reps 0                 k__Fungi p__Ascomycota   \n",
       "SH1692811.08FU_FJ430773_reps 0.744723653265533 k__Fungi p__Ascomycota   \n",
       "SH1695393.08FU_U65307_reps   0.232399239278689 k__Fungi p__Ascomycota   \n",
       "SH1679963.08FU_KX664387_reps 0                 k__Fungi p__Ascomycota   \n",
       "SH1711465.08FU_AY554212_refs 0                 k__Fungi p__Ascomycota   \n",
       "SH1685996.08FU_AJ292429_refs 1.52428441955511  k__Fungi p__Ascomycota   \n",
       "SH1729543.08FU_FR682361_reps 0                 k__Fungi p__Ascomycota   \n",
       "SH1729549.08FU_MG920347_reps 0                 k__Fungi p__Ascomycota   \n",
       "SH1706045.08FU_GU054033_reps 0.152339743221143 k__Fungi p__Ascomycota   \n",
       "SH1744621.08FU_KC181928_reps 0.209299166536171 k__Fungi p__Ascomycota   \n",
       "SH1744611.08FU_EF679363_refs 0.482086856981051 k__Fungi p__Ascomycota   \n",
       "SH1670916.08FU_AY943061_refs 0.131562767251975 k__Fungi p__Ascomycota   \n",
       "SH1687332.08FU_KM277974_reps 0                 k__Fungi p__Ascomycota   \n",
       "SH1712306.08FU_GU237794_refs 0.766635130215771 k__Fungi p__Ascomycota   \n",
       "SH1664258.08FU_LN808981_reps 0.681569251350193 k__Fungi p__Ascomycota   \n",
       "SH1688430.08FU_KC584249_refs 0                 k__Fungi p__Ascomycota   \n",
       "SH1688498.08FU_KJ650604_reps 0                 k__Fungi p__Ascomycota   \n",
       "SH1688806.08FU_KY788106_reps 0                 k__Fungi p__Ascomycota   \n",
       "SH1800509.08FU_HM365253_refs 1.44235007788783  k__Fungi p__Ascomycota   \n",
       "                             Class                 Order               \n",
       "SH1726759.08FU_AF444541_refs c__Microbotryomycetes o__Sporidiobolales  \n",
       "SH1715510.08FU_KU204769_reps c__Sordariomycetes    o__Trichosphaeriales\n",
       "SH1676198.08FU_KF984792_refs c__Eurotiomycetes     o__Eurotiales       \n",
       "SH1694434.08FU_EU037063_reps c__Eurotiomycetes     o__Eurotiales       \n",
       "SH1692811.08FU_FJ430773_reps c__Eurotiomycetes     o__Eurotiales       \n",
       "SH1695393.08FU_U65307_reps   c__Eurotiomycetes     o__Eurotiales       \n",
       "SH1679963.08FU_KX664387_reps c__Sordariomycetes    o__Hypocreales      \n",
       "SH1711465.08FU_AY554212_refs c__Sordariomycetes    o__Hypocreales      \n",
       "SH1685996.08FU_AJ292429_refs c__Sordariomycetes    o__Hypocreales      \n",
       "SH1729543.08FU_FR682361_reps c__Sordariomycetes    o__Hypocreales      \n",
       "SH1729549.08FU_MG920347_reps c__Sordariomycetes    o__Hypocreales      \n",
       "SH1706045.08FU_GU054033_reps c__Sordariomycetes    o__Hypocreales      \n",
       "SH1744621.08FU_KC181928_reps c__Dothideomycetes    o__Capnodiales      \n",
       "SH1744611.08FU_EF679363_refs c__Dothideomycetes    o__Capnodiales      \n",
       "SH1670916.08FU_AY943061_refs c__Dothideomycetes    o__Pleosporales     \n",
       "SH1687332.08FU_KM277974_reps c__Dothideomycetes    o__Pleosporales     \n",
       "SH1712306.08FU_GU237794_refs c__Dothideomycetes    o__Pleosporales     \n",
       "SH1664258.08FU_LN808981_reps c__Dothideomycetes    o__Pleosporales     \n",
       "SH1688430.08FU_KC584249_refs c__Dothideomycetes    o__Pleosporales     \n",
       "SH1688498.08FU_KJ650604_reps c__Dothideomycetes    o__Pleosporales     \n",
       "SH1688806.08FU_KY788106_reps c__Dothideomycetes    o__Pleosporales     \n",
       "SH1800509.08FU_HM365253_refs c__Sordariomycetes    o__Sordariales      \n",
       "                             Family                            \n",
       "SH1726759.08FU_AF444541_refs f__Sporidiobolaceae               \n",
       "SH1715510.08FU_KU204769_reps f__Trichosphaeriaceae             \n",
       "SH1676198.08FU_KF984792_refs f__Trichocomaceae                 \n",
       "SH1694434.08FU_EU037063_reps f__Thermoascaceae                 \n",
       "SH1692811.08FU_FJ430773_reps f__Aspergillaceae                 \n",
       "SH1695393.08FU_U65307_reps   f__Aspergillaceae                 \n",
       "SH1679963.08FU_KX664387_reps f__Ophiocordycipitaceae           \n",
       "SH1711465.08FU_AY554212_refs f__Nectriaceae                    \n",
       "SH1685996.08FU_AJ292429_refs f__Cordycipitaceae                \n",
       "SH1729543.08FU_FR682361_reps f__Hypocreales_fam_Incertae_sedis \n",
       "SH1729549.08FU_MG920347_reps f__Hypocreaceae                   \n",
       "SH1706045.08FU_GU054033_reps f__Hypocreales_fam_Incertae_sedis \n",
       "SH1744621.08FU_KC181928_reps f__Cladosporiaceae                \n",
       "SH1744611.08FU_EF679363_refs f__Mycosphaerellaceae             \n",
       "SH1670916.08FU_AY943061_refs f__Sporormiaceae                  \n",
       "SH1687332.08FU_KM277974_reps f__Didymosphaeriaceae             \n",
       "SH1712306.08FU_GU237794_refs f__Didymellaceae                  \n",
       "SH1664258.08FU_LN808981_reps f__Pleosporales_fam_Incertae_sedis\n",
       "SH1688430.08FU_KC584249_refs f__Pleosporaceae                  \n",
       "SH1688498.08FU_KJ650604_reps f__Pleosporaceae                  \n",
       "SH1688806.08FU_KY788106_reps f__Pleosporaceae                  \n",
       "SH1800509.08FU_HM365253_refs f__Chaetomiaceae                  \n",
       "                             Genus                Species\n",
       "SH1726759.08FU_AF444541_refs g__Rhodotorula       NA     \n",
       "SH1715510.08FU_KU204769_reps g__Nigrospora        NA     \n",
       "SH1676198.08FU_KF984792_refs g__Talaromyces       NA     \n",
       "SH1694434.08FU_EU037063_reps g__Byssochlamys      NA     \n",
       "SH1692811.08FU_FJ430773_reps g__Penicillium       NA     \n",
       "SH1695393.08FU_U65307_reps   g__Aspergillus       NA     \n",
       "SH1679963.08FU_KX664387_reps g__Tolypocladium     NA     \n",
       "SH1711465.08FU_AY554212_refs g__Nalanthamala      NA     \n",
       "SH1685996.08FU_AJ292429_refs g__Lecanicillium     NA     \n",
       "SH1729543.08FU_FR682361_reps g__Acremonium        NA     \n",
       "SH1729549.08FU_MG920347_reps g__Monocillium       NA     \n",
       "SH1706045.08FU_GU054033_reps g__Sarocladium       NA     \n",
       "SH1744621.08FU_KC181928_reps g__Cladosporium      NA     \n",
       "SH1744611.08FU_EF679363_refs g__Mycosphaerella    NA     \n",
       "SH1670916.08FU_AY943061_refs g__Preussia          NA     \n",
       "SH1687332.08FU_KM277974_reps g__Paraphaeosphaeria NA     \n",
       "SH1712306.08FU_GU237794_refs g__Didymella         NA     \n",
       "SH1664258.08FU_LN808981_reps g__Chalastospora     NA     \n",
       "SH1688430.08FU_KC584249_refs g__Alternaria        NA     \n",
       "SH1688498.08FU_KJ650604_reps g__Bipolaris         NA     \n",
       "SH1688806.08FU_KY788106_reps g__Curvularia        NA     \n",
       "SH1800509.08FU_HM365253_refs g__Chaetomium        NA     "
      ]
     },
     "metadata": {},
     "output_type": "display_data"
    }
   ],
   "source": [
    "rel.gyp.w.taxa"
   ]
  },
  {
   "cell_type": "code",
   "execution_count": 43,
   "metadata": {},
   "outputs": [],
   "source": [
    "# Pearson correlation\n",
    "cor.rel.gyp = rcorr(t(rel.gyp), type='pearson')"
   ]
  },
  {
   "cell_type": "code",
   "execution_count": 46,
   "metadata": {},
   "outputs": [
    {
     "data": {
      "text/html": [
       "35"
      ],
      "text/latex": [
       "35"
      ],
      "text/markdown": [
       "35"
      ],
      "text/plain": [
       "[1] 35"
      ]
     },
     "metadata": {},
     "output_type": "display_data"
    }
   ],
   "source": [
    "# extract significant values: abs(r)>0.3 & P < 0.05\n",
    "indices.r.g = which(abs(cor.rel.gyp$r) > 0.3 & cor.rel.gyp$P < 0.05 & lower.tri(cor.rel.gyp$r),arr.ind=TRUE)\n",
    "# order index by row, in the same order as graph edges\n",
    "indices.r.g.by.row = indices.r.g[order(indices.r.g[,1]),]\n",
    "\n",
    "sig.rel.gyp = cor.rel.gyp$r[indices.r.g.by.row]\n",
    "length(sig.rel.gyp)"
   ]
  },
  {
   "cell_type": "code",
   "execution_count": 47,
   "metadata": {
    "scrolled": true
   },
   "outputs": [
    {
     "data": {
      "text/html": [
       "<ol class=list-inline>\n",
       "\t<li>0.860761340081485</li>\n",
       "\t<li>-0.698515960893035</li>\n",
       "\t<li>0.687085371444795</li>\n",
       "\t<li>0.920578745458392</li>\n",
       "\t<li>0.958826030797091</li>\n",
       "\t<li>0.89833742706591</li>\n",
       "\t<li>0.843255955815787</li>\n",
       "\t<li>0.713700525648913</li>\n",
       "\t<li>0.817494601691006</li>\n",
       "\t<li>0.891946675755826</li>\n",
       "\t<li>0.693527995089153</li>\n",
       "\t<li>0.758986145067969</li>\n",
       "\t<li>0.692506114880484</li>\n",
       "\t<li>0.886033986302439</li>\n",
       "\t<li>0.823013159349838</li>\n",
       "\t<li>0.759072780183272</li>\n",
       "\t<li>0.719508214728928</li>\n",
       "\t<li>0.729034316720129</li>\n",
       "\t<li>0.785140153945383</li>\n",
       "\t<li>0.84075310417484</li>\n",
       "\t<li>0.77082025787543</li>\n",
       "\t<li>0.727582430558622</li>\n",
       "\t<li>0.741570237412231</li>\n",
       "\t<li>0.675548357927265</li>\n",
       "\t<li>0.744611080521538</li>\n",
       "\t<li>0.882192969693066</li>\n",
       "\t<li>0.695811557532972</li>\n",
       "\t<li>0.768819566861381</li>\n",
       "\t<li>1</li>\n",
       "\t<li>0.729034316720129</li>\n",
       "\t<li>0.747553877908062</li>\n",
       "\t<li>0.915826237315408</li>\n",
       "\t<li>0.770333836679359</li>\n",
       "\t<li>0.747553877908062</li>\n",
       "\t<li>0.691774067396957</li>\n",
       "</ol>\n"
      ],
      "text/latex": [
       "\\begin{enumerate*}\n",
       "\\item 0.860761340081485\n",
       "\\item -0.698515960893035\n",
       "\\item 0.687085371444795\n",
       "\\item 0.920578745458392\n",
       "\\item 0.958826030797091\n",
       "\\item 0.89833742706591\n",
       "\\item 0.843255955815787\n",
       "\\item 0.713700525648913\n",
       "\\item 0.817494601691006\n",
       "\\item 0.891946675755826\n",
       "\\item 0.693527995089153\n",
       "\\item 0.758986145067969\n",
       "\\item 0.692506114880484\n",
       "\\item 0.886033986302439\n",
       "\\item 0.823013159349838\n",
       "\\item 0.759072780183272\n",
       "\\item 0.719508214728928\n",
       "\\item 0.729034316720129\n",
       "\\item 0.785140153945383\n",
       "\\item 0.84075310417484\n",
       "\\item 0.77082025787543\n",
       "\\item 0.727582430558622\n",
       "\\item 0.741570237412231\n",
       "\\item 0.675548357927265\n",
       "\\item 0.744611080521538\n",
       "\\item 0.882192969693066\n",
       "\\item 0.695811557532972\n",
       "\\item 0.768819566861381\n",
       "\\item 1\n",
       "\\item 0.729034316720129\n",
       "\\item 0.747553877908062\n",
       "\\item 0.915826237315408\n",
       "\\item 0.770333836679359\n",
       "\\item 0.747553877908062\n",
       "\\item 0.691774067396957\n",
       "\\end{enumerate*}\n"
      ],
      "text/markdown": [
       "1. 0.860761340081485\n",
       "2. -0.698515960893035\n",
       "3. 0.687085371444795\n",
       "4. 0.920578745458392\n",
       "5. 0.958826030797091\n",
       "6. 0.89833742706591\n",
       "7. 0.843255955815787\n",
       "8. 0.713700525648913\n",
       "9. 0.817494601691006\n",
       "10. 0.891946675755826\n",
       "11. 0.693527995089153\n",
       "12. 0.758986145067969\n",
       "13. 0.692506114880484\n",
       "14. 0.886033986302439\n",
       "15. 0.823013159349838\n",
       "16. 0.759072780183272\n",
       "17. 0.719508214728928\n",
       "18. 0.729034316720129\n",
       "19. 0.785140153945383\n",
       "20. 0.84075310417484\n",
       "21. 0.77082025787543\n",
       "22. 0.727582430558622\n",
       "23. 0.741570237412231\n",
       "24. 0.675548357927265\n",
       "25. 0.744611080521538\n",
       "26. 0.882192969693066\n",
       "27. 0.695811557532972\n",
       "28. 0.768819566861381\n",
       "29. 1\n",
       "30. 0.729034316720129\n",
       "31. 0.747553877908062\n",
       "32. 0.915826237315408\n",
       "33. 0.770333836679359\n",
       "34. 0.747553877908062\n",
       "35. 0.691774067396957\n",
       "\n",
       "\n"
      ],
      "text/plain": [
       " [1]  0.8607613 -0.6985160  0.6870854  0.9205787  0.9588260  0.8983374\n",
       " [7]  0.8432560  0.7137005  0.8174946  0.8919467  0.6935280  0.7589861\n",
       "[13]  0.6925061  0.8860340  0.8230132  0.7590728  0.7195082  0.7290343\n",
       "[19]  0.7851402  0.8407531  0.7708203  0.7275824  0.7415702  0.6755484\n",
       "[25]  0.7446111  0.8821930  0.6958116  0.7688196  1.0000000  0.7290343\n",
       "[31]  0.7475539  0.9158262  0.7703338  0.7475539  0.6917741"
      ]
     },
     "metadata": {},
     "output_type": "display_data"
    }
   ],
   "source": [
    "sig.rel.gyp"
   ]
  },
  {
   "cell_type": "code",
   "execution_count": 48,
   "metadata": {},
   "outputs": [],
   "source": [
    "# set all other values to 0 because we only want to show significant edges on a correlation plot\n",
    "cor.rel.gyp$r[which(abs(cor.rel.gyp$r) <= 0.3 & lower.tri(cor.rel.gyp$r), arr.ind=TRUE)]=0\n",
    "cor.rel.gyp$r[which(cor.rel.gyp$P >= 0.05 & lower.tri(cor.rel.gyp$r), arr.ind=TRUE)]=0"
   ]
  },
  {
   "cell_type": "code",
   "execution_count": 49,
   "metadata": {},
   "outputs": [],
   "source": [
    "# show vertex label in Genus level\n",
    "v.names.r.g = rel.gyp.w.taxa[,15]"
   ]
  },
  {
   "cell_type": "code",
   "execution_count": 50,
   "metadata": {},
   "outputs": [],
   "source": [
    "# color vertex according to Order level\n",
    "colourCount = length(unique(rel.gyp.w.taxa[,13]))\n",
    "getPalette = colorRampPalette(brewer.pal(8, \"Set2\"))\n",
    "col.r.g = getPalette(colourCount)\n",
    "my_color.r.g = col.r.g[as.numeric(as.factor(rel.gyp.w.taxa[,13]))]"
   ]
  },
  {
   "cell_type": "code",
   "execution_count": 52,
   "metadata": {},
   "outputs": [
    {
     "data": {
      "text/html": [
       "<strong>pdf:</strong> 2"
      ],
      "text/latex": [
       "\\textbf{pdf:} 2"
      ],
      "text/markdown": [
       "**pdf:** 2"
      ],
      "text/plain": [
       "pdf \n",
       "  2 "
      ]
     },
     "metadata": {},
     "output_type": "display_data"
    }
   ],
   "source": [
    "# create network graph from correlation matrix\n",
    "nw.rel.gyp <- graph_from_adjacency_matrix(cor.rel.gyp$r, weighted=T, mode=\"lower\", diag=F)\n",
    "# only show vertexes that have significant values\n",
    "V(nw.rel.gyp)$name = v.names.r.g\n",
    "V(nw.rel.gyp)$size = degree(nw.rel.gyp)\n",
    "E(nw.rel.gyp)$values = sig.rel.gyp\n",
    "# red for negative correlation, green for positive correlation\n",
    "E(nw.rel.gyp)$color <- ifelse(E(nw.rel.gyp)$values > 0,'#00FF00','#FF0000')\n",
    "\n",
    "par(bg=\"white\", mar=c(0,0,0,0))\n",
    "set.seed(123)\n",
    "pdf('rel_gyp_correlation.pdf', width=20, height=20)\n",
    "l.r.g <- layout_with_graphopt(nw.rel.gyp)\n",
    "plot.igraph(nw.rel.gyp,\n",
    "            layout=l.r.g, \n",
    "            vertex.label.cex=0.9,\n",
    "            vertex.color=my_color.r.g)\n",
    "legend(x=\"topleft\", legend=levels(as.factor(rel.gyp.w.taxa[,13])), col = col.r.g, pch=20, cex = 2, text.col=\"black\", horiz = F)\n",
    "dev.off()"
   ]
  },
  {
   "cell_type": "markdown",
   "metadata": {},
   "source": [
    "## Quantitative, Gypsum"
   ]
  },
  {
   "cell_type": "code",
   "execution_count": 53,
   "metadata": {},
   "outputs": [],
   "source": [
    "# using previous objects, and convert relative abundance to quantitative abundance\n",
    "#sample_data(p.rel.gyp)\n",
    "count.gyp = as.data.frame(sample_data(p.rel.gyp))$Counts\n",
    "p.quan.gyp = p.rel.gyp\n",
    "otu_table(p.quan.gyp) = rel_to_quan(p.quan.gyp, count.gyp)"
   ]
  },
  {
   "cell_type": "code",
   "execution_count": 54,
   "metadata": {
    "scrolled": true
   },
   "outputs": [
    {
     "data": {
      "text/html": [
       "<table>\n",
       "<caption>A otu_table: 22 × 9 of type dbl</caption>\n",
       "<thead>\n",
       "\t<tr><th></th><th scope=col>T1R7</th><th scope=col>T2R7</th><th scope=col>T2R9</th><th scope=col>T3R7</th><th scope=col>T3R9</th><th scope=col>T4R7</th><th scope=col>T4R9</th><th scope=col>T5R7</th><th scope=col>T5R9</th></tr>\n",
       "</thead>\n",
       "<tbody>\n",
       "\t<tr><th scope=row>SH1726759.08FU_AF444541_refs</th><td>1018.769</td><td>    0.00000</td><td>   0.0000000</td><td>     0.000</td><td>   0.00000</td><td>      0.000</td><td>    0.00000</td><td>      0.0000</td><td>     0.000</td></tr>\n",
       "\t<tr><th scope=row>SH1715510.08FU_KU204769_reps</th><td>   0.000</td><td>  269.61350</td><td> 314.3633678</td><td>  1052.313</td><td>   0.00000</td><td>      0.000</td><td>  702.37312</td><td>      0.0000</td><td>     0.000</td></tr>\n",
       "\t<tr><th scope=row>SH1676198.08FU_KF984792_refs</th><td>   0.000</td><td>    0.00000</td><td>   2.2060587</td><td>     0.000</td><td>  41.10314</td><td>      0.000</td><td>  884.46985</td><td>      0.0000</td><td> 20905.413</td></tr>\n",
       "\t<tr><th scope=row>SH1694434.08FU_EU037063_reps</th><td>   0.000</td><td>    0.00000</td><td> 354.2930307</td><td>     0.000</td><td> 335.67568</td><td>      0.000</td><td>   65.03455</td><td>      0.0000</td><td>     0.000</td></tr>\n",
       "\t<tr><th scope=row>SH1692811.08FU_FJ430773_reps</th><td>   0.000</td><td> 6654.14946</td><td>2328.0537689</td><td> 83850.183</td><td>8432.99518</td><td> 231093.209</td><td> 2913.54774</td><td> 223494.7772</td><td> 78300.275</td></tr>\n",
       "\t<tr><th scope=row>SH1695393.08FU_U65307_reps</th><td>   0.000</td><td>16886.20260</td><td> 370.6178652</td><td>302252.883</td><td>3062.18428</td><td> 580828.584</td><td>  897.47676</td><td> 436293.8921</td><td> 12163.149</td></tr>\n",
       "\t<tr><th scope=row>SH1679963.08FU_KX664387_reps</th><td>   0.000</td><td>    0.00000</td><td>   0.0000000</td><td>     0.000</td><td>  13.70105</td><td>      0.000</td><td>    0.00000</td><td>      0.0000</td><td>     0.000</td></tr>\n",
       "\t<tr><th scope=row>SH1711465.08FU_AY554212_refs</th><td>   0.000</td><td>    0.00000</td><td>   0.4412117</td><td>     0.000</td><td>   0.00000</td><td>      0.000</td><td>    0.00000</td><td>      0.0000</td><td>     0.000</td></tr>\n",
       "\t<tr><th scope=row>SH1685996.08FU_AJ292429_refs</th><td>   0.000</td><td>    0.00000</td><td>  11.9127171</td><td>   239.162</td><td>3665.03040</td><td>      0.000</td><td>58283.96170</td><td>      0.0000</td><td>557604.384</td></tr>\n",
       "\t<tr><th scope=row>SH1729543.08FU_FR682361_reps</th><td>   0.000</td><td>    0.00000</td><td>   0.0000000</td><td>     0.000</td><td>   0.00000</td><td>   2526.990</td><td>    0.00000</td><td>      0.0000</td><td>     0.000</td></tr>\n",
       "\t<tr><th scope=row>SH1729549.08FU_MG920347_reps</th><td>   0.000</td><td>    0.00000</td><td>   0.0000000</td><td>     0.000</td><td>   0.00000</td><td>      0.000</td><td>   52.02764</td><td>      0.0000</td><td>     0.000</td></tr>\n",
       "\t<tr><th scope=row>SH1706045.08FU_GU054033_reps</th><td>   0.000</td><td>    0.00000</td><td>   1.3236352</td><td>     0.000</td><td> 404.18092</td><td>   3537.786</td><td> 1183.62877</td><td>   8913.0519</td><td>  7221.870</td></tr>\n",
       "\t<tr><th scope=row>SH1744621.08FU_KC181928_reps</th><td>   0.000</td><td>  446.40923</td><td> 258.9912939</td><td>  5979.049</td><td>1315.30063</td><td>  35377.856</td><td> 1014.53895</td><td>  18494.5828</td><td> 10642.756</td></tr>\n",
       "\t<tr><th scope=row>SH1744611.08FU_EF679363_refs</th><td>   0.000</td><td>  413.26003</td><td> 374.8093768</td><td>  4352.748</td><td>2260.67296</td><td>  15667.336</td><td> 2926.55465</td><td>  15375.0146</td><td> 34969.055</td></tr>\n",
       "\t<tr><th scope=row>SH1670916.08FU_AY943061_refs</th><td>   0.000</td><td>    0.00000</td><td>   4.1915116</td><td>     0.000</td><td>  61.65472</td><td>      0.000</td><td>   91.04837</td><td>      0.0000</td><td>  6081.575</td></tr>\n",
       "\t<tr><th scope=row>SH1687332.08FU_KM277974_reps</th><td>   0.000</td><td>   35.35915</td><td>   0.0000000</td><td>  2917.776</td><td>   0.00000</td><td>   4422.232</td><td>    0.00000</td><td>    668.4789</td><td>     0.000</td></tr>\n",
       "\t<tr><th scope=row>SH1712306.08FU_GU237794_refs</th><td>   0.000</td><td>    0.00000</td><td> 112.9502065</td><td>     0.000</td><td>8275.43313</td><td>      0.000</td><td> 5866.11621</td><td>      0.0000</td><td> 83241.554</td></tr>\n",
       "\t<tr><th scope=row>SH1664258.08FU_LN808981_reps</th><td>   0.000</td><td>   79.55808</td><td> 116.9211122</td><td>  1147.977</td><td> 404.18092</td><td>      0.000</td><td> 1352.71859</td><td>      0.0000</td><td> 65376.928</td></tr>\n",
       "\t<tr><th scope=row>SH1688430.08FU_KC584249_refs</th><td>   0.000</td><td>   33.14920</td><td>   0.0000000</td><td>  4831.072</td><td>   0.00000</td><td>   7707.319</td><td>    0.00000</td><td>  12478.2727</td><td>     0.000</td></tr>\n",
       "\t<tr><th scope=row>SH1688498.08FU_KJ650604_reps</th><td>   0.000</td><td>    0.00000</td><td>   0.0000000</td><td>     0.000</td><td>  13.70105</td><td>      0.000</td><td>    0.00000</td><td>      0.0000</td><td>     0.000</td></tr>\n",
       "\t<tr><th scope=row>SH1688806.08FU_KY788106_reps</th><td>   0.000</td><td>    0.00000</td><td>   0.0000000</td><td>     0.000</td><td>  54.80419</td><td>      0.000</td><td>  130.06910</td><td>    891.3052</td><td>     0.000</td></tr>\n",
       "\t<tr><th scope=row>SH1800509.08FU_HM365253_refs</th><td>   0.000</td><td>  106.07744</td><td>  13.8981699</td><td>453594.570</td><td>2151.06457</td><td>2162471.442</td><td> 5436.88819</td><td>2606399.2111</td><td>458778.794</td></tr>\n",
       "</tbody>\n",
       "</table>\n"
      ],
      "text/latex": [
       "A otu_table: 22 × 9 of type dbl\n",
       "\\begin{tabular}{r|lllllllll}\n",
       "  & T1R7 & T2R7 & T2R9 & T3R7 & T3R9 & T4R7 & T4R9 & T5R7 & T5R9\\\\\n",
       "\\hline\n",
       "\tSH1726759.08FU\\_AF444541\\_refs & 1018.769 &     0.00000 &    0.0000000 &      0.000 &    0.00000 &       0.000 &     0.00000 &       0.0000 &      0.000\\\\\n",
       "\tSH1715510.08FU\\_KU204769\\_reps &    0.000 &   269.61350 &  314.3633678 &   1052.313 &    0.00000 &       0.000 &   702.37312 &       0.0000 &      0.000\\\\\n",
       "\tSH1676198.08FU\\_KF984792\\_refs &    0.000 &     0.00000 &    2.2060587 &      0.000 &   41.10314 &       0.000 &   884.46985 &       0.0000 &  20905.413\\\\\n",
       "\tSH1694434.08FU\\_EU037063\\_reps &    0.000 &     0.00000 &  354.2930307 &      0.000 &  335.67568 &       0.000 &    65.03455 &       0.0000 &      0.000\\\\\n",
       "\tSH1692811.08FU\\_FJ430773\\_reps &    0.000 &  6654.14946 & 2328.0537689 &  83850.183 & 8432.99518 &  231093.209 &  2913.54774 &  223494.7772 &  78300.275\\\\\n",
       "\tSH1695393.08FU\\_U65307\\_reps &    0.000 & 16886.20260 &  370.6178652 & 302252.883 & 3062.18428 &  580828.584 &   897.47676 &  436293.8921 &  12163.149\\\\\n",
       "\tSH1679963.08FU\\_KX664387\\_reps &    0.000 &     0.00000 &    0.0000000 &      0.000 &   13.70105 &       0.000 &     0.00000 &       0.0000 &      0.000\\\\\n",
       "\tSH1711465.08FU\\_AY554212\\_refs &    0.000 &     0.00000 &    0.4412117 &      0.000 &    0.00000 &       0.000 &     0.00000 &       0.0000 &      0.000\\\\\n",
       "\tSH1685996.08FU\\_AJ292429\\_refs &    0.000 &     0.00000 &   11.9127171 &    239.162 & 3665.03040 &       0.000 & 58283.96170 &       0.0000 & 557604.384\\\\\n",
       "\tSH1729543.08FU\\_FR682361\\_reps &    0.000 &     0.00000 &    0.0000000 &      0.000 &    0.00000 &    2526.990 &     0.00000 &       0.0000 &      0.000\\\\\n",
       "\tSH1729549.08FU\\_MG920347\\_reps &    0.000 &     0.00000 &    0.0000000 &      0.000 &    0.00000 &       0.000 &    52.02764 &       0.0000 &      0.000\\\\\n",
       "\tSH1706045.08FU\\_GU054033\\_reps &    0.000 &     0.00000 &    1.3236352 &      0.000 &  404.18092 &    3537.786 &  1183.62877 &    8913.0519 &   7221.870\\\\\n",
       "\tSH1744621.08FU\\_KC181928\\_reps &    0.000 &   446.40923 &  258.9912939 &   5979.049 & 1315.30063 &   35377.856 &  1014.53895 &   18494.5828 &  10642.756\\\\\n",
       "\tSH1744611.08FU\\_EF679363\\_refs &    0.000 &   413.26003 &  374.8093768 &   4352.748 & 2260.67296 &   15667.336 &  2926.55465 &   15375.0146 &  34969.055\\\\\n",
       "\tSH1670916.08FU\\_AY943061\\_refs &    0.000 &     0.00000 &    4.1915116 &      0.000 &   61.65472 &       0.000 &    91.04837 &       0.0000 &   6081.575\\\\\n",
       "\tSH1687332.08FU\\_KM277974\\_reps &    0.000 &    35.35915 &    0.0000000 &   2917.776 &    0.00000 &    4422.232 &     0.00000 &     668.4789 &      0.000\\\\\n",
       "\tSH1712306.08FU\\_GU237794\\_refs &    0.000 &     0.00000 &  112.9502065 &      0.000 & 8275.43313 &       0.000 &  5866.11621 &       0.0000 &  83241.554\\\\\n",
       "\tSH1664258.08FU\\_LN808981\\_reps &    0.000 &    79.55808 &  116.9211122 &   1147.977 &  404.18092 &       0.000 &  1352.71859 &       0.0000 &  65376.928\\\\\n",
       "\tSH1688430.08FU\\_KC584249\\_refs &    0.000 &    33.14920 &    0.0000000 &   4831.072 &    0.00000 &    7707.319 &     0.00000 &   12478.2727 &      0.000\\\\\n",
       "\tSH1688498.08FU\\_KJ650604\\_reps &    0.000 &     0.00000 &    0.0000000 &      0.000 &   13.70105 &       0.000 &     0.00000 &       0.0000 &      0.000\\\\\n",
       "\tSH1688806.08FU\\_KY788106\\_reps &    0.000 &     0.00000 &    0.0000000 &      0.000 &   54.80419 &       0.000 &   130.06910 &     891.3052 &      0.000\\\\\n",
       "\tSH1800509.08FU\\_HM365253\\_refs &    0.000 &   106.07744 &   13.8981699 & 453594.570 & 2151.06457 & 2162471.442 &  5436.88819 & 2606399.2111 & 458778.794\\\\\n",
       "\\end{tabular}\n"
      ],
      "text/markdown": [
       "\n",
       "A otu_table: 22 × 9 of type dbl\n",
       "\n",
       "| <!--/--> | T1R7 | T2R7 | T2R9 | T3R7 | T3R9 | T4R7 | T4R9 | T5R7 | T5R9 |\n",
       "|---|---|---|---|---|---|---|---|---|---|\n",
       "| SH1726759.08FU_AF444541_refs | 1018.769 |     0.00000 |    0.0000000 |      0.000 |    0.00000 |       0.000 |     0.00000 |       0.0000 |      0.000 |\n",
       "| SH1715510.08FU_KU204769_reps |    0.000 |   269.61350 |  314.3633678 |   1052.313 |    0.00000 |       0.000 |   702.37312 |       0.0000 |      0.000 |\n",
       "| SH1676198.08FU_KF984792_refs |    0.000 |     0.00000 |    2.2060587 |      0.000 |   41.10314 |       0.000 |   884.46985 |       0.0000 |  20905.413 |\n",
       "| SH1694434.08FU_EU037063_reps |    0.000 |     0.00000 |  354.2930307 |      0.000 |  335.67568 |       0.000 |    65.03455 |       0.0000 |      0.000 |\n",
       "| SH1692811.08FU_FJ430773_reps |    0.000 |  6654.14946 | 2328.0537689 |  83850.183 | 8432.99518 |  231093.209 |  2913.54774 |  223494.7772 |  78300.275 |\n",
       "| SH1695393.08FU_U65307_reps |    0.000 | 16886.20260 |  370.6178652 | 302252.883 | 3062.18428 |  580828.584 |   897.47676 |  436293.8921 |  12163.149 |\n",
       "| SH1679963.08FU_KX664387_reps |    0.000 |     0.00000 |    0.0000000 |      0.000 |   13.70105 |       0.000 |     0.00000 |       0.0000 |      0.000 |\n",
       "| SH1711465.08FU_AY554212_refs |    0.000 |     0.00000 |    0.4412117 |      0.000 |    0.00000 |       0.000 |     0.00000 |       0.0000 |      0.000 |\n",
       "| SH1685996.08FU_AJ292429_refs |    0.000 |     0.00000 |   11.9127171 |    239.162 | 3665.03040 |       0.000 | 58283.96170 |       0.0000 | 557604.384 |\n",
       "| SH1729543.08FU_FR682361_reps |    0.000 |     0.00000 |    0.0000000 |      0.000 |    0.00000 |    2526.990 |     0.00000 |       0.0000 |      0.000 |\n",
       "| SH1729549.08FU_MG920347_reps |    0.000 |     0.00000 |    0.0000000 |      0.000 |    0.00000 |       0.000 |    52.02764 |       0.0000 |      0.000 |\n",
       "| SH1706045.08FU_GU054033_reps |    0.000 |     0.00000 |    1.3236352 |      0.000 |  404.18092 |    3537.786 |  1183.62877 |    8913.0519 |   7221.870 |\n",
       "| SH1744621.08FU_KC181928_reps |    0.000 |   446.40923 |  258.9912939 |   5979.049 | 1315.30063 |   35377.856 |  1014.53895 |   18494.5828 |  10642.756 |\n",
       "| SH1744611.08FU_EF679363_refs |    0.000 |   413.26003 |  374.8093768 |   4352.748 | 2260.67296 |   15667.336 |  2926.55465 |   15375.0146 |  34969.055 |\n",
       "| SH1670916.08FU_AY943061_refs |    0.000 |     0.00000 |    4.1915116 |      0.000 |   61.65472 |       0.000 |    91.04837 |       0.0000 |   6081.575 |\n",
       "| SH1687332.08FU_KM277974_reps |    0.000 |    35.35915 |    0.0000000 |   2917.776 |    0.00000 |    4422.232 |     0.00000 |     668.4789 |      0.000 |\n",
       "| SH1712306.08FU_GU237794_refs |    0.000 |     0.00000 |  112.9502065 |      0.000 | 8275.43313 |       0.000 |  5866.11621 |       0.0000 |  83241.554 |\n",
       "| SH1664258.08FU_LN808981_reps |    0.000 |    79.55808 |  116.9211122 |   1147.977 |  404.18092 |       0.000 |  1352.71859 |       0.0000 |  65376.928 |\n",
       "| SH1688430.08FU_KC584249_refs |    0.000 |    33.14920 |    0.0000000 |   4831.072 |    0.00000 |    7707.319 |     0.00000 |   12478.2727 |      0.000 |\n",
       "| SH1688498.08FU_KJ650604_reps |    0.000 |     0.00000 |    0.0000000 |      0.000 |   13.70105 |       0.000 |     0.00000 |       0.0000 |      0.000 |\n",
       "| SH1688806.08FU_KY788106_reps |    0.000 |     0.00000 |    0.0000000 |      0.000 |   54.80419 |       0.000 |   130.06910 |     891.3052 |      0.000 |\n",
       "| SH1800509.08FU_HM365253_refs |    0.000 |   106.07744 |   13.8981699 | 453594.570 | 2151.06457 | 2162471.442 |  5436.88819 | 2606399.2111 | 458778.794 |\n",
       "\n"
      ],
      "text/plain": [
       "                             T1R7     T2R7        T2R9         T3R7      \n",
       "SH1726759.08FU_AF444541_refs 1018.769     0.00000    0.0000000      0.000\n",
       "SH1715510.08FU_KU204769_reps    0.000   269.61350  314.3633678   1052.313\n",
       "SH1676198.08FU_KF984792_refs    0.000     0.00000    2.2060587      0.000\n",
       "SH1694434.08FU_EU037063_reps    0.000     0.00000  354.2930307      0.000\n",
       "SH1692811.08FU_FJ430773_reps    0.000  6654.14946 2328.0537689  83850.183\n",
       "SH1695393.08FU_U65307_reps      0.000 16886.20260  370.6178652 302252.883\n",
       "SH1679963.08FU_KX664387_reps    0.000     0.00000    0.0000000      0.000\n",
       "SH1711465.08FU_AY554212_refs    0.000     0.00000    0.4412117      0.000\n",
       "SH1685996.08FU_AJ292429_refs    0.000     0.00000   11.9127171    239.162\n",
       "SH1729543.08FU_FR682361_reps    0.000     0.00000    0.0000000      0.000\n",
       "SH1729549.08FU_MG920347_reps    0.000     0.00000    0.0000000      0.000\n",
       "SH1706045.08FU_GU054033_reps    0.000     0.00000    1.3236352      0.000\n",
       "SH1744621.08FU_KC181928_reps    0.000   446.40923  258.9912939   5979.049\n",
       "SH1744611.08FU_EF679363_refs    0.000   413.26003  374.8093768   4352.748\n",
       "SH1670916.08FU_AY943061_refs    0.000     0.00000    4.1915116      0.000\n",
       "SH1687332.08FU_KM277974_reps    0.000    35.35915    0.0000000   2917.776\n",
       "SH1712306.08FU_GU237794_refs    0.000     0.00000  112.9502065      0.000\n",
       "SH1664258.08FU_LN808981_reps    0.000    79.55808  116.9211122   1147.977\n",
       "SH1688430.08FU_KC584249_refs    0.000    33.14920    0.0000000   4831.072\n",
       "SH1688498.08FU_KJ650604_reps    0.000     0.00000    0.0000000      0.000\n",
       "SH1688806.08FU_KY788106_reps    0.000     0.00000    0.0000000      0.000\n",
       "SH1800509.08FU_HM365253_refs    0.000   106.07744   13.8981699 453594.570\n",
       "                             T3R9       T4R7        T4R9        T5R7        \n",
       "SH1726759.08FU_AF444541_refs    0.00000       0.000     0.00000       0.0000\n",
       "SH1715510.08FU_KU204769_reps    0.00000       0.000   702.37312       0.0000\n",
       "SH1676198.08FU_KF984792_refs   41.10314       0.000   884.46985       0.0000\n",
       "SH1694434.08FU_EU037063_reps  335.67568       0.000    65.03455       0.0000\n",
       "SH1692811.08FU_FJ430773_reps 8432.99518  231093.209  2913.54774  223494.7772\n",
       "SH1695393.08FU_U65307_reps   3062.18428  580828.584   897.47676  436293.8921\n",
       "SH1679963.08FU_KX664387_reps   13.70105       0.000     0.00000       0.0000\n",
       "SH1711465.08FU_AY554212_refs    0.00000       0.000     0.00000       0.0000\n",
       "SH1685996.08FU_AJ292429_refs 3665.03040       0.000 58283.96170       0.0000\n",
       "SH1729543.08FU_FR682361_reps    0.00000    2526.990     0.00000       0.0000\n",
       "SH1729549.08FU_MG920347_reps    0.00000       0.000    52.02764       0.0000\n",
       "SH1706045.08FU_GU054033_reps  404.18092    3537.786  1183.62877    8913.0519\n",
       "SH1744621.08FU_KC181928_reps 1315.30063   35377.856  1014.53895   18494.5828\n",
       "SH1744611.08FU_EF679363_refs 2260.67296   15667.336  2926.55465   15375.0146\n",
       "SH1670916.08FU_AY943061_refs   61.65472       0.000    91.04837       0.0000\n",
       "SH1687332.08FU_KM277974_reps    0.00000    4422.232     0.00000     668.4789\n",
       "SH1712306.08FU_GU237794_refs 8275.43313       0.000  5866.11621       0.0000\n",
       "SH1664258.08FU_LN808981_reps  404.18092       0.000  1352.71859       0.0000\n",
       "SH1688430.08FU_KC584249_refs    0.00000    7707.319     0.00000   12478.2727\n",
       "SH1688498.08FU_KJ650604_reps   13.70105       0.000     0.00000       0.0000\n",
       "SH1688806.08FU_KY788106_reps   54.80419       0.000   130.06910     891.3052\n",
       "SH1800509.08FU_HM365253_refs 2151.06457 2162471.442  5436.88819 2606399.2111\n",
       "                             T5R9      \n",
       "SH1726759.08FU_AF444541_refs      0.000\n",
       "SH1715510.08FU_KU204769_reps      0.000\n",
       "SH1676198.08FU_KF984792_refs  20905.413\n",
       "SH1694434.08FU_EU037063_reps      0.000\n",
       "SH1692811.08FU_FJ430773_reps  78300.275\n",
       "SH1695393.08FU_U65307_reps    12163.149\n",
       "SH1679963.08FU_KX664387_reps      0.000\n",
       "SH1711465.08FU_AY554212_refs      0.000\n",
       "SH1685996.08FU_AJ292429_refs 557604.384\n",
       "SH1729543.08FU_FR682361_reps      0.000\n",
       "SH1729549.08FU_MG920347_reps      0.000\n",
       "SH1706045.08FU_GU054033_reps   7221.870\n",
       "SH1744621.08FU_KC181928_reps  10642.756\n",
       "SH1744611.08FU_EF679363_refs  34969.055\n",
       "SH1670916.08FU_AY943061_refs   6081.575\n",
       "SH1687332.08FU_KM277974_reps      0.000\n",
       "SH1712306.08FU_GU237794_refs  83241.554\n",
       "SH1664258.08FU_LN808981_reps  65376.928\n",
       "SH1688430.08FU_KC584249_refs      0.000\n",
       "SH1688498.08FU_KJ650604_reps      0.000\n",
       "SH1688806.08FU_KY788106_reps      0.000\n",
       "SH1800509.08FU_HM365253_refs 458778.794"
      ]
     },
     "metadata": {},
     "output_type": "display_data"
    }
   ],
   "source": [
    "otu_table(p.quan.gyp)"
   ]
  },
  {
   "cell_type": "code",
   "execution_count": 55,
   "metadata": {},
   "outputs": [],
   "source": [
    "# log10(x+1) transformation\n",
    "quan.gyp <- otu_table(p.quan.gyp)\n",
    "quan.gyp <- log10(quan.gyp + 1)"
   ]
  },
  {
   "cell_type": "code",
   "execution_count": 56,
   "metadata": {},
   "outputs": [],
   "source": [
    "# combine feature table with taxonomy\n",
    "quan.gyp.w.taxa <- cbind(quan.gyp, tax_table(p.quan.gyp))"
   ]
  },
  {
   "cell_type": "code",
   "execution_count": 57,
   "metadata": {
    "scrolled": true
   },
   "outputs": [
    {
     "data": {
      "text/html": [
       "<table>\n",
       "<caption>A matrix: 22 × 16 of type chr</caption>\n",
       "<thead>\n",
       "\t<tr><th></th><th scope=col>T1R7</th><th scope=col>T2R7</th><th scope=col>T2R9</th><th scope=col>T3R7</th><th scope=col>T3R9</th><th scope=col>T4R7</th><th scope=col>T4R9</th><th scope=col>T5R7</th><th scope=col>T5R9</th><th scope=col>Kingdom</th><th scope=col>Phylum</th><th scope=col>Class</th><th scope=col>Order</th><th scope=col>Family</th><th scope=col>Genus</th><th scope=col>Species</th></tr>\n",
       "</thead>\n",
       "<tbody>\n",
       "\t<tr><th scope=row>SH1726759.08FU_AF444541_refs</th><td>3.00850190364752</td><td>0               </td><td>0                </td><td>0               </td><td>0               </td><td>0               </td><td>0               </td><td>0               </td><td>0               </td><td>k__Fungi</td><td>p__Basidiomycota</td><td>c__Microbotryomycetes</td><td>o__Sporidiobolales  </td><td>f__Sporidiobolaceae               </td><td>g__Rhodotorula      </td><td>NA</td></tr>\n",
       "\t<tr><th scope=row>SH1715510.08FU_KU204769_reps</th><td>0               </td><td>2.43234945079276</td><td>2.4988112448825  </td><td>3.0225572862837 </td><td>0               </td><td>0               </td><td>2.8471857647954 </td><td>0               </td><td>0               </td><td>k__Fungi</td><td>p__Ascomycota   </td><td>c__Sordariomycetes   </td><td>o__Trichosphaeriales</td><td>f__Trichosphaeriaceae             </td><td>g__Nigrospora       </td><td>NA</td></tr>\n",
       "\t<tr><th scope=row>SH1676198.08FU_KF984792_refs</th><td>0               </td><td>0               </td><td>0.505971472555008</td><td>0               </td><td>1.62431453431391</td><td>0               </td><td>2.94717377796243</td><td>0               </td><td>4.32027952878349</td><td>k__Fungi</td><td>p__Ascomycota   </td><td>c__Eurotiomycetes    </td><td>o__Eurotiales       </td><td>f__Trichocomaceae                 </td><td>g__Talaromyces      </td><td>NA</td></tr>\n",
       "\t<tr><th scope=row>SH1694434.08FU_EU037063_reps</th><td>0               </td><td>0               </td><td>2.5505866886008  </td><td>0               </td><td>2.52721174781211</td><td>0               </td><td>1.81977120792266</td><td>0               </td><td>0               </td><td>k__Fungi</td><td>p__Ascomycota   </td><td>c__Eurotiomycetes    </td><td>o__Eurotiales       </td><td>f__Thermoascaceae                 </td><td>g__Byssochlamys     </td><td>NA</td></tr>\n",
       "\t<tr><th scope=row>SH1692811.08FU_FJ430773_reps</th><td>0               </td><td>3.82315781337832</td><td>3.36717951484708 </td><td>4.92350919209139</td><td>3.92603334851034</td><td>5.36378906204029</td><td>3.46457117337884</td><td>5.3492693218231 </td><td>4.89376883238578</td><td>k__Fungi</td><td>p__Ascomycota   </td><td>c__Eurotiomycetes    </td><td>o__Eurotiales       </td><td>f__Aspergillaceae                 </td><td>g__Penicillium      </td><td>NA</td></tr>\n",
       "\t<tr><th scope=row>SH1695393.08FU_U65307_reps</th><td>0               </td><td>4.22755771387085</td><td>2.57009658418541 </td><td>5.48037188883803</td><td>3.48617312424158</td><td>5.76404872872862</td><td>2.95350684770576</td><td>5.63978012849284</td><td>4.08508174813745</td><td>k__Fungi</td><td>p__Ascomycota   </td><td>c__Eurotiomycetes    </td><td>o__Eurotiales       </td><td>f__Aspergillaceae                 </td><td>g__Aspergillus      </td><td>NA</td></tr>\n",
       "\t<tr><th scope=row>SH1679963.08FU_KX664387_reps</th><td>0               </td><td>0               </td><td>0                </td><td>0               </td><td>1.16734830214606</td><td>0               </td><td>0               </td><td>0               </td><td>0               </td><td>k__Fungi</td><td>p__Ascomycota   </td><td>c__Sordariomycetes   </td><td>o__Hypocreales      </td><td>f__Ophiocordycipitaceae           </td><td>g__Tolypocladium    </td><td>NA</td></tr>\n",
       "\t<tr><th scope=row>SH1711465.08FU_AY554212_refs</th><td>0               </td><td>0               </td><td>0.158727792497836</td><td>0               </td><td>0               </td><td>0               </td><td>0               </td><td>0               </td><td>0               </td><td>k__Fungi</td><td>p__Ascomycota   </td><td>c__Sordariomycetes   </td><td>o__Hypocreales      </td><td>f__Nectriaceae                    </td><td>g__Nalanthamala     </td><td>NA</td></tr>\n",
       "\t<tr><th scope=row>SH1685996.08FU_AJ292429_refs</th><td>0               </td><td>0               </td><td>1.1110176362233  </td><td>2.3805042162979 </td><td>3.56419606188553</td><td>0               </td><td>4.76555651546099</td><td>0               </td><td>5.74632695822671</td><td>k__Fungi</td><td>p__Ascomycota   </td><td>c__Sordariomycetes   </td><td>o__Hypocreales      </td><td>f__Cordycipitaceae                </td><td>g__Lecanicillium    </td><td>NA</td></tr>\n",
       "\t<tr><th scope=row>SH1729543.08FU_FR682361_reps</th><td>0               </td><td>0               </td><td>0                </td><td>0               </td><td>0               </td><td>3.40277530131772</td><td>0               </td><td>0               </td><td>0               </td><td>k__Fungi</td><td>p__Ascomycota   </td><td>c__Sordariomycetes   </td><td>o__Hypocreales      </td><td>f__Hypocreales_fam_Incertae_sedis </td><td>g__Acremonium       </td><td>NA</td></tr>\n",
       "\t<tr><th scope=row>SH1729549.08FU_MG920347_reps</th><td>0               </td><td>0               </td><td>0                </td><td>0               </td><td>0               </td><td>0               </td><td>1.72450228457347</td><td>0               </td><td>0               </td><td>k__Fungi</td><td>p__Ascomycota   </td><td>c__Sordariomycetes   </td><td>o__Hypocreales      </td><td>f__Hypocreaceae                   </td><td>g__Monocillium      </td><td>NA</td></tr>\n",
       "\t<tr><th scope=row>SH1706045.08FU_GU054033_reps</th><td>0               </td><td>0               </td><td>0.366167953004427</td><td>0               </td><td>2.60764898893835</td><td>3.54885425010692</td><td>3.07358227548343</td><td>3.9500751598805 </td><td>3.85870979833105</td><td>k__Fungi</td><td>p__Ascomycota   </td><td>c__Sordariomycetes   </td><td>o__Hypocreales      </td><td>f__Hypocreales_fam_Incertae_sedis </td><td>g__Sarocladium      </td><td>NA</td></tr>\n",
       "\t<tr><th scope=row>SH1744621.08FU_KC181928_reps</th><td>0               </td><td>2.65070493926083</td><td>2.41495880540846 </td><td>3.77670473960003</td><td>3.11935508892519</td><td>4.54874378431703</td><td>3.00669658290214</td><td>4.2670680196044 </td><td>4.02709490153317</td><td>k__Fungi</td><td>p__Ascomycota   </td><td>c__Dothideomycetes   </td><td>o__Capnodiales      </td><td>f__Cladosporiaceae                </td><td>g__Cladosporium     </td><td>NA</td></tr>\n",
       "\t<tr><th scope=row>SH1744611.08FU_EF679363_refs</th><td>0               </td><td>2.61727303199376</td><td>2.57496761196369 </td><td>3.63886325227011</td><td>3.35442980509515</td><td>4.19502288128095</td><td>3.46650501089234</td><td>4.18684378219706</td><td>4.54369631208877</td><td>k__Fungi</td><td>p__Ascomycota   </td><td>c__Dothideomycetes   </td><td>o__Capnodiales      </td><td>f__Mycosphaerellaceae             </td><td>g__Mycosphaerella   </td><td>NA</td></tr>\n",
       "\t<tr><th scope=row>SH1670916.08FU_AY943061_refs</th><td>0               </td><td>0               </td><td>0.715293826327449</td><td>0               </td><td>1.79695377268516</td><td>0               </td><td>1.9640160876075 </td><td>0               </td><td>3.78408745382953</td><td>k__Fungi</td><td>p__Ascomycota   </td><td>c__Dothideomycetes   </td><td>o__Pleosporales     </td><td>f__Sporormiaceae                  </td><td>g__Preussia         </td><td>NA</td></tr>\n",
       "\t<tr><th scope=row>SH1687332.08FU_KM277974_reps</th><td>0               </td><td>1.56061368508536</td><td>0                </td><td>3.46520075048735</td><td>0               </td><td>3.64573971758975</td><td>0               </td><td>2.82573689055945</td><td>0               </td><td>k__Fungi</td><td>p__Ascomycota   </td><td>c__Dothideomycetes   </td><td>o__Pleosporales     </td><td>f__Didymosphaeriaceae             </td><td>g__Paraphaeosphaeria</td><td>NA</td></tr>\n",
       "\t<tr><th scope=row>SH1712306.08FU_GU237794_refs</th><td>0               </td><td>0               </td><td>2.0567151167238  </td><td>0               </td><td>3.91784321028236</td><td>0               </td><td>3.76842469024035</td><td>0               </td><td>4.92034539761502</td><td>k__Fungi</td><td>p__Ascomycota   </td><td>c__Dothideomycetes   </td><td>o__Pleosporales     </td><td>f__Didymellaceae                  </td><td>g__Didymella        </td><td>NA</td></tr>\n",
       "\t<tr><th scope=row>SH1664258.08FU_LN808981_reps</th><td>0               </td><td>1.90610910997545</td><td>2.07159156685261 </td><td>3.06031148639742</td><td>2.60764898893835</td><td>0               </td><td>3.13152839403286</td><td>0               </td><td>4.81543115531503</td><td>k__Fungi</td><td>p__Ascomycota   </td><td>c__Dothideomycetes   </td><td>o__Pleosporales     </td><td>f__Pleosporales_fam_Incertae_sedis</td><td>g__Chalastospora    </td><td>NA</td></tr>\n",
       "\t<tr><th scope=row>SH1688430.08FU_KC584249_refs</th><td>0               </td><td>1.53338053720156</td><td>0                </td><td>3.68413335719628</td><td>0               </td><td>3.88695965694259</td><td>0               </td><td>4.09618927527566</td><td>0               </td><td>k__Fungi</td><td>p__Ascomycota   </td><td>c__Dothideomycetes   </td><td>o__Pleosporales     </td><td>f__Pleosporaceae                  </td><td>g__Alternaria       </td><td>NA</td></tr>\n",
       "\t<tr><th scope=row>SH1688498.08FU_KJ650604_reps</th><td>0               </td><td>0               </td><td>0                </td><td>0               </td><td>1.16734830214606</td><td>0               </td><td>0               </td><td>0               </td><td>0               </td><td>k__Fungi</td><td>p__Ascomycota   </td><td>c__Dothideomycetes   </td><td>o__Pleosporales     </td><td>f__Pleosporaceae                  </td><td>g__Bipolaris        </td><td>NA</td></tr>\n",
       "\t<tr><th scope=row>SH1688806.08FU_KY788106_reps</th><td>0               </td><td>0               </td><td>0                </td><td>0               </td><td>1.74666683118678</td><td>0               </td><td>2.11750030248289</td><td>2.95051342056439</td><td>0               </td><td>k__Fungi</td><td>p__Ascomycota   </td><td>c__Dothideomycetes   </td><td>o__Pleosporales     </td><td>f__Pleosporaceae                  </td><td>g__Curvularia       </td><td>NA</td></tr>\n",
       "\t<tr><th scope=row>SH1800509.08FU_HM365253_refs</th><td>0               </td><td>2.02969798273306</td><td>1.17313292404608 </td><td>5.65666880462737</td><td>3.33285529782002</td><td>6.33495058156986</td><td>3.73543027392415</td><td>6.41604110214343</td><td>5.66160428225427</td><td>k__Fungi</td><td>p__Ascomycota   </td><td>c__Sordariomycetes   </td><td>o__Sordariales      </td><td>f__Chaetomiaceae                  </td><td>g__Chaetomium       </td><td>NA</td></tr>\n",
       "</tbody>\n",
       "</table>\n"
      ],
      "text/latex": [
       "A matrix: 22 × 16 of type chr\n",
       "\\begin{tabular}{r|llllllllllllllll}\n",
       "  & T1R7 & T2R7 & T2R9 & T3R7 & T3R9 & T4R7 & T4R9 & T5R7 & T5R9 & Kingdom & Phylum & Class & Order & Family & Genus & Species\\\\\n",
       "\\hline\n",
       "\tSH1726759.08FU\\_AF444541\\_refs & 3.00850190364752 & 0                & 0                 & 0                & 0                & 0                & 0                & 0                & 0                & k\\_\\_Fungi & p\\_\\_Basidiomycota & c\\_\\_Microbotryomycetes & o\\_\\_Sporidiobolales   & f\\_\\_Sporidiobolaceae                & g\\_\\_Rhodotorula       & NA\\\\\n",
       "\tSH1715510.08FU\\_KU204769\\_reps & 0                & 2.43234945079276 & 2.4988112448825   & 3.0225572862837  & 0                & 0                & 2.8471857647954  & 0                & 0                & k\\_\\_Fungi & p\\_\\_Ascomycota    & c\\_\\_Sordariomycetes    & o\\_\\_Trichosphaeriales & f\\_\\_Trichosphaeriaceae              & g\\_\\_Nigrospora        & NA\\\\\n",
       "\tSH1676198.08FU\\_KF984792\\_refs & 0                & 0                & 0.505971472555008 & 0                & 1.62431453431391 & 0                & 2.94717377796243 & 0                & 4.32027952878349 & k\\_\\_Fungi & p\\_\\_Ascomycota    & c\\_\\_Eurotiomycetes     & o\\_\\_Eurotiales        & f\\_\\_Trichocomaceae                  & g\\_\\_Talaromyces       & NA\\\\\n",
       "\tSH1694434.08FU\\_EU037063\\_reps & 0                & 0                & 2.5505866886008   & 0                & 2.52721174781211 & 0                & 1.81977120792266 & 0                & 0                & k\\_\\_Fungi & p\\_\\_Ascomycota    & c\\_\\_Eurotiomycetes     & o\\_\\_Eurotiales        & f\\_\\_Thermoascaceae                  & g\\_\\_Byssochlamys      & NA\\\\\n",
       "\tSH1692811.08FU\\_FJ430773\\_reps & 0                & 3.82315781337832 & 3.36717951484708  & 4.92350919209139 & 3.92603334851034 & 5.36378906204029 & 3.46457117337884 & 5.3492693218231  & 4.89376883238578 & k\\_\\_Fungi & p\\_\\_Ascomycota    & c\\_\\_Eurotiomycetes     & o\\_\\_Eurotiales        & f\\_\\_Aspergillaceae                  & g\\_\\_Penicillium       & NA\\\\\n",
       "\tSH1695393.08FU\\_U65307\\_reps & 0                & 4.22755771387085 & 2.57009658418541  & 5.48037188883803 & 3.48617312424158 & 5.76404872872862 & 2.95350684770576 & 5.63978012849284 & 4.08508174813745 & k\\_\\_Fungi & p\\_\\_Ascomycota    & c\\_\\_Eurotiomycetes     & o\\_\\_Eurotiales        & f\\_\\_Aspergillaceae                  & g\\_\\_Aspergillus       & NA\\\\\n",
       "\tSH1679963.08FU\\_KX664387\\_reps & 0                & 0                & 0                 & 0                & 1.16734830214606 & 0                & 0                & 0                & 0                & k\\_\\_Fungi & p\\_\\_Ascomycota    & c\\_\\_Sordariomycetes    & o\\_\\_Hypocreales       & f\\_\\_Ophiocordycipitaceae            & g\\_\\_Tolypocladium     & NA\\\\\n",
       "\tSH1711465.08FU\\_AY554212\\_refs & 0                & 0                & 0.158727792497836 & 0                & 0                & 0                & 0                & 0                & 0                & k\\_\\_Fungi & p\\_\\_Ascomycota    & c\\_\\_Sordariomycetes    & o\\_\\_Hypocreales       & f\\_\\_Nectriaceae                     & g\\_\\_Nalanthamala      & NA\\\\\n",
       "\tSH1685996.08FU\\_AJ292429\\_refs & 0                & 0                & 1.1110176362233   & 2.3805042162979  & 3.56419606188553 & 0                & 4.76555651546099 & 0                & 5.74632695822671 & k\\_\\_Fungi & p\\_\\_Ascomycota    & c\\_\\_Sordariomycetes    & o\\_\\_Hypocreales       & f\\_\\_Cordycipitaceae                 & g\\_\\_Lecanicillium     & NA\\\\\n",
       "\tSH1729543.08FU\\_FR682361\\_reps & 0                & 0                & 0                 & 0                & 0                & 3.40277530131772 & 0                & 0                & 0                & k\\_\\_Fungi & p\\_\\_Ascomycota    & c\\_\\_Sordariomycetes    & o\\_\\_Hypocreales       & f\\_\\_Hypocreales\\_fam\\_Incertae\\_sedis  & g\\_\\_Acremonium        & NA\\\\\n",
       "\tSH1729549.08FU\\_MG920347\\_reps & 0                & 0                & 0                 & 0                & 0                & 0                & 1.72450228457347 & 0                & 0                & k\\_\\_Fungi & p\\_\\_Ascomycota    & c\\_\\_Sordariomycetes    & o\\_\\_Hypocreales       & f\\_\\_Hypocreaceae                    & g\\_\\_Monocillium       & NA\\\\\n",
       "\tSH1706045.08FU\\_GU054033\\_reps & 0                & 0                & 0.366167953004427 & 0                & 2.60764898893835 & 3.54885425010692 & 3.07358227548343 & 3.9500751598805  & 3.85870979833105 & k\\_\\_Fungi & p\\_\\_Ascomycota    & c\\_\\_Sordariomycetes    & o\\_\\_Hypocreales       & f\\_\\_Hypocreales\\_fam\\_Incertae\\_sedis  & g\\_\\_Sarocladium       & NA\\\\\n",
       "\tSH1744621.08FU\\_KC181928\\_reps & 0                & 2.65070493926083 & 2.41495880540846  & 3.77670473960003 & 3.11935508892519 & 4.54874378431703 & 3.00669658290214 & 4.2670680196044  & 4.02709490153317 & k\\_\\_Fungi & p\\_\\_Ascomycota    & c\\_\\_Dothideomycetes    & o\\_\\_Capnodiales       & f\\_\\_Cladosporiaceae                 & g\\_\\_Cladosporium      & NA\\\\\n",
       "\tSH1744611.08FU\\_EF679363\\_refs & 0                & 2.61727303199376 & 2.57496761196369  & 3.63886325227011 & 3.35442980509515 & 4.19502288128095 & 3.46650501089234 & 4.18684378219706 & 4.54369631208877 & k\\_\\_Fungi & p\\_\\_Ascomycota    & c\\_\\_Dothideomycetes    & o\\_\\_Capnodiales       & f\\_\\_Mycosphaerellaceae              & g\\_\\_Mycosphaerella    & NA\\\\\n",
       "\tSH1670916.08FU\\_AY943061\\_refs & 0                & 0                & 0.715293826327449 & 0                & 1.79695377268516 & 0                & 1.9640160876075  & 0                & 3.78408745382953 & k\\_\\_Fungi & p\\_\\_Ascomycota    & c\\_\\_Dothideomycetes    & o\\_\\_Pleosporales      & f\\_\\_Sporormiaceae                   & g\\_\\_Preussia          & NA\\\\\n",
       "\tSH1687332.08FU\\_KM277974\\_reps & 0                & 1.56061368508536 & 0                 & 3.46520075048735 & 0                & 3.64573971758975 & 0                & 2.82573689055945 & 0                & k\\_\\_Fungi & p\\_\\_Ascomycota    & c\\_\\_Dothideomycetes    & o\\_\\_Pleosporales      & f\\_\\_Didymosphaeriaceae              & g\\_\\_Paraphaeosphaeria & NA\\\\\n",
       "\tSH1712306.08FU\\_GU237794\\_refs & 0                & 0                & 2.0567151167238   & 0                & 3.91784321028236 & 0                & 3.76842469024035 & 0                & 4.92034539761502 & k\\_\\_Fungi & p\\_\\_Ascomycota    & c\\_\\_Dothideomycetes    & o\\_\\_Pleosporales      & f\\_\\_Didymellaceae                   & g\\_\\_Didymella         & NA\\\\\n",
       "\tSH1664258.08FU\\_LN808981\\_reps & 0                & 1.90610910997545 & 2.07159156685261  & 3.06031148639742 & 2.60764898893835 & 0                & 3.13152839403286 & 0                & 4.81543115531503 & k\\_\\_Fungi & p\\_\\_Ascomycota    & c\\_\\_Dothideomycetes    & o\\_\\_Pleosporales      & f\\_\\_Pleosporales\\_fam\\_Incertae\\_sedis & g\\_\\_Chalastospora     & NA\\\\\n",
       "\tSH1688430.08FU\\_KC584249\\_refs & 0                & 1.53338053720156 & 0                 & 3.68413335719628 & 0                & 3.88695965694259 & 0                & 4.09618927527566 & 0                & k\\_\\_Fungi & p\\_\\_Ascomycota    & c\\_\\_Dothideomycetes    & o\\_\\_Pleosporales      & f\\_\\_Pleosporaceae                   & g\\_\\_Alternaria        & NA\\\\\n",
       "\tSH1688498.08FU\\_KJ650604\\_reps & 0                & 0                & 0                 & 0                & 1.16734830214606 & 0                & 0                & 0                & 0                & k\\_\\_Fungi & p\\_\\_Ascomycota    & c\\_\\_Dothideomycetes    & o\\_\\_Pleosporales      & f\\_\\_Pleosporaceae                   & g\\_\\_Bipolaris         & NA\\\\\n",
       "\tSH1688806.08FU\\_KY788106\\_reps & 0                & 0                & 0                 & 0                & 1.74666683118678 & 0                & 2.11750030248289 & 2.95051342056439 & 0                & k\\_\\_Fungi & p\\_\\_Ascomycota    & c\\_\\_Dothideomycetes    & o\\_\\_Pleosporales      & f\\_\\_Pleosporaceae                   & g\\_\\_Curvularia        & NA\\\\\n",
       "\tSH1800509.08FU\\_HM365253\\_refs & 0                & 2.02969798273306 & 1.17313292404608  & 5.65666880462737 & 3.33285529782002 & 6.33495058156986 & 3.73543027392415 & 6.41604110214343 & 5.66160428225427 & k\\_\\_Fungi & p\\_\\_Ascomycota    & c\\_\\_Sordariomycetes    & o\\_\\_Sordariales       & f\\_\\_Chaetomiaceae                   & g\\_\\_Chaetomium        & NA\\\\\n",
       "\\end{tabular}\n"
      ],
      "text/markdown": [
       "\n",
       "A matrix: 22 × 16 of type chr\n",
       "\n",
       "| <!--/--> | T1R7 | T2R7 | T2R9 | T3R7 | T3R9 | T4R7 | T4R9 | T5R7 | T5R9 | Kingdom | Phylum | Class | Order | Family | Genus | Species |\n",
       "|---|---|---|---|---|---|---|---|---|---|---|---|---|---|---|---|---|\n",
       "| SH1726759.08FU_AF444541_refs | 3.00850190364752 | 0                | 0                 | 0                | 0                | 0                | 0                | 0                | 0                | k__Fungi | p__Basidiomycota | c__Microbotryomycetes | o__Sporidiobolales   | f__Sporidiobolaceae                | g__Rhodotorula       | NA |\n",
       "| SH1715510.08FU_KU204769_reps | 0                | 2.43234945079276 | 2.4988112448825   | 3.0225572862837  | 0                | 0                | 2.8471857647954  | 0                | 0                | k__Fungi | p__Ascomycota    | c__Sordariomycetes    | o__Trichosphaeriales | f__Trichosphaeriaceae              | g__Nigrospora        | NA |\n",
       "| SH1676198.08FU_KF984792_refs | 0                | 0                | 0.505971472555008 | 0                | 1.62431453431391 | 0                | 2.94717377796243 | 0                | 4.32027952878349 | k__Fungi | p__Ascomycota    | c__Eurotiomycetes     | o__Eurotiales        | f__Trichocomaceae                  | g__Talaromyces       | NA |\n",
       "| SH1694434.08FU_EU037063_reps | 0                | 0                | 2.5505866886008   | 0                | 2.52721174781211 | 0                | 1.81977120792266 | 0                | 0                | k__Fungi | p__Ascomycota    | c__Eurotiomycetes     | o__Eurotiales        | f__Thermoascaceae                  | g__Byssochlamys      | NA |\n",
       "| SH1692811.08FU_FJ430773_reps | 0                | 3.82315781337832 | 3.36717951484708  | 4.92350919209139 | 3.92603334851034 | 5.36378906204029 | 3.46457117337884 | 5.3492693218231  | 4.89376883238578 | k__Fungi | p__Ascomycota    | c__Eurotiomycetes     | o__Eurotiales        | f__Aspergillaceae                  | g__Penicillium       | NA |\n",
       "| SH1695393.08FU_U65307_reps | 0                | 4.22755771387085 | 2.57009658418541  | 5.48037188883803 | 3.48617312424158 | 5.76404872872862 | 2.95350684770576 | 5.63978012849284 | 4.08508174813745 | k__Fungi | p__Ascomycota    | c__Eurotiomycetes     | o__Eurotiales        | f__Aspergillaceae                  | g__Aspergillus       | NA |\n",
       "| SH1679963.08FU_KX664387_reps | 0                | 0                | 0                 | 0                | 1.16734830214606 | 0                | 0                | 0                | 0                | k__Fungi | p__Ascomycota    | c__Sordariomycetes    | o__Hypocreales       | f__Ophiocordycipitaceae            | g__Tolypocladium     | NA |\n",
       "| SH1711465.08FU_AY554212_refs | 0                | 0                | 0.158727792497836 | 0                | 0                | 0                | 0                | 0                | 0                | k__Fungi | p__Ascomycota    | c__Sordariomycetes    | o__Hypocreales       | f__Nectriaceae                     | g__Nalanthamala      | NA |\n",
       "| SH1685996.08FU_AJ292429_refs | 0                | 0                | 1.1110176362233   | 2.3805042162979  | 3.56419606188553 | 0                | 4.76555651546099 | 0                | 5.74632695822671 | k__Fungi | p__Ascomycota    | c__Sordariomycetes    | o__Hypocreales       | f__Cordycipitaceae                 | g__Lecanicillium     | NA |\n",
       "| SH1729543.08FU_FR682361_reps | 0                | 0                | 0                 | 0                | 0                | 3.40277530131772 | 0                | 0                | 0                | k__Fungi | p__Ascomycota    | c__Sordariomycetes    | o__Hypocreales       | f__Hypocreales_fam_Incertae_sedis  | g__Acremonium        | NA |\n",
       "| SH1729549.08FU_MG920347_reps | 0                | 0                | 0                 | 0                | 0                | 0                | 1.72450228457347 | 0                | 0                | k__Fungi | p__Ascomycota    | c__Sordariomycetes    | o__Hypocreales       | f__Hypocreaceae                    | g__Monocillium       | NA |\n",
       "| SH1706045.08FU_GU054033_reps | 0                | 0                | 0.366167953004427 | 0                | 2.60764898893835 | 3.54885425010692 | 3.07358227548343 | 3.9500751598805  | 3.85870979833105 | k__Fungi | p__Ascomycota    | c__Sordariomycetes    | o__Hypocreales       | f__Hypocreales_fam_Incertae_sedis  | g__Sarocladium       | NA |\n",
       "| SH1744621.08FU_KC181928_reps | 0                | 2.65070493926083 | 2.41495880540846  | 3.77670473960003 | 3.11935508892519 | 4.54874378431703 | 3.00669658290214 | 4.2670680196044  | 4.02709490153317 | k__Fungi | p__Ascomycota    | c__Dothideomycetes    | o__Capnodiales       | f__Cladosporiaceae                 | g__Cladosporium      | NA |\n",
       "| SH1744611.08FU_EF679363_refs | 0                | 2.61727303199376 | 2.57496761196369  | 3.63886325227011 | 3.35442980509515 | 4.19502288128095 | 3.46650501089234 | 4.18684378219706 | 4.54369631208877 | k__Fungi | p__Ascomycota    | c__Dothideomycetes    | o__Capnodiales       | f__Mycosphaerellaceae              | g__Mycosphaerella    | NA |\n",
       "| SH1670916.08FU_AY943061_refs | 0                | 0                | 0.715293826327449 | 0                | 1.79695377268516 | 0                | 1.9640160876075  | 0                | 3.78408745382953 | k__Fungi | p__Ascomycota    | c__Dothideomycetes    | o__Pleosporales      | f__Sporormiaceae                   | g__Preussia          | NA |\n",
       "| SH1687332.08FU_KM277974_reps | 0                | 1.56061368508536 | 0                 | 3.46520075048735 | 0                | 3.64573971758975 | 0                | 2.82573689055945 | 0                | k__Fungi | p__Ascomycota    | c__Dothideomycetes    | o__Pleosporales      | f__Didymosphaeriaceae              | g__Paraphaeosphaeria | NA |\n",
       "| SH1712306.08FU_GU237794_refs | 0                | 0                | 2.0567151167238   | 0                | 3.91784321028236 | 0                | 3.76842469024035 | 0                | 4.92034539761502 | k__Fungi | p__Ascomycota    | c__Dothideomycetes    | o__Pleosporales      | f__Didymellaceae                   | g__Didymella         | NA |\n",
       "| SH1664258.08FU_LN808981_reps | 0                | 1.90610910997545 | 2.07159156685261  | 3.06031148639742 | 2.60764898893835 | 0                | 3.13152839403286 | 0                | 4.81543115531503 | k__Fungi | p__Ascomycota    | c__Dothideomycetes    | o__Pleosporales      | f__Pleosporales_fam_Incertae_sedis | g__Chalastospora     | NA |\n",
       "| SH1688430.08FU_KC584249_refs | 0                | 1.53338053720156 | 0                 | 3.68413335719628 | 0                | 3.88695965694259 | 0                | 4.09618927527566 | 0                | k__Fungi | p__Ascomycota    | c__Dothideomycetes    | o__Pleosporales      | f__Pleosporaceae                   | g__Alternaria        | NA |\n",
       "| SH1688498.08FU_KJ650604_reps | 0                | 0                | 0                 | 0                | 1.16734830214606 | 0                | 0                | 0                | 0                | k__Fungi | p__Ascomycota    | c__Dothideomycetes    | o__Pleosporales      | f__Pleosporaceae                   | g__Bipolaris         | NA |\n",
       "| SH1688806.08FU_KY788106_reps | 0                | 0                | 0                 | 0                | 1.74666683118678 | 0                | 2.11750030248289 | 2.95051342056439 | 0                | k__Fungi | p__Ascomycota    | c__Dothideomycetes    | o__Pleosporales      | f__Pleosporaceae                   | g__Curvularia        | NA |\n",
       "| SH1800509.08FU_HM365253_refs | 0                | 2.02969798273306 | 1.17313292404608  | 5.65666880462737 | 3.33285529782002 | 6.33495058156986 | 3.73543027392415 | 6.41604110214343 | 5.66160428225427 | k__Fungi | p__Ascomycota    | c__Sordariomycetes    | o__Sordariales       | f__Chaetomiaceae                   | g__Chaetomium        | NA |\n",
       "\n"
      ],
      "text/plain": [
       "                             T1R7             T2R7            \n",
       "SH1726759.08FU_AF444541_refs 3.00850190364752 0               \n",
       "SH1715510.08FU_KU204769_reps 0                2.43234945079276\n",
       "SH1676198.08FU_KF984792_refs 0                0               \n",
       "SH1694434.08FU_EU037063_reps 0                0               \n",
       "SH1692811.08FU_FJ430773_reps 0                3.82315781337832\n",
       "SH1695393.08FU_U65307_reps   0                4.22755771387085\n",
       "SH1679963.08FU_KX664387_reps 0                0               \n",
       "SH1711465.08FU_AY554212_refs 0                0               \n",
       "SH1685996.08FU_AJ292429_refs 0                0               \n",
       "SH1729543.08FU_FR682361_reps 0                0               \n",
       "SH1729549.08FU_MG920347_reps 0                0               \n",
       "SH1706045.08FU_GU054033_reps 0                0               \n",
       "SH1744621.08FU_KC181928_reps 0                2.65070493926083\n",
       "SH1744611.08FU_EF679363_refs 0                2.61727303199376\n",
       "SH1670916.08FU_AY943061_refs 0                0               \n",
       "SH1687332.08FU_KM277974_reps 0                1.56061368508536\n",
       "SH1712306.08FU_GU237794_refs 0                0               \n",
       "SH1664258.08FU_LN808981_reps 0                1.90610910997545\n",
       "SH1688430.08FU_KC584249_refs 0                1.53338053720156\n",
       "SH1688498.08FU_KJ650604_reps 0                0               \n",
       "SH1688806.08FU_KY788106_reps 0                0               \n",
       "SH1800509.08FU_HM365253_refs 0                2.02969798273306\n",
       "                             T2R9              T3R7            \n",
       "SH1726759.08FU_AF444541_refs 0                 0               \n",
       "SH1715510.08FU_KU204769_reps 2.4988112448825   3.0225572862837 \n",
       "SH1676198.08FU_KF984792_refs 0.505971472555008 0               \n",
       "SH1694434.08FU_EU037063_reps 2.5505866886008   0               \n",
       "SH1692811.08FU_FJ430773_reps 3.36717951484708  4.92350919209139\n",
       "SH1695393.08FU_U65307_reps   2.57009658418541  5.48037188883803\n",
       "SH1679963.08FU_KX664387_reps 0                 0               \n",
       "SH1711465.08FU_AY554212_refs 0.158727792497836 0               \n",
       "SH1685996.08FU_AJ292429_refs 1.1110176362233   2.3805042162979 \n",
       "SH1729543.08FU_FR682361_reps 0                 0               \n",
       "SH1729549.08FU_MG920347_reps 0                 0               \n",
       "SH1706045.08FU_GU054033_reps 0.366167953004427 0               \n",
       "SH1744621.08FU_KC181928_reps 2.41495880540846  3.77670473960003\n",
       "SH1744611.08FU_EF679363_refs 2.57496761196369  3.63886325227011\n",
       "SH1670916.08FU_AY943061_refs 0.715293826327449 0               \n",
       "SH1687332.08FU_KM277974_reps 0                 3.46520075048735\n",
       "SH1712306.08FU_GU237794_refs 2.0567151167238   0               \n",
       "SH1664258.08FU_LN808981_reps 2.07159156685261  3.06031148639742\n",
       "SH1688430.08FU_KC584249_refs 0                 3.68413335719628\n",
       "SH1688498.08FU_KJ650604_reps 0                 0               \n",
       "SH1688806.08FU_KY788106_reps 0                 0               \n",
       "SH1800509.08FU_HM365253_refs 1.17313292404608  5.65666880462737\n",
       "                             T3R9             T4R7             T4R9            \n",
       "SH1726759.08FU_AF444541_refs 0                0                0               \n",
       "SH1715510.08FU_KU204769_reps 0                0                2.8471857647954 \n",
       "SH1676198.08FU_KF984792_refs 1.62431453431391 0                2.94717377796243\n",
       "SH1694434.08FU_EU037063_reps 2.52721174781211 0                1.81977120792266\n",
       "SH1692811.08FU_FJ430773_reps 3.92603334851034 5.36378906204029 3.46457117337884\n",
       "SH1695393.08FU_U65307_reps   3.48617312424158 5.76404872872862 2.95350684770576\n",
       "SH1679963.08FU_KX664387_reps 1.16734830214606 0                0               \n",
       "SH1711465.08FU_AY554212_refs 0                0                0               \n",
       "SH1685996.08FU_AJ292429_refs 3.56419606188553 0                4.76555651546099\n",
       "SH1729543.08FU_FR682361_reps 0                3.40277530131772 0               \n",
       "SH1729549.08FU_MG920347_reps 0                0                1.72450228457347\n",
       "SH1706045.08FU_GU054033_reps 2.60764898893835 3.54885425010692 3.07358227548343\n",
       "SH1744621.08FU_KC181928_reps 3.11935508892519 4.54874378431703 3.00669658290214\n",
       "SH1744611.08FU_EF679363_refs 3.35442980509515 4.19502288128095 3.46650501089234\n",
       "SH1670916.08FU_AY943061_refs 1.79695377268516 0                1.9640160876075 \n",
       "SH1687332.08FU_KM277974_reps 0                3.64573971758975 0               \n",
       "SH1712306.08FU_GU237794_refs 3.91784321028236 0                3.76842469024035\n",
       "SH1664258.08FU_LN808981_reps 2.60764898893835 0                3.13152839403286\n",
       "SH1688430.08FU_KC584249_refs 0                3.88695965694259 0               \n",
       "SH1688498.08FU_KJ650604_reps 1.16734830214606 0                0               \n",
       "SH1688806.08FU_KY788106_reps 1.74666683118678 0                2.11750030248289\n",
       "SH1800509.08FU_HM365253_refs 3.33285529782002 6.33495058156986 3.73543027392415\n",
       "                             T5R7             T5R9             Kingdom \n",
       "SH1726759.08FU_AF444541_refs 0                0                k__Fungi\n",
       "SH1715510.08FU_KU204769_reps 0                0                k__Fungi\n",
       "SH1676198.08FU_KF984792_refs 0                4.32027952878349 k__Fungi\n",
       "SH1694434.08FU_EU037063_reps 0                0                k__Fungi\n",
       "SH1692811.08FU_FJ430773_reps 5.3492693218231  4.89376883238578 k__Fungi\n",
       "SH1695393.08FU_U65307_reps   5.63978012849284 4.08508174813745 k__Fungi\n",
       "SH1679963.08FU_KX664387_reps 0                0                k__Fungi\n",
       "SH1711465.08FU_AY554212_refs 0                0                k__Fungi\n",
       "SH1685996.08FU_AJ292429_refs 0                5.74632695822671 k__Fungi\n",
       "SH1729543.08FU_FR682361_reps 0                0                k__Fungi\n",
       "SH1729549.08FU_MG920347_reps 0                0                k__Fungi\n",
       "SH1706045.08FU_GU054033_reps 3.9500751598805  3.85870979833105 k__Fungi\n",
       "SH1744621.08FU_KC181928_reps 4.2670680196044  4.02709490153317 k__Fungi\n",
       "SH1744611.08FU_EF679363_refs 4.18684378219706 4.54369631208877 k__Fungi\n",
       "SH1670916.08FU_AY943061_refs 0                3.78408745382953 k__Fungi\n",
       "SH1687332.08FU_KM277974_reps 2.82573689055945 0                k__Fungi\n",
       "SH1712306.08FU_GU237794_refs 0                4.92034539761502 k__Fungi\n",
       "SH1664258.08FU_LN808981_reps 0                4.81543115531503 k__Fungi\n",
       "SH1688430.08FU_KC584249_refs 4.09618927527566 0                k__Fungi\n",
       "SH1688498.08FU_KJ650604_reps 0                0                k__Fungi\n",
       "SH1688806.08FU_KY788106_reps 2.95051342056439 0                k__Fungi\n",
       "SH1800509.08FU_HM365253_refs 6.41604110214343 5.66160428225427 k__Fungi\n",
       "                             Phylum           Class                \n",
       "SH1726759.08FU_AF444541_refs p__Basidiomycota c__Microbotryomycetes\n",
       "SH1715510.08FU_KU204769_reps p__Ascomycota    c__Sordariomycetes   \n",
       "SH1676198.08FU_KF984792_refs p__Ascomycota    c__Eurotiomycetes    \n",
       "SH1694434.08FU_EU037063_reps p__Ascomycota    c__Eurotiomycetes    \n",
       "SH1692811.08FU_FJ430773_reps p__Ascomycota    c__Eurotiomycetes    \n",
       "SH1695393.08FU_U65307_reps   p__Ascomycota    c__Eurotiomycetes    \n",
       "SH1679963.08FU_KX664387_reps p__Ascomycota    c__Sordariomycetes   \n",
       "SH1711465.08FU_AY554212_refs p__Ascomycota    c__Sordariomycetes   \n",
       "SH1685996.08FU_AJ292429_refs p__Ascomycota    c__Sordariomycetes   \n",
       "SH1729543.08FU_FR682361_reps p__Ascomycota    c__Sordariomycetes   \n",
       "SH1729549.08FU_MG920347_reps p__Ascomycota    c__Sordariomycetes   \n",
       "SH1706045.08FU_GU054033_reps p__Ascomycota    c__Sordariomycetes   \n",
       "SH1744621.08FU_KC181928_reps p__Ascomycota    c__Dothideomycetes   \n",
       "SH1744611.08FU_EF679363_refs p__Ascomycota    c__Dothideomycetes   \n",
       "SH1670916.08FU_AY943061_refs p__Ascomycota    c__Dothideomycetes   \n",
       "SH1687332.08FU_KM277974_reps p__Ascomycota    c__Dothideomycetes   \n",
       "SH1712306.08FU_GU237794_refs p__Ascomycota    c__Dothideomycetes   \n",
       "SH1664258.08FU_LN808981_reps p__Ascomycota    c__Dothideomycetes   \n",
       "SH1688430.08FU_KC584249_refs p__Ascomycota    c__Dothideomycetes   \n",
       "SH1688498.08FU_KJ650604_reps p__Ascomycota    c__Dothideomycetes   \n",
       "SH1688806.08FU_KY788106_reps p__Ascomycota    c__Dothideomycetes   \n",
       "SH1800509.08FU_HM365253_refs p__Ascomycota    c__Sordariomycetes   \n",
       "                             Order               \n",
       "SH1726759.08FU_AF444541_refs o__Sporidiobolales  \n",
       "SH1715510.08FU_KU204769_reps o__Trichosphaeriales\n",
       "SH1676198.08FU_KF984792_refs o__Eurotiales       \n",
       "SH1694434.08FU_EU037063_reps o__Eurotiales       \n",
       "SH1692811.08FU_FJ430773_reps o__Eurotiales       \n",
       "SH1695393.08FU_U65307_reps   o__Eurotiales       \n",
       "SH1679963.08FU_KX664387_reps o__Hypocreales      \n",
       "SH1711465.08FU_AY554212_refs o__Hypocreales      \n",
       "SH1685996.08FU_AJ292429_refs o__Hypocreales      \n",
       "SH1729543.08FU_FR682361_reps o__Hypocreales      \n",
       "SH1729549.08FU_MG920347_reps o__Hypocreales      \n",
       "SH1706045.08FU_GU054033_reps o__Hypocreales      \n",
       "SH1744621.08FU_KC181928_reps o__Capnodiales      \n",
       "SH1744611.08FU_EF679363_refs o__Capnodiales      \n",
       "SH1670916.08FU_AY943061_refs o__Pleosporales     \n",
       "SH1687332.08FU_KM277974_reps o__Pleosporales     \n",
       "SH1712306.08FU_GU237794_refs o__Pleosporales     \n",
       "SH1664258.08FU_LN808981_reps o__Pleosporales     \n",
       "SH1688430.08FU_KC584249_refs o__Pleosporales     \n",
       "SH1688498.08FU_KJ650604_reps o__Pleosporales     \n",
       "SH1688806.08FU_KY788106_reps o__Pleosporales     \n",
       "SH1800509.08FU_HM365253_refs o__Sordariales      \n",
       "                             Family                            \n",
       "SH1726759.08FU_AF444541_refs f__Sporidiobolaceae               \n",
       "SH1715510.08FU_KU204769_reps f__Trichosphaeriaceae             \n",
       "SH1676198.08FU_KF984792_refs f__Trichocomaceae                 \n",
       "SH1694434.08FU_EU037063_reps f__Thermoascaceae                 \n",
       "SH1692811.08FU_FJ430773_reps f__Aspergillaceae                 \n",
       "SH1695393.08FU_U65307_reps   f__Aspergillaceae                 \n",
       "SH1679963.08FU_KX664387_reps f__Ophiocordycipitaceae           \n",
       "SH1711465.08FU_AY554212_refs f__Nectriaceae                    \n",
       "SH1685996.08FU_AJ292429_refs f__Cordycipitaceae                \n",
       "SH1729543.08FU_FR682361_reps f__Hypocreales_fam_Incertae_sedis \n",
       "SH1729549.08FU_MG920347_reps f__Hypocreaceae                   \n",
       "SH1706045.08FU_GU054033_reps f__Hypocreales_fam_Incertae_sedis \n",
       "SH1744621.08FU_KC181928_reps f__Cladosporiaceae                \n",
       "SH1744611.08FU_EF679363_refs f__Mycosphaerellaceae             \n",
       "SH1670916.08FU_AY943061_refs f__Sporormiaceae                  \n",
       "SH1687332.08FU_KM277974_reps f__Didymosphaeriaceae             \n",
       "SH1712306.08FU_GU237794_refs f__Didymellaceae                  \n",
       "SH1664258.08FU_LN808981_reps f__Pleosporales_fam_Incertae_sedis\n",
       "SH1688430.08FU_KC584249_refs f__Pleosporaceae                  \n",
       "SH1688498.08FU_KJ650604_reps f__Pleosporaceae                  \n",
       "SH1688806.08FU_KY788106_reps f__Pleosporaceae                  \n",
       "SH1800509.08FU_HM365253_refs f__Chaetomiaceae                  \n",
       "                             Genus                Species\n",
       "SH1726759.08FU_AF444541_refs g__Rhodotorula       NA     \n",
       "SH1715510.08FU_KU204769_reps g__Nigrospora        NA     \n",
       "SH1676198.08FU_KF984792_refs g__Talaromyces       NA     \n",
       "SH1694434.08FU_EU037063_reps g__Byssochlamys      NA     \n",
       "SH1692811.08FU_FJ430773_reps g__Penicillium       NA     \n",
       "SH1695393.08FU_U65307_reps   g__Aspergillus       NA     \n",
       "SH1679963.08FU_KX664387_reps g__Tolypocladium     NA     \n",
       "SH1711465.08FU_AY554212_refs g__Nalanthamala      NA     \n",
       "SH1685996.08FU_AJ292429_refs g__Lecanicillium     NA     \n",
       "SH1729543.08FU_FR682361_reps g__Acremonium        NA     \n",
       "SH1729549.08FU_MG920347_reps g__Monocillium       NA     \n",
       "SH1706045.08FU_GU054033_reps g__Sarocladium       NA     \n",
       "SH1744621.08FU_KC181928_reps g__Cladosporium      NA     \n",
       "SH1744611.08FU_EF679363_refs g__Mycosphaerella    NA     \n",
       "SH1670916.08FU_AY943061_refs g__Preussia          NA     \n",
       "SH1687332.08FU_KM277974_reps g__Paraphaeosphaeria NA     \n",
       "SH1712306.08FU_GU237794_refs g__Didymella         NA     \n",
       "SH1664258.08FU_LN808981_reps g__Chalastospora     NA     \n",
       "SH1688430.08FU_KC584249_refs g__Alternaria        NA     \n",
       "SH1688498.08FU_KJ650604_reps g__Bipolaris         NA     \n",
       "SH1688806.08FU_KY788106_reps g__Curvularia        NA     \n",
       "SH1800509.08FU_HM365253_refs g__Chaetomium        NA     "
      ]
     },
     "metadata": {},
     "output_type": "display_data"
    }
   ],
   "source": [
    "quan.gyp.w.taxa"
   ]
  },
  {
   "cell_type": "code",
   "execution_count": 58,
   "metadata": {},
   "outputs": [],
   "source": [
    "# Pearson correlation\n",
    "cor.quan.gyp = rcorr(t(quan.gyp), type='pearson')"
   ]
  },
  {
   "cell_type": "code",
   "execution_count": 59,
   "metadata": {},
   "outputs": [
    {
     "data": {
      "text/html": [
       "33"
      ],
      "text/latex": [
       "33"
      ],
      "text/markdown": [
       "33"
      ],
      "text/plain": [
       "[1] 33"
      ]
     },
     "metadata": {},
     "output_type": "display_data"
    }
   ],
   "source": [
    "# extract significant values: abs(r)>0.3 & P < 0.05\n",
    "indices.q.g = which(abs(cor.quan.gyp$r) > 0.3 & cor.quan.gyp$P < 0.05 & lower.tri(cor.quan.gyp$r),arr.ind=TRUE)\n",
    "# order index by row, in the same order as graph edges\n",
    "indices.q.g.by.row = indices.q.g[order(indices.q.g[,1]),]\n",
    "\n",
    "sig.quan.gyp = cor.quan.gyp$r[indices.q.g.by.row]\n",
    "length(sig.quan.gyp)"
   ]
  },
  {
   "cell_type": "code",
   "execution_count": 60,
   "metadata": {},
   "outputs": [
    {
     "data": {
      "text/html": [
       "<ol class=list-inline>\n",
       "\t<li>-0.88284090205355</li>\n",
       "\t<li>-0.774421947840153</li>\n",
       "\t<li>0.95691489094269</li>\n",
       "\t<li>0.928150971613409</li>\n",
       "\t<li>-0.844368566131518</li>\n",
       "\t<li>0.986975724065923</li>\n",
       "\t<li>0.935215700684155</li>\n",
       "\t<li>-0.868961391112094</li>\n",
       "\t<li>0.958789278177519</li>\n",
       "\t<li>0.857277987513988</li>\n",
       "\t<li>0.71292391488585</li>\n",
       "\t<li>0.978545247897944</li>\n",
       "\t<li>0.981145665922145</li>\n",
       "\t<li>0.914363905229432</li>\n",
       "\t<li>0.789212680202983</li>\n",
       "\t<li>0.926536839802786</li>\n",
       "\t<li>0.905055976272408</li>\n",
       "\t<li>0.953112333098032</li>\n",
       "\t<li>-0.699471049026017</li>\n",
       "\t<li>0.786972565335849</li>\n",
       "\t<li>0.889066211687734</li>\n",
       "\t<li>0.797940676725742</li>\n",
       "\t<li>0.765954670274982</li>\n",
       "\t<li>0.79260349201138</li>\n",
       "\t<li>0.982842218457961</li>\n",
       "\t<li>-0.690513225613423</li>\n",
       "\t<li>1</li>\n",
       "\t<li>0.879777412679696</li>\n",
       "\t<li>0.876268963350609</li>\n",
       "\t<li>0.701188654642053</li>\n",
       "\t<li>0.926065861991716</li>\n",
       "\t<li>0.892306115158463</li>\n",
       "\t<li>0.685360944052074</li>\n",
       "</ol>\n"
      ],
      "text/latex": [
       "\\begin{enumerate*}\n",
       "\\item -0.88284090205355\n",
       "\\item -0.774421947840153\n",
       "\\item 0.95691489094269\n",
       "\\item 0.928150971613409\n",
       "\\item -0.844368566131518\n",
       "\\item 0.986975724065923\n",
       "\\item 0.935215700684155\n",
       "\\item -0.868961391112094\n",
       "\\item 0.958789278177519\n",
       "\\item 0.857277987513988\n",
       "\\item 0.71292391488585\n",
       "\\item 0.978545247897944\n",
       "\\item 0.981145665922145\n",
       "\\item 0.914363905229432\n",
       "\\item 0.789212680202983\n",
       "\\item 0.926536839802786\n",
       "\\item 0.905055976272408\n",
       "\\item 0.953112333098032\n",
       "\\item -0.699471049026017\n",
       "\\item 0.786972565335849\n",
       "\\item 0.889066211687734\n",
       "\\item 0.797940676725742\n",
       "\\item 0.765954670274982\n",
       "\\item 0.79260349201138\n",
       "\\item 0.982842218457961\n",
       "\\item -0.690513225613423\n",
       "\\item 1\n",
       "\\item 0.879777412679696\n",
       "\\item 0.876268963350609\n",
       "\\item 0.701188654642053\n",
       "\\item 0.926065861991716\n",
       "\\item 0.892306115158463\n",
       "\\item 0.685360944052074\n",
       "\\end{enumerate*}\n"
      ],
      "text/markdown": [
       "1. -0.88284090205355\n",
       "2. -0.774421947840153\n",
       "3. 0.95691489094269\n",
       "4. 0.928150971613409\n",
       "5. -0.844368566131518\n",
       "6. 0.986975724065923\n",
       "7. 0.935215700684155\n",
       "8. -0.868961391112094\n",
       "9. 0.958789278177519\n",
       "10. 0.857277987513988\n",
       "11. 0.71292391488585\n",
       "12. 0.978545247897944\n",
       "13. 0.981145665922145\n",
       "14. 0.914363905229432\n",
       "15. 0.789212680202983\n",
       "16. 0.926536839802786\n",
       "17. 0.905055976272408\n",
       "18. 0.953112333098032\n",
       "19. -0.699471049026017\n",
       "20. 0.786972565335849\n",
       "21. 0.889066211687734\n",
       "22. 0.797940676725742\n",
       "23. 0.765954670274982\n",
       "24. 0.79260349201138\n",
       "25. 0.982842218457961\n",
       "26. -0.690513225613423\n",
       "27. 1\n",
       "28. 0.879777412679696\n",
       "29. 0.876268963350609\n",
       "30. 0.701188654642053\n",
       "31. 0.926065861991716\n",
       "32. 0.892306115158463\n",
       "33. 0.685360944052074\n",
       "\n",
       "\n"
      ],
      "text/plain": [
       " [1] -0.8828409 -0.7744219  0.9569149  0.9281510 -0.8443686  0.9869757\n",
       " [7]  0.9352157 -0.8689614  0.9587893  0.8572780  0.7129239  0.9785452\n",
       "[13]  0.9811457  0.9143639  0.7892127  0.9265368  0.9050560  0.9531123\n",
       "[19] -0.6994710  0.7869726  0.8890662  0.7979407  0.7659547  0.7926035\n",
       "[25]  0.9828422 -0.6905132  1.0000000  0.8797774  0.8762690  0.7011887\n",
       "[31]  0.9260659  0.8923061  0.6853609"
      ]
     },
     "metadata": {},
     "output_type": "display_data"
    }
   ],
   "source": [
    "sig.quan.gyp"
   ]
  },
  {
   "cell_type": "code",
   "execution_count": 61,
   "metadata": {},
   "outputs": [],
   "source": [
    "# set all other values to 0 because we only want to show significant edges on a correlation plot\n",
    "cor.quan.gyp$r[which(abs(cor.quan.gyp$r) <= 0.3 & lower.tri(cor.quan.gyp$r), arr.ind=TRUE)]=0\n",
    "cor.quan.gyp$r[which(cor.quan.gyp$P >= 0.05 & lower.tri(cor.quan.gyp$r), arr.ind=TRUE)]=0"
   ]
  },
  {
   "cell_type": "code",
   "execution_count": 62,
   "metadata": {},
   "outputs": [],
   "source": [
    "# show vertex label in Genus level\n",
    "v.names.q.g = quan.gyp.w.taxa[,15]"
   ]
  },
  {
   "cell_type": "code",
   "execution_count": 63,
   "metadata": {},
   "outputs": [],
   "source": [
    "# color vertex according to Order level\n",
    "colourCount = length(unique(quan.gyp.w.taxa[,13]))\n",
    "getPalette = colorRampPalette(brewer.pal(8, \"Set2\"))\n",
    "col.q.g = getPalette(colourCount)\n",
    "my_color.q.g = col.q.g[as.numeric(as.factor(quan.gyp.w.taxa[,13]))]"
   ]
  },
  {
   "cell_type": "code",
   "execution_count": 65,
   "metadata": {},
   "outputs": [
    {
     "data": {
      "text/html": [
       "<strong>pdf:</strong> 2"
      ],
      "text/latex": [
       "\\textbf{pdf:} 2"
      ],
      "text/markdown": [
       "**pdf:** 2"
      ],
      "text/plain": [
       "pdf \n",
       "  2 "
      ]
     },
     "metadata": {},
     "output_type": "display_data"
    }
   ],
   "source": [
    "# create network graph from correlation matrix\n",
    "nw.quan.gyp <- graph_from_adjacency_matrix(cor.quan.gyp$r, weighted=T, mode=\"lower\", diag=F)\n",
    "# only show vertexes that have significant values\n",
    "V(nw.quan.gyp)$name = v.names.q.g\n",
    "V(nw.quan.gyp)$size = degree(nw.quan.gyp)\n",
    "E(nw.quan.gyp)$values = sig.quan.gyp\n",
    "# red for negative correlation, green for positive correlation\n",
    "E(nw.quan.gyp)$color <- ifelse(E(nw.quan.gyp)$values > 0,'#00FF00','#FF0000')\n",
    "\n",
    "par(bg=\"white\", mar=c(0,0,0,0))\n",
    "set.seed(123)\n",
    "pdf('quan_gyp_correlation.pdf', width=20, height=20)\n",
    "l.q.g <- layout_with_graphopt(nw.quan.gyp)\n",
    "plot.igraph(nw.quan.gyp,\n",
    "            layout=l.q.g, \n",
    "            vertex.label.cex=0.9,\n",
    "            vertex.color=my_color.q.g)\n",
    "legend(x=\"topleft\", legend=levels(as.factor(quan.gyp.w.taxa[,13])), col = col.q.g, pch=20, cex = 2, text.col=\"black\", horiz = F)\n",
    "dev.off()"
   ]
  },
  {
   "cell_type": "markdown",
   "metadata": {},
   "source": [
    "## Correlation Matrix Visualization"
   ]
  },
  {
   "cell_type": "markdown",
   "metadata": {},
   "source": [
    "### MDF"
   ]
  },
  {
   "cell_type": "code",
   "execution_count": 82,
   "metadata": {},
   "outputs": [],
   "source": [
    "mdf.rel.quan = lowerUpper(t(cor.rel.mdf$r), cor.quan.mdf$r)"
   ]
  },
  {
   "cell_type": "code",
   "execution_count": 83,
   "metadata": {},
   "outputs": [],
   "source": [
    "rownames(mdf.rel.quan) = v.names.r.m\n",
    "colnames(mdf.rel.quan) = v.names.r.m"
   ]
  },
  {
   "cell_type": "code",
   "execution_count": 86,
   "metadata": {},
   "outputs": [
    {
     "data": {
      "text/html": [
       "<strong>pdf:</strong> 2"
      ],
      "text/latex": [
       "\\textbf{pdf:} 2"
      ],
      "text/markdown": [
       "**pdf:** 2"
      ],
      "text/plain": [
       "pdf \n",
       "  2 "
      ]
     },
     "metadata": {},
     "output_type": "display_data"
    }
   ],
   "source": [
    "pdf('mdf_correlation_matrix.pdf', width=30, height=30)\n",
    "corrplot(mdf.rel.quan, method=\"circle\", tl.col=\"black\", na.label=\"square\", na.label.col=\"gray\", tl.srt=45, tl.cex=2.0)\n",
    "dev.off()"
   ]
  },
  {
   "cell_type": "markdown",
   "metadata": {},
   "source": [
    "### Gypsum"
   ]
  },
  {
   "cell_type": "code",
   "execution_count": 87,
   "metadata": {},
   "outputs": [],
   "source": [
    "gyp.rel.quan = lowerUpper(t(cor.rel.gyp$r), cor.quan.gyp$r)"
   ]
  },
  {
   "cell_type": "code",
   "execution_count": 88,
   "metadata": {},
   "outputs": [],
   "source": [
    "rownames(gyp.rel.quan) = v.names.r.g\n",
    "colnames(gyp.rel.quan) = v.names.r.g"
   ]
  },
  {
   "cell_type": "code",
   "execution_count": 91,
   "metadata": {},
   "outputs": [
    {
     "data": {
      "text/html": [
       "<strong>pdf:</strong> 2"
      ],
      "text/latex": [
       "\\textbf{pdf:} 2"
      ],
      "text/markdown": [
       "**pdf:** 2"
      ],
      "text/plain": [
       "pdf \n",
       "  2 "
      ]
     },
     "metadata": {},
     "output_type": "display_data"
    }
   ],
   "source": [
    "pdf('gyp_correlation_matrix.pdf', width=30, height=30)\n",
    "corrplot(gyp.rel.quan, method=\"circle\", tl.col=\"black\", na.label=\"square\", na.label.col=\"gray\", tl.srt=45, tl.cex=2.0)\n",
    "dev.off()"
   ]
  },
  {
   "cell_type": "code",
   "execution_count": null,
   "metadata": {},
   "outputs": [],
   "source": []
  }
 ],
 "metadata": {
  "kernelspec": {
   "display_name": "R",
   "language": "R",
   "name": "ir"
  },
  "language_info": {
   "codemirror_mode": "r",
   "file_extension": ".r",
   "mimetype": "text/x-r-source",
   "name": "R",
   "pygments_lexer": "r",
   "version": "3.5.2"
  }
 },
 "nbformat": 4,
 "nbformat_minor": 2
}
