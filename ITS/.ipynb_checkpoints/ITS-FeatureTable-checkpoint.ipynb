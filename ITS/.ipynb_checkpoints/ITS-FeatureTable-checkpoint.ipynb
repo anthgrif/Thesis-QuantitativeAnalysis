{
 "cells": [
  {
   "cell_type": "markdown",
   "metadata": {},
   "source": [
    "## Part 1: get ITS feature table for correlation analysis (ITS only). Split twp materials, compare relative VS quantitative"
   ]
  },
  {
   "cell_type": "code",
   "execution_count": 1,
   "metadata": {},
   "outputs": [
    {
     "name": "stderr",
     "output_type": "stream",
     "text": [
      "Warning message in strsplit(conditionMessage(e), \"\\n\"):\n",
      "“input string 1 is invalid in this locale”"
     ]
    }
   ],
   "source": [
    "source(\"./ITS-PhyloseqObjects.R\")"
   ]
  },
  {
   "cell_type": "code",
   "execution_count": 2,
   "metadata": {},
   "outputs": [
    {
     "data": {
      "text/plain": [
       "phyloseq-class experiment-level object\n",
       "otu_table()   OTU Table:         [ 138 taxa and 23 samples ]\n",
       "sample_data() Sample Data:       [ 23 samples by 11 sample variables ]\n",
       "tax_table()   Taxonomy Table:    [ 138 taxa by 7 taxonomic ranks ]\n",
       "phy_tree()    Phylogenetic Tree: [ 138 tips and 137 internal nodes ]"
      ]
     },
     "metadata": {},
     "output_type": "display_data"
    }
   ],
   "source": [
    "physeq.23s"
   ]
  },
  {
   "cell_type": "code",
   "execution_count": 14,
   "metadata": {
    "scrolled": true
   },
   "outputs": [
    {
     "data": {
      "text/plain": [
       "phyloseq-class experiment-level object\n",
       "otu_table()   OTU Table:         [ 57 taxa and 23 samples ]\n",
       "sample_data() Sample Data:       [ 23 samples by 11 sample variables ]\n",
       "tax_table()   Taxonomy Table:    [ 57 taxa by 7 taxonomic ranks ]\n",
       "phy_tree()    Phylogenetic Tree: [ 57 tips and 56 internal nodes ]"
      ]
     },
     "metadata": {},
     "output_type": "display_data"
    }
   ],
   "source": [
    "physeq.23s.genus = tax_glom(physeq.23s, \"Genus\")\n",
    "physeq.23s.genus"
   ]
  },
  {
   "cell_type": "code",
   "execution_count": 15,
   "metadata": {},
   "outputs": [
    {
     "data": {
      "text/plain": [
       "phyloseq-class experiment-level object\n",
       "otu_table()   OTU Table:         [ 36 taxa and 23 samples ]\n",
       "sample_data() Sample Data:       [ 23 samples by 11 sample variables ]\n",
       "tax_table()   Taxonomy Table:    [ 36 taxa by 7 taxonomic ranks ]\n",
       "phy_tree()    Phylogenetic Tree: [ 36 tips and 35 internal nodes ]"
      ]
     },
     "metadata": {},
     "output_type": "display_data"
    }
   ],
   "source": [
    "# filter out features that are not present in all samples\n",
    "physeq.23s.genus = prune_taxa(taxa_sums(physeq.23s.genus) > 0, physeq.23s.genus)\n",
    "physeq.23s.genus"
   ]
  },
  {
   "cell_type": "code",
   "execution_count": 16,
   "metadata": {
    "scrolled": true
   },
   "outputs": [
    {
     "data": {
      "text/html": [
       "<dl class=dl-horizontal>\n",
       "\t<dt>T1R1</dt>\n",
       "\t\t<dd>100</dd>\n",
       "\t<dt>T1R4</dt>\n",
       "\t\t<dd>100</dd>\n",
       "\t<dt>T1R7</dt>\n",
       "\t\t<dd>100</dd>\n",
       "\t<dt>T2R1</dt>\n",
       "\t\t<dd>100</dd>\n",
       "\t<dt>T2R4</dt>\n",
       "\t\t<dd>100</dd>\n",
       "\t<dt>T2R5</dt>\n",
       "\t\t<dd>100</dd>\n",
       "\t<dt>T2R7</dt>\n",
       "\t\t<dd>100</dd>\n",
       "\t<dt>T2R9</dt>\n",
       "\t\t<dd>100</dd>\n",
       "\t<dt>T3R1</dt>\n",
       "\t\t<dd>100</dd>\n",
       "\t<dt>T3R4</dt>\n",
       "\t\t<dd>100</dd>\n",
       "\t<dt>T3R5</dt>\n",
       "\t\t<dd>100</dd>\n",
       "\t<dt>T3R7</dt>\n",
       "\t\t<dd>100</dd>\n",
       "\t<dt>T3R9</dt>\n",
       "\t\t<dd>100</dd>\n",
       "\t<dt>T4R1</dt>\n",
       "\t\t<dd>100</dd>\n",
       "\t<dt>T4R4</dt>\n",
       "\t\t<dd>100</dd>\n",
       "\t<dt>T4R5</dt>\n",
       "\t\t<dd>100</dd>\n",
       "\t<dt>T4R7</dt>\n",
       "\t\t<dd>100</dd>\n",
       "\t<dt>T4R9</dt>\n",
       "\t\t<dd>100</dd>\n",
       "\t<dt>T5R1</dt>\n",
       "\t\t<dd>100</dd>\n",
       "\t<dt>T5R4</dt>\n",
       "\t\t<dd>100</dd>\n",
       "\t<dt>T5R5</dt>\n",
       "\t\t<dd>100</dd>\n",
       "\t<dt>T5R7</dt>\n",
       "\t\t<dd>100</dd>\n",
       "\t<dt>T5R9</dt>\n",
       "\t\t<dd>100</dd>\n",
       "</dl>\n"
      ],
      "text/latex": [
       "\\begin{description*}\n",
       "\\item[T1R1] 100\n",
       "\\item[T1R4] 100\n",
       "\\item[T1R7] 100\n",
       "\\item[T2R1] 100\n",
       "\\item[T2R4] 100\n",
       "\\item[T2R5] 100\n",
       "\\item[T2R7] 100\n",
       "\\item[T2R9] 100\n",
       "\\item[T3R1] 100\n",
       "\\item[T3R4] 100\n",
       "\\item[T3R5] 100\n",
       "\\item[T3R7] 100\n",
       "\\item[T3R9] 100\n",
       "\\item[T4R1] 100\n",
       "\\item[T4R4] 100\n",
       "\\item[T4R5] 100\n",
       "\\item[T4R7] 100\n",
       "\\item[T4R9] 100\n",
       "\\item[T5R1] 100\n",
       "\\item[T5R4] 100\n",
       "\\item[T5R5] 100\n",
       "\\item[T5R7] 100\n",
       "\\item[T5R9] 100\n",
       "\\end{description*}\n"
      ],
      "text/markdown": [
       "T1R1\n",
       ":   100T1R4\n",
       ":   100T1R7\n",
       ":   100T2R1\n",
       ":   100T2R4\n",
       ":   100T2R5\n",
       ":   100T2R7\n",
       ":   100T2R9\n",
       ":   100T3R1\n",
       ":   100T3R4\n",
       ":   100T3R5\n",
       ":   100T3R7\n",
       ":   100T3R9\n",
       ":   100T4R1\n",
       ":   100T4R4\n",
       ":   100T4R5\n",
       ":   100T4R7\n",
       ":   100T4R9\n",
       ":   100T5R1\n",
       ":   100T5R4\n",
       ":   100T5R5\n",
       ":   100T5R7\n",
       ":   100T5R9\n",
       ":   100\n",
       "\n"
      ],
      "text/plain": [
       "T1R1 T1R4 T1R7 T2R1 T2R4 T2R5 T2R7 T2R9 T3R1 T3R4 T3R5 T3R7 T3R9 T4R1 T4R4 T4R5 \n",
       " 100  100  100  100  100  100  100  100  100  100  100  100  100  100  100  100 \n",
       "T4R7 T4R9 T5R1 T5R4 T5R5 T5R7 T5R9 \n",
       " 100  100  100  100  100  100  100 "
      ]
     },
     "metadata": {},
     "output_type": "display_data"
    }
   ],
   "source": [
    "# convert to relative abundance\n",
    "p.23s.genus.rel = transform_sample_counts(physeq.23s.genus, function(x) 100 * x/sum(x))\n",
    "sample_sums(p.23s.genus.rel)"
   ]
  },
  {
   "cell_type": "markdown",
   "metadata": {},
   "source": [
    "### Relative MDF"
   ]
  },
  {
   "cell_type": "code",
   "execution_count": 17,
   "metadata": {},
   "outputs": [
    {
     "data": {
      "text/plain": [
       "phyloseq-class experiment-level object\n",
       "otu_table()   OTU Table:         [ 16 taxa and 14 samples ]\n",
       "sample_data() Sample Data:       [ 14 samples by 11 sample variables ]\n",
       "tax_table()   Taxonomy Table:    [ 16 taxa by 7 taxonomic ranks ]\n",
       "phy_tree()    Phylogenetic Tree: [ 16 tips and 15 internal nodes ]"
      ]
     },
     "metadata": {},
     "output_type": "display_data"
    }
   ],
   "source": [
    "# reduce the name length: rel.mdf = p.23s.genus.rel.mdf\n",
    "rel.mdf = subset_samples(p.23s.genus.rel, Material == \"MDF\")\n",
    "# filter out features that are not present in all samples\n",
    "rel.mdf = prune_taxa(taxa_sums(rel.mdf) > 0, rel.mdf)\n",
    "# filter out fatures that are NA at Genus level\n",
    "rel.mdf = subset_taxa(rel.mdf, !Genus == \"g__unidentified\")\n",
    "rel.mdf"
   ]
  },
  {
   "cell_type": "code",
   "execution_count": 18,
   "metadata": {},
   "outputs": [],
   "source": [
    "write.csv(otu_table(rel.mdf), \"./Correlation/rel-mdf-otu.csv\")\n",
    "write.csv(tax_table(rel.mdf), \"./Correlation/mdf-taxa.csv\")"
   ]
  },
  {
   "cell_type": "markdown",
   "metadata": {},
   "source": [
    "### Quantitative MDF"
   ]
  },
  {
   "cell_type": "code",
   "execution_count": 19,
   "metadata": {},
   "outputs": [],
   "source": [
    "# using previous objects, and convert relative abundance to quantitative abundance\n",
    "#sample_data(rel.mdf)\n",
    "count.mdf = as.data.frame(sample_data(rel.mdf))$Counts\n",
    "quan.mdf = rel.mdf\n",
    "otu_table(quan.mdf) = rel_to_quan(quan.mdf, count.mdf)"
   ]
  },
  {
   "cell_type": "code",
   "execution_count": 20,
   "metadata": {
    "scrolled": true
   },
   "outputs": [
    {
     "data": {
      "text/html": [
       "<table>\n",
       "<caption>A otu_table: 16 × 14 of type dbl</caption>\n",
       "<thead>\n",
       "\t<tr><th></th><th scope=col>T1R1</th><th scope=col>T1R4</th><th scope=col>T2R1</th><th scope=col>T2R4</th><th scope=col>T2R5</th><th scope=col>T3R1</th><th scope=col>T3R4</th><th scope=col>T3R5</th><th scope=col>T4R1</th><th scope=col>T4R4</th><th scope=col>T4R5</th><th scope=col>T5R1</th><th scope=col>T5R4</th><th scope=col>T5R5</th></tr>\n",
       "</thead>\n",
       "<tbody>\n",
       "\t<tr><th scope=row>SH1726759.08FU_AF444541_refs</th><td>   0.000</td><td>  0.0000</td><td>   0.000000</td><td>   0.00000</td><td>   0.0000000</td><td>  0.10865936</td><td> 0.0000000</td><td> 0.01166622</td><td> 0.00000000</td><td> 0.00000000</td><td>  0.00000000</td><td>  0.0000000</td><td>  0.0000000</td><td>  0.00000000</td></tr>\n",
       "\t<tr><th scope=row>SH1725251.08FU_KJ706901_reps</th><td>   0.000</td><td>  0.0000</td><td>   2.869668</td><td>   0.00000</td><td>   0.0000000</td><td>  1.81616353</td><td> 0.0000000</td><td> 0.00000000</td><td> 0.37489962</td><td> 0.00000000</td><td>  0.00000000</td><td>  2.8721010</td><td>  0.0000000</td><td>  0.00000000</td></tr>\n",
       "\t<tr><th scope=row>SH1674913.08FU_AJ244232_refs</th><td>   0.000</td><td>  0.0000</td><td>   8.271395</td><td>   0.00000</td><td>   0.0000000</td><td>  0.43463743</td><td> 0.0000000</td><td> 0.00000000</td><td> 0.04439601</td><td> 0.00000000</td><td>  0.00000000</td><td>  0.0000000</td><td>  0.0000000</td><td>  0.00000000</td></tr>\n",
       "\t<tr><th scope=row>SH1676198.08FU_KF984792_refs</th><td>   0.000</td><td>  0.0000</td><td>   0.000000</td><td>   0.00000</td><td>   0.8033863</td><td>  0.00000000</td><td> 0.0000000</td><td> 0.01166622</td><td> 0.00000000</td><td> 0.05230945</td><td>  0.00000000</td><td>  0.0000000</td><td>  0.1545583</td><td>  0.04981254</td></tr>\n",
       "\t<tr><th scope=row>SH1694434.08FU_EU037063_reps</th><td>   0.000</td><td>  0.0000</td><td>   0.000000</td><td>   0.00000</td><td>   0.0000000</td><td>  0.03104553</td><td> 0.0000000</td><td> 0.00000000</td><td> 0.02466445</td><td> 0.00000000</td><td>  0.02555106</td><td>  0.0000000</td><td>  0.0000000</td><td>  0.00000000</td></tr>\n",
       "\t<tr><th scope=row>SH1692811.08FU_FJ430773_reps</th><td>2398.786</td><td>  0.0000</td><td>1622.375033</td><td>1243.48836</td><td>1291.8450976</td><td>174.16542575</td><td>32.3081536</td><td>13.21083059</td><td>50.35987152</td><td>76.63987835</td><td> 41.31606350</td><td>840.0097608</td><td>119.5438405</td><td> 52.96318826</td></tr>\n",
       "\t<tr><th scope=row>SH1695393.08FU_U65307_reps</th><td>   0.000</td><td>157.6667</td><td> 721.130594</td><td>1361.03391</td><td> 576.8313309</td><td>132.95248409</td><td>49.7346021</td><td>56.60684580</td><td>95.27876563</td><td>84.97015776</td><td>248.39036813</td><td>408.7159279</td><td> 95.4327415</td><td>332.69798672</td></tr>\n",
       "\t<tr><th scope=row>SH1685996.08FU_AJ292429_refs</th><td>   0.000</td><td>  0.0000</td><td>   0.000000</td><td>   0.00000</td><td>   0.0000000</td><td>  0.00000000</td><td> 0.0000000</td><td> 0.00000000</td><td> 0.02466445</td><td> 0.00000000</td><td>  0.00000000</td><td>  0.3191223</td><td>  0.0000000</td><td>  0.00000000</td></tr>\n",
       "\t<tr><th scope=row>SH1738712.08FU_MG372138_reps</th><td>   0.000</td><td>  0.0000</td><td>   0.000000</td><td> 144.38071</td><td>  63.3068369</td><td>  0.00000000</td><td> 2.4774816</td><td> 0.30098855</td><td> 0.00000000</td><td> 0.92849268</td><td>  8.18485612</td><td>  0.0000000</td><td>  0.8430454</td><td>  2.46572097</td></tr>\n",
       "\t<tr><th scope=row>SH1744621.08FU_KC181928_reps</th><td>   0.000</td><td>  0.0000</td><td>  70.728867</td><td>  88.44264</td><td> 237.8023314</td><td>  3.16664410</td><td> 0.9809033</td><td> 6.85740571</td><td> 0.28610761</td><td> 1.61505417</td><td>  2.10370391</td><td>  6.4622272</td><td>  2.2200196</td><td>  5.09333271</td></tr>\n",
       "\t<tr><th scope=row>SH1744611.08FU_EF679363_refs</th><td>   0.000</td><td>  0.0000</td><td>  11.309867</td><td>   7.18124</td><td>  13.0148573</td><td>  0.00000000</td><td> 0.1064981</td><td> 0.79330314</td><td> 0.00000000</td><td> 0.00000000</td><td>  0.40881695</td><td>  0.0000000</td><td>  0.0000000</td><td>  0.00000000</td></tr>\n",
       "\t<tr><th scope=row>SH1664258.08FU_LN808981_reps</th><td>   0.000</td><td>  0.0000</td><td>   6.920963</td><td>   0.00000</td><td>   3.2135450</td><td>  0.00000000</td><td> 0.0000000</td><td> 0.02333245</td><td> 0.00000000</td><td> 0.00000000</td><td>  0.00000000</td><td>  0.0000000</td><td>  0.0000000</td><td>  0.00000000</td></tr>\n",
       "\t<tr><th scope=row>SH1688430.08FU_KC584249_refs</th><td>   0.000</td><td>  0.0000</td><td>  40.681759</td><td>   2.26776</td><td>   4.1776085</td><td>  0.66747890</td><td> 0.0000000</td><td> 0.09566303</td><td> 0.07399335</td><td> 0.00000000</td><td>  0.00000000</td><td>  0.0000000</td><td>  0.0000000</td><td>  0.00000000</td></tr>\n",
       "\t<tr><th scope=row>SH1688498.08FU_KJ650604_reps</th><td>   0.000</td><td>  0.0000</td><td>  15.529966</td><td>   0.00000</td><td>   0.0000000</td><td>  0.29493254</td><td> 0.0000000</td><td> 0.00000000</td><td> 0.00000000</td><td> 0.00000000</td><td>  0.00000000</td><td>  0.3191223</td><td>  0.0000000</td><td>  0.00000000</td></tr>\n",
       "\t<tr><th scope=row>SH1688806.08FU_KY788106_reps</th><td>   0.000</td><td>  0.0000</td><td>   4.388903</td><td>   0.00000</td><td>  22.4948151</td><td>  0.29493254</td><td> 0.0000000</td><td> 0.66964118</td><td> 0.17265114</td><td> 0.02615472</td><td>  0.14478934</td><td>  0.6382447</td><td>  0.0000000</td><td>  0.11207823</td></tr>\n",
       "\t<tr><th scope=row>SH1800509.08FU_HM365253_refs</th><td>   0.000</td><td>  0.0000</td><td>  10.803455</td><td>   5.66940</td><td>   0.0000000</td><td> 28.42218311</td><td> 0.2634426</td><td> 0.13999467</td><td>25.14787197</td><td> 7.49986695</td><td>  0.26402762</td><td>715.6318316</td><td> 39.3702211</td><td>  0.51057858</td></tr>\n",
       "</tbody>\n",
       "</table>\n"
      ],
      "text/latex": [
       "A otu_table: 16 × 14 of type dbl\n",
       "\\begin{tabular}{r|llllllllllllll}\n",
       "  & T1R1 & T1R4 & T2R1 & T2R4 & T2R5 & T3R1 & T3R4 & T3R5 & T4R1 & T4R4 & T4R5 & T5R1 & T5R4 & T5R5\\\\\n",
       "\\hline\n",
       "\tSH1726759.08FU\\_AF444541\\_refs &    0.000 &   0.0000 &    0.000000 &    0.00000 &    0.0000000 &   0.10865936 &  0.0000000 &  0.01166622 &  0.00000000 &  0.00000000 &   0.00000000 &   0.0000000 &   0.0000000 &   0.00000000\\\\\n",
       "\tSH1725251.08FU\\_KJ706901\\_reps &    0.000 &   0.0000 &    2.869668 &    0.00000 &    0.0000000 &   1.81616353 &  0.0000000 &  0.00000000 &  0.37489962 &  0.00000000 &   0.00000000 &   2.8721010 &   0.0000000 &   0.00000000\\\\\n",
       "\tSH1674913.08FU\\_AJ244232\\_refs &    0.000 &   0.0000 &    8.271395 &    0.00000 &    0.0000000 &   0.43463743 &  0.0000000 &  0.00000000 &  0.04439601 &  0.00000000 &   0.00000000 &   0.0000000 &   0.0000000 &   0.00000000\\\\\n",
       "\tSH1676198.08FU\\_KF984792\\_refs &    0.000 &   0.0000 &    0.000000 &    0.00000 &    0.8033863 &   0.00000000 &  0.0000000 &  0.01166622 &  0.00000000 &  0.05230945 &   0.00000000 &   0.0000000 &   0.1545583 &   0.04981254\\\\\n",
       "\tSH1694434.08FU\\_EU037063\\_reps &    0.000 &   0.0000 &    0.000000 &    0.00000 &    0.0000000 &   0.03104553 &  0.0000000 &  0.00000000 &  0.02466445 &  0.00000000 &   0.02555106 &   0.0000000 &   0.0000000 &   0.00000000\\\\\n",
       "\tSH1692811.08FU\\_FJ430773\\_reps & 2398.786 &   0.0000 & 1622.375033 & 1243.48836 & 1291.8450976 & 174.16542575 & 32.3081536 & 13.21083059 & 50.35987152 & 76.63987835 &  41.31606350 & 840.0097608 & 119.5438405 &  52.96318826\\\\\n",
       "\tSH1695393.08FU\\_U65307\\_reps &    0.000 & 157.6667 &  721.130594 & 1361.03391 &  576.8313309 & 132.95248409 & 49.7346021 & 56.60684580 & 95.27876563 & 84.97015776 & 248.39036813 & 408.7159279 &  95.4327415 & 332.69798672\\\\\n",
       "\tSH1685996.08FU\\_AJ292429\\_refs &    0.000 &   0.0000 &    0.000000 &    0.00000 &    0.0000000 &   0.00000000 &  0.0000000 &  0.00000000 &  0.02466445 &  0.00000000 &   0.00000000 &   0.3191223 &   0.0000000 &   0.00000000\\\\\n",
       "\tSH1738712.08FU\\_MG372138\\_reps &    0.000 &   0.0000 &    0.000000 &  144.38071 &   63.3068369 &   0.00000000 &  2.4774816 &  0.30098855 &  0.00000000 &  0.92849268 &   8.18485612 &   0.0000000 &   0.8430454 &   2.46572097\\\\\n",
       "\tSH1744621.08FU\\_KC181928\\_reps &    0.000 &   0.0000 &   70.728867 &   88.44264 &  237.8023314 &   3.16664410 &  0.9809033 &  6.85740571 &  0.28610761 &  1.61505417 &   2.10370391 &   6.4622272 &   2.2200196 &   5.09333271\\\\\n",
       "\tSH1744611.08FU\\_EF679363\\_refs &    0.000 &   0.0000 &   11.309867 &    7.18124 &   13.0148573 &   0.00000000 &  0.1064981 &  0.79330314 &  0.00000000 &  0.00000000 &   0.40881695 &   0.0000000 &   0.0000000 &   0.00000000\\\\\n",
       "\tSH1664258.08FU\\_LN808981\\_reps &    0.000 &   0.0000 &    6.920963 &    0.00000 &    3.2135450 &   0.00000000 &  0.0000000 &  0.02333245 &  0.00000000 &  0.00000000 &   0.00000000 &   0.0000000 &   0.0000000 &   0.00000000\\\\\n",
       "\tSH1688430.08FU\\_KC584249\\_refs &    0.000 &   0.0000 &   40.681759 &    2.26776 &    4.1776085 &   0.66747890 &  0.0000000 &  0.09566303 &  0.07399335 &  0.00000000 &   0.00000000 &   0.0000000 &   0.0000000 &   0.00000000\\\\\n",
       "\tSH1688498.08FU\\_KJ650604\\_reps &    0.000 &   0.0000 &   15.529966 &    0.00000 &    0.0000000 &   0.29493254 &  0.0000000 &  0.00000000 &  0.00000000 &  0.00000000 &   0.00000000 &   0.3191223 &   0.0000000 &   0.00000000\\\\\n",
       "\tSH1688806.08FU\\_KY788106\\_reps &    0.000 &   0.0000 &    4.388903 &    0.00000 &   22.4948151 &   0.29493254 &  0.0000000 &  0.66964118 &  0.17265114 &  0.02615472 &   0.14478934 &   0.6382447 &   0.0000000 &   0.11207823\\\\\n",
       "\tSH1800509.08FU\\_HM365253\\_refs &    0.000 &   0.0000 &   10.803455 &    5.66940 &    0.0000000 &  28.42218311 &  0.2634426 &  0.13999467 & 25.14787197 &  7.49986695 &   0.26402762 & 715.6318316 &  39.3702211 &   0.51057858\\\\\n",
       "\\end{tabular}\n"
      ],
      "text/markdown": [
       "\n",
       "A otu_table: 16 × 14 of type dbl\n",
       "\n",
       "| <!--/--> | T1R1 | T1R4 | T2R1 | T2R4 | T2R5 | T3R1 | T3R4 | T3R5 | T4R1 | T4R4 | T4R5 | T5R1 | T5R4 | T5R5 |\n",
       "|---|---|---|---|---|---|---|---|---|---|---|---|---|---|---|\n",
       "| SH1726759.08FU_AF444541_refs |    0.000 |   0.0000 |    0.000000 |    0.00000 |    0.0000000 |   0.10865936 |  0.0000000 |  0.01166622 |  0.00000000 |  0.00000000 |   0.00000000 |   0.0000000 |   0.0000000 |   0.00000000 |\n",
       "| SH1725251.08FU_KJ706901_reps |    0.000 |   0.0000 |    2.869668 |    0.00000 |    0.0000000 |   1.81616353 |  0.0000000 |  0.00000000 |  0.37489962 |  0.00000000 |   0.00000000 |   2.8721010 |   0.0000000 |   0.00000000 |\n",
       "| SH1674913.08FU_AJ244232_refs |    0.000 |   0.0000 |    8.271395 |    0.00000 |    0.0000000 |   0.43463743 |  0.0000000 |  0.00000000 |  0.04439601 |  0.00000000 |   0.00000000 |   0.0000000 |   0.0000000 |   0.00000000 |\n",
       "| SH1676198.08FU_KF984792_refs |    0.000 |   0.0000 |    0.000000 |    0.00000 |    0.8033863 |   0.00000000 |  0.0000000 |  0.01166622 |  0.00000000 |  0.05230945 |   0.00000000 |   0.0000000 |   0.1545583 |   0.04981254 |\n",
       "| SH1694434.08FU_EU037063_reps |    0.000 |   0.0000 |    0.000000 |    0.00000 |    0.0000000 |   0.03104553 |  0.0000000 |  0.00000000 |  0.02466445 |  0.00000000 |   0.02555106 |   0.0000000 |   0.0000000 |   0.00000000 |\n",
       "| SH1692811.08FU_FJ430773_reps | 2398.786 |   0.0000 | 1622.375033 | 1243.48836 | 1291.8450976 | 174.16542575 | 32.3081536 | 13.21083059 | 50.35987152 | 76.63987835 |  41.31606350 | 840.0097608 | 119.5438405 |  52.96318826 |\n",
       "| SH1695393.08FU_U65307_reps |    0.000 | 157.6667 |  721.130594 | 1361.03391 |  576.8313309 | 132.95248409 | 49.7346021 | 56.60684580 | 95.27876563 | 84.97015776 | 248.39036813 | 408.7159279 |  95.4327415 | 332.69798672 |\n",
       "| SH1685996.08FU_AJ292429_refs |    0.000 |   0.0000 |    0.000000 |    0.00000 |    0.0000000 |   0.00000000 |  0.0000000 |  0.00000000 |  0.02466445 |  0.00000000 |   0.00000000 |   0.3191223 |   0.0000000 |   0.00000000 |\n",
       "| SH1738712.08FU_MG372138_reps |    0.000 |   0.0000 |    0.000000 |  144.38071 |   63.3068369 |   0.00000000 |  2.4774816 |  0.30098855 |  0.00000000 |  0.92849268 |   8.18485612 |   0.0000000 |   0.8430454 |   2.46572097 |\n",
       "| SH1744621.08FU_KC181928_reps |    0.000 |   0.0000 |   70.728867 |   88.44264 |  237.8023314 |   3.16664410 |  0.9809033 |  6.85740571 |  0.28610761 |  1.61505417 |   2.10370391 |   6.4622272 |   2.2200196 |   5.09333271 |\n",
       "| SH1744611.08FU_EF679363_refs |    0.000 |   0.0000 |   11.309867 |    7.18124 |   13.0148573 |   0.00000000 |  0.1064981 |  0.79330314 |  0.00000000 |  0.00000000 |   0.40881695 |   0.0000000 |   0.0000000 |   0.00000000 |\n",
       "| SH1664258.08FU_LN808981_reps |    0.000 |   0.0000 |    6.920963 |    0.00000 |    3.2135450 |   0.00000000 |  0.0000000 |  0.02333245 |  0.00000000 |  0.00000000 |   0.00000000 |   0.0000000 |   0.0000000 |   0.00000000 |\n",
       "| SH1688430.08FU_KC584249_refs |    0.000 |   0.0000 |   40.681759 |    2.26776 |    4.1776085 |   0.66747890 |  0.0000000 |  0.09566303 |  0.07399335 |  0.00000000 |   0.00000000 |   0.0000000 |   0.0000000 |   0.00000000 |\n",
       "| SH1688498.08FU_KJ650604_reps |    0.000 |   0.0000 |   15.529966 |    0.00000 |    0.0000000 |   0.29493254 |  0.0000000 |  0.00000000 |  0.00000000 |  0.00000000 |   0.00000000 |   0.3191223 |   0.0000000 |   0.00000000 |\n",
       "| SH1688806.08FU_KY788106_reps |    0.000 |   0.0000 |    4.388903 |    0.00000 |   22.4948151 |   0.29493254 |  0.0000000 |  0.66964118 |  0.17265114 |  0.02615472 |   0.14478934 |   0.6382447 |   0.0000000 |   0.11207823 |\n",
       "| SH1800509.08FU_HM365253_refs |    0.000 |   0.0000 |   10.803455 |    5.66940 |    0.0000000 |  28.42218311 |  0.2634426 |  0.13999467 | 25.14787197 |  7.49986695 |   0.26402762 | 715.6318316 |  39.3702211 |   0.51057858 |\n",
       "\n"
      ],
      "text/plain": [
       "                             T1R1     T1R4     T2R1        T2R4      \n",
       "SH1726759.08FU_AF444541_refs    0.000   0.0000    0.000000    0.00000\n",
       "SH1725251.08FU_KJ706901_reps    0.000   0.0000    2.869668    0.00000\n",
       "SH1674913.08FU_AJ244232_refs    0.000   0.0000    8.271395    0.00000\n",
       "SH1676198.08FU_KF984792_refs    0.000   0.0000    0.000000    0.00000\n",
       "SH1694434.08FU_EU037063_reps    0.000   0.0000    0.000000    0.00000\n",
       "SH1692811.08FU_FJ430773_reps 2398.786   0.0000 1622.375033 1243.48836\n",
       "SH1695393.08FU_U65307_reps      0.000 157.6667  721.130594 1361.03391\n",
       "SH1685996.08FU_AJ292429_refs    0.000   0.0000    0.000000    0.00000\n",
       "SH1738712.08FU_MG372138_reps    0.000   0.0000    0.000000  144.38071\n",
       "SH1744621.08FU_KC181928_reps    0.000   0.0000   70.728867   88.44264\n",
       "SH1744611.08FU_EF679363_refs    0.000   0.0000   11.309867    7.18124\n",
       "SH1664258.08FU_LN808981_reps    0.000   0.0000    6.920963    0.00000\n",
       "SH1688430.08FU_KC584249_refs    0.000   0.0000   40.681759    2.26776\n",
       "SH1688498.08FU_KJ650604_reps    0.000   0.0000   15.529966    0.00000\n",
       "SH1688806.08FU_KY788106_reps    0.000   0.0000    4.388903    0.00000\n",
       "SH1800509.08FU_HM365253_refs    0.000   0.0000   10.803455    5.66940\n",
       "                             T2R5         T3R1         T3R4       T3R5       \n",
       "SH1726759.08FU_AF444541_refs    0.0000000   0.10865936  0.0000000  0.01166622\n",
       "SH1725251.08FU_KJ706901_reps    0.0000000   1.81616353  0.0000000  0.00000000\n",
       "SH1674913.08FU_AJ244232_refs    0.0000000   0.43463743  0.0000000  0.00000000\n",
       "SH1676198.08FU_KF984792_refs    0.8033863   0.00000000  0.0000000  0.01166622\n",
       "SH1694434.08FU_EU037063_reps    0.0000000   0.03104553  0.0000000  0.00000000\n",
       "SH1692811.08FU_FJ430773_reps 1291.8450976 174.16542575 32.3081536 13.21083059\n",
       "SH1695393.08FU_U65307_reps    576.8313309 132.95248409 49.7346021 56.60684580\n",
       "SH1685996.08FU_AJ292429_refs    0.0000000   0.00000000  0.0000000  0.00000000\n",
       "SH1738712.08FU_MG372138_reps   63.3068369   0.00000000  2.4774816  0.30098855\n",
       "SH1744621.08FU_KC181928_reps  237.8023314   3.16664410  0.9809033  6.85740571\n",
       "SH1744611.08FU_EF679363_refs   13.0148573   0.00000000  0.1064981  0.79330314\n",
       "SH1664258.08FU_LN808981_reps    3.2135450   0.00000000  0.0000000  0.02333245\n",
       "SH1688430.08FU_KC584249_refs    4.1776085   0.66747890  0.0000000  0.09566303\n",
       "SH1688498.08FU_KJ650604_reps    0.0000000   0.29493254  0.0000000  0.00000000\n",
       "SH1688806.08FU_KY788106_reps   22.4948151   0.29493254  0.0000000  0.66964118\n",
       "SH1800509.08FU_HM365253_refs    0.0000000  28.42218311  0.2634426  0.13999467\n",
       "                             T4R1        T4R4        T4R5         T5R1       \n",
       "SH1726759.08FU_AF444541_refs  0.00000000  0.00000000   0.00000000   0.0000000\n",
       "SH1725251.08FU_KJ706901_reps  0.37489962  0.00000000   0.00000000   2.8721010\n",
       "SH1674913.08FU_AJ244232_refs  0.04439601  0.00000000   0.00000000   0.0000000\n",
       "SH1676198.08FU_KF984792_refs  0.00000000  0.05230945   0.00000000   0.0000000\n",
       "SH1694434.08FU_EU037063_reps  0.02466445  0.00000000   0.02555106   0.0000000\n",
       "SH1692811.08FU_FJ430773_reps 50.35987152 76.63987835  41.31606350 840.0097608\n",
       "SH1695393.08FU_U65307_reps   95.27876563 84.97015776 248.39036813 408.7159279\n",
       "SH1685996.08FU_AJ292429_refs  0.02466445  0.00000000   0.00000000   0.3191223\n",
       "SH1738712.08FU_MG372138_reps  0.00000000  0.92849268   8.18485612   0.0000000\n",
       "SH1744621.08FU_KC181928_reps  0.28610761  1.61505417   2.10370391   6.4622272\n",
       "SH1744611.08FU_EF679363_refs  0.00000000  0.00000000   0.40881695   0.0000000\n",
       "SH1664258.08FU_LN808981_reps  0.00000000  0.00000000   0.00000000   0.0000000\n",
       "SH1688430.08FU_KC584249_refs  0.07399335  0.00000000   0.00000000   0.0000000\n",
       "SH1688498.08FU_KJ650604_reps  0.00000000  0.00000000   0.00000000   0.3191223\n",
       "SH1688806.08FU_KY788106_reps  0.17265114  0.02615472   0.14478934   0.6382447\n",
       "SH1800509.08FU_HM365253_refs 25.14787197  7.49986695   0.26402762 715.6318316\n",
       "                             T5R4        T5R5        \n",
       "SH1726759.08FU_AF444541_refs   0.0000000   0.00000000\n",
       "SH1725251.08FU_KJ706901_reps   0.0000000   0.00000000\n",
       "SH1674913.08FU_AJ244232_refs   0.0000000   0.00000000\n",
       "SH1676198.08FU_KF984792_refs   0.1545583   0.04981254\n",
       "SH1694434.08FU_EU037063_reps   0.0000000   0.00000000\n",
       "SH1692811.08FU_FJ430773_reps 119.5438405  52.96318826\n",
       "SH1695393.08FU_U65307_reps    95.4327415 332.69798672\n",
       "SH1685996.08FU_AJ292429_refs   0.0000000   0.00000000\n",
       "SH1738712.08FU_MG372138_reps   0.8430454   2.46572097\n",
       "SH1744621.08FU_KC181928_reps   2.2200196   5.09333271\n",
       "SH1744611.08FU_EF679363_refs   0.0000000   0.00000000\n",
       "SH1664258.08FU_LN808981_reps   0.0000000   0.00000000\n",
       "SH1688430.08FU_KC584249_refs   0.0000000   0.00000000\n",
       "SH1688498.08FU_KJ650604_reps   0.0000000   0.00000000\n",
       "SH1688806.08FU_KY788106_reps   0.0000000   0.11207823\n",
       "SH1800509.08FU_HM365253_refs  39.3702211   0.51057858"
      ]
     },
     "metadata": {},
     "output_type": "display_data"
    }
   ],
   "source": [
    "otu_table(quan.mdf)"
   ]
  },
  {
   "cell_type": "code",
   "execution_count": 21,
   "metadata": {},
   "outputs": [],
   "source": [
    "write.csv(otu_table(quan.mdf), \"./Correlation/quan-mdf-otu.csv\")"
   ]
  },
  {
   "cell_type": "markdown",
   "metadata": {},
   "source": [
    "### Relative Gypsum"
   ]
  },
  {
   "cell_type": "code",
   "execution_count": 22,
   "metadata": {},
   "outputs": [
    {
     "data": {
      "text/plain": [
       "phyloseq-class experiment-level object\n",
       "otu_table()   OTU Table:         [ 22 taxa and 9 samples ]\n",
       "sample_data() Sample Data:       [ 9 samples by 11 sample variables ]\n",
       "tax_table()   Taxonomy Table:    [ 22 taxa by 7 taxonomic ranks ]\n",
       "phy_tree()    Phylogenetic Tree: [ 22 tips and 21 internal nodes ]"
      ]
     },
     "metadata": {},
     "output_type": "display_data"
    }
   ],
   "source": [
    "# reduce the name length: p.rel.mdf = p.23s.genus.rel.mdf\n",
    "rel.gyp = subset_samples(p.23s.genus.rel, Material == \"Gypsum\")\n",
    "# filter out features that are not present in all samples\n",
    "rel.gyp = prune_taxa(taxa_sums(rel.gyp) > 0, rel.gyp)\n",
    "# filter out fatures that are NA at Genus level\n",
    "rel.gyp = subset_taxa(rel.gyp, !Genus == \"g__unidentified\")\n",
    "rel.gyp"
   ]
  },
  {
   "cell_type": "code",
   "execution_count": 23,
   "metadata": {},
   "outputs": [],
   "source": [
    "write.csv(otu_table(rel.gyp), \"./Correlation/rel-gyp-otu.csv\")\n",
    "write.csv(tax_table(rel.gyp), \"./Correlation/gyp-taxa.csv\")"
   ]
  },
  {
   "cell_type": "markdown",
   "metadata": {},
   "source": [
    "### Quantitative Gypsum"
   ]
  },
  {
   "cell_type": "code",
   "execution_count": 24,
   "metadata": {},
   "outputs": [],
   "source": [
    "# using previous objects, and convert relative abundance to quantitative abundance\n",
    "#sample_data(rel.gyp)\n",
    "count.gyp = as.data.frame(sample_data(rel.gyp))$Counts\n",
    "quan.gyp = rel.gyp\n",
    "otu_table(quan.gyp) = rel_to_quan(quan.gyp, count.gyp)"
   ]
  },
  {
   "cell_type": "code",
   "execution_count": 25,
   "metadata": {
    "scrolled": true
   },
   "outputs": [
    {
     "data": {
      "text/html": [
       "<table>\n",
       "<caption>A otu_table: 22 × 9 of type dbl</caption>\n",
       "<thead>\n",
       "\t<tr><th></th><th scope=col>T1R7</th><th scope=col>T2R7</th><th scope=col>T2R9</th><th scope=col>T3R7</th><th scope=col>T3R9</th><th scope=col>T4R7</th><th scope=col>T4R9</th><th scope=col>T5R7</th><th scope=col>T5R9</th></tr>\n",
       "</thead>\n",
       "<tbody>\n",
       "\t<tr><th scope=row>SH1726759.08FU_AF444541_refs</th><td>1018.769</td><td>    0.00000</td><td>   0.0000000</td><td>     0.000</td><td>   0.00000</td><td>      0.000</td><td>    0.00000</td><td>      0.0000</td><td>     0.000</td></tr>\n",
       "\t<tr><th scope=row>SH1715510.08FU_KU204769_reps</th><td>   0.000</td><td>  269.61350</td><td> 314.3633678</td><td>  1052.313</td><td>   0.00000</td><td>      0.000</td><td>  702.37312</td><td>      0.0000</td><td>     0.000</td></tr>\n",
       "\t<tr><th scope=row>SH1676198.08FU_KF984792_refs</th><td>   0.000</td><td>    0.00000</td><td>   2.2060587</td><td>     0.000</td><td>  41.10314</td><td>      0.000</td><td>  884.46985</td><td>      0.0000</td><td> 20905.413</td></tr>\n",
       "\t<tr><th scope=row>SH1694434.08FU_EU037063_reps</th><td>   0.000</td><td>    0.00000</td><td> 354.2930307</td><td>     0.000</td><td> 335.67568</td><td>      0.000</td><td>   65.03455</td><td>      0.0000</td><td>     0.000</td></tr>\n",
       "\t<tr><th scope=row>SH1692811.08FU_FJ430773_reps</th><td>   0.000</td><td> 6654.14946</td><td>2328.0537689</td><td> 83850.183</td><td>8432.99518</td><td> 231093.209</td><td> 2913.54774</td><td> 223494.7772</td><td> 78300.275</td></tr>\n",
       "\t<tr><th scope=row>SH1695393.08FU_U65307_reps</th><td>   0.000</td><td>16886.20260</td><td> 370.6178652</td><td>302252.883</td><td>3062.18428</td><td> 580828.584</td><td>  897.47676</td><td> 436293.8921</td><td> 12163.149</td></tr>\n",
       "\t<tr><th scope=row>SH1679963.08FU_KX664387_reps</th><td>   0.000</td><td>    0.00000</td><td>   0.0000000</td><td>     0.000</td><td>  13.70105</td><td>      0.000</td><td>    0.00000</td><td>      0.0000</td><td>     0.000</td></tr>\n",
       "\t<tr><th scope=row>SH1711465.08FU_AY554212_refs</th><td>   0.000</td><td>    0.00000</td><td>   0.4412117</td><td>     0.000</td><td>   0.00000</td><td>      0.000</td><td>    0.00000</td><td>      0.0000</td><td>     0.000</td></tr>\n",
       "\t<tr><th scope=row>SH1685996.08FU_AJ292429_refs</th><td>   0.000</td><td>    0.00000</td><td>  11.9127171</td><td>   239.162</td><td>3665.03040</td><td>      0.000</td><td>58283.96170</td><td>      0.0000</td><td>557604.384</td></tr>\n",
       "\t<tr><th scope=row>SH1729543.08FU_FR682361_reps</th><td>   0.000</td><td>    0.00000</td><td>   0.0000000</td><td>     0.000</td><td>   0.00000</td><td>   2526.990</td><td>    0.00000</td><td>      0.0000</td><td>     0.000</td></tr>\n",
       "\t<tr><th scope=row>SH1729549.08FU_MG920347_reps</th><td>   0.000</td><td>    0.00000</td><td>   0.0000000</td><td>     0.000</td><td>   0.00000</td><td>      0.000</td><td>   52.02764</td><td>      0.0000</td><td>     0.000</td></tr>\n",
       "\t<tr><th scope=row>SH1706045.08FU_GU054033_reps</th><td>   0.000</td><td>    0.00000</td><td>   1.3236352</td><td>     0.000</td><td> 404.18092</td><td>   3537.786</td><td> 1183.62877</td><td>   8913.0519</td><td>  7221.870</td></tr>\n",
       "\t<tr><th scope=row>SH1744621.08FU_KC181928_reps</th><td>   0.000</td><td>  446.40923</td><td> 258.9912939</td><td>  5979.049</td><td>1315.30063</td><td>  35377.856</td><td> 1014.53895</td><td>  18494.5828</td><td> 10642.756</td></tr>\n",
       "\t<tr><th scope=row>SH1744611.08FU_EF679363_refs</th><td>   0.000</td><td>  413.26003</td><td> 374.8093768</td><td>  4352.748</td><td>2260.67296</td><td>  15667.336</td><td> 2926.55465</td><td>  15375.0146</td><td> 34969.055</td></tr>\n",
       "\t<tr><th scope=row>SH1670916.08FU_AY943061_refs</th><td>   0.000</td><td>    0.00000</td><td>   4.1915116</td><td>     0.000</td><td>  61.65472</td><td>      0.000</td><td>   91.04837</td><td>      0.0000</td><td>  6081.575</td></tr>\n",
       "\t<tr><th scope=row>SH1687332.08FU_KM277974_reps</th><td>   0.000</td><td>   35.35915</td><td>   0.0000000</td><td>  2917.776</td><td>   0.00000</td><td>   4422.232</td><td>    0.00000</td><td>    668.4789</td><td>     0.000</td></tr>\n",
       "\t<tr><th scope=row>SH1712306.08FU_GU237794_refs</th><td>   0.000</td><td>    0.00000</td><td> 112.9502065</td><td>     0.000</td><td>8275.43313</td><td>      0.000</td><td> 5866.11621</td><td>      0.0000</td><td> 83241.554</td></tr>\n",
       "\t<tr><th scope=row>SH1664258.08FU_LN808981_reps</th><td>   0.000</td><td>   79.55808</td><td> 116.9211122</td><td>  1147.977</td><td> 404.18092</td><td>      0.000</td><td> 1352.71859</td><td>      0.0000</td><td> 65376.928</td></tr>\n",
       "\t<tr><th scope=row>SH1688430.08FU_KC584249_refs</th><td>   0.000</td><td>   33.14920</td><td>   0.0000000</td><td>  4831.072</td><td>   0.00000</td><td>   7707.319</td><td>    0.00000</td><td>  12478.2727</td><td>     0.000</td></tr>\n",
       "\t<tr><th scope=row>SH1688498.08FU_KJ650604_reps</th><td>   0.000</td><td>    0.00000</td><td>   0.0000000</td><td>     0.000</td><td>  13.70105</td><td>      0.000</td><td>    0.00000</td><td>      0.0000</td><td>     0.000</td></tr>\n",
       "\t<tr><th scope=row>SH1688806.08FU_KY788106_reps</th><td>   0.000</td><td>    0.00000</td><td>   0.0000000</td><td>     0.000</td><td>  54.80419</td><td>      0.000</td><td>  130.06910</td><td>    891.3052</td><td>     0.000</td></tr>\n",
       "\t<tr><th scope=row>SH1800509.08FU_HM365253_refs</th><td>   0.000</td><td>  106.07744</td><td>  13.8981699</td><td>453594.570</td><td>2151.06457</td><td>2162471.442</td><td> 5436.88819</td><td>2606399.2111</td><td>458778.794</td></tr>\n",
       "</tbody>\n",
       "</table>\n"
      ],
      "text/latex": [
       "A otu_table: 22 × 9 of type dbl\n",
       "\\begin{tabular}{r|lllllllll}\n",
       "  & T1R7 & T2R7 & T2R9 & T3R7 & T3R9 & T4R7 & T4R9 & T5R7 & T5R9\\\\\n",
       "\\hline\n",
       "\tSH1726759.08FU\\_AF444541\\_refs & 1018.769 &     0.00000 &    0.0000000 &      0.000 &    0.00000 &       0.000 &     0.00000 &       0.0000 &      0.000\\\\\n",
       "\tSH1715510.08FU\\_KU204769\\_reps &    0.000 &   269.61350 &  314.3633678 &   1052.313 &    0.00000 &       0.000 &   702.37312 &       0.0000 &      0.000\\\\\n",
       "\tSH1676198.08FU\\_KF984792\\_refs &    0.000 &     0.00000 &    2.2060587 &      0.000 &   41.10314 &       0.000 &   884.46985 &       0.0000 &  20905.413\\\\\n",
       "\tSH1694434.08FU\\_EU037063\\_reps &    0.000 &     0.00000 &  354.2930307 &      0.000 &  335.67568 &       0.000 &    65.03455 &       0.0000 &      0.000\\\\\n",
       "\tSH1692811.08FU\\_FJ430773\\_reps &    0.000 &  6654.14946 & 2328.0537689 &  83850.183 & 8432.99518 &  231093.209 &  2913.54774 &  223494.7772 &  78300.275\\\\\n",
       "\tSH1695393.08FU\\_U65307\\_reps &    0.000 & 16886.20260 &  370.6178652 & 302252.883 & 3062.18428 &  580828.584 &   897.47676 &  436293.8921 &  12163.149\\\\\n",
       "\tSH1679963.08FU\\_KX664387\\_reps &    0.000 &     0.00000 &    0.0000000 &      0.000 &   13.70105 &       0.000 &     0.00000 &       0.0000 &      0.000\\\\\n",
       "\tSH1711465.08FU\\_AY554212\\_refs &    0.000 &     0.00000 &    0.4412117 &      0.000 &    0.00000 &       0.000 &     0.00000 &       0.0000 &      0.000\\\\\n",
       "\tSH1685996.08FU\\_AJ292429\\_refs &    0.000 &     0.00000 &   11.9127171 &    239.162 & 3665.03040 &       0.000 & 58283.96170 &       0.0000 & 557604.384\\\\\n",
       "\tSH1729543.08FU\\_FR682361\\_reps &    0.000 &     0.00000 &    0.0000000 &      0.000 &    0.00000 &    2526.990 &     0.00000 &       0.0000 &      0.000\\\\\n",
       "\tSH1729549.08FU\\_MG920347\\_reps &    0.000 &     0.00000 &    0.0000000 &      0.000 &    0.00000 &       0.000 &    52.02764 &       0.0000 &      0.000\\\\\n",
       "\tSH1706045.08FU\\_GU054033\\_reps &    0.000 &     0.00000 &    1.3236352 &      0.000 &  404.18092 &    3537.786 &  1183.62877 &    8913.0519 &   7221.870\\\\\n",
       "\tSH1744621.08FU\\_KC181928\\_reps &    0.000 &   446.40923 &  258.9912939 &   5979.049 & 1315.30063 &   35377.856 &  1014.53895 &   18494.5828 &  10642.756\\\\\n",
       "\tSH1744611.08FU\\_EF679363\\_refs &    0.000 &   413.26003 &  374.8093768 &   4352.748 & 2260.67296 &   15667.336 &  2926.55465 &   15375.0146 &  34969.055\\\\\n",
       "\tSH1670916.08FU\\_AY943061\\_refs &    0.000 &     0.00000 &    4.1915116 &      0.000 &   61.65472 &       0.000 &    91.04837 &       0.0000 &   6081.575\\\\\n",
       "\tSH1687332.08FU\\_KM277974\\_reps &    0.000 &    35.35915 &    0.0000000 &   2917.776 &    0.00000 &    4422.232 &     0.00000 &     668.4789 &      0.000\\\\\n",
       "\tSH1712306.08FU\\_GU237794\\_refs &    0.000 &     0.00000 &  112.9502065 &      0.000 & 8275.43313 &       0.000 &  5866.11621 &       0.0000 &  83241.554\\\\\n",
       "\tSH1664258.08FU\\_LN808981\\_reps &    0.000 &    79.55808 &  116.9211122 &   1147.977 &  404.18092 &       0.000 &  1352.71859 &       0.0000 &  65376.928\\\\\n",
       "\tSH1688430.08FU\\_KC584249\\_refs &    0.000 &    33.14920 &    0.0000000 &   4831.072 &    0.00000 &    7707.319 &     0.00000 &   12478.2727 &      0.000\\\\\n",
       "\tSH1688498.08FU\\_KJ650604\\_reps &    0.000 &     0.00000 &    0.0000000 &      0.000 &   13.70105 &       0.000 &     0.00000 &       0.0000 &      0.000\\\\\n",
       "\tSH1688806.08FU\\_KY788106\\_reps &    0.000 &     0.00000 &    0.0000000 &      0.000 &   54.80419 &       0.000 &   130.06910 &     891.3052 &      0.000\\\\\n",
       "\tSH1800509.08FU\\_HM365253\\_refs &    0.000 &   106.07744 &   13.8981699 & 453594.570 & 2151.06457 & 2162471.442 &  5436.88819 & 2606399.2111 & 458778.794\\\\\n",
       "\\end{tabular}\n"
      ],
      "text/markdown": [
       "\n",
       "A otu_table: 22 × 9 of type dbl\n",
       "\n",
       "| <!--/--> | T1R7 | T2R7 | T2R9 | T3R7 | T3R9 | T4R7 | T4R9 | T5R7 | T5R9 |\n",
       "|---|---|---|---|---|---|---|---|---|---|\n",
       "| SH1726759.08FU_AF444541_refs | 1018.769 |     0.00000 |    0.0000000 |      0.000 |    0.00000 |       0.000 |     0.00000 |       0.0000 |      0.000 |\n",
       "| SH1715510.08FU_KU204769_reps |    0.000 |   269.61350 |  314.3633678 |   1052.313 |    0.00000 |       0.000 |   702.37312 |       0.0000 |      0.000 |\n",
       "| SH1676198.08FU_KF984792_refs |    0.000 |     0.00000 |    2.2060587 |      0.000 |   41.10314 |       0.000 |   884.46985 |       0.0000 |  20905.413 |\n",
       "| SH1694434.08FU_EU037063_reps |    0.000 |     0.00000 |  354.2930307 |      0.000 |  335.67568 |       0.000 |    65.03455 |       0.0000 |      0.000 |\n",
       "| SH1692811.08FU_FJ430773_reps |    0.000 |  6654.14946 | 2328.0537689 |  83850.183 | 8432.99518 |  231093.209 |  2913.54774 |  223494.7772 |  78300.275 |\n",
       "| SH1695393.08FU_U65307_reps |    0.000 | 16886.20260 |  370.6178652 | 302252.883 | 3062.18428 |  580828.584 |   897.47676 |  436293.8921 |  12163.149 |\n",
       "| SH1679963.08FU_KX664387_reps |    0.000 |     0.00000 |    0.0000000 |      0.000 |   13.70105 |       0.000 |     0.00000 |       0.0000 |      0.000 |\n",
       "| SH1711465.08FU_AY554212_refs |    0.000 |     0.00000 |    0.4412117 |      0.000 |    0.00000 |       0.000 |     0.00000 |       0.0000 |      0.000 |\n",
       "| SH1685996.08FU_AJ292429_refs |    0.000 |     0.00000 |   11.9127171 |    239.162 | 3665.03040 |       0.000 | 58283.96170 |       0.0000 | 557604.384 |\n",
       "| SH1729543.08FU_FR682361_reps |    0.000 |     0.00000 |    0.0000000 |      0.000 |    0.00000 |    2526.990 |     0.00000 |       0.0000 |      0.000 |\n",
       "| SH1729549.08FU_MG920347_reps |    0.000 |     0.00000 |    0.0000000 |      0.000 |    0.00000 |       0.000 |    52.02764 |       0.0000 |      0.000 |\n",
       "| SH1706045.08FU_GU054033_reps |    0.000 |     0.00000 |    1.3236352 |      0.000 |  404.18092 |    3537.786 |  1183.62877 |    8913.0519 |   7221.870 |\n",
       "| SH1744621.08FU_KC181928_reps |    0.000 |   446.40923 |  258.9912939 |   5979.049 | 1315.30063 |   35377.856 |  1014.53895 |   18494.5828 |  10642.756 |\n",
       "| SH1744611.08FU_EF679363_refs |    0.000 |   413.26003 |  374.8093768 |   4352.748 | 2260.67296 |   15667.336 |  2926.55465 |   15375.0146 |  34969.055 |\n",
       "| SH1670916.08FU_AY943061_refs |    0.000 |     0.00000 |    4.1915116 |      0.000 |   61.65472 |       0.000 |    91.04837 |       0.0000 |   6081.575 |\n",
       "| SH1687332.08FU_KM277974_reps |    0.000 |    35.35915 |    0.0000000 |   2917.776 |    0.00000 |    4422.232 |     0.00000 |     668.4789 |      0.000 |\n",
       "| SH1712306.08FU_GU237794_refs |    0.000 |     0.00000 |  112.9502065 |      0.000 | 8275.43313 |       0.000 |  5866.11621 |       0.0000 |  83241.554 |\n",
       "| SH1664258.08FU_LN808981_reps |    0.000 |    79.55808 |  116.9211122 |   1147.977 |  404.18092 |       0.000 |  1352.71859 |       0.0000 |  65376.928 |\n",
       "| SH1688430.08FU_KC584249_refs |    0.000 |    33.14920 |    0.0000000 |   4831.072 |    0.00000 |    7707.319 |     0.00000 |   12478.2727 |      0.000 |\n",
       "| SH1688498.08FU_KJ650604_reps |    0.000 |     0.00000 |    0.0000000 |      0.000 |   13.70105 |       0.000 |     0.00000 |       0.0000 |      0.000 |\n",
       "| SH1688806.08FU_KY788106_reps |    0.000 |     0.00000 |    0.0000000 |      0.000 |   54.80419 |       0.000 |   130.06910 |     891.3052 |      0.000 |\n",
       "| SH1800509.08FU_HM365253_refs |    0.000 |   106.07744 |   13.8981699 | 453594.570 | 2151.06457 | 2162471.442 |  5436.88819 | 2606399.2111 | 458778.794 |\n",
       "\n"
      ],
      "text/plain": [
       "                             T1R7     T2R7        T2R9         T3R7      \n",
       "SH1726759.08FU_AF444541_refs 1018.769     0.00000    0.0000000      0.000\n",
       "SH1715510.08FU_KU204769_reps    0.000   269.61350  314.3633678   1052.313\n",
       "SH1676198.08FU_KF984792_refs    0.000     0.00000    2.2060587      0.000\n",
       "SH1694434.08FU_EU037063_reps    0.000     0.00000  354.2930307      0.000\n",
       "SH1692811.08FU_FJ430773_reps    0.000  6654.14946 2328.0537689  83850.183\n",
       "SH1695393.08FU_U65307_reps      0.000 16886.20260  370.6178652 302252.883\n",
       "SH1679963.08FU_KX664387_reps    0.000     0.00000    0.0000000      0.000\n",
       "SH1711465.08FU_AY554212_refs    0.000     0.00000    0.4412117      0.000\n",
       "SH1685996.08FU_AJ292429_refs    0.000     0.00000   11.9127171    239.162\n",
       "SH1729543.08FU_FR682361_reps    0.000     0.00000    0.0000000      0.000\n",
       "SH1729549.08FU_MG920347_reps    0.000     0.00000    0.0000000      0.000\n",
       "SH1706045.08FU_GU054033_reps    0.000     0.00000    1.3236352      0.000\n",
       "SH1744621.08FU_KC181928_reps    0.000   446.40923  258.9912939   5979.049\n",
       "SH1744611.08FU_EF679363_refs    0.000   413.26003  374.8093768   4352.748\n",
       "SH1670916.08FU_AY943061_refs    0.000     0.00000    4.1915116      0.000\n",
       "SH1687332.08FU_KM277974_reps    0.000    35.35915    0.0000000   2917.776\n",
       "SH1712306.08FU_GU237794_refs    0.000     0.00000  112.9502065      0.000\n",
       "SH1664258.08FU_LN808981_reps    0.000    79.55808  116.9211122   1147.977\n",
       "SH1688430.08FU_KC584249_refs    0.000    33.14920    0.0000000   4831.072\n",
       "SH1688498.08FU_KJ650604_reps    0.000     0.00000    0.0000000      0.000\n",
       "SH1688806.08FU_KY788106_reps    0.000     0.00000    0.0000000      0.000\n",
       "SH1800509.08FU_HM365253_refs    0.000   106.07744   13.8981699 453594.570\n",
       "                             T3R9       T4R7        T4R9        T5R7        \n",
       "SH1726759.08FU_AF444541_refs    0.00000       0.000     0.00000       0.0000\n",
       "SH1715510.08FU_KU204769_reps    0.00000       0.000   702.37312       0.0000\n",
       "SH1676198.08FU_KF984792_refs   41.10314       0.000   884.46985       0.0000\n",
       "SH1694434.08FU_EU037063_reps  335.67568       0.000    65.03455       0.0000\n",
       "SH1692811.08FU_FJ430773_reps 8432.99518  231093.209  2913.54774  223494.7772\n",
       "SH1695393.08FU_U65307_reps   3062.18428  580828.584   897.47676  436293.8921\n",
       "SH1679963.08FU_KX664387_reps   13.70105       0.000     0.00000       0.0000\n",
       "SH1711465.08FU_AY554212_refs    0.00000       0.000     0.00000       0.0000\n",
       "SH1685996.08FU_AJ292429_refs 3665.03040       0.000 58283.96170       0.0000\n",
       "SH1729543.08FU_FR682361_reps    0.00000    2526.990     0.00000       0.0000\n",
       "SH1729549.08FU_MG920347_reps    0.00000       0.000    52.02764       0.0000\n",
       "SH1706045.08FU_GU054033_reps  404.18092    3537.786  1183.62877    8913.0519\n",
       "SH1744621.08FU_KC181928_reps 1315.30063   35377.856  1014.53895   18494.5828\n",
       "SH1744611.08FU_EF679363_refs 2260.67296   15667.336  2926.55465   15375.0146\n",
       "SH1670916.08FU_AY943061_refs   61.65472       0.000    91.04837       0.0000\n",
       "SH1687332.08FU_KM277974_reps    0.00000    4422.232     0.00000     668.4789\n",
       "SH1712306.08FU_GU237794_refs 8275.43313       0.000  5866.11621       0.0000\n",
       "SH1664258.08FU_LN808981_reps  404.18092       0.000  1352.71859       0.0000\n",
       "SH1688430.08FU_KC584249_refs    0.00000    7707.319     0.00000   12478.2727\n",
       "SH1688498.08FU_KJ650604_reps   13.70105       0.000     0.00000       0.0000\n",
       "SH1688806.08FU_KY788106_reps   54.80419       0.000   130.06910     891.3052\n",
       "SH1800509.08FU_HM365253_refs 2151.06457 2162471.442  5436.88819 2606399.2111\n",
       "                             T5R9      \n",
       "SH1726759.08FU_AF444541_refs      0.000\n",
       "SH1715510.08FU_KU204769_reps      0.000\n",
       "SH1676198.08FU_KF984792_refs  20905.413\n",
       "SH1694434.08FU_EU037063_reps      0.000\n",
       "SH1692811.08FU_FJ430773_reps  78300.275\n",
       "SH1695393.08FU_U65307_reps    12163.149\n",
       "SH1679963.08FU_KX664387_reps      0.000\n",
       "SH1711465.08FU_AY554212_refs      0.000\n",
       "SH1685996.08FU_AJ292429_refs 557604.384\n",
       "SH1729543.08FU_FR682361_reps      0.000\n",
       "SH1729549.08FU_MG920347_reps      0.000\n",
       "SH1706045.08FU_GU054033_reps   7221.870\n",
       "SH1744621.08FU_KC181928_reps  10642.756\n",
       "SH1744611.08FU_EF679363_refs  34969.055\n",
       "SH1670916.08FU_AY943061_refs   6081.575\n",
       "SH1687332.08FU_KM277974_reps      0.000\n",
       "SH1712306.08FU_GU237794_refs  83241.554\n",
       "SH1664258.08FU_LN808981_reps  65376.928\n",
       "SH1688430.08FU_KC584249_refs      0.000\n",
       "SH1688498.08FU_KJ650604_reps      0.000\n",
       "SH1688806.08FU_KY788106_reps      0.000\n",
       "SH1800509.08FU_HM365253_refs 458778.794"
      ]
     },
     "metadata": {},
     "output_type": "display_data"
    }
   ],
   "source": [
    "otu_table(quan.gyp)"
   ]
  },
  {
   "cell_type": "code",
   "execution_count": 26,
   "metadata": {},
   "outputs": [],
   "source": [
    "write.csv(otu_table(quan.gyp), \"./Correlation/quan-gyp-otu.csv\")"
   ]
  },
  {
   "cell_type": "markdown",
   "metadata": {},
   "source": [
    "## Part 2: get ITS feature table for 16S and ITS co-occurence. Only include taxas that are present in at least 10% of all samples. Split two materials, compare relative VS quantitative"
   ]
  },
  {
   "cell_type": "code",
   "execution_count": 5,
   "metadata": {},
   "outputs": [],
   "source": [
    "# build a prevalence table for filtering\n",
    "prevalencedf = apply(X = otu_table(physeq.23s.genus),\n",
    "                     MARGIN = 1,\n",
    "                     FUN = function(x){sum(x > 0)})\n",
    "\n",
    "prevalencedf = data.frame(Prevalence = prevalencedf,\n",
    "                          TotalAbundance = taxa_sums(physeq.23s.genus))"
   ]
  },
  {
   "cell_type": "code",
   "execution_count": 6,
   "metadata": {},
   "outputs": [
    {
     "data": {
      "text/html": [
       "2.3"
      ],
      "text/latex": [
       "2.3"
      ],
      "text/markdown": [
       "2.3"
      ],
      "text/plain": [
       "[1] 2.3"
      ]
     },
     "metadata": {},
     "output_type": "display_data"
    },
    {
     "data": {
      "text/html": [
       "26"
      ],
      "text/latex": [
       "26"
      ],
      "text/markdown": [
       "26"
      ],
      "text/plain": [
       "[1] 26"
      ]
     },
     "metadata": {},
     "output_type": "display_data"
    }
   ],
   "source": [
    "# filter out features that are not presnet in 10% of all samples\n",
    "prevalenceThreshold = 0.10 * nsamples(physeq.23s.genus)\n",
    "prevalenceThreshold\n",
    "keepTaxa = rownames(prevalencedf)[(prevalencedf$Prevalence >= prevalenceThreshold)]\n",
    "length(keepTaxa)\n",
    "#keepTaxa"
   ]
  },
  {
   "cell_type": "code",
   "execution_count": 7,
   "metadata": {},
   "outputs": [
    {
     "data": {
      "text/plain": [
       "phyloseq-class experiment-level object\n",
       "otu_table()   OTU Table:         [ 26 taxa and 23 samples ]\n",
       "sample_data() Sample Data:       [ 23 samples by 11 sample variables ]\n",
       "tax_table()   Taxonomy Table:    [ 26 taxa by 7 taxonomic ranks ]\n",
       "phy_tree()    Phylogenetic Tree: [ 26 tips and 25 internal nodes ]"
      ]
     },
     "metadata": {},
     "output_type": "display_data"
    }
   ],
   "source": [
    "physeq.23s.genus.prevalent = prune_taxa(keepTaxa, physeq.23s.genus)\n",
    "physeq.23s.genus.prevalent"
   ]
  },
  {
   "cell_type": "markdown",
   "metadata": {},
   "source": [
    "### Relative"
   ]
  },
  {
   "cell_type": "code",
   "execution_count": 8,
   "metadata": {
    "scrolled": true
   },
   "outputs": [
    {
     "data": {
      "text/html": [
       "<dl class=dl-horizontal>\n",
       "\t<dt>T1R1</dt>\n",
       "\t\t<dd>100</dd>\n",
       "\t<dt>T1R4</dt>\n",
       "\t\t<dd>100</dd>\n",
       "\t<dt>T1R7</dt>\n",
       "\t\t<dd>100</dd>\n",
       "\t<dt>T2R1</dt>\n",
       "\t\t<dd>100</dd>\n",
       "\t<dt>T2R4</dt>\n",
       "\t\t<dd>100</dd>\n",
       "\t<dt>T2R5</dt>\n",
       "\t\t<dd>100</dd>\n",
       "\t<dt>T2R7</dt>\n",
       "\t\t<dd>100</dd>\n",
       "\t<dt>T2R9</dt>\n",
       "\t\t<dd>100</dd>\n",
       "\t<dt>T3R1</dt>\n",
       "\t\t<dd>100</dd>\n",
       "\t<dt>T3R4</dt>\n",
       "\t\t<dd>100</dd>\n",
       "\t<dt>T3R5</dt>\n",
       "\t\t<dd>100</dd>\n",
       "\t<dt>T3R7</dt>\n",
       "\t\t<dd>100</dd>\n",
       "\t<dt>T3R9</dt>\n",
       "\t\t<dd>100</dd>\n",
       "\t<dt>T4R1</dt>\n",
       "\t\t<dd>100</dd>\n",
       "\t<dt>T4R4</dt>\n",
       "\t\t<dd>100</dd>\n",
       "\t<dt>T4R5</dt>\n",
       "\t\t<dd>100</dd>\n",
       "\t<dt>T4R7</dt>\n",
       "\t\t<dd>100</dd>\n",
       "\t<dt>T4R9</dt>\n",
       "\t\t<dd>100</dd>\n",
       "\t<dt>T5R1</dt>\n",
       "\t\t<dd>100</dd>\n",
       "\t<dt>T5R4</dt>\n",
       "\t\t<dd>100</dd>\n",
       "\t<dt>T5R5</dt>\n",
       "\t\t<dd>100</dd>\n",
       "\t<dt>T5R7</dt>\n",
       "\t\t<dd>100</dd>\n",
       "\t<dt>T5R9</dt>\n",
       "\t\t<dd>100</dd>\n",
       "</dl>\n"
      ],
      "text/latex": [
       "\\begin{description*}\n",
       "\\item[T1R1] 100\n",
       "\\item[T1R4] 100\n",
       "\\item[T1R7] 100\n",
       "\\item[T2R1] 100\n",
       "\\item[T2R4] 100\n",
       "\\item[T2R5] 100\n",
       "\\item[T2R7] 100\n",
       "\\item[T2R9] 100\n",
       "\\item[T3R1] 100\n",
       "\\item[T3R4] 100\n",
       "\\item[T3R5] 100\n",
       "\\item[T3R7] 100\n",
       "\\item[T3R9] 100\n",
       "\\item[T4R1] 100\n",
       "\\item[T4R4] 100\n",
       "\\item[T4R5] 100\n",
       "\\item[T4R7] 100\n",
       "\\item[T4R9] 100\n",
       "\\item[T5R1] 100\n",
       "\\item[T5R4] 100\n",
       "\\item[T5R5] 100\n",
       "\\item[T5R7] 100\n",
       "\\item[T5R9] 100\n",
       "\\end{description*}\n"
      ],
      "text/markdown": [
       "T1R1\n",
       ":   100T1R4\n",
       ":   100T1R7\n",
       ":   100T2R1\n",
       ":   100T2R4\n",
       ":   100T2R5\n",
       ":   100T2R7\n",
       ":   100T2R9\n",
       ":   100T3R1\n",
       ":   100T3R4\n",
       ":   100T3R5\n",
       ":   100T3R7\n",
       ":   100T3R9\n",
       ":   100T4R1\n",
       ":   100T4R4\n",
       ":   100T4R5\n",
       ":   100T4R7\n",
       ":   100T4R9\n",
       ":   100T5R1\n",
       ":   100T5R4\n",
       ":   100T5R5\n",
       ":   100T5R7\n",
       ":   100T5R9\n",
       ":   100\n",
       "\n"
      ],
      "text/plain": [
       "T1R1 T1R4 T1R7 T2R1 T2R4 T2R5 T2R7 T2R9 T3R1 T3R4 T3R5 T3R7 T3R9 T4R1 T4R4 T4R5 \n",
       " 100  100  100  100  100  100  100  100  100  100  100  100  100  100  100  100 \n",
       "T4R7 T4R9 T5R1 T5R4 T5R5 T5R7 T5R9 \n",
       " 100  100  100  100  100  100  100 "
      ]
     },
     "metadata": {},
     "output_type": "display_data"
    }
   ],
   "source": [
    "physeq.23s.genus.prevalent.rel = transform_sample_counts(physeq.23s.genus.prevalent, function(x) 100 * x/sum(x))\n",
    "sample_sums(physeq.23s.genus.prevalent.rel)"
   ]
  },
  {
   "cell_type": "code",
   "execution_count": 9,
   "metadata": {},
   "outputs": [
    {
     "data": {
      "text/plain": [
       "phyloseq-class experiment-level object\n",
       "otu_table()   OTU Table:         [ 16 taxa and 14 samples ]\n",
       "sample_data() Sample Data:       [ 14 samples by 11 sample variables ]\n",
       "tax_table()   Taxonomy Table:    [ 16 taxa by 7 taxonomic ranks ]\n",
       "phy_tree()    Phylogenetic Tree: [ 16 tips and 15 internal nodes ]"
      ]
     },
     "metadata": {},
     "output_type": "display_data"
    }
   ],
   "source": [
    "# reduce the name length: p.rel.mdf = physeq.whole.genus.prevelant.rel.mdf\n",
    "p.rel.mdf = subset_samples(physeq.23s.genus.prevalent.rel, Material == \"MDF\")\n",
    "# filter out features that are not present in all samples\n",
    "p.rel.mdf = prune_taxa(taxa_sums(p.rel.mdf) > 0, p.rel.mdf)\n",
    "# filter out fatures that are NA at Genus level\n",
    "p.rel.mdf = subset_taxa(p.rel.mdf, !Genus == \"g__unidentified\")\n",
    "p.rel.mdf"
   ]
  },
  {
   "cell_type": "code",
   "execution_count": 10,
   "metadata": {
    "scrolled": true
   },
   "outputs": [
    {
     "data": {
      "text/html": [
       "<table>\n",
       "<caption>A otu_table: 16 × 14 of type dbl</caption>\n",
       "<thead>\n",
       "\t<tr><th></th><th scope=col>T1R1</th><th scope=col>T1R4</th><th scope=col>T2R1</th><th scope=col>T2R4</th><th scope=col>T2R5</th><th scope=col>T3R1</th><th scope=col>T3R4</th><th scope=col>T3R5</th><th scope=col>T4R1</th><th scope=col>T4R4</th><th scope=col>T4R5</th><th scope=col>T5R1</th><th scope=col>T5R4</th><th scope=col>T5R5</th></tr>\n",
       "</thead>\n",
       "<tbody>\n",
       "\t<tr><th scope=row>SH1726759.08FU_AF444541_refs</th><td>  0</td><td>  0</td><td> 0.0000000</td><td> 0.00000000</td><td> 0.00000000</td><td> 0.031587022</td><td> 0.0000000</td><td> 0.01479859</td><td> 0.00000000</td><td> 0.00000000</td><td> 0.000000000</td><td> 0.00000000</td><td> 0.00000000</td><td> 0.00000000</td></tr>\n",
       "\t<tr><th scope=row>SH1725251.08FU_KJ706901_reps</th><td>  0</td><td>  0</td><td> 0.1112274</td><td> 0.00000000</td><td> 0.00000000</td><td> 0.527954515</td><td> 0.0000000</td><td> 0.00000000</td><td> 0.21796490</td><td> 0.00000000</td><td> 0.000000000</td><td> 0.14520227</td><td> 0.00000000</td><td> 0.00000000</td></tr>\n",
       "\t<tr><th scope=row>SH1674913.08FU_AJ244232_refs</th><td>  0</td><td>  0</td><td> 0.3205967</td><td> 0.00000000</td><td> 0.00000000</td><td> 0.126348089</td><td> 0.0000000</td><td> 0.00000000</td><td> 0.02581163</td><td> 0.00000000</td><td> 0.000000000</td><td> 0.00000000</td><td> 0.00000000</td><td> 0.00000000</td></tr>\n",
       "\t<tr><th scope=row>SH1676198.08FU_KF984792_refs</th><td>  0</td><td>  0</td><td> 0.0000000</td><td> 0.00000000</td><td> 0.03575771</td><td> 0.000000000</td><td> 0.0000000</td><td> 0.01479859</td><td> 0.00000000</td><td> 0.03041247</td><td> 0.000000000</td><td> 0.00000000</td><td> 0.05992265</td><td> 0.01263743</td></tr>\n",
       "\t<tr><th scope=row>SH1694434.08FU_EU037063_reps</th><td>  0</td><td>  0</td><td> 0.0000000</td><td> 0.00000000</td><td> 0.00000000</td><td> 0.009024863</td><td> 0.0000000</td><td> 0.00000000</td><td> 0.01433980</td><td> 0.00000000</td><td> 0.008488724</td><td> 0.00000000</td><td> 0.00000000</td><td> 0.00000000</td></tr>\n",
       "\t<tr><th scope=row>SH1692811.08FU_FJ430773_reps</th><td>100</td><td>  0</td><td>62.8827532</td><td>43.16169236</td><td>57.49839090</td><td>50.629484229</td><td>37.5676204</td><td>16.75792465</td><td>29.27899507</td><td>44.55806881</td><td>13.726266942</td><td>42.46763199</td><td>46.34744239</td><td>13.43674965</td></tr>\n",
       "\t<tr><th scope=row>SH1695393.08FU_U65307_reps</th><td>  0</td><td>100</td><td>27.9507982</td><td>47.24171860</td><td>25.67403275</td><td>38.648977934</td><td>57.8309327</td><td>71.80572410</td><td>55.39463118</td><td>49.40125451</td><td>82.521716986</td><td>20.66309039</td><td>36.99950972</td><td>84.40540882</td></tr>\n",
       "\t<tr><th scope=row>SH1685996.08FU_AJ292429_refs</th><td>  0</td><td>  0</td><td> 0.0000000</td><td> 0.00000000</td><td> 0.00000000</td><td> 0.000000000</td><td> 0.0000000</td><td> 0.00000000</td><td> 0.01433980</td><td> 0.00000000</td><td> 0.000000000</td><td> 0.01613359</td><td> 0.00000000</td><td> 0.00000000</td></tr>\n",
       "\t<tr><th scope=row>SH1738712.08FU_MG372138_reps</th><td>  0</td><td>  0</td><td> 0.0000000</td><td> 5.01147917</td><td> 2.81770722</td><td> 0.000000000</td><td> 2.8807925</td><td> 0.38180365</td><td> 0.00000000</td><td> 0.53982133</td><td> 2.719221301</td><td> 0.00000000</td><td> 0.32685079</td><td> 0.62555289</td></tr>\n",
       "\t<tr><th scope=row>SH1744621.08FU_KC181928_reps</th><td>  0</td><td>  0</td><td> 2.7414289</td><td> 3.06985897</td><td>10.58428091</td><td> 0.920536077</td><td> 1.1405853</td><td> 8.69861189</td><td> 0.16634163</td><td> 0.93898498</td><td> 0.698904955</td><td> 0.32670512</td><td> 0.86070709</td><td> 1.29217743</td></tr>\n",
       "\t<tr><th scope=row>SH1744611.08FU_EF679363_refs</th><td>  0</td><td>  0</td><td> 0.4383669</td><td> 0.24926205</td><td> 0.57927483</td><td> 0.000000000</td><td> 0.1238350</td><td> 1.00630420</td><td> 0.00000000</td><td> 0.00000000</td><td> 0.135819586</td><td> 0.00000000</td><td> 0.00000000</td><td> 0.00000000</td></tr>\n",
       "\t<tr><th scope=row>SH1664258.08FU_LN808981_reps</th><td>  0</td><td>  0</td><td> 0.2682544</td><td> 0.00000000</td><td> 0.14303082</td><td> 0.000000000</td><td> 0.0000000</td><td> 0.02959718</td><td> 0.00000000</td><td> 0.00000000</td><td> 0.000000000</td><td> 0.00000000</td><td> 0.00000000</td><td> 0.00000000</td></tr>\n",
       "\t<tr><th scope=row>SH1688430.08FU_KC584249_refs</th><td>  0</td><td>  0</td><td> 1.5768124</td><td> 0.07871433</td><td> 0.18594007</td><td> 0.194034565</td><td> 0.0000000</td><td> 0.12134845</td><td> 0.04301939</td><td> 0.00000000</td><td> 0.000000000</td><td> 0.00000000</td><td> 0.00000000</td><td> 0.00000000</td></tr>\n",
       "\t<tr><th scope=row>SH1688498.08FU_KJ650604_reps</th><td>  0</td><td>  0</td><td> 0.6019367</td><td> 0.00000000</td><td> 0.00000000</td><td> 0.085736203</td><td> 0.0000000</td><td> 0.00000000</td><td> 0.00000000</td><td> 0.00000000</td><td> 0.000000000</td><td> 0.01613359</td><td> 0.00000000</td><td> 0.00000000</td></tr>\n",
       "\t<tr><th scope=row>SH1688806.08FU_KY788106_reps</th><td>  0</td><td>  0</td><td> 0.1701125</td><td> 0.00000000</td><td> 1.00121576</td><td> 0.085736203</td><td> 0.0000000</td><td> 0.84943913</td><td> 0.10037857</td><td> 0.01520623</td><td> 0.048102770</td><td> 0.03226717</td><td> 0.00000000</td><td> 0.02843422</td></tr>\n",
       "\t<tr><th scope=row>SH1800509.08FU_HM365253_refs</th><td>  0</td><td>  0</td><td> 0.4187386</td><td> 0.19678583</td><td> 0.00000000</td><td> 8.262262533</td><td> 0.3063286</td><td> 0.17758309</td><td>14.62085580</td><td> 4.36038776</td><td> 0.087716816</td><td>36.17956681</td><td>15.26393202</td><td> 0.12953368</td></tr>\n",
       "</tbody>\n",
       "</table>\n"
      ],
      "text/latex": [
       "A otu_table: 16 × 14 of type dbl\n",
       "\\begin{tabular}{r|llllllllllllll}\n",
       "  & T1R1 & T1R4 & T2R1 & T2R4 & T2R5 & T3R1 & T3R4 & T3R5 & T4R1 & T4R4 & T4R5 & T5R1 & T5R4 & T5R5\\\\\n",
       "\\hline\n",
       "\tSH1726759.08FU\\_AF444541\\_refs &   0 &   0 &  0.0000000 &  0.00000000 &  0.00000000 &  0.031587022 &  0.0000000 &  0.01479859 &  0.00000000 &  0.00000000 &  0.000000000 &  0.00000000 &  0.00000000 &  0.00000000\\\\\n",
       "\tSH1725251.08FU\\_KJ706901\\_reps &   0 &   0 &  0.1112274 &  0.00000000 &  0.00000000 &  0.527954515 &  0.0000000 &  0.00000000 &  0.21796490 &  0.00000000 &  0.000000000 &  0.14520227 &  0.00000000 &  0.00000000\\\\\n",
       "\tSH1674913.08FU\\_AJ244232\\_refs &   0 &   0 &  0.3205967 &  0.00000000 &  0.00000000 &  0.126348089 &  0.0000000 &  0.00000000 &  0.02581163 &  0.00000000 &  0.000000000 &  0.00000000 &  0.00000000 &  0.00000000\\\\\n",
       "\tSH1676198.08FU\\_KF984792\\_refs &   0 &   0 &  0.0000000 &  0.00000000 &  0.03575771 &  0.000000000 &  0.0000000 &  0.01479859 &  0.00000000 &  0.03041247 &  0.000000000 &  0.00000000 &  0.05992265 &  0.01263743\\\\\n",
       "\tSH1694434.08FU\\_EU037063\\_reps &   0 &   0 &  0.0000000 &  0.00000000 &  0.00000000 &  0.009024863 &  0.0000000 &  0.00000000 &  0.01433980 &  0.00000000 &  0.008488724 &  0.00000000 &  0.00000000 &  0.00000000\\\\\n",
       "\tSH1692811.08FU\\_FJ430773\\_reps & 100 &   0 & 62.8827532 & 43.16169236 & 57.49839090 & 50.629484229 & 37.5676204 & 16.75792465 & 29.27899507 & 44.55806881 & 13.726266942 & 42.46763199 & 46.34744239 & 13.43674965\\\\\n",
       "\tSH1695393.08FU\\_U65307\\_reps &   0 & 100 & 27.9507982 & 47.24171860 & 25.67403275 & 38.648977934 & 57.8309327 & 71.80572410 & 55.39463118 & 49.40125451 & 82.521716986 & 20.66309039 & 36.99950972 & 84.40540882\\\\\n",
       "\tSH1685996.08FU\\_AJ292429\\_refs &   0 &   0 &  0.0000000 &  0.00000000 &  0.00000000 &  0.000000000 &  0.0000000 &  0.00000000 &  0.01433980 &  0.00000000 &  0.000000000 &  0.01613359 &  0.00000000 &  0.00000000\\\\\n",
       "\tSH1738712.08FU\\_MG372138\\_reps &   0 &   0 &  0.0000000 &  5.01147917 &  2.81770722 &  0.000000000 &  2.8807925 &  0.38180365 &  0.00000000 &  0.53982133 &  2.719221301 &  0.00000000 &  0.32685079 &  0.62555289\\\\\n",
       "\tSH1744621.08FU\\_KC181928\\_reps &   0 &   0 &  2.7414289 &  3.06985897 & 10.58428091 &  0.920536077 &  1.1405853 &  8.69861189 &  0.16634163 &  0.93898498 &  0.698904955 &  0.32670512 &  0.86070709 &  1.29217743\\\\\n",
       "\tSH1744611.08FU\\_EF679363\\_refs &   0 &   0 &  0.4383669 &  0.24926205 &  0.57927483 &  0.000000000 &  0.1238350 &  1.00630420 &  0.00000000 &  0.00000000 &  0.135819586 &  0.00000000 &  0.00000000 &  0.00000000\\\\\n",
       "\tSH1664258.08FU\\_LN808981\\_reps &   0 &   0 &  0.2682544 &  0.00000000 &  0.14303082 &  0.000000000 &  0.0000000 &  0.02959718 &  0.00000000 &  0.00000000 &  0.000000000 &  0.00000000 &  0.00000000 &  0.00000000\\\\\n",
       "\tSH1688430.08FU\\_KC584249\\_refs &   0 &   0 &  1.5768124 &  0.07871433 &  0.18594007 &  0.194034565 &  0.0000000 &  0.12134845 &  0.04301939 &  0.00000000 &  0.000000000 &  0.00000000 &  0.00000000 &  0.00000000\\\\\n",
       "\tSH1688498.08FU\\_KJ650604\\_reps &   0 &   0 &  0.6019367 &  0.00000000 &  0.00000000 &  0.085736203 &  0.0000000 &  0.00000000 &  0.00000000 &  0.00000000 &  0.000000000 &  0.01613359 &  0.00000000 &  0.00000000\\\\\n",
       "\tSH1688806.08FU\\_KY788106\\_reps &   0 &   0 &  0.1701125 &  0.00000000 &  1.00121576 &  0.085736203 &  0.0000000 &  0.84943913 &  0.10037857 &  0.01520623 &  0.048102770 &  0.03226717 &  0.00000000 &  0.02843422\\\\\n",
       "\tSH1800509.08FU\\_HM365253\\_refs &   0 &   0 &  0.4187386 &  0.19678583 &  0.00000000 &  8.262262533 &  0.3063286 &  0.17758309 & 14.62085580 &  4.36038776 &  0.087716816 & 36.17956681 & 15.26393202 &  0.12953368\\\\\n",
       "\\end{tabular}\n"
      ],
      "text/markdown": [
       "\n",
       "A otu_table: 16 × 14 of type dbl\n",
       "\n",
       "| <!--/--> | T1R1 | T1R4 | T2R1 | T2R4 | T2R5 | T3R1 | T3R4 | T3R5 | T4R1 | T4R4 | T4R5 | T5R1 | T5R4 | T5R5 |\n",
       "|---|---|---|---|---|---|---|---|---|---|---|---|---|---|---|\n",
       "| SH1726759.08FU_AF444541_refs |   0 |   0 |  0.0000000 |  0.00000000 |  0.00000000 |  0.031587022 |  0.0000000 |  0.01479859 |  0.00000000 |  0.00000000 |  0.000000000 |  0.00000000 |  0.00000000 |  0.00000000 |\n",
       "| SH1725251.08FU_KJ706901_reps |   0 |   0 |  0.1112274 |  0.00000000 |  0.00000000 |  0.527954515 |  0.0000000 |  0.00000000 |  0.21796490 |  0.00000000 |  0.000000000 |  0.14520227 |  0.00000000 |  0.00000000 |\n",
       "| SH1674913.08FU_AJ244232_refs |   0 |   0 |  0.3205967 |  0.00000000 |  0.00000000 |  0.126348089 |  0.0000000 |  0.00000000 |  0.02581163 |  0.00000000 |  0.000000000 |  0.00000000 |  0.00000000 |  0.00000000 |\n",
       "| SH1676198.08FU_KF984792_refs |   0 |   0 |  0.0000000 |  0.00000000 |  0.03575771 |  0.000000000 |  0.0000000 |  0.01479859 |  0.00000000 |  0.03041247 |  0.000000000 |  0.00000000 |  0.05992265 |  0.01263743 |\n",
       "| SH1694434.08FU_EU037063_reps |   0 |   0 |  0.0000000 |  0.00000000 |  0.00000000 |  0.009024863 |  0.0000000 |  0.00000000 |  0.01433980 |  0.00000000 |  0.008488724 |  0.00000000 |  0.00000000 |  0.00000000 |\n",
       "| SH1692811.08FU_FJ430773_reps | 100 |   0 | 62.8827532 | 43.16169236 | 57.49839090 | 50.629484229 | 37.5676204 | 16.75792465 | 29.27899507 | 44.55806881 | 13.726266942 | 42.46763199 | 46.34744239 | 13.43674965 |\n",
       "| SH1695393.08FU_U65307_reps |   0 | 100 | 27.9507982 | 47.24171860 | 25.67403275 | 38.648977934 | 57.8309327 | 71.80572410 | 55.39463118 | 49.40125451 | 82.521716986 | 20.66309039 | 36.99950972 | 84.40540882 |\n",
       "| SH1685996.08FU_AJ292429_refs |   0 |   0 |  0.0000000 |  0.00000000 |  0.00000000 |  0.000000000 |  0.0000000 |  0.00000000 |  0.01433980 |  0.00000000 |  0.000000000 |  0.01613359 |  0.00000000 |  0.00000000 |\n",
       "| SH1738712.08FU_MG372138_reps |   0 |   0 |  0.0000000 |  5.01147917 |  2.81770722 |  0.000000000 |  2.8807925 |  0.38180365 |  0.00000000 |  0.53982133 |  2.719221301 |  0.00000000 |  0.32685079 |  0.62555289 |\n",
       "| SH1744621.08FU_KC181928_reps |   0 |   0 |  2.7414289 |  3.06985897 | 10.58428091 |  0.920536077 |  1.1405853 |  8.69861189 |  0.16634163 |  0.93898498 |  0.698904955 |  0.32670512 |  0.86070709 |  1.29217743 |\n",
       "| SH1744611.08FU_EF679363_refs |   0 |   0 |  0.4383669 |  0.24926205 |  0.57927483 |  0.000000000 |  0.1238350 |  1.00630420 |  0.00000000 |  0.00000000 |  0.135819586 |  0.00000000 |  0.00000000 |  0.00000000 |\n",
       "| SH1664258.08FU_LN808981_reps |   0 |   0 |  0.2682544 |  0.00000000 |  0.14303082 |  0.000000000 |  0.0000000 |  0.02959718 |  0.00000000 |  0.00000000 |  0.000000000 |  0.00000000 |  0.00000000 |  0.00000000 |\n",
       "| SH1688430.08FU_KC584249_refs |   0 |   0 |  1.5768124 |  0.07871433 |  0.18594007 |  0.194034565 |  0.0000000 |  0.12134845 |  0.04301939 |  0.00000000 |  0.000000000 |  0.00000000 |  0.00000000 |  0.00000000 |\n",
       "| SH1688498.08FU_KJ650604_reps |   0 |   0 |  0.6019367 |  0.00000000 |  0.00000000 |  0.085736203 |  0.0000000 |  0.00000000 |  0.00000000 |  0.00000000 |  0.000000000 |  0.01613359 |  0.00000000 |  0.00000000 |\n",
       "| SH1688806.08FU_KY788106_reps |   0 |   0 |  0.1701125 |  0.00000000 |  1.00121576 |  0.085736203 |  0.0000000 |  0.84943913 |  0.10037857 |  0.01520623 |  0.048102770 |  0.03226717 |  0.00000000 |  0.02843422 |\n",
       "| SH1800509.08FU_HM365253_refs |   0 |   0 |  0.4187386 |  0.19678583 |  0.00000000 |  8.262262533 |  0.3063286 |  0.17758309 | 14.62085580 |  4.36038776 |  0.087716816 | 36.17956681 | 15.26393202 |  0.12953368 |\n",
       "\n"
      ],
      "text/plain": [
       "                             T1R1 T1R4 T2R1       T2R4        T2R5       \n",
       "SH1726759.08FU_AF444541_refs   0    0   0.0000000  0.00000000  0.00000000\n",
       "SH1725251.08FU_KJ706901_reps   0    0   0.1112274  0.00000000  0.00000000\n",
       "SH1674913.08FU_AJ244232_refs   0    0   0.3205967  0.00000000  0.00000000\n",
       "SH1676198.08FU_KF984792_refs   0    0   0.0000000  0.00000000  0.03575771\n",
       "SH1694434.08FU_EU037063_reps   0    0   0.0000000  0.00000000  0.00000000\n",
       "SH1692811.08FU_FJ430773_reps 100    0  62.8827532 43.16169236 57.49839090\n",
       "SH1695393.08FU_U65307_reps     0  100  27.9507982 47.24171860 25.67403275\n",
       "SH1685996.08FU_AJ292429_refs   0    0   0.0000000  0.00000000  0.00000000\n",
       "SH1738712.08FU_MG372138_reps   0    0   0.0000000  5.01147917  2.81770722\n",
       "SH1744621.08FU_KC181928_reps   0    0   2.7414289  3.06985897 10.58428091\n",
       "SH1744611.08FU_EF679363_refs   0    0   0.4383669  0.24926205  0.57927483\n",
       "SH1664258.08FU_LN808981_reps   0    0   0.2682544  0.00000000  0.14303082\n",
       "SH1688430.08FU_KC584249_refs   0    0   1.5768124  0.07871433  0.18594007\n",
       "SH1688498.08FU_KJ650604_reps   0    0   0.6019367  0.00000000  0.00000000\n",
       "SH1688806.08FU_KY788106_reps   0    0   0.1701125  0.00000000  1.00121576\n",
       "SH1800509.08FU_HM365253_refs   0    0   0.4187386  0.19678583  0.00000000\n",
       "                             T3R1         T3R4       T3R5        T4R1       \n",
       "SH1726759.08FU_AF444541_refs  0.031587022  0.0000000  0.01479859  0.00000000\n",
       "SH1725251.08FU_KJ706901_reps  0.527954515  0.0000000  0.00000000  0.21796490\n",
       "SH1674913.08FU_AJ244232_refs  0.126348089  0.0000000  0.00000000  0.02581163\n",
       "SH1676198.08FU_KF984792_refs  0.000000000  0.0000000  0.01479859  0.00000000\n",
       "SH1694434.08FU_EU037063_reps  0.009024863  0.0000000  0.00000000  0.01433980\n",
       "SH1692811.08FU_FJ430773_reps 50.629484229 37.5676204 16.75792465 29.27899507\n",
       "SH1695393.08FU_U65307_reps   38.648977934 57.8309327 71.80572410 55.39463118\n",
       "SH1685996.08FU_AJ292429_refs  0.000000000  0.0000000  0.00000000  0.01433980\n",
       "SH1738712.08FU_MG372138_reps  0.000000000  2.8807925  0.38180365  0.00000000\n",
       "SH1744621.08FU_KC181928_reps  0.920536077  1.1405853  8.69861189  0.16634163\n",
       "SH1744611.08FU_EF679363_refs  0.000000000  0.1238350  1.00630420  0.00000000\n",
       "SH1664258.08FU_LN808981_reps  0.000000000  0.0000000  0.02959718  0.00000000\n",
       "SH1688430.08FU_KC584249_refs  0.194034565  0.0000000  0.12134845  0.04301939\n",
       "SH1688498.08FU_KJ650604_reps  0.085736203  0.0000000  0.00000000  0.00000000\n",
       "SH1688806.08FU_KY788106_reps  0.085736203  0.0000000  0.84943913  0.10037857\n",
       "SH1800509.08FU_HM365253_refs  8.262262533  0.3063286  0.17758309 14.62085580\n",
       "                             T4R4        T4R5         T5R1        T5R4       \n",
       "SH1726759.08FU_AF444541_refs  0.00000000  0.000000000  0.00000000  0.00000000\n",
       "SH1725251.08FU_KJ706901_reps  0.00000000  0.000000000  0.14520227  0.00000000\n",
       "SH1674913.08FU_AJ244232_refs  0.00000000  0.000000000  0.00000000  0.00000000\n",
       "SH1676198.08FU_KF984792_refs  0.03041247  0.000000000  0.00000000  0.05992265\n",
       "SH1694434.08FU_EU037063_reps  0.00000000  0.008488724  0.00000000  0.00000000\n",
       "SH1692811.08FU_FJ430773_reps 44.55806881 13.726266942 42.46763199 46.34744239\n",
       "SH1695393.08FU_U65307_reps   49.40125451 82.521716986 20.66309039 36.99950972\n",
       "SH1685996.08FU_AJ292429_refs  0.00000000  0.000000000  0.01613359  0.00000000\n",
       "SH1738712.08FU_MG372138_reps  0.53982133  2.719221301  0.00000000  0.32685079\n",
       "SH1744621.08FU_KC181928_reps  0.93898498  0.698904955  0.32670512  0.86070709\n",
       "SH1744611.08FU_EF679363_refs  0.00000000  0.135819586  0.00000000  0.00000000\n",
       "SH1664258.08FU_LN808981_reps  0.00000000  0.000000000  0.00000000  0.00000000\n",
       "SH1688430.08FU_KC584249_refs  0.00000000  0.000000000  0.00000000  0.00000000\n",
       "SH1688498.08FU_KJ650604_reps  0.00000000  0.000000000  0.01613359  0.00000000\n",
       "SH1688806.08FU_KY788106_reps  0.01520623  0.048102770  0.03226717  0.00000000\n",
       "SH1800509.08FU_HM365253_refs  4.36038776  0.087716816 36.17956681 15.26393202\n",
       "                             T5R5       \n",
       "SH1726759.08FU_AF444541_refs  0.00000000\n",
       "SH1725251.08FU_KJ706901_reps  0.00000000\n",
       "SH1674913.08FU_AJ244232_refs  0.00000000\n",
       "SH1676198.08FU_KF984792_refs  0.01263743\n",
       "SH1694434.08FU_EU037063_reps  0.00000000\n",
       "SH1692811.08FU_FJ430773_reps 13.43674965\n",
       "SH1695393.08FU_U65307_reps   84.40540882\n",
       "SH1685996.08FU_AJ292429_refs  0.00000000\n",
       "SH1738712.08FU_MG372138_reps  0.62555289\n",
       "SH1744621.08FU_KC181928_reps  1.29217743\n",
       "SH1744611.08FU_EF679363_refs  0.00000000\n",
       "SH1664258.08FU_LN808981_reps  0.00000000\n",
       "SH1688430.08FU_KC584249_refs  0.00000000\n",
       "SH1688498.08FU_KJ650604_reps  0.00000000\n",
       "SH1688806.08FU_KY788106_reps  0.02843422\n",
       "SH1800509.08FU_HM365253_refs  0.12953368"
      ]
     },
     "metadata": {},
     "output_type": "display_data"
    }
   ],
   "source": [
    "otu_table(p.rel.mdf)"
   ]
  },
  {
   "cell_type": "code",
   "execution_count": 11,
   "metadata": {
    "scrolled": true
   },
   "outputs": [],
   "source": [
    "write.csv(otu_table(p.rel.mdf), \"ITS-rel-mdf.csv\")\n",
    "write.csv(tax_table(p.rel.mdf), \"ITS-mdf-taxa.csv\")"
   ]
  },
  {
   "cell_type": "code",
   "execution_count": 12,
   "metadata": {},
   "outputs": [
    {
     "data": {
      "text/plain": [
       "phyloseq-class experiment-level object\n",
       "otu_table()   OTU Table:         [ 18 taxa and 9 samples ]\n",
       "sample_data() Sample Data:       [ 9 samples by 11 sample variables ]\n",
       "tax_table()   Taxonomy Table:    [ 18 taxa by 7 taxonomic ranks ]\n",
       "phy_tree()    Phylogenetic Tree: [ 18 tips and 17 internal nodes ]"
      ]
     },
     "metadata": {},
     "output_type": "display_data"
    }
   ],
   "source": [
    "p.rel.gyp = subset_samples(physeq.23s.genus.prevalent.rel, Material == \"Gypsum\")\n",
    "p.rel.gyp = prune_taxa(taxa_sums(p.rel.gyp) > 0, p.rel.gyp)\n",
    "p.rel.gyp = subset_taxa(p.rel.gyp, !Genus == \"g__unidentified\")\n",
    "p.rel.gyp"
   ]
  },
  {
   "cell_type": "code",
   "execution_count": 13,
   "metadata": {
    "scrolled": true
   },
   "outputs": [
    {
     "data": {
      "text/html": [
       "<table>\n",
       "<caption>A otu_table: 18 × 9 of type dbl</caption>\n",
       "<thead>\n",
       "\t<tr><th></th><th scope=col>T1R7</th><th scope=col>T2R7</th><th scope=col>T2R9</th><th scope=col>T3R7</th><th scope=col>T3R9</th><th scope=col>T4R7</th><th scope=col>T4R9</th><th scope=col>T5R7</th><th scope=col>T5R9</th></tr>\n",
       "</thead>\n",
       "<tbody>\n",
       "\t<tr><th scope=row>SH1726759.08FU_AF444541_refs</th><td>100</td><td> 0.0000000</td><td> 0.00000000</td><td> 0.00000000</td><td> 0.00000000</td><td> 0.0000000</td><td> 0.00000000</td><td> 0.00000000</td><td> 0.0000000</td></tr>\n",
       "\t<tr><th scope=row>SH1715510.08FU_KU204769_reps</th><td>  0</td><td> 1.0668999</td><td> 6.33981403</td><td> 0.10066346</td><td> 0.00000000</td><td> 0.0000000</td><td> 0.57148905</td><td> 0.00000000</td><td> 0.0000000</td></tr>\n",
       "\t<tr><th scope=row>SH1676198.08FU_KF984792_refs</th><td>  0</td><td> 0.0000000</td><td> 0.04448992</td><td> 0.00000000</td><td> 0.10223207</td><td> 0.0000000</td><td> 0.71965287</td><td> 0.00000000</td><td> 1.2162760</td></tr>\n",
       "\t<tr><th scope=row>SH1694434.08FU_EU037063_reps</th><td>  0</td><td> 0.0000000</td><td> 7.14508164</td><td> 0.00000000</td><td> 0.83489521</td><td> 0.0000000</td><td> 0.05291565</td><td> 0.00000000</td><td> 0.0000000</td></tr>\n",
       "\t<tr><th scope=row>SH1692811.08FU_FJ430773_reps</th><td>  0</td><td>26.3314386</td><td>46.95021578</td><td> 8.02104782</td><td>20.97461237</td><td> 7.4827149</td><td> 2.37062123</td><td> 6.51256412</td><td> 4.5555064</td></tr>\n",
       "\t<tr><th scope=row>SH1695393.08FU_U65307_reps</th><td>  0</td><td>66.8211631</td><td> 7.47430707</td><td>28.91329215</td><td> 7.61628898</td><td>18.8070204</td><td> 0.73023600</td><td>12.71346016</td><td> 0.7076515</td></tr>\n",
       "\t<tr><th scope=row>SH1685996.08FU_AJ292429_refs</th><td>  0</td><td> 0.0000000</td><td> 0.24024558</td><td> 0.02287806</td><td> 9.11569262</td><td> 0.0000000</td><td>47.42300773</td><td> 0.00000000</td><td>32.4413976</td></tr>\n",
       "\t<tr><th scope=row>SH1706045.08FU_GU054033_reps</th><td>  0</td><td> 0.0000000</td><td> 0.02669395</td><td> 0.00000000</td><td> 1.00528199</td><td> 0.1145522</td><td> 0.96306487</td><td> 0.25972339</td><td> 0.4201681</td></tr>\n",
       "\t<tr><th scope=row>SH1744621.08FU_KC181928_reps</th><td>  0</td><td> 1.7665063</td><td> 5.22311696</td><td> 0.57195150</td><td> 3.27142614</td><td> 1.1455222</td><td> 0.82548418</td><td> 0.53892604</td><td> 0.6191950</td></tr>\n",
       "\t<tr><th scope=row>SH1744611.08FU_EF679363_refs</th><td>  0</td><td> 1.6353301</td><td> 7.55883792</td><td> 0.41638069</td><td> 5.62276367</td><td> 0.5073027</td><td> 2.38120436</td><td> 0.44802286</td><td> 2.0344980</td></tr>\n",
       "\t<tr><th scope=row>SH1670916.08FU_AY943061_refs</th><td>  0</td><td> 0.0000000</td><td> 0.08453085</td><td> 0.00000000</td><td> 0.15334810</td><td> 0.0000000</td><td> 0.07408191</td><td> 0.00000000</td><td> 0.3538257</td></tr>\n",
       "\t<tr><th scope=row>SH1687332.08FU_KM277974_reps</th><td>  0</td><td> 0.1399213</td><td> 0.00000000</td><td> 0.27911233</td><td> 0.00000000</td><td> 0.1431903</td><td> 0.00000000</td><td> 0.01947925</td><td> 0.0000000</td></tr>\n",
       "\t<tr><th scope=row>SH1712306.08FU_GU237794_refs</th><td>  0</td><td> 0.0000000</td><td> 2.27788406</td><td> 0.00000000</td><td>20.58272278</td><td> 0.0000000</td><td> 4.77299185</td><td> 0.00000000</td><td> 4.8429898</td></tr>\n",
       "\t<tr><th scope=row>SH1664258.08FU_LN808981_reps</th><td>  0</td><td> 0.3148229</td><td> 2.35796592</td><td> 0.10981469</td><td> 1.00528199</td><td> 0.0000000</td><td> 1.10064557</td><td> 0.00000000</td><td> 3.8036267</td></tr>\n",
       "\t<tr><th scope=row>SH1688430.08FU_KC584249_refs</th><td>  0</td><td> 0.1311762</td><td> 0.00000000</td><td> 0.46213681</td><td> 0.00000000</td><td> 0.2495602</td><td> 0.00000000</td><td> 0.36361275</td><td> 0.0000000</td></tr>\n",
       "\t<tr><th scope=row>SH1688498.08FU_KJ650604_reps</th><td>  0</td><td> 0.0000000</td><td> 0.00000000</td><td> 0.00000000</td><td> 0.03407736</td><td> 0.0000000</td><td> 0.00000000</td><td> 0.00000000</td><td> 0.0000000</td></tr>\n",
       "\t<tr><th scope=row>SH1688806.08FU_KY788106_reps</th><td>  0</td><td> 0.0000000</td><td> 0.00000000</td><td> 0.00000000</td><td> 0.13630942</td><td> 0.0000000</td><td> 0.10583130</td><td> 0.02597234</td><td> 0.0000000</td></tr>\n",
       "\t<tr><th scope=row>SH1800509.08FU_HM365253_refs</th><td>  0</td><td> 0.4197639</td><td> 0.28028652</td><td>43.39052848</td><td> 5.35014483</td><td>70.0200466</td><td> 4.42374854</td><td>75.94961366</td><td>26.6917293</td></tr>\n",
       "</tbody>\n",
       "</table>\n"
      ],
      "text/latex": [
       "A otu_table: 18 × 9 of type dbl\n",
       "\\begin{tabular}{r|lllllllll}\n",
       "  & T1R7 & T2R7 & T2R9 & T3R7 & T3R9 & T4R7 & T4R9 & T5R7 & T5R9\\\\\n",
       "\\hline\n",
       "\tSH1726759.08FU\\_AF444541\\_refs & 100 &  0.0000000 &  0.00000000 &  0.00000000 &  0.00000000 &  0.0000000 &  0.00000000 &  0.00000000 &  0.0000000\\\\\n",
       "\tSH1715510.08FU\\_KU204769\\_reps &   0 &  1.0668999 &  6.33981403 &  0.10066346 &  0.00000000 &  0.0000000 &  0.57148905 &  0.00000000 &  0.0000000\\\\\n",
       "\tSH1676198.08FU\\_KF984792\\_refs &   0 &  0.0000000 &  0.04448992 &  0.00000000 &  0.10223207 &  0.0000000 &  0.71965287 &  0.00000000 &  1.2162760\\\\\n",
       "\tSH1694434.08FU\\_EU037063\\_reps &   0 &  0.0000000 &  7.14508164 &  0.00000000 &  0.83489521 &  0.0000000 &  0.05291565 &  0.00000000 &  0.0000000\\\\\n",
       "\tSH1692811.08FU\\_FJ430773\\_reps &   0 & 26.3314386 & 46.95021578 &  8.02104782 & 20.97461237 &  7.4827149 &  2.37062123 &  6.51256412 &  4.5555064\\\\\n",
       "\tSH1695393.08FU\\_U65307\\_reps &   0 & 66.8211631 &  7.47430707 & 28.91329215 &  7.61628898 & 18.8070204 &  0.73023600 & 12.71346016 &  0.7076515\\\\\n",
       "\tSH1685996.08FU\\_AJ292429\\_refs &   0 &  0.0000000 &  0.24024558 &  0.02287806 &  9.11569262 &  0.0000000 & 47.42300773 &  0.00000000 & 32.4413976\\\\\n",
       "\tSH1706045.08FU\\_GU054033\\_reps &   0 &  0.0000000 &  0.02669395 &  0.00000000 &  1.00528199 &  0.1145522 &  0.96306487 &  0.25972339 &  0.4201681\\\\\n",
       "\tSH1744621.08FU\\_KC181928\\_reps &   0 &  1.7665063 &  5.22311696 &  0.57195150 &  3.27142614 &  1.1455222 &  0.82548418 &  0.53892604 &  0.6191950\\\\\n",
       "\tSH1744611.08FU\\_EF679363\\_refs &   0 &  1.6353301 &  7.55883792 &  0.41638069 &  5.62276367 &  0.5073027 &  2.38120436 &  0.44802286 &  2.0344980\\\\\n",
       "\tSH1670916.08FU\\_AY943061\\_refs &   0 &  0.0000000 &  0.08453085 &  0.00000000 &  0.15334810 &  0.0000000 &  0.07408191 &  0.00000000 &  0.3538257\\\\\n",
       "\tSH1687332.08FU\\_KM277974\\_reps &   0 &  0.1399213 &  0.00000000 &  0.27911233 &  0.00000000 &  0.1431903 &  0.00000000 &  0.01947925 &  0.0000000\\\\\n",
       "\tSH1712306.08FU\\_GU237794\\_refs &   0 &  0.0000000 &  2.27788406 &  0.00000000 & 20.58272278 &  0.0000000 &  4.77299185 &  0.00000000 &  4.8429898\\\\\n",
       "\tSH1664258.08FU\\_LN808981\\_reps &   0 &  0.3148229 &  2.35796592 &  0.10981469 &  1.00528199 &  0.0000000 &  1.10064557 &  0.00000000 &  3.8036267\\\\\n",
       "\tSH1688430.08FU\\_KC584249\\_refs &   0 &  0.1311762 &  0.00000000 &  0.46213681 &  0.00000000 &  0.2495602 &  0.00000000 &  0.36361275 &  0.0000000\\\\\n",
       "\tSH1688498.08FU\\_KJ650604\\_reps &   0 &  0.0000000 &  0.00000000 &  0.00000000 &  0.03407736 &  0.0000000 &  0.00000000 &  0.00000000 &  0.0000000\\\\\n",
       "\tSH1688806.08FU\\_KY788106\\_reps &   0 &  0.0000000 &  0.00000000 &  0.00000000 &  0.13630942 &  0.0000000 &  0.10583130 &  0.02597234 &  0.0000000\\\\\n",
       "\tSH1800509.08FU\\_HM365253\\_refs &   0 &  0.4197639 &  0.28028652 & 43.39052848 &  5.35014483 & 70.0200466 &  4.42374854 & 75.94961366 & 26.6917293\\\\\n",
       "\\end{tabular}\n"
      ],
      "text/markdown": [
       "\n",
       "A otu_table: 18 × 9 of type dbl\n",
       "\n",
       "| <!--/--> | T1R7 | T2R7 | T2R9 | T3R7 | T3R9 | T4R7 | T4R9 | T5R7 | T5R9 |\n",
       "|---|---|---|---|---|---|---|---|---|---|\n",
       "| SH1726759.08FU_AF444541_refs | 100 |  0.0000000 |  0.00000000 |  0.00000000 |  0.00000000 |  0.0000000 |  0.00000000 |  0.00000000 |  0.0000000 |\n",
       "| SH1715510.08FU_KU204769_reps |   0 |  1.0668999 |  6.33981403 |  0.10066346 |  0.00000000 |  0.0000000 |  0.57148905 |  0.00000000 |  0.0000000 |\n",
       "| SH1676198.08FU_KF984792_refs |   0 |  0.0000000 |  0.04448992 |  0.00000000 |  0.10223207 |  0.0000000 |  0.71965287 |  0.00000000 |  1.2162760 |\n",
       "| SH1694434.08FU_EU037063_reps |   0 |  0.0000000 |  7.14508164 |  0.00000000 |  0.83489521 |  0.0000000 |  0.05291565 |  0.00000000 |  0.0000000 |\n",
       "| SH1692811.08FU_FJ430773_reps |   0 | 26.3314386 | 46.95021578 |  8.02104782 | 20.97461237 |  7.4827149 |  2.37062123 |  6.51256412 |  4.5555064 |\n",
       "| SH1695393.08FU_U65307_reps |   0 | 66.8211631 |  7.47430707 | 28.91329215 |  7.61628898 | 18.8070204 |  0.73023600 | 12.71346016 |  0.7076515 |\n",
       "| SH1685996.08FU_AJ292429_refs |   0 |  0.0000000 |  0.24024558 |  0.02287806 |  9.11569262 |  0.0000000 | 47.42300773 |  0.00000000 | 32.4413976 |\n",
       "| SH1706045.08FU_GU054033_reps |   0 |  0.0000000 |  0.02669395 |  0.00000000 |  1.00528199 |  0.1145522 |  0.96306487 |  0.25972339 |  0.4201681 |\n",
       "| SH1744621.08FU_KC181928_reps |   0 |  1.7665063 |  5.22311696 |  0.57195150 |  3.27142614 |  1.1455222 |  0.82548418 |  0.53892604 |  0.6191950 |\n",
       "| SH1744611.08FU_EF679363_refs |   0 |  1.6353301 |  7.55883792 |  0.41638069 |  5.62276367 |  0.5073027 |  2.38120436 |  0.44802286 |  2.0344980 |\n",
       "| SH1670916.08FU_AY943061_refs |   0 |  0.0000000 |  0.08453085 |  0.00000000 |  0.15334810 |  0.0000000 |  0.07408191 |  0.00000000 |  0.3538257 |\n",
       "| SH1687332.08FU_KM277974_reps |   0 |  0.1399213 |  0.00000000 |  0.27911233 |  0.00000000 |  0.1431903 |  0.00000000 |  0.01947925 |  0.0000000 |\n",
       "| SH1712306.08FU_GU237794_refs |   0 |  0.0000000 |  2.27788406 |  0.00000000 | 20.58272278 |  0.0000000 |  4.77299185 |  0.00000000 |  4.8429898 |\n",
       "| SH1664258.08FU_LN808981_reps |   0 |  0.3148229 |  2.35796592 |  0.10981469 |  1.00528199 |  0.0000000 |  1.10064557 |  0.00000000 |  3.8036267 |\n",
       "| SH1688430.08FU_KC584249_refs |   0 |  0.1311762 |  0.00000000 |  0.46213681 |  0.00000000 |  0.2495602 |  0.00000000 |  0.36361275 |  0.0000000 |\n",
       "| SH1688498.08FU_KJ650604_reps |   0 |  0.0000000 |  0.00000000 |  0.00000000 |  0.03407736 |  0.0000000 |  0.00000000 |  0.00000000 |  0.0000000 |\n",
       "| SH1688806.08FU_KY788106_reps |   0 |  0.0000000 |  0.00000000 |  0.00000000 |  0.13630942 |  0.0000000 |  0.10583130 |  0.02597234 |  0.0000000 |\n",
       "| SH1800509.08FU_HM365253_refs |   0 |  0.4197639 |  0.28028652 | 43.39052848 |  5.35014483 | 70.0200466 |  4.42374854 | 75.94961366 | 26.6917293 |\n",
       "\n"
      ],
      "text/plain": [
       "                             T1R7 T2R7       T2R9        T3R7       \n",
       "SH1726759.08FU_AF444541_refs 100   0.0000000  0.00000000  0.00000000\n",
       "SH1715510.08FU_KU204769_reps   0   1.0668999  6.33981403  0.10066346\n",
       "SH1676198.08FU_KF984792_refs   0   0.0000000  0.04448992  0.00000000\n",
       "SH1694434.08FU_EU037063_reps   0   0.0000000  7.14508164  0.00000000\n",
       "SH1692811.08FU_FJ430773_reps   0  26.3314386 46.95021578  8.02104782\n",
       "SH1695393.08FU_U65307_reps     0  66.8211631  7.47430707 28.91329215\n",
       "SH1685996.08FU_AJ292429_refs   0   0.0000000  0.24024558  0.02287806\n",
       "SH1706045.08FU_GU054033_reps   0   0.0000000  0.02669395  0.00000000\n",
       "SH1744621.08FU_KC181928_reps   0   1.7665063  5.22311696  0.57195150\n",
       "SH1744611.08FU_EF679363_refs   0   1.6353301  7.55883792  0.41638069\n",
       "SH1670916.08FU_AY943061_refs   0   0.0000000  0.08453085  0.00000000\n",
       "SH1687332.08FU_KM277974_reps   0   0.1399213  0.00000000  0.27911233\n",
       "SH1712306.08FU_GU237794_refs   0   0.0000000  2.27788406  0.00000000\n",
       "SH1664258.08FU_LN808981_reps   0   0.3148229  2.35796592  0.10981469\n",
       "SH1688430.08FU_KC584249_refs   0   0.1311762  0.00000000  0.46213681\n",
       "SH1688498.08FU_KJ650604_reps   0   0.0000000  0.00000000  0.00000000\n",
       "SH1688806.08FU_KY788106_reps   0   0.0000000  0.00000000  0.00000000\n",
       "SH1800509.08FU_HM365253_refs   0   0.4197639  0.28028652 43.39052848\n",
       "                             T3R9        T4R7       T4R9        T5R7       \n",
       "SH1726759.08FU_AF444541_refs  0.00000000  0.0000000  0.00000000  0.00000000\n",
       "SH1715510.08FU_KU204769_reps  0.00000000  0.0000000  0.57148905  0.00000000\n",
       "SH1676198.08FU_KF984792_refs  0.10223207  0.0000000  0.71965287  0.00000000\n",
       "SH1694434.08FU_EU037063_reps  0.83489521  0.0000000  0.05291565  0.00000000\n",
       "SH1692811.08FU_FJ430773_reps 20.97461237  7.4827149  2.37062123  6.51256412\n",
       "SH1695393.08FU_U65307_reps    7.61628898 18.8070204  0.73023600 12.71346016\n",
       "SH1685996.08FU_AJ292429_refs  9.11569262  0.0000000 47.42300773  0.00000000\n",
       "SH1706045.08FU_GU054033_reps  1.00528199  0.1145522  0.96306487  0.25972339\n",
       "SH1744621.08FU_KC181928_reps  3.27142614  1.1455222  0.82548418  0.53892604\n",
       "SH1744611.08FU_EF679363_refs  5.62276367  0.5073027  2.38120436  0.44802286\n",
       "SH1670916.08FU_AY943061_refs  0.15334810  0.0000000  0.07408191  0.00000000\n",
       "SH1687332.08FU_KM277974_reps  0.00000000  0.1431903  0.00000000  0.01947925\n",
       "SH1712306.08FU_GU237794_refs 20.58272278  0.0000000  4.77299185  0.00000000\n",
       "SH1664258.08FU_LN808981_reps  1.00528199  0.0000000  1.10064557  0.00000000\n",
       "SH1688430.08FU_KC584249_refs  0.00000000  0.2495602  0.00000000  0.36361275\n",
       "SH1688498.08FU_KJ650604_reps  0.03407736  0.0000000  0.00000000  0.00000000\n",
       "SH1688806.08FU_KY788106_reps  0.13630942  0.0000000  0.10583130  0.02597234\n",
       "SH1800509.08FU_HM365253_refs  5.35014483 70.0200466  4.42374854 75.94961366\n",
       "                             T5R9      \n",
       "SH1726759.08FU_AF444541_refs  0.0000000\n",
       "SH1715510.08FU_KU204769_reps  0.0000000\n",
       "SH1676198.08FU_KF984792_refs  1.2162760\n",
       "SH1694434.08FU_EU037063_reps  0.0000000\n",
       "SH1692811.08FU_FJ430773_reps  4.5555064\n",
       "SH1695393.08FU_U65307_reps    0.7076515\n",
       "SH1685996.08FU_AJ292429_refs 32.4413976\n",
       "SH1706045.08FU_GU054033_reps  0.4201681\n",
       "SH1744621.08FU_KC181928_reps  0.6191950\n",
       "SH1744611.08FU_EF679363_refs  2.0344980\n",
       "SH1670916.08FU_AY943061_refs  0.3538257\n",
       "SH1687332.08FU_KM277974_reps  0.0000000\n",
       "SH1712306.08FU_GU237794_refs  4.8429898\n",
       "SH1664258.08FU_LN808981_reps  3.8036267\n",
       "SH1688430.08FU_KC584249_refs  0.0000000\n",
       "SH1688498.08FU_KJ650604_reps  0.0000000\n",
       "SH1688806.08FU_KY788106_reps  0.0000000\n",
       "SH1800509.08FU_HM365253_refs 26.6917293"
      ]
     },
     "metadata": {},
     "output_type": "display_data"
    }
   ],
   "source": [
    "otu_table(p.rel.gyp)"
   ]
  },
  {
   "cell_type": "code",
   "execution_count": 51,
   "metadata": {
    "scrolled": true
   },
   "outputs": [],
   "source": [
    "write.csv(otu_table(p.rel.gyp), \"ITS-rel-gyp.csv\")\n",
    "write.csv(tax_table(p.rel.gyp), \"ITS-taxonomy-gyp.csv\")"
   ]
  },
  {
   "cell_type": "markdown",
   "metadata": {},
   "source": [
    "### Quantitative"
   ]
  },
  {
   "cell_type": "code",
   "execution_count": 52,
   "metadata": {},
   "outputs": [],
   "source": [
    "# using previous objects, and convert relative abundance to quantitative abundance\n",
    "#sample_data(p.rel.mdf)\n",
    "count.mdf = as.data.frame(sample_data(p.rel.mdf))$Counts\n",
    "p.quan.mdf = p.rel.mdf\n",
    "otu_table(p.quan.mdf) = rel_to_quan(p.quan.mdf, count.mdf)"
   ]
  },
  {
   "cell_type": "code",
   "execution_count": 53,
   "metadata": {},
   "outputs": [],
   "source": [
    "write.csv(otu_table(p.quan.mdf), \"ITS-quan-mdf.csv\")"
   ]
  },
  {
   "cell_type": "code",
   "execution_count": 55,
   "metadata": {},
   "outputs": [],
   "source": [
    "#sample_data(p.rel.gyp)\n",
    "count.gyp = as.data.frame(sample_data(p.rel.gyp))$Counts\n",
    "p.quan.gyp = p.rel.gyp\n",
    "otu_table(p.quan.gyp) = rel_to_quan(p.quan.gyp, count.gyp)"
   ]
  },
  {
   "cell_type": "code",
   "execution_count": 56,
   "metadata": {},
   "outputs": [],
   "source": [
    "write.csv(otu_table(p.quan.gyp), \"ITS-quan-gyp.csv\")"
   ]
  },
  {
   "cell_type": "code",
   "execution_count": 57,
   "metadata": {},
   "outputs": [
    {
     "data": {
      "text/html": [
       "<ol class=list-inline>\n",
       "\t<li>1018.76923</li>\n",
       "\t<li>25284</li>\n",
       "\t<li>4966.5</li>\n",
       "\t<li>1045376.92</li>\n",
       "\t<li>40260.5302</li>\n",
       "\t<li>3090887.46</li>\n",
       "\t<li>122954.316</li>\n",
       "\t<li>3431747.82</li>\n",
       "\t<li>1718805.06</li>\n",
       "</ol>\n"
      ],
      "text/latex": [
       "\\begin{enumerate*}\n",
       "\\item 1018.76923\n",
       "\\item 25284\n",
       "\\item 4966.5\n",
       "\\item 1045376.92\n",
       "\\item 40260.5302\n",
       "\\item 3090887.46\n",
       "\\item 122954.316\n",
       "\\item 3431747.82\n",
       "\\item 1718805.06\n",
       "\\end{enumerate*}\n"
      ],
      "text/markdown": [
       "1. 1018.76923\n",
       "2. 25284\n",
       "3. 4966.5\n",
       "4. 1045376.92\n",
       "5. 40260.5302\n",
       "6. 3090887.46\n",
       "7. 122954.316\n",
       "8. 3431747.82\n",
       "9. 1718805.06\n",
       "\n",
       "\n"
      ],
      "text/plain": [
       "[1]    1018.769   25284.000    4966.500 1045376.920   40260.530 3090887.460\n",
       "[7]  122954.316 3431747.820 1718805.060"
      ]
     },
     "metadata": {},
     "output_type": "display_data"
    }
   ],
   "source": [
    "count.gyp"
   ]
  },
  {
   "cell_type": "code",
   "execution_count": null,
   "metadata": {},
   "outputs": [],
   "source": []
  }
 ],
 "metadata": {
  "kernelspec": {
   "display_name": "R",
   "language": "R",
   "name": "ir"
  },
  "language_info": {
   "codemirror_mode": "r",
   "file_extension": ".r",
   "mimetype": "text/x-r-source",
   "name": "R",
   "pygments_lexer": "r",
   "version": "3.5.2"
  }
 },
 "nbformat": 4,
 "nbformat_minor": 2
}
